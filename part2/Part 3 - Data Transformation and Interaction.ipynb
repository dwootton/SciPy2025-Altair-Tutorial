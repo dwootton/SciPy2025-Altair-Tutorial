{
 "cells": [
  {
   "cell_type": "markdown",
   "metadata": {
    "editable": true,
    "id": "TKLpHW8UcdmR",
    "slideshow": {
     "slide_type": ""
    },
    "tags": []
   },
   "source": [
    "# Part 3a - Data Transformations\n",
    "\n",
    "- **Objective**: Learn about integrating data transformations and interaction into a chart definition.\n",
    "- **Key Topics**:\n",
    "  - Binning and aggregation\n",
    "  - Basic Interactive features (tooltips and pan/zoom)\n",
    "  - Selections parameters\n",
    "  - Conditional encodings and filtering\n",
    "\n",
    "In the previous section we learned how to use marks and visual encodings to represent individual data records. In this section, we will explore methods for *transforming* data, including the use of aggregates to summarize multiple records. Data transformation is an integral part of visualization: choosing the variables to show and their level of detail is just as important as choosing appropriate visual encodings. After all, it doesn't matter how well chosen your visual encodings are if you are showing the wrong information!\n",
    "\n",
    "As we work through this module, it may be helpful to open the [Altair Data Transformations](https://altair-viz.github.io/user_guide/transform/index.html) documentation in another tab. It will be a useful resource if at any point you'd like more details or want to see what other transformations are available.\n",
    "\n",
    "## Credits\n",
    "This section is largely based on the [Visualization Curriculum](https://idl.uw.edu/visualization-curriculum/intro.html) developed at the University of Washington by Jeffrey Heer, Dominik Moritz, Jake VanderPlas, and Brock Craft. Additional thanks to Christopher Davis for his work to create the base materials for this notebook.\n"
   ]
  },
  {
   "cell_type": "markdown",
   "metadata": {
    "id": "bptagN7weJAt"
   },
   "source": [
    "## Imports\n",
    "Perform the package imports that will be needed for this section of the tutorial"
   ]
  },
  {
   "cell_type": "code",
   "execution_count": null,
   "metadata": {
    "executionInfo": {
     "elapsed": 753,
     "status": "ok",
     "timestamp": 1714994301504,
     "user": {
      "displayName": "Jon Mease",
      "userId": "14424318106531239228"
     },
     "user_tz": 240
    },
    "id": "__PnOOh2zPY7"
   },
   "outputs": [],
   "source": [
    "import pandas as pd\n",
    "import altair as alt\n",
    "from vega_datasets import data\n",
    "import vegafusion\n",
    "\n",
    "print(\"The installed Vega-Altair version is \" + alt.__version__)"
   ]
  },
  {
   "cell_type": "markdown",
   "metadata": {
    "id": "uIecrVj2epeR"
   },
   "source": [
    "## The Movies Dataset\n",
    "We will be working with a table of data about motion pictures, taken from the vega-datasets collection which is provided by the `vega_datasets` Python package. The dataset includes variables such as the film name, director, genre, release date, ratings, and gross revenues. However, *be careful when working with this data*: the films are from unevenly sampled years, using data combined from multiple sources. If you dig in you will find issues with missing values and even some subtle errors! Nevertheless, the data should prove interesting to explore…\n",
    "\n",
    "\n",
    "Let's load the dataset into a pandas DataFrame using the `vega_datasets` package so that we can inspect its contents.\n"
   ]
  },
  {
   "cell_type": "code",
   "execution_count": null,
   "metadata": {
    "executionInfo": {
     "elapsed": 180,
     "status": "ok",
     "timestamp": 1714994301681,
     "user": {
      "displayName": "Jon Mease",
      "userId": "14424318106531239228"
     },
     "user_tz": 240
    },
    "id": "gnqEaZJNbvVD"
   },
   "outputs": [],
   "source": [
    "movies = data.movies()"
   ]
  },
  {
   "cell_type": "markdown",
   "metadata": {
    "id": "M5EHV_yUgABM"
   },
   "source": [
    "How many rows (records) and columns (fields) are in the movies dataset?"
   ]
  },
  {
   "cell_type": "code",
   "execution_count": null,
   "metadata": {
    "colab": {
     "base_uri": "https://localhost:8080/"
    },
    "executionInfo": {
     "elapsed": 162,
     "status": "ok",
     "timestamp": 1714994301840,
     "user": {
      "displayName": "Jon Mease",
      "userId": "14424318106531239228"
     },
     "user_tz": 240
    },
    "id": "-yaixVCif_yn",
    "outputId": "6552f9c4-aaa7-4154-c23a-2b0290441264"
   },
   "outputs": [],
   "source": [
    "movies.shape"
   ]
  },
  {
   "cell_type": "markdown",
   "metadata": {
    "id": "bArXYSPegFe2"
   },
   "source": [
    "Now let’s peek at the first 5 rows of the table to get a sense of the fields and data types…"
   ]
  },
  {
   "cell_type": "code",
   "execution_count": null,
   "metadata": {
    "colab": {
     "base_uri": "https://localhost:8080/",
     "height": 0
    },
    "executionInfo": {
     "elapsed": 296,
     "status": "ok",
     "timestamp": 1714994302134,
     "user": {
      "displayName": "Jon Mease",
      "userId": "14424318106531239228"
     },
     "user_tz": 240
    },
    "id": "3U1plChWgJHw",
    "outputId": "fa7cd428-0f4e-4101-e7f7-b69454936972"
   },
   "outputs": [],
   "source": [
    "movies.head(5)"
   ]
  },
  {
   "cell_type": "markdown",
   "metadata": {
    "id": "6lXjiQwXgZ2D"
   },
   "source": [
    "## Histograms\n",
    "We’ll start our transformation tour by *binning* data into discrete groups and *counting* records to summarize those groups. The resulting plots are known as [*histograms*](https://en.wikipedia.org/wiki/Histogram).\n",
    "\n",
    "Let’s first look at the unaggregated data: a scatter plot showing movie ratings from Rotten Tomatoes versus ratings from IMDB users. We'll provide data to Altair by passing the `movies` DataFrame to the `Chart` constructor.  We can then encode the Rotten Tomatoes and IMDB ratings fields using the `x` and `y` channels:"
   ]
  },
  {
   "cell_type": "code",
   "execution_count": null,
   "metadata": {
    "colab": {
     "base_uri": "https://localhost:8080/",
     "height": 368
    },
    "executionInfo": {
     "elapsed": 1156,
     "status": "ok",
     "timestamp": 1714994303288,
     "user": {
      "displayName": "Jon Mease",
      "userId": "14424318106531239228"
     },
     "user_tz": 240
    },
    "id": "qHQ_jeeehFU3",
    "outputId": "5dea7c13-7ad6-4485-9182-334622aa3a3a"
   },
   "outputs": [],
   "source": [
    "alt.Chart(movies).mark_circle().encode(\n",
    "    alt.X('Rotten_Tomatoes_Rating'),\n",
    "    alt.Y('IMDB_Rating')\n",
    ")"
   ]
  },
  {
   "cell_type": "markdown",
   "metadata": {
    "id": "-kWGMSh4isVA"
   },
   "source": [
    "To summarize this dataset, we can bin a data field to group numeric values into discrete groups. Here we bin along the x-axis by adding `.bin()` to the `x` encoding channel. The result is a set of ten bins of equal step size, each corresponding to a span of ten ratings points.\n"
   ]
  },
  {
   "cell_type": "code",
   "execution_count": null,
   "metadata": {
    "colab": {
     "base_uri": "https://localhost:8080/",
     "height": 368
    },
    "executionInfo": {
     "elapsed": 852,
     "status": "ok",
     "timestamp": 1714994304138,
     "user": {
      "displayName": "Jon Mease",
      "userId": "14424318106531239228"
     },
     "user_tz": 240
    },
    "id": "Bupp8Mysi1x7",
    "outputId": "5d0d365d-6c13-4981-f2ae-f7e4bc5f68fa"
   },
   "outputs": [],
   "source": [
    "alt.Chart(movies).mark_circle().encode(\n",
    "    alt.X('Rotten_Tomatoes_Rating').bin(),\n",
    "    alt.Y('IMDB_Rating:Q')\n",
    ")"
   ]
  },
  {
   "cell_type": "markdown",
   "metadata": {
    "id": "r4j-Ew_NjHHm"
   },
   "source": [
    "Adding `.bin()` uses default binning settings, but we can exercise more control if desired. Let's instead set the maximum bin count (`maxbins`) to 20, which has the effect of doubling the number of bins. Now each bin corresponds to a span of five ratings points."
   ]
  },
  {
   "cell_type": "code",
   "execution_count": null,
   "metadata": {
    "colab": {
     "base_uri": "https://localhost:8080/",
     "height": 368
    },
    "executionInfo": {
     "elapsed": 1204,
     "status": "ok",
     "timestamp": 1714994305340,
     "user": {
      "displayName": "Jon Mease",
      "userId": "14424318106531239228"
     },
     "user_tz": 240
    },
    "id": "Zm8t-bQpjNMi",
    "outputId": "36e459cf-0b17-484d-f460-49a0eaba62f6"
   },
   "outputs": [],
   "source": [
    "alt.Chart(movies).mark_circle().encode(\n",
    "    alt.X('Rotten_Tomatoes_Rating').bin(maxbins=20),\n",
    "    alt.Y('IMDB_Rating:Q')\n",
    ")"
   ]
  },
  {
   "cell_type": "markdown",
   "metadata": {
    "id": "FpeHDfo0j5_h"
   },
   "source": [
    "It's important to note that binning, by itself, does not change the number of displayed points, it only discretizes the values of a dimension of the data, typically causing points to overlap with each other.\n",
    "\n",
    "With the data binned, let's now summarize the distribution of Rotten Tomatoes ratings. We will drop the IMDB ratings for now and instead use the `y` encoding channel to show an aggregate `count` of records, so that the vertical position of each point indicates the number of movies per Rotten Tomatoes rating bin.\n",
    "\n",
    "As the `count` aggregate counts the number of total records in each bin regardless of the field values, we do not need to include a field name in the `y` encoding."
   ]
  },
  {
   "cell_type": "code",
   "execution_count": null,
   "metadata": {
    "colab": {
     "base_uri": "https://localhost:8080/",
     "height": 368
    },
    "executionInfo": {
     "elapsed": 9,
     "status": "ok",
     "timestamp": 1714994305340,
     "user": {
      "displayName": "Jon Mease",
      "userId": "14424318106531239228"
     },
     "user_tz": 240
    },
    "id": "MxDju_XZkLT4",
    "outputId": "78db49a1-43c3-46fc-c345-0f18ca94e7af"
   },
   "outputs": [],
   "source": [
    "alt.Chart(movies).mark_circle().encode(\n",
    "    alt.X('Rotten_Tomatoes_Rating').bin(maxbins=20),\n",
    "    alt.Y('count()')\n",
    ")"
   ]
  },
  {
   "cell_type": "markdown",
   "metadata": {
    "id": "7n0JOq0VkUBV"
   },
   "source": [
    "To arrive at a standard histogram, let's change the mark type from `circle` to `bar`:"
   ]
  },
  {
   "cell_type": "code",
   "execution_count": null,
   "metadata": {
    "colab": {
     "base_uri": "https://localhost:8080/",
     "height": 368
    },
    "executionInfo": {
     "elapsed": 603,
     "status": "ok",
     "timestamp": 1714994305940,
     "user": {
      "displayName": "Jon Mease",
      "userId": "14424318106531239228"
     },
     "user_tz": 240
    },
    "id": "9iHuTM-PkROp",
    "outputId": "70425c48-15fe-4f18-c86b-e2d08590c796"
   },
   "outputs": [],
   "source": [
    "alt.Chart(movies).mark_bar().encode(\n",
    "    alt.X('Rotten_Tomatoes_Rating').bin(maxbins=20),\n",
    "    alt.Y('count()')\n",
    ")"
   ]
  },
  {
   "cell_type": "markdown",
   "metadata": {
    "id": "H_kFdnFdkgL4"
   },
   "source": [
    "> **Observations:** We can now examine the distribution of ratings more clearly. we can see fewer movies on the negative end, and a bit more movies on the high end, but a generally uniform distribution overall. Rotten Tomatoes ratings are determined by taking “thumbs up” and “thumbs down” judgments from film critics and calculating the percentage of positive reviews. It appears this approach does a good job of utilizing the full range of rating values.\n",
    "\n",
    "\n",
    "Similarly, we can create a histogram for IMDB ratings by changing the field in the x encoding channel:"
   ]
  },
  {
   "cell_type": "code",
   "execution_count": null,
   "metadata": {
    "colab": {
     "base_uri": "https://localhost:8080/",
     "height": 368
    },
    "executionInfo": {
     "elapsed": 1216,
     "status": "ok",
     "timestamp": 1714994307153,
     "user": {
      "displayName": "Jon Mease",
      "userId": "14424318106531239228"
     },
     "user_tz": 240
    },
    "id": "RromFYukk1_i",
    "outputId": "a6cd3d0c-ae92-4b98-eca8-c26dca15751e"
   },
   "outputs": [],
   "source": [
    "alt.Chart(movies).mark_bar().encode(\n",
    "    alt.X('IMDB_Rating').bin(maxbins=20),\n",
    "    alt.Y('count()')\n",
    ")"
   ]
  },
  {
   "cell_type": "markdown",
   "metadata": {
    "id": "9CYU2_Xck64N"
   },
   "source": [
    "> **Observation:** In contrast to the more uniform distribution we saw before, IMDB ratings exhibit a bell-shaped (though [negatively skewed](https://en.wikipedia.org/wiki/Skewness)) distribution. IMDB ratings are formed by averaging scores (ranging from 1 to 10) provided by the site's users. We can see that this form of measurement leads to a different shape than the Rotten Tomatoes ratings. We can also see that the mode of the distribution is between 6.5 and 7: people generally enjoy watching movies, potentially explaining the positive bias!\n",
    "\n",
    "Now let's turn back to our scatter plot of Rotten Tomatoes and IMDB ratings. Here's what happens if we bin both axes of our original plot.\n"
   ]
  },
  {
   "cell_type": "code",
   "execution_count": null,
   "metadata": {
    "colab": {
     "base_uri": "https://localhost:8080/",
     "height": 368
    },
    "executionInfo": {
     "elapsed": 1224,
     "status": "ok",
     "timestamp": 1714994308375,
     "user": {
      "displayName": "Jon Mease",
      "userId": "14424318106531239228"
     },
     "user_tz": 240
    },
    "id": "i7o3gzQDlVw6",
    "outputId": "7f559667-692c-4b9a-c60b-9d8b482377f5"
   },
   "outputs": [],
   "source": [
    "alt.Chart(movies).mark_circle().encode(\n",
    "    alt.X('Rotten_Tomatoes_Rating').bin(maxbins=20),\n",
    "    alt.Y('IMDB_Rating').bin(maxbins=20)\n",
    ")"
   ]
  },
  {
   "cell_type": "markdown",
   "metadata": {
    "id": "g9JhX02Ilqvm"
   },
   "source": [
    "Detail is lost due to *overplotting*, with many points drawn directly on top of each other.\n",
    "\n",
    "To form a two-dimensional histogram we can add a `count` aggregate as before. As both the `x` and `y` encoding channels are already taken, we must use a different encoding channel to convey the counts. Here is the result of using circular area by adding a size encoding channel.\n",
    "\n"
   ]
  },
  {
   "cell_type": "code",
   "execution_count": null,
   "metadata": {
    "colab": {
     "base_uri": "https://localhost:8080/",
     "height": 368
    },
    "executionInfo": {
     "elapsed": 957,
     "status": "ok",
     "timestamp": 1714994309330,
     "user": {
      "displayName": "Jon Mease",
      "userId": "14424318106531239228"
     },
     "user_tz": 240
    },
    "id": "mZn7OEbXl0dx",
    "outputId": "25810268-03f4-4375-b47e-5c7633d0e1a0"
   },
   "outputs": [],
   "source": [
    "alt.Chart(movies).mark_circle().encode(\n",
    "    alt.X('Rotten_Tomatoes_Rating').bin(maxbins=20),\n",
    "    alt.Y('IMDB_Rating').bin(maxbins=20),\n",
    "    alt.Size('count()')\n",
    ")"
   ]
  },
  {
   "cell_type": "markdown",
   "metadata": {
    "id": "dUBExQxEl59a"
   },
   "source": [
    "Alternatively, we can encode counts using the `color` channel and change the mark type to `rect`. The result is a two-dimensional histogram in the form of a [heatmap](https://en.wikipedia.org/wiki/Heat_map)."
   ]
  },
  {
   "cell_type": "code",
   "execution_count": null,
   "metadata": {
    "colab": {
     "base_uri": "https://localhost:8080/",
     "height": 368
    },
    "executionInfo": {
     "elapsed": 1342,
     "status": "ok",
     "timestamp": 1714994310670,
     "user": {
      "displayName": "Jon Mease",
      "userId": "14424318106531239228"
     },
     "user_tz": 240
    },
    "id": "z6s4agGBmGkE",
    "outputId": "6772b587-df63-4251-a74c-627e69f2e9ab"
   },
   "outputs": [],
   "source": [
    "alt.Chart(movies).mark_rect().encode(\n",
    "    alt.X('Rotten_Tomatoes_Rating').bin(maxbins=20),\n",
    "    alt.Y('IMDB_Rating').bin(maxbins=20),\n",
    "    alt.Color('count()')\n",
    ")"
   ]
  },
  {
   "cell_type": "markdown",
   "metadata": {
    "id": "aPadkMg3mQzO"
   },
   "source": [
    "Compare the size and color-based 2D histograms above. Which encoding do you think should be preferred? Why? In which plot can you more precisely compare the magnitude of individual values? In which plot can you more accurately see the overall density of ratings?"
   ]
  },
  {
   "cell_type": "markdown",
   "metadata": {
    "id": "6wuIaX4TmXnv"
   },
   "source": [
    "## Aggregation\n",
    "Counts are just one type of aggregate. We might also calculate summaries using measures such as the `average`, `median`, `min`, or `max`. The Altair documentation includes the [full set of available aggregation functions](https://altair-viz.github.io/user_guide/encodings/index.html#aggregation-functions).\n",
    "\n",
    "Let's look at some more examples!\n",
    "\n",
    "### Averages and Sorting\n",
    "> **Question:** Do different genres of films receive consistently different ratings from critics?\n",
    "\n",
    "As a first step towards answering this question, we might examine the *average* (a.k.a. the [arithmetic mean](https://en.wikipedia.org/wiki/Arithmetic_mean)) rating for each genre of movie.\n",
    "\n",
    "Let's visualize genre along the `y` axis and plot `average` Rotten Tomatoes ratings along the `x` axis."
   ]
  },
  {
   "cell_type": "code",
   "execution_count": null,
   "metadata": {
    "colab": {
     "base_uri": "https://localhost:8080/",
     "height": 323
    },
    "executionInfo": {
     "elapsed": 2261,
     "status": "ok",
     "timestamp": 1714994312929,
     "user": {
      "displayName": "Jon Mease",
      "userId": "14424318106531239228"
     },
     "user_tz": 240
    },
    "id": "GmqxZ9ovm73S",
    "outputId": "a3335c55-0dc2-4677-baa0-1c15d06d6f0b"
   },
   "outputs": [],
   "source": [
    "alt.Chart(movies).mark_bar().encode(\n",
    "    alt.X('average(Rotten_Tomatoes_Rating)'),\n",
    "    alt.Y('Major_Genre')\n",
    ")"
   ]
  },
  {
   "cell_type": "markdown",
   "metadata": {
    "id": "rGplcf59nCOZ"
   },
   "source": [
    "> **Observation:** There does appear to be some interesting variation, but looking at the data as an alphabetical list is not very helpful for ranking critical reactions to the genres.\n",
    "\n",
    "For a tidier picture, let's sort the genres in descending order of average rating. To do so, we will use the `.sort()` method on the y encoding channel, stating that we wish to sort by the bar x positions in descending order."
   ]
  },
  {
   "cell_type": "code",
   "execution_count": null,
   "metadata": {
    "colab": {
     "base_uri": "https://localhost:8080/",
     "height": 323
    },
    "executionInfo": {
     "elapsed": 14,
     "status": "ok",
     "timestamp": 1714994312929,
     "user": {
      "displayName": "Jon Mease",
      "userId": "14424318106531239228"
     },
     "user_tz": 240
    },
    "id": "BtHfaZ00nTEm",
    "outputId": "950307ba-3e2e-48b0-d799-39899014eb11"
   },
   "outputs": [],
   "source": [
    "alt.Chart(movies).mark_bar().encode(\n",
    "    alt.X('average(Rotten_Tomatoes_Rating)'),\n",
    "    alt.Y('Major_Genre').sort('-x')\n",
    ")"
   ]
  },
  {
   "cell_type": "markdown",
   "metadata": {
    "id": "i3qtIWVnn_ki"
   },
   "source": [
    "> **Observation:** The sorted plot suggests that critics think highly of documentaries, musicals, westerns, and dramas, but look down upon romantic comedies and horror films… and who doesn’t love `null` movies!?"
   ]
  },
  {
   "cell_type": "markdown",
   "metadata": {
    "id": "eQRyvAe4oI8z"
   },
   "source": [
    "### Medians and the Inter-Quartile Range\n",
    "\n",
    "While averages are a common way to summarize data, they can sometimes mislead. For example, very large or very small values ([*outliers*](https://en.wikipedia.org/wiki/Outlier)) might skew the average. To be safe, we can compare the genres according to the [*median*](https://en.wikipedia.org/wiki/Median) ratings as well.\n",
    "\n",
    "The median is a point that splits the data evenly, such that half of the values are less than the median and the other half are greater. The median is less sensitive to outliers and so is referred to as a [*robust statistic*](https://en.wikipedia.org/wiki/Robust_statistics). For example, arbitrarily increasing the largest rating value will not cause the median to change.\n",
    "\n",
    "Let’s update our plot to use a `median` aggregate and sort by those values:\n",
    "\n",
    "\n"
   ]
  },
  {
   "cell_type": "code",
   "execution_count": null,
   "metadata": {
    "colab": {
     "base_uri": "https://localhost:8080/",
     "height": 323
    },
    "executionInfo": {
     "elapsed": 8,
     "status": "ok",
     "timestamp": 1714994312929,
     "user": {
      "displayName": "Jon Mease",
      "userId": "14424318106531239228"
     },
     "user_tz": 240
    },
    "id": "sSMPwmqWovi7",
    "outputId": "047dbf32-826b-4e15-d41f-b1b368e1a955"
   },
   "outputs": [],
   "source": [
    "alt.Chart(movies).mark_bar().encode(\n",
    "    alt.X('median(Rotten_Tomatoes_Rating)'),\n",
    "    alt.Y('Major_Genre').sort('-x')\n",
    ")"
   ]
  },
  {
   "cell_type": "markdown",
   "metadata": {
    "id": "Csrf-on_ozx5"
   },
   "source": [
    "> **Observation:** We can see that some of the genres with similar averages have swapped places (films of unknown genre, or `null`, are now rated highest!), but the overall groups have stayed stable. Horror films continue to get little love from professional film critics.\n",
    "\n",
    "It's a good idea to stay skeptical when viewing aggregate statistics. So far we've only looked at *point estimates*. We have not examined how ratings vary within a genre.\n",
    "\n",
    "Let's visualize the variation among the ratings to add some nuance to our rankings. Here we will encode the [inter-quartile range (IQR)](https://en.wikipedia.org/wiki/Interquartile_range) for each genre. The IQR is the range in which the middle half of data values reside. A quartile contains 25% of the data values. The inter-quartile range consists of the two middle quartiles, and so contains the middle 50%.\n",
    "\n",
    "To visualize ranges, we can use the `x` and `x2` encoding channels to indicate the starting and ending points. We use the aggregate functions `q1` (the lower quartile boundary) and `q3` (the upper quartile boundary) to provide the inter-quartile range. (In case you are wondering, *q2* would be the median.)\n",
    "\n",
    "Rather than sort the bars by the `x` encoding, we'll use a more general form of sorting that allows us to sort by a specific aggregation `op` on a specific `field` in a specific `order`."
   ]
  },
  {
   "cell_type": "code",
   "execution_count": null,
   "metadata": {
    "colab": {
     "base_uri": "https://localhost:8080/",
     "height": 323
    },
    "executionInfo": {
     "elapsed": 1279,
     "status": "ok",
     "timestamp": 1714994314205,
     "user": {
      "displayName": "Jon Mease",
      "userId": "14424318106531239228"
     },
     "user_tz": 240
    },
    "id": "U2F0I4gXpZad",
    "outputId": "919927e4-d92f-43eb-809d-0dfb53b66204"
   },
   "outputs": [],
   "source": [
    "alt.Chart(movies).mark_bar().encode(\n",
    "    alt.X('q1(Rotten_Tomatoes_Rating)'),\n",
    "    alt.X2('q3(Rotten_Tomatoes_Rating)'),\n",
    "    alt.Y('Major_Genre').sort(\n",
    "        op='median',\n",
    "        field='Rotten_Tomatoes_Rating',\n",
    "        order='descending'\n",
    "    )\n",
    ")"
   ]
  },
  {
   "cell_type": "markdown",
   "metadata": {},
   "source": [
    "Here we add a `tick` mark to indicate the median for each genre.  Note that the second chart defined below automatically inherits the y-encoding (and data) from the `base` chart."
   ]
  },
  {
   "cell_type": "code",
   "execution_count": null,
   "metadata": {},
   "outputs": [],
   "source": [
    "base = alt.Chart(movies).mark_bar().encode(\n",
    "    alt.X('q1(Rotten_Tomatoes_Rating)'),\n",
    "    alt.X2('q3(Rotten_Tomatoes_Rating)'),\n",
    "    alt.Y('Major_Genre').sort(\n",
    "        op='median',\n",
    "        field='Rotten_Tomatoes_Rating',\n",
    "        order='descending'\n",
    "    )\n",
    ")\n",
    "\n",
    "tick = base.mark_tick(color=\"red\").encode(\n",
    "    alt.X('median(Rotten_Tomatoes_Rating)')\n",
    ")\n",
    "\n",
    "base+tick"
   ]
  },
  {
   "cell_type": "markdown",
   "metadata": {
    "id": "BPD_SNzRqv1F"
   },
   "source": [
    "### Time Units\n",
    "> **Question:** Do box office returns vary by season?\n",
    "\n",
    "To get an initial answer, let’s plot the median U.S. gross revenue by month.\n",
    "\n",
    "To make this chart, use the `timeUnit` transform to map release dates to the `month` of the year. The result is similar to binning, but using meaningful time intervals. Other valid time units include `year`, `quarter`, `date` (numeric day in month), `day` (day of the week), and `hours`, as well as compound units such as `yearmonth` or `hoursminutes`. See the Vega-Altair documentation for a [complete list of time units](https://altair-viz.github.io/user_guide/transform/timeunit.html)."
   ]
  },
  {
   "cell_type": "code",
   "execution_count": null,
   "metadata": {
    "colab": {
     "base_uri": "https://localhost:8080/",
     "height": 368
    },
    "executionInfo": {
     "elapsed": 24,
     "status": "ok",
     "timestamp": 1714994314205,
     "user": {
      "displayName": "Jon Mease",
      "userId": "14424318106531239228"
     },
     "user_tz": 240
    },
    "id": "EQNBdb9XrXpI",
    "outputId": "ae745dbb-b422-4ab2-b73f-6ba8f9041ce2"
   },
   "outputs": [],
   "source": [
    "alt.Chart(movies).mark_area().encode(\n",
    "    alt.X('month(Release_Date)'),\n",
    "    alt.Y('median(US_Gross)')\n",
    ")"
   ]
  },
  {
   "cell_type": "markdown",
   "metadata": {
    "id": "7L_gROJsrcQ9"
   },
   "source": [
    "> **Observation:** Looking at the resulting plot, median movie sales in the U.S. appear to spike around the summer blockbuster season and the end of year holiday period. Of course, people around the world (not just the U.S.) go out to the movies.\n",
    "\n",
    "---\n",
    "\n",
    "> **Question**: Does a similar pattern arise for worldwide gross revenue?"
   ]
  },
  {
   "cell_type": "code",
   "execution_count": null,
   "metadata": {
    "colab": {
     "base_uri": "https://localhost:8080/",
     "height": 368
    },
    "executionInfo": {
     "elapsed": 18,
     "status": "ok",
     "timestamp": 1714994314205,
     "user": {
      "displayName": "Jon Mease",
      "userId": "14424318106531239228"
     },
     "user_tz": 240
    },
    "id": "SUexhD2mriMJ",
    "outputId": "a2f38b1a-2ba3-4f6a-9ed4-2962ffa44f31"
   },
   "outputs": [],
   "source": [
    "alt.Chart(movies).mark_area().encode(\n",
    "    alt.X('month(Release_Date)'),\n",
    "    alt.Y('median(Worldwide_Gross)')\n",
    ")"
   ]
  },
  {
   "cell_type": "markdown",
   "metadata": {
    "id": "bL29eZ_Crmcr"
   },
   "source": [
    "> **Observation:** Yes!"
   ]
  },
  {
   "cell_type": "markdown",
   "metadata": {
    "id": "Y77xknJyuTkY"
   },
   "source": [
    "## Data Transform Architecture\n",
    "By default, the entire input DataFrame is serialized to JSON and transfered from the Python Kernel to the browser, before being transformed and displayed by the Vega JavaScript library.\n",
    "\n",
    "We can see this by creating a Histogram chart and then selecting \"Open in Vega Editor\" from the dropdown menu. The Vega-Lite JSON specification contains every row and column from the movies DataFrame.\n"
   ]
  },
  {
   "cell_type": "code",
   "execution_count": null,
   "metadata": {
    "colab": {
     "base_uri": "https://localhost:8080/",
     "height": 368
    },
    "executionInfo": {
     "elapsed": 12,
     "status": "ok",
     "timestamp": 1714994314205,
     "user": {
      "displayName": "Jon Mease",
      "userId": "14424318106531239228"
     },
     "user_tz": 240
    },
    "id": "r4oYr8RgvZpg",
    "outputId": "a1fe49f5-6f61-46df-837d-7c9e49337b4c"
   },
   "outputs": [],
   "source": [
    "alt.Chart(movies).mark_bar().encode(\n",
    "    alt.X('IMDB_Rating').bin(),\n",
    "    alt.Y('count()')\n",
    ")"
   ]
  },
  {
   "cell_type": "markdown",
   "metadata": {
    "id": "vXrAd5JYwa1c"
   },
   "source": [
    "For large datasets with many columns, this approach can result in very large chart specifications, which can be slow to serialize to JSON, slow to display, and lead to large notebooks. Because of these downsides, Vega-Altair enforces a default limit of 5000 rows.\n",
    "\n",
    "We can improve the situation using the `\"vegafusion\"` data transformer, which uses the optional VegaFusion dependency to evaluate most Vega-Altair transforms in the Python kernel before inlining the transformed data into the resulting chart specification.\n",
    "\n",
    "Let's repeat the process above after enabling this data transformer. Now when selecting \"Open in Vega Editor, we see the transformed dataset is included in the spec. This transformed dataset includes one row per histogram bar with fields for the bar height and bin edges."
   ]
  },
  {
   "cell_type": "code",
   "execution_count": null,
   "metadata": {
    "colab": {
     "base_uri": "https://localhost:8080/",
     "height": 368
    },
    "executionInfo": {
     "elapsed": 6,
     "status": "ok",
     "timestamp": 1714994314205,
     "user": {
      "displayName": "Jon Mease",
      "userId": "14424318106531239228"
     },
     "user_tz": 240
    },
    "id": "WCqFLs_cxIxw",
    "outputId": "6a2b9fd1-5e3e-4eab-ac58-250c28ae8886"
   },
   "outputs": [],
   "source": [
    "alt.data_transformers.enable(\"vegafusion\")\n",
    "alt.Chart(movies).mark_bar().encode(\n",
    "    alt.X('IMDB_Rating').bin(),\n",
    "    alt.Y('count()')\n",
    ")"
   ]
  },
  {
   "cell_type": "markdown",
   "metadata": {
    "id": "WPOEhaHyk4mv"
   },
   "source": [
    "> **Note:** The VegaFusion data transformer is also the recommended way to overcome Vega-Altair's default limit of 5000 rows."
   ]
  },
  {
   "cell_type": "markdown",
   "metadata": {
    "id": "zkIaXXyus0pS"
   },
   "source": [
    "## Extracting Transformed Data\n",
    "Transformed data can be extracted in Python using the `.transformed_data()` chart method. This is also powered by VegaFusion, and can be very helpful for analysis as it avoids the need to repeat calcultions in pandas."
   ]
  },
  {
   "cell_type": "code",
   "execution_count": null,
   "metadata": {
    "colab": {
     "base_uri": "https://localhost:8080/",
     "height": 332
    },
    "executionInfo": {
     "elapsed": 7,
     "status": "ok",
     "timestamp": 1714994314206,
     "user": {
      "displayName": "Jon Mease",
      "userId": "14424318106531239228"
     },
     "user_tz": 240
    },
    "id": "nf_crQ7vxtja",
    "outputId": "b53574af-1cce-4696-9fa6-909e89dee83f"
   },
   "outputs": [],
   "source": [
    "chart = alt.Chart(movies).mark_bar().encode(\n",
    "    alt.X('IMDB_Rating').bin(),\n",
    "    alt.Y('count()')\n",
    ")\n",
    "chart.transformed_data()"
   ]
  },
  {
   "cell_type": "markdown",
   "metadata": {
    "id": "jbTJpDTjXG5J"
   },
   "source": [
    "## Advanced Transforms\n",
    "\n",
    "The examples above all use transformations (*bin*, *timeUnit*, *aggregate*, *sort*) that are defined relative to an encoding channel. However, at times you may want to apply a chain of multiple transformations prior to visualization, or use transformations that don't integrate into encoding definitions. For such cases, Vega-Altair supports data transformations defined separately from encodings. While many transformations can be specified directly in pandas, Vega-Altair transformations can be *parameterized* such that on-chart interactions can control these transforms.\n",
    "\n",
    "For a more thorough introduction to advanced transformations, we recommend taking a look at the [2024 SciPy tutorials part 2](https://github.com/vega/SciPy2024-Altair-Tutorial). \n",
    "\n"
   ]
  },
  {
   "cell_type": "markdown",
   "metadata": {
    "id": "ykcVmRokoln9"
   },
   "source": [
    "### Filter\n",
    "The `filter` transform creates a new table with a subset of the original data, removing rows that fail to meet a provided [*predicate*](https://en.wikipedia.org/wiki/Predicate_%28mathematical_logic%29) test. Similar to the `calculate` transform, filter predicates are expressed using the [Vega expression language](https://vega.github.io/vega/docs/expressions/).\n",
    "\n",
    "Below we add a filter to limit our initial scatter plot of IMDB vs. Rotten Tomatoes ratings to only films in the major genre of “Romantic Comedy”."
   ]
  },
  {
   "cell_type": "code",
   "execution_count": null,
   "metadata": {
    "colab": {
     "base_uri": "https://localhost:8080/",
     "height": 368
    },
    "executionInfo": {
     "elapsed": 379,
     "status": "ok",
     "timestamp": 1714994614443,
     "user": {
      "displayName": "Jon Mease",
      "userId": "14424318106531239228"
     },
     "user_tz": 240
    },
    "id": "5okg5cdun4yj",
    "outputId": "7a8a6411-1360-4ff6-fb79-47dfdf0d8750"
   },
   "outputs": [],
   "source": [
    "alt.Chart(movies).mark_circle().transform_filter(\n",
    "    'datum.Major_Genre == \"Romantic Comedy\"'\n",
    ").encode(\n",
    "    alt.X('Rotten_Tomatoes_Rating'),\n",
    "    alt.Y('IMDB_Rating')\n",
    ")"
   ]
  },
  {
   "cell_type": "markdown",
   "metadata": {
    "id": "LfUstjibpS66"
   },
   "source": [
    "> **Question:** How does the plot change if we filter to view other genres? Edit the filter expression to find out!\n",
    "\n",
    "Now let's filter to look at films released before 1970.\n",
    "\n",
    "**Note:** The Vega expression language provides a convenient `year` function that we can use to extract the year from a datetime column."
   ]
  },
  {
   "cell_type": "code",
   "execution_count": null,
   "metadata": {
    "colab": {
     "base_uri": "https://localhost:8080/",
     "height": 368
    },
    "executionInfo": {
     "elapsed": 1525,
     "status": "ok",
     "timestamp": 1714994677638,
     "user": {
      "displayName": "Jon Mease",
      "userId": "14424318106531239228"
     },
     "user_tz": 240
    },
    "id": "ejCMEXFqo9Au",
    "outputId": "c22fe008-7b70-469e-96a6-395193fcee20"
   },
   "outputs": [],
   "source": [
    "alt.Chart(movies).mark_circle().transform_filter(\n",
    "    'year(datum.Release_Date) < 1970'\n",
    ").encode(\n",
    "    alt.X('Rotten_Tomatoes_Rating'),\n",
    "    alt.Y('IMDB_Rating')\n",
    ")"
   ]
  },
  {
   "cell_type": "markdown",
   "metadata": {
    "id": "lM7r17vKp3U1"
   },
   "source": [
    "> **Observation:** They seem to score unusually high! Are older films simply better, or is there a selection bias towards more highly-rated older films in this dataset?"
   ]
  },
  {
   "cell_type": "markdown",
   "metadata": {},
   "source": [
    "## Part 3b - Interactivity in Vega-Altair\n",
    "\n",
    "Vega-Altair allows you to create interactive charts that can be embedded in web pages or Jupyter notebooks (without requiring a live Python kernel). The interactivity features include tooltips, panning, zooming, selections, and more complex interactions such as linked views and coordinated highlighting. These features enable dynamic data exploration and enhance the end user experience by making visualizations more engaging and insightful.\n",
    "\n",
    "Compared to static charts, interactive charts provide a more personalized experience, allowing end users to ask their own questions and focus on their particular areas of interest.\n",
    "\n",
    "### Dataset\n",
    "\n",
    "The cars dataset from vega_datasets contains information about various car models from the 1970s and 1980s. \n",
    "It includes properties like the horsepower, miles per gallon, origin.\n"
   ]
  },
  {
   "cell_type": "markdown",
   "metadata": {},
   "source": []
  },
  {
   "cell_type": "code",
   "execution_count": null,
   "metadata": {},
   "outputs": [],
   "source": [
    "cars = data.cars()\n",
    "cars.head()"
   ]
  },
  {
   "cell_type": "markdown",
   "metadata": {},
   "source": [
    "### Example: Support pan, zoom, and tooltips"
   ]
  },
  {
   "cell_type": "code",
   "execution_count": null,
   "metadata": {},
   "outputs": [],
   "source": [
    "# Create chart with tooltip\n",
    "alt.Chart(cars).mark_circle(size=60).encode(\n",
    "    alt.X('Horsepower'),\n",
    "    alt.Y('Miles_per_Gallon').title(\"Miles per Gallon\"),\n",
    "    alt.Color('Origin'),\n",
    "    tooltip=[\n",
    "        'Name',\n",
    "        'Origin',\n",
    "        'Horsepower',\n",
    "        alt.Tooltip('Miles_per_Gallon').title(\"Miles per Gallon\")\n",
    "    ]\n",
    ").interactive()"
   ]
  },
  {
   "cell_type": "markdown",
   "metadata": {},
   "source": [
    "### Example: Support end-user filtering"
   ]
  },
  {
   "cell_type": "code",
   "execution_count": null,
   "metadata": {},
   "outputs": [],
   "source": [
    "options = ['Europe', 'Japan', 'USA']\n",
    "labels = [option + ' ' for option in options]\n",
    "\n",
    "input_radio = alt.binding_radio(\n",
    "    options=options + [None],\n",
    "    labels=labels + ['All'],\n",
    "    name='Region: '\n",
    ")\n",
    "selection = alt.selection_point(\n",
    "    fields=['Origin'],\n",
    "    value=None,\n",
    "    bind=input_radio,\n",
    ")\n",
    "\n",
    "alt.Chart(cars).mark_circle(size=60).encode(\n",
    "    alt.X('Horsepower:Q'),\n",
    "    alt.Y('Miles_per_Gallon:Q'),\n",
    "    alt.Color('Origin:N').scale(domain=options),\n",
    ").add_params(\n",
    "    selection\n",
    ").transform_filter(\n",
    "    selection\n",
    ")"
   ]
  },
  {
   "cell_type": "markdown",
   "metadata": {},
   "source": [
    "### Example: Support multi-view highlighting\n",
    "\n",
    "Interactive charts also enable the exploration higher dimensional relationships in the dataset through the use of selections across multi-view charts."
   ]
  },
  {
   "cell_type": "code",
   "execution_count": null,
   "metadata": {},
   "outputs": [],
   "source": [
    "brush = alt.selection_interval(encodings=['x'])\n",
    "\n",
    "left_chart = alt.Chart(cars).mark_circle(size=60).encode(\n",
    "    alt.X('Horsepower'),\n",
    "    alt.Y('Miles_per_Gallon'),\n",
    "    color=alt.condition(brush, 'Origin', alt.value('lightgray'))\n",
    ").add_params(\n",
    "    brush\n",
    ")\n",
    "\n",
    "right_chart = alt.Chart(cars).mark_circle(size=60).encode(\n",
    "    alt.X('Acceleration'),\n",
    "    alt.Y('Miles_per_Gallon'),\n",
    "    color=alt.condition(brush, 'Origin', alt.value('lightgray'))\n",
    ").add_params(\n",
    "    brush\n",
    ")\n",
    "\n",
    "left_chart | right_chart"
   ]
  },
  {
   "cell_type": "markdown",
   "metadata": {},
   "source": [
    "## Basic Interactive Features\n",
    "\n",
    "Vega-Altair provides high-level support for two basic forms of interactivity: Tooltips and Pan/Zoom interactions.\n",
    "\n",
    "### Tooltips\n",
    "\n",
    "As seen already in Part 1, tooltips provide additional information when a user hovers over a data point on the chart. This feature is particularly useful for displaying detailed data without cluttering the visualization.\n",
    "\n",
    "Vega-Altair provides a `tooltip` encoding channel that may be used to both activate tooltip support, and specify which data values should appear in the tooltips."
   ]
  },
  {
   "cell_type": "code",
   "execution_count": null,
   "metadata": {},
   "outputs": [],
   "source": [
    "# Create chart with tooltip\n",
    "alt.Chart(cars).mark_circle(size=60).encode(\n",
    "    alt.X('Horsepower'),\n",
    "    alt.Y('Miles_per_Gallon'),\n",
    "    alt.Color('Origin'),\n",
    "    tooltip=['Name', 'Origin', 'Horsepower', 'Miles_per_Gallon']\n",
    ")"
   ]
  },
  {
   "cell_type": "markdown",
   "metadata": {},
   "source": [
    "Customize tooltip title with `alt.Tooltip`"
   ]
  },
  {
   "cell_type": "code",
   "execution_count": null,
   "metadata": {},
   "outputs": [],
   "source": [
    "# Create chart with tooltip\n",
    "alt.Chart(cars).mark_circle(size=60).encode(\n",
    "    alt.X('Horsepower'),\n",
    "    alt.Y('Miles_per_Gallon').title(\"Miles per Gallon\"),\n",
    "    alt.Color('Origin'),\n",
    "    tooltip=[\n",
    "        'Name',\n",
    "        'Origin',\n",
    "        'Horsepower',\n",
    "        alt.Tooltip('Miles_per_Gallon').title(\"Miles per Gallon\")\n",
    "    ]\n",
    ")"
   ]
  },
  {
   "cell_type": "markdown",
   "metadata": {},
   "source": [
    "## Selection Parameters\n",
    "\n",
    "A selection parameter represents a predicate expression (more on this below) that may be used to determine whether each row of a dataset is included in the selection or not.\n",
    "\n",
    "Selection parameters may be bound to input widgets, or to interactions on the chart itself such as clicking on marks or clicking and dragging to create a box selection."
   ]
  },
  {
   "cell_type": "markdown",
   "metadata": {},
   "source": [
    "### What's a Predicate?\n",
    "A predicate is a function or expression that evaluates to a boolean value (true or false). For example, in the context of the cars dataset we've been using, the expression `Origin == \"Japan\"` is a predicate that evaluates to true for cars with `Origin` of `Japan`, and false otherwise.  The exact predicate that a selection parameter represents is not always obvious, but viewing them as predicates is helpful in understanding how selections may be used.\n",
    "\n",
    "### Conditions & Filters\n",
    "Selection parameters can be used to influence the appearance of a chart in two ways: Filter and conditions.\n",
    "\n",
    "#### Filter\n",
    "The `.transform_filter()` method that we discussed in the previous section can accept a selection instance. In this case, the filter transform will remove all rows that don't satisfy the selection parameter's underlying predicate.\n",
    "\n",
    "#### Condition\n",
    "Selection parameters may also be used to control visual encoding channels using the `alt.condition()` function. A common scenario is the set the color or opacity of marks based on the selection, but the selection parameter may be used to control any encoding channel."
   ]
  },
  {
   "cell_type": "markdown",
   "metadata": {},
   "source": [
    "### Point selections\n",
    "Vega-Altair supports two selection parameter types: *Point selections* and *interval selections*. Let's look at point selections first. A point selection represents a predicate of the form `{Column} == {value}`. In the case of the cars dataset, one such example would be `Origin == \"Japan\"`.  A point selection is constructed using the `alt.selection_point` function.\n",
    "\n",
    "Here is a basic example of configuring a selection parameter with a fixed predicate (equivalent to `Origin == \"Japan\"`), and then using the selection to filter the chart's underlying data."
   ]
  },
  {
   "cell_type": "code",
   "execution_count": 1,
   "metadata": {},
   "outputs": [
    {
     "ename": "NameError",
     "evalue": "name 'alt' is not defined",
     "output_type": "error",
     "traceback": [
      "\u001b[0;31m---------------------------------------------------------------------------\u001b[0m",
      "\u001b[0;31mNameError\u001b[0m                                 Traceback (most recent call last)",
      "Cell \u001b[0;32mIn[1], line 1\u001b[0m\n\u001b[0;32m----> 1\u001b[0m selection \u001b[38;5;241m=\u001b[39m \u001b[43malt\u001b[49m\u001b[38;5;241m.\u001b[39mselection_point(\n\u001b[1;32m      2\u001b[0m     fields\u001b[38;5;241m=\u001b[39m[\u001b[38;5;124m'\u001b[39m\u001b[38;5;124mOrigin\u001b[39m\u001b[38;5;124m'\u001b[39m],\n\u001b[1;32m      3\u001b[0m     value\u001b[38;5;241m=\u001b[39m\u001b[38;5;124m\"\u001b[39m\u001b[38;5;124mJapan\u001b[39m\u001b[38;5;124m\"\u001b[39m,\n\u001b[1;32m      4\u001b[0m )\n\u001b[1;32m      6\u001b[0m alt\u001b[38;5;241m.\u001b[39mChart(cars)\u001b[38;5;241m.\u001b[39mtransform_filter(\n\u001b[1;32m      7\u001b[0m     selection\n\u001b[1;32m      8\u001b[0m )\u001b[38;5;241m.\u001b[39mmark_point()\u001b[38;5;241m.\u001b[39mencode(\n\u001b[0;32m   (...)\u001b[0m\n\u001b[1;32m     13\u001b[0m     selection\n\u001b[1;32m     14\u001b[0m )\n",
      "\u001b[0;31mNameError\u001b[0m: name 'alt' is not defined"
     ]
    }
   ],
   "source": [
    "selection = alt.selection_point(\n",
    "    fields=['Origin'],\n",
    "    value=\"Japan\",\n",
    ")\n",
    "\n",
    "alt.Chart(cars).transform_filter(\n",
    "    selection\n",
    ").mark_point().encode(\n",
    "    x='Horsepower:Q',\n",
    "    y='Miles_per_Gallon:Q',\n",
    "    color=alt.Color('Origin:N').scale(domain=['Europe', 'Japan', 'USA']),\n",
    ").add_params(\n",
    "    selection\n",
    ")"
   ]
  },
  {
   "cell_type": "markdown",
   "metadata": {},
   "source": [
    "> **Note:** Encoding channels that use a condition must be assigned to the corresponding keyword argument in the `.encode()` method call. For example, in this case that's `color=alt.condition(...)`."
   ]
  },
  {
   "cell_type": "markdown",
   "metadata": {},
   "source": [
    "### Point selection binding\n",
    "While selection parameters may be configured statically as in the examples above, they are most powerful when bound to other components of the chart that may be manipulated interactively. Point selections may be bound to widgets, mark click/hover events, and to legend interactions.\n",
    "\n",
    "#### Binding point selections to widgets\n",
    "Point selections may be bound to input widgets. For example, let's extend the previous example to use a dropdown widget to control which country of origin is selected\n",
    "\n",
    "\n",
    "\n"
   ]
  },
  {
   "cell_type": "code",
   "execution_count": null,
   "metadata": {},
   "outputs": [],
   "source": [
    "# construct dropdown (select) widget\n",
    "input_dropdown = alt.binding_select(\n",
    "    options=['Europe', 'Japan', 'USA'],\n",
    "    name='Region '\n",
    ")\n",
    "\n",
    "selection = alt.selection_point(\n",
    "    fields=['Origin'],\n",
    "    value=\"Japan\",\n",
    "    bind=input_dropdown\n",
    ")\n",
    "\n",
    "alt.Chart(cars).mark_point().encode(\n",
    "    alt.X('Horsepower'),\n",
    "    alt.Y('Miles_per_Gallon'),\n",
    "    order=alt.condition(selection, alt.value(1), alt.value(0)),\n",
    "    color=alt.condition(\n",
    "        selection,\n",
    "        alt.Color('Origin:N').scale(domain=['Europe', 'Japan', 'USA']),\n",
    "        alt.value(\"lightgrey\")\n",
    "    )\n",
    ").add_params(\n",
    "    selection\n",
    ")"
   ]
  },
  {
   "cell_type": "markdown",
   "metadata": {},
   "source": [
    "Here's an example of binding a point selection parameter to a radio button widget, and using the selection to filter the input data to the scatter plot.\n"
   ]
  },
  {
   "cell_type": "code",
   "execution_count": null,
   "metadata": {},
   "outputs": [],
   "source": [
    "options = ['Europe', 'Japan', 'USA']\n",
    "labels = [option + ' ' for option in options]\n",
    "\n",
    "input_radio = alt.binding_radio(\n",
    "    options=options + [None],\n",
    "    labels=labels + ['All'],\n",
    "    name='Region: '\n",
    ")\n",
    "selection = alt.selection_point(\n",
    "    fields=['Origin'],\n",
    "    value=None,\n",
    "    bind=input_radio,\n",
    ")\n",
    "\n",
    "alt.Chart(cars).mark_circle(size=60).encode(\n",
    "    alt.X('Horsepower:Q'),\n",
    "    alt.Y('Miles_per_Gallon:Q'),\n",
    "    alt.Color('Origin:N').scale(domain=options),\n",
    ").add_params(\n",
    "    selection\n",
    ").transform_filter(\n",
    "    selection\n",
    ")"
   ]
  },
  {
   "cell_type": "markdown",
   "metadata": {},
   "source": [
    "#### Binding point selections to click/hover\n",
    "A point selection may also be bound to click or hover interactions on a mark. Here is an example that builds a point selection and uses it to control the size and color of the point that is clicked on. In addition, the `order` encoding channel is used to raise the selected point above the unselected points."
   ]
  },
  {
   "cell_type": "code",
   "execution_count": null,
   "metadata": {},
   "outputs": [],
   "source": [
    "selection = alt.selection_point()\n",
    "\n",
    "alt.Chart(cars).mark_circle(size=60).encode(\n",
    "    alt.X('Horsepower'),\n",
    "    alt.Y('Miles_per_Gallon'),\n",
    "    size=alt.condition(selection, alt.value(300), alt.value(60)),\n",
    "    order=alt.condition(selection, alt.value(1), alt.value(0)),\n",
    "    color=alt.condition(\n",
    "        selection,\n",
    "        alt.Color('Origin:N').scale(domain=['Europe', 'Japan', 'USA']),\n",
    "        alt.value(\"lightgrey\")\n",
    "    )\n",
    ").add_params(\n",
    "    selection\n",
    ")"
   ]
  },
  {
   "cell_type": "markdown",
   "metadata": {},
   "source": [
    "Here are some additional options you can use with `alt.selection_point()`\n",
    "\n",
    "```python\n",
    "selection = alt.selection_point(\n",
    "    on=\"pointerover\",  # Hover instead of click\n",
    "    empty=False,       # Start with all rows unselected instead of selected\n",
    "    nearest=True,      # Activate nearest point to the cursor\n",
    ")\n",
    "```\n",
    "\n",
    "See [Vega-Altair Selection Documentation](https://altair-viz.github.io/user_guide/generated/api/altair.selection_point.html) for the full list of configuration options."
   ]
  },
  {
   "cell_type": "markdown",
   "metadata": {},
   "source": [
    "#### Fields and Encodings Arguments\n",
    "When creating point selections using `alt.selection_point`, the `fields` and `encodings` optional arguments may be used to specify how selections are made and what data they correspond to.\n",
    "\n",
    "\n",
    "##### Fields Argument\n",
    "The `fields` argument specifies which data columns will be used to build the selection predicate. This means that when a selection is made, only the data points that match the specified fields of the selected point will be considered selected.\n",
    "\n",
    "To see how this works we'll set `fields` to `Origin`, which will cause all points that match the origin of the clicked point to be selected."
   ]
  },
  {
   "cell_type": "markdown",
   "metadata": {},
   "source": [
    "##### Encodings Argument\n",
    "As an alternative to specifying the data fields to consider in the selection, the `encodings` argument allows you to specify the visual encodings that should be used for the selection. This is useful for creating interactions based on how data is represented visually, such as by color, size, or position.\n",
    "\n",
    "Here's an example of selecting cars that match the color and size of the clicked point.\n"
   ]
  },
  {
   "cell_type": "code",
   "execution_count": null,
   "metadata": {},
   "outputs": [],
   "source": [
    "selection = alt.selection_point(encodings=[\"size\", \"color\"])\n",
    "\n",
    "alt.Chart(cars).mark_circle(size=60).encode(\n",
    "    alt.X('Horsepower'),\n",
    "    alt.Y('Miles_per_Gallon'),\n",
    "    alt.Size('Cylinders:O'),\n",
    "    order=alt.condition(selection, alt.value(1), alt.value(0)),\n",
    "    color=alt.condition(\n",
    "        selection,\n",
    "        alt.Color('Origin:N').scale(domain=['Europe', 'Japan', 'USA']),\n",
    "        alt.value(\"lightgrey\")\n",
    "    )\n",
    ").add_params(\n",
    "    selection\n",
    ")"
   ]
  },
  {
   "cell_type": "markdown",
   "metadata": {},
   "source": [
    "#### Binding point selections to legend interactions\n",
    "Point selection parameters may also be bound to legends, which then allows users to drive selections by clicking on legend entries. This is a powerful way to highlight or filter data points based on categorical variables represented in the legend.\n",
    "\n",
    "A selection is bound to a legend by setting the `bind` argument to the string `'legend'`, and setting the `encodings` argument to a single element list containing the legend's encoding (e.g. `color`, `size`, etc.)."
   ]
  },
  {
   "cell_type": "code",
   "execution_count": null,
   "metadata": {},
   "outputs": [],
   "source": [
    "# Create a point selection bound to legend\n",
    "selection = alt.selection_point(\n",
    "    encodings=['color'],\n",
    "    bind='legend'\n",
    ")\n",
    "\n",
    "# Create chart with point selection bound to legend\n",
    "chart = alt.Chart(cars).mark_circle(size=100).encode(\n",
    "    alt.X('Horsepower'),\n",
    "    alt.Y('Miles_per_Gallon'),\n",
    "    order=alt.condition(selection, alt.value(1), alt.value(0)),\n",
    "    color=alt.condition(selection, 'Origin:N', alt.value('lightgray'))\n",
    ").add_params(\n",
    "    selection\n",
    ")\n",
    "\n",
    "chart"
   ]
  },
  {
   "cell_type": "markdown",
   "metadata": {},
   "source": [
    "### Interval selections\n",
    "Interval selection parameters are created using `alt.selection_interval()`, and they represent predicates of the form `{lower} <= {Column} < {upper}`. When an interval selection parameter is added to a chart with `add_params`, Vega-Altair adds a rectangle mark to show the selected region. By default, this rectangle mark is draggable and may be resized using scroll zoom.\n",
    "\n",
    "Here is an example that uses an interval selection with a `condition` to control the mark's color encoding."
   ]
  },
  {
   "cell_type": "code",
   "execution_count": null,
   "metadata": {},
   "outputs": [],
   "source": [
    "# Define interval selection with initial values\n",
    "selection = alt.selection_interval(value={'x': [50, 150], 'y': [10, 30]})\n",
    "\n",
    "# Create chart with point selection bound to legend\n",
    "chart = alt.Chart(cars).mark_circle(size=100).encode(\n",
    "    alt.X('Horsepower'),\n",
    "    alt.Y('Miles_per_Gallon'),\n",
    "    color=alt.condition(selection, 'Origin:N', alt.value('lightgray'))\n",
    ").add_params(\n",
    "    selection\n",
    ")\n",
    "\n",
    "chart"
   ]
  },
  {
   "cell_type": "markdown",
   "metadata": {},
   "source": [
    "The initial interval selection `value` is not required. If not provided, nothing will be selected in the initial chart. Additionally, the `encodings` argument may be used to customize which dimensions may be selected. For example, setting `encodings` to `[\"x\"]` will result in a horizontal box selection"
   ]
  },
  {
   "cell_type": "code",
   "execution_count": null,
   "metadata": {},
   "outputs": [],
   "source": [
    "# Define interval selection with initial values\n",
    "selection = alt.selection_interval(encodings=[\"x\"])\n",
    "\n",
    "# Create chart with point selection bound to legend\n",
    "chart = alt.Chart(cars).mark_circle(size=100).encode(\n",
    "    alt.X('Horsepower'),\n",
    "    alt.Y('Miles_per_Gallon'),\n",
    "    color=alt.condition(selection, 'Origin:N', alt.value('lightgray'))\n",
    ").add_params(\n",
    "    selection\n",
    ")\n",
    "\n",
    "chart"
   ]
  },
  {
   "cell_type": "markdown",
   "metadata": {},
   "source": [
    "### Multi-view selections\n",
    "Selections are particularly useful in multi-view charts, where a selection on one view may be used to filter or highlight marks in other views.\n",
    "\n",
    "Here we concatenate a new scatter plot, of Acceleration vs Miles per Gallon, to the right of the scatter plot above. Because the two charts are concatenated, we can use the same selection parameter in an `alt.condition` to control the color of the new scatter plot as well."
   ]
  },
  {
   "cell_type": "code",
   "execution_count": null,
   "metadata": {},
   "outputs": [],
   "source": [
    "selection = alt.selection_interval(encodings=['x'])\n",
    "\n",
    "left_chart = alt.Chart(cars).mark_circle(size=100).encode(\n",
    "    alt.X('Horsepower'),\n",
    "    alt.Y('Miles_per_Gallon'),\n",
    "    color=alt.condition(selection, 'Origin', alt.value('lightgray'))\n",
    ").add_params(\n",
    "    selection\n",
    ")\n",
    "\n",
    "right_chart = alt.Chart(cars).mark_circle(size=100).encode(\n",
    "    alt.X('Acceleration'),\n",
    "    alt.Y('Miles_per_Gallon'),\n",
    "    color=alt.condition(selection, 'Origin', alt.value('lightgray'))\n",
    ")\n",
    "\n",
    "left_chart | right_chart"
   ]
  },
  {
   "cell_type": "markdown",
   "metadata": {},
   "source": [
    "You may notice that currently it's only possible to make interval selections on the left chart. This is because we've only added the selection parameter to the left chart using `add_params`. The chart that the selection is added to with `add_params` is the chart that will be configured to drive the selection. As this example demonstrates, a selection may be used in `alt.condition` (or in `transform_filter()`) in any chart in the layout whether or not the selection has been added to the chart with `add_params`.\n",
    "\n",
    "We can update this example to support selection in both subplot by adding the selection parameter with `add_params` to the right chart as well."
   ]
  },
  {
   "cell_type": "code",
   "execution_count": null,
   "metadata": {},
   "outputs": [],
   "source": [
    "selection = alt.selection_interval(encodings=['x'])\n",
    "\n",
    "left_chart = alt.Chart(cars).mark_circle(size=100).encode(\n",
    "    alt.X('Horsepower'),\n",
    "    alt.Y('Miles_per_Gallon'),\n",
    "    color=alt.condition(selection, 'Origin', alt.value('lightgray'))\n",
    ").add_params(\n",
    "    selection\n",
    ")\n",
    "\n",
    "right_chart = alt.Chart(cars).mark_circle(size=100).encode(\n",
    "    alt.X('Acceleration'),\n",
    "    alt.Y('Miles_per_Gallon'),\n",
    "    color=alt.condition(selection, 'Origin', alt.value('lightgray'))\n",
    ").add_params(\n",
    "    selection\n",
    ")\n",
    "\n",
    "left_chart | right_chart"
   ]
  },
  {
   "cell_type": "markdown",
   "metadata": {},
   "source": [
    "Interval selections may also be bound to scales, in which case pan and zoom are activated (rather than box selection) and the selection parameter's predicate is driven by the chart's active viewport.\n",
    "\n",
    "Here's an example that places two identical scatter plots side by side. A selection parameter with `bind=\"scales\"` is added to the left chart, which\n",
    " activates pan and zoom support on this chart. The selection parameter is used inside an `alt.condition` in the right chart to control the color of points. As the user pans and zooms using the left chart, the right chart highlights the points that are in the left chart's viewport."
   ]
  },
  {
   "cell_type": "code",
   "execution_count": null,
   "metadata": {},
   "outputs": [],
   "source": [
    "selection = alt.selection_interval(bind=\"scales\")\n",
    "\n",
    "left_chart = alt.Chart(cars).mark_circle(size=100).encode(\n",
    "    alt.X('Horsepower'),\n",
    "    alt.Y('Miles_per_Gallon'),\n",
    "    alt.Color('Origin'),\n",
    ").add_params(\n",
    "    selection\n",
    ")\n",
    "\n",
    "right_chart = alt.Chart(cars).mark_circle(size=100).encode(\n",
    "    alt.X('Horsepower'),\n",
    "    alt.Y('Miles_per_Gallon'),\n",
    "    color=alt.condition(selection, 'Origin', alt.value('lightgray'))\n",
    ")\n",
    "\n",
    "(left_chart | right_chart).properties(bounds=\"flush\", spacing=60)"
   ]
  },
  {
   "cell_type": "markdown",
   "metadata": {},
   "source": [
    "> **Note:** The `.interactive()` method described earlier is actually just a shortcut for creating an interval selection parameter and adding it to the chart!"
   ]
  },
  {
   "cell_type": "code",
   "execution_count": null,
   "metadata": {},
   "outputs": [],
   "source": [
    "selection = alt.selection_interval()\n",
    "\n",
    "scatter = alt.Chart(cars).mark_circle(size=100).encode(\n",
    "    alt.X('Horsepower'),\n",
    "    alt.Y('Miles_per_Gallon'),\n",
    "    color=alt.condition(selection, 'Origin', alt.value('lightgray'))\n",
    ").add_params(\n",
    "    selection\n",
    ")\n",
    "\n",
    "bars = alt.Chart(cars).mark_bar().encode(\n",
    "    alt.X('count(Origin)').scale(domain=[0,260]),\n",
    "    alt.Y('Origin').scale(domain=[\"Europe\", \"Japan\", \"USA\"]),\n",
    "    alt.Color('Origin'),\n",
    ").transform_filter(\n",
    "    selection\n",
    ")\n",
    "\n",
    "scatter & bars"
   ]
  },
  {
   "cell_type": "markdown",
   "metadata": {},
   "source": [
    "## Jupyter Widget Integration\n",
    "A powerful feature of Vega-Altair's support for interactivity is that it is implemented entirely in JavaScript, so these interactions work without a Python kernel (e.g. in the Vega Editor).  Sometimes, however, it's really useful to have access to a chart's interactive state in Python in order to use selections to drive other Python logic.\n",
    "\n",
    "This is possible using [`JupyterChart`](https://altair-viz.github.io/user_guide/jupyter_chart.html), which is built on top of [Jupyter Widgets](https://ipywidgets.readthedocs.io/en/latest/) using [AnyWidget](https://anywidget.dev/).\n",
    "\n",
    "\n",
    "Here is an example of accessing an interval selection from Python. Note that it's important to name the selection so that it's easy to look up in the `jchart.selections` object."
   ]
  },
  {
   "cell_type": "code",
   "execution_count": null,
   "metadata": {},
   "outputs": [],
   "source": [
    "brush = alt.selection_interval(name=\"brush\")\n",
    "\n",
    "chart = alt.Chart(cars).mark_point().encode(\n",
    "    x='Horsepower:Q',\n",
    "    y='Miles_per_Gallon:Q',\n",
    "    color=alt.condition(brush, 'Cylinders:O', alt.value('grey')),\n",
    ").add_params(brush)\n",
    "\n",
    "jchart = alt.JupyterChart(chart)\n",
    "jchart"
   ]
  },
  {
   "cell_type": "code",
   "execution_count": null,
   "metadata": {},
   "outputs": [],
   "source": [
    "jchart.selections.brush.value\n"
   ]
  },
  {
   "cell_type": "markdown",
   "metadata": {},
   "source": [
    "Here's a more complex example that uses the selection to filter a pandas DataFrame, then display that filtered pandas DataFrame below that chart in a separate widget.\n"
   ]
  },
  {
   "cell_type": "code",
   "execution_count": null,
   "metadata": {},
   "outputs": [],
   "source": [
    "from ipywidgets import HTML, VBox\n",
    "\n",
    "cars = data.cars()\n",
    "brush = alt.selection_interval(name=\"brush\")\n",
    "\n",
    "chart_widget = alt.JupyterChart(alt.Chart(cars).mark_point().encode(\n",
    "    x='Horsepower:Q',\n",
    "    y='Miles_per_Gallon:Q',\n",
    "    color=alt.condition(brush, 'Cylinders:O', alt.value('grey')),\n",
    ").add_params(brush))\n",
    "\n",
    "table_widget = HTML(value=cars.iloc[:0].to_html())\n",
    "\n",
    "def on_select(change):\n",
    "    sel = change.new.value\n",
    "    if sel is None or 'Horsepower' not in sel:\n",
    "        filtered = cars.iloc[:0]\n",
    "    else:\n",
    "        filter_query = (\n",
    "            f\"{sel['Horsepower'][0]} <= `Horsepower` <= {sel['Horsepower'][1]} and \"\n",
    "            f\"{sel['Miles_per_Gallon'][0]} <= `Miles_per_Gallon` <= {sel['Miles_per_Gallon'][1]}\"\n",
    "        )\n",
    "        filtered = cars.query(filter_query)\n",
    "\n",
    "    table_widget.value = filtered.to_html()\n",
    "\n",
    "chart_widget.selections.observe(on_select, [\"brush\"])\n",
    "\n",
    "VBox([chart_widget, table_widget])"
   ]
  },
  {
   "cell_type": "markdown",
   "metadata": {},
   "source": []
  }
 ],
 "metadata": {
  "colab": {
   "authorship_tag": "ABX9TyPzM+kwOxkG1chHntF36fSV",
   "collapsed_sections": [
    "uIecrVj2epeR"
   ],
   "provenance": [],
   "toc_visible": true
  },
  "kernelspec": {
   "display_name": "Python 3",
   "language": "python",
   "name": "python3"
  },
  "language_info": {
   "codemirror_mode": {
    "name": "ipython",
    "version": 3
   },
   "file_extension": ".py",
   "mimetype": "text/x-python",
   "name": "python",
   "nbconvert_exporter": "python",
   "pygments_lexer": "ipython3",
   "version": "3.9.6"
  }
 },
 "nbformat": 4,
 "nbformat_minor": 4
}
