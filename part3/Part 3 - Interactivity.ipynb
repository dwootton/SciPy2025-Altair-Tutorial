{
 "cells": [
  {
   "cell_type": "markdown",
   "metadata": {
    "editable": true,
    "id": "mfpgEhvygGPd",
    "slideshow": {
     "slide_type": ""
    },
    "tags": []
   },
   "source": [
    "# Part 3 - Interactivity in Vega-Altair\n",
    "\n",
    "- **Objective**: Learn how to add interactivity to charts.\n",
    "- **Key Topics**:\n",
    "  - Basic Interactive features (tooltips and pan/zoom)\n",
    "  - Selections parameters\n",
    "  - Conditional encodings and filtering\n",
    "\n",
    "One of the most exciting features of Vega-Altair is its ability to produce interactive charts. These interactive visualizations can enhance the user's data exploration experience by allowing dynamic manipulation and immediate feedback without the need for continuous Python interaction. This means that once created, these interactive charts are fully functional in a web browser without the need for a Python kernel.\n",
    "\n",
    "In this section, we'll explore the various interactive features offered by Vega-Altair, ranging from simple tooltips to complex, multi-view charts. To conclude, we'll discuss Vega-Altair's Jupyter Widget integration that makes it possible to interact with the interactive features of a chart from Python."
   ]
  },
  {
   "cell_type": "markdown",
   "metadata": {
    "id": "cS6ADQunL1Pr"
   },
   "source": [
    "\n",
    "## Imports"
   ]
  },
  {
   "cell_type": "code",
   "execution_count": null,
   "metadata": {
    "colab": {
     "base_uri": "https://localhost:8080/"
    },
    "executionInfo": {
     "elapsed": 25379,
     "status": "ok",
     "timestamp": 1717162194133,
     "user": {
      "displayName": "Jon Mease",
      "userId": "14424318106531239228"
     },
     "user_tz": 240
    },
    "id": "S4YjEUbex8Bf",
    "outputId": "b5e01fed-fb33-4003-ece2-0c97bd5701db"
   },
   "outputs": [],
   "source": [
    "import pandas as pd\n",
    "import altair as alt\n",
    "from vega_datasets import data\n",
    "import vegafusion\n",
    "\n",
    "print(\"The installed Vega-Altair version is \" + alt.__version__)"
   ]
  },
  {
   "cell_type": "markdown",
   "metadata": {
    "id": "zhzwbpGuiw4Q"
   },
   "source": [
    "## Introduction to Interactive Features in Vega-Altair\n",
    "\n",
    "Vega-Altair allows you to create interactive charts that can be embedded in web pages or Jupyter notebooks (without requiring a live Python kernel). The interactivity features include tooltips, panning, zooming, selections, and more complex interactions such as linked views and coordinated highlighting. These features enable dynamic data exploration and enhance the end user experience by making visualizations more engaging and insightful.\n",
    "\n",
    "Compared to static charts, interactive charts provide a more personalized experience, allowing end users to ask their own questions and focus on their particular areas of interest.\n",
    "\n",
    "### Dataset\n",
    "\n",
    "The cars dataset from vega_datasets contains information about various car models from the 1970s and 1980s. \n",
    "It includes properties like the horsepower, miles per gallon, origin.\n"
   ]
  },
  {
   "cell_type": "code",
   "execution_count": null,
   "metadata": {},
   "outputs": [],
   "source": [
    "cars = data.cars()\n",
    "cars.head()"
   ]
  },
  {
   "cell_type": "markdown",
   "metadata": {},
   "source": [
    "### Example: Support pan, zoom, and tooltips"
   ]
  },
  {
   "cell_type": "code",
   "execution_count": null,
   "metadata": {
    "colab": {
     "base_uri": "https://localhost:8080/",
     "height": 368
    },
    "executionInfo": {
     "elapsed": 152,
     "status": "ok",
     "timestamp": 1717162194280,
     "user": {
      "displayName": "Jon Mease",
      "userId": "14424318106531239228"
     },
     "user_tz": 240
    },
    "id": "yKWnXUB6o_ja",
    "outputId": "e6e3e876-5008-4cbf-aac5-9e9eb5c397e0"
   },
   "outputs": [],
   "source": [
    "# Create chart with tooltip\n",
    "alt.Chart(cars).mark_circle(size=60).encode(\n",
    "    alt.X('Horsepower'),\n",
    "    alt.Y('Miles_per_Gallon').title(\"Miles per Gallon\"),\n",
    "    alt.Color('Origin'),\n",
    "    tooltip=[\n",
    "        'Name',\n",
    "        'Origin',\n",
    "        'Horsepower',\n",
    "        alt.Tooltip('Miles_per_Gallon').title(\"Miles per Gallon\")\n",
    "    ]\n",
    ").interactive()"
   ]
  },
  {
   "cell_type": "markdown",
   "metadata": {},
   "source": [
    "### Example: Support end-user filtering"
   ]
  },
  {
   "cell_type": "code",
   "execution_count": null,
   "metadata": {
    "colab": {
     "base_uri": "https://localhost:8080/",
     "height": 389
    },
    "executionInfo": {
     "elapsed": 152,
     "status": "ok",
     "timestamp": 1717162194430,
     "user": {
      "displayName": "Jon Mease",
      "userId": "14424318106531239228"
     },
     "user_tz": 240
    },
    "id": "IzYccNVXm5Wy",
    "outputId": "24b534f5-28f6-4e95-f12b-c43101f9a84d"
   },
   "outputs": [],
   "source": [
    "options = ['Europe', 'Japan', 'USA']\n",
    "labels = [option + ' ' for option in options]\n",
    "\n",
    "input_radio = alt.binding_radio(\n",
    "    options=options + [None],\n",
    "    labels=labels + ['All'],\n",
    "    name='Region: '\n",
    ")\n",
    "selection = alt.selection_point(\n",
    "    fields=['Origin'],\n",
    "    value=None,\n",
    "    bind=input_radio,\n",
    ")\n",
    "\n",
    "alt.Chart(cars).mark_circle(size=60).encode(\n",
    "    alt.X('Horsepower:Q'),\n",
    "    alt.Y('Miles_per_Gallon:Q'),\n",
    "    alt.Color('Origin:N').scale(domain=options),\n",
    ").add_params(\n",
    "    selection\n",
    ").transform_filter(\n",
    "    selection\n",
    ")"
   ]
  },
  {
   "cell_type": "markdown",
   "metadata": {
    "id": "DhfggH4tnGjb"
   },
   "source": [
    "\n",
    "### Example: Support multi-view highlighting\n",
    "\n",
    "Interactive charts also enable the exploration higher dimensional relationships in the dataset through the use of selections across multi-view charts."
   ]
  },
  {
   "cell_type": "code",
   "execution_count": null,
   "metadata": {
    "colab": {
     "base_uri": "https://localhost:8080/",
     "height": 370
    },
    "executionInfo": {
     "elapsed": 392,
     "status": "ok",
     "timestamp": 1717162194820,
     "user": {
      "displayName": "Jon Mease",
      "userId": "14424318106531239228"
     },
     "user_tz": 240
    },
    "id": "O4P7aRu6oFeV",
    "outputId": "ad5ab355-e647-4059-dccc-e792ba7909b6"
   },
   "outputs": [],
   "source": [
    "brush = alt.selection_interval(encodings=['x'])\n",
    "\n",
    "left_chart = alt.Chart(cars).mark_circle(size=60).encode(\n",
    "    alt.X('Horsepower'),\n",
    "    alt.Y('Miles_per_Gallon'),\n",
    "    color=alt.condition(brush, 'Origin', alt.value('lightgray'))\n",
    ").add_params(\n",
    "    brush\n",
    ")\n",
    "\n",
    "right_chart = alt.Chart(cars).mark_circle(size=60).encode(\n",
    "    alt.X('Acceleration'),\n",
    "    alt.Y('Miles_per_Gallon'),\n",
    "    color=alt.condition(brush, 'Origin', alt.value('lightgray'))\n",
    ").add_params(\n",
    "    brush\n",
    ")\n",
    "\n",
    "left_chart | right_chart"
   ]
  },
  {
   "cell_type": "markdown",
   "metadata": {
    "id": "scqFXI-1p59k"
   },
   "source": [
    "## Basic Interactive Features\n",
    "\n",
    "Vega-Altair provides high-level support for two basic forms of interactivity: Tooltips and Pan/Zoom interactions.\n",
    "\n",
    "### Tooltips\n",
    "\n",
    "As seen already in Part 1, tooltips provide additional information when a user hovers over a data point on the chart. This feature is particularly useful for displaying detailed data without cluttering the visualization.\n",
    "\n",
    "Vega-Altair provides a `tooltip` encoding channel that may be used to both activate tooltip support, and specify which data values should appear in the tooltips."
   ]
  },
  {
   "cell_type": "code",
   "execution_count": null,
   "metadata": {
    "colab": {
     "base_uri": "https://localhost:8080/",
     "height": 368
    },
    "executionInfo": {
     "elapsed": 252,
     "status": "ok",
     "timestamp": 1717162195070,
     "user": {
      "displayName": "Jon Mease",
      "userId": "14424318106531239228"
     },
     "user_tz": 240
    },
    "id": "y7Bqr1KzqpvP",
    "outputId": "1a530640-734d-456f-e61f-b6d69f0d0200"
   },
   "outputs": [],
   "source": [
    "# Create chart with tooltip\n",
    "alt.Chart(cars).mark_circle(size=60).encode(\n",
    "    alt.X('Horsepower'),\n",
    "    alt.Y('Miles_per_Gallon'),\n",
    "    alt.Color('Origin'),\n",
    "    tooltip=['Name', 'Origin', 'Horsepower', 'Miles_per_Gallon']\n",
    ")"
   ]
  },
  {
   "cell_type": "markdown",
   "metadata": {},
   "source": []
  },
  {
   "cell_type": "code",
   "execution_count": null,
   "metadata": {
    "colab": {
     "base_uri": "https://localhost:8080/",
     "height": 368
    },
    "executionInfo": {
     "elapsed": 318,
     "status": "ok",
     "timestamp": 1717162195385,
     "user": {
      "displayName": "Jon Mease",
      "userId": "14424318106531239228"
     },
     "user_tz": 240
    },
    "id": "NblE7Gc6rMMc",
    "outputId": "f4f6e87f-46cf-458d-90eb-dba330b6b3e1"
   },
   "outputs": [],
   "source": [
    "# Create chart with tooltip\n",
    "alt.Chart(cars).mark_circle(size=60).encode(\n",
    "    alt.X('Horsepower'),\n",
    "    alt.Y('Miles_per_Gallon').title(\"Miles per Gallon\"),\n",
    "    alt.Color('Origin'),\n",
    "    tooltip=[\n",
    "        'Name',\n",
    "        'Origin',\n",
    "        'Horsepower',\n",
    "        alt.Tooltip('Miles_per_Gallon').title(\"Miles per Gallon\")\n",
    "    ]\n",
    ")"
   ]
  },
  {
   "cell_type": "markdown",
   "metadata": {
    "id": "unM10-Gqrxpl"
   },
   "source": [
    "### Pan and Zoom\n",
    "Pan and zoom interactions allow users to navigate through different sections of the chart by dragging the view (panning) or changing the scale of the view (zooming). This interaction is useful for exploring large datasets where displaying all data points simultaneously would be impractical.\n",
    "\n",
    "Pan and zoom interactions may be enabled on a Vega-Altair chart by calling the `chart.interactive()` method. Here's how to enable pan and zoom on a scatter plot above:"
   ]
  },
  {
   "cell_type": "code",
   "execution_count": null,
   "metadata": {
    "colab": {
     "base_uri": "https://localhost:8080/",
     "height": 368
    },
    "executionInfo": {
     "elapsed": 4,
     "status": "ok",
     "timestamp": 1717162195385,
     "user": {
      "displayName": "Jon Mease",
      "userId": "14424318106531239228"
     },
     "user_tz": 240
    },
    "id": "nxE_18d6sQMc",
    "outputId": "8e97e31d-26f9-4523-9530-f352fe9182ec"
   },
   "outputs": [],
   "source": [
    "# Create chart with tooltip\n",
    "alt.Chart(cars).mark_circle(size=60).encode(\n",
    "    alt.X('Horsepower'),\n",
    "    alt.Y('Miles_per_Gallon').title(\"Miles per Gallon\"),\n",
    "    alt.Color('Origin'),\n",
    "    tooltip=[\n",
    "        'Name',\n",
    "        'Origin',\n",
    "        'Horsepower',\n",
    "        alt.Tooltip('Miles_per_Gallon').title(\"Miles per Gallon\")\n",
    "    ]\n",
    ").interactive()"
   ]
  },
  {
   "cell_type": "markdown",
   "metadata": {
    "id": "9HuLUq9HyimH"
   },
   "source": [
    "> As we'll see later, `.interactive()` is a convenience method that enables pan and zoom on the chart using Vega-Altair's more general selections framework."
   ]
  },
  {
   "cell_type": "markdown",
   "metadata": {
    "id": "QJmlSZaq7UTf"
   },
   "source": [
    "## Selection Parameters\n",
    "\n",
    "A selection parameter represents a predicate expression (more on this below) that may be used to determine whether each row of a dataset is included in the selection or not.\n",
    "\n",
    "Selection parameters may be bound to input widgets, or to interactions on the chart itself such as clicking on marks or clicking and dragging to create a box selection."
   ]
  },
  {
   "cell_type": "markdown",
   "metadata": {
    "id": "Sqp2s3iofy1D"
   },
   "source": [
    "### What's a Predicate?\n",
    "A predicate is a function or expression that evaluates to a boolean value (true or false). For example, in the context of the cars dataset we've been using, the expression `Origin == \"Japan\"` is a predicate that evaluates to true for cars with `Origin` of `Japan`, and false otherwise.  The exact predicate that a selection parameter represents is not always obvious, but viewing them as predicates is helpful in understanding how selections may be used.\n",
    "\n",
    "### Conditions & Filters\n",
    "Selection parameters can be used to influence the appearance of a chart in two ways: Filter and conditions.\n",
    "\n",
    "#### Filter\n",
    "The `.transform_filter()` method that we discussed in the previous section can accept a selection instance. In this case, the filter transform will remove all rows that don't satisfy the selection parameter's underlying predicate.\n",
    "\n",
    "#### Condition\n",
    "Selection parameters may also be used to control visual encoding channels using the `alt.condition()` function. A common scenario is the set the color or opacity of marks based on the selection, but the selection parameter may be used to control any encoding channel."
   ]
  },
  {
   "cell_type": "markdown",
   "metadata": {
    "id": "oGPo6Kh6frHu"
   },
   "source": [
    "### Point selections\n",
    "Vega-Altair supports two selection parameter types: *Point selections* and *interval selections*. Let's look at point selections first. A point selection represents a predicate of the form `{Column} == {value}`. In the case of the cars dataset, one such example would be `Origin == \"Japan\"`.  A point selection is constructed using the `alt.selection_point` function.\n",
    "\n",
    "Here is a basic example of configuring a selection parameter with a fixed predicate (equivalent to `Origin == \"Japan\"`), and then using the selection to filter the chart's underlying data."
   ]
  },
  {
   "cell_type": "code",
   "execution_count": null,
   "metadata": {
    "colab": {
     "base_uri": "https://localhost:8080/",
     "height": 368
    },
    "executionInfo": {
     "elapsed": 403,
     "status": "ok",
     "timestamp": 1717162195785,
     "user": {
      "displayName": "Jon Mease",
      "userId": "14424318106531239228"
     },
     "user_tz": 240
    },
    "id": "nI4pOR_Fkw8T",
    "outputId": "f1f81264-a1b6-4268-af03-3c17b660a59d"
   },
   "outputs": [],
   "source": [
    "selection = alt.selection_point(\n",
    "    fields=['Origin'],\n",
    "    value=\"Japan\",\n",
    ")\n",
    "\n",
    "alt.Chart(cars).transform_filter(\n",
    "    selection\n",
    ").mark_point().encode(\n",
    "    x='Horsepower:Q',\n",
    "    y='Miles_per_Gallon:Q',\n",
    "    color=alt.Color('Origin:N').scale(domain=['Europe', 'Japan', 'USA']),\n",
    ").add_params(\n",
    "    selection\n",
    ")"
   ]
  },
  {
   "cell_type": "markdown",
   "metadata": {
    "id": "Cu5gnr3HmyyB"
   },
   "source": [
    "Alternatively, the selection may be used to control the color of the selected points (without filtering) by passing a `condition` as the color encoding."
   ]
  },
  {
   "cell_type": "code",
   "execution_count": null,
   "metadata": {
    "colab": {
     "base_uri": "https://localhost:8080/",
     "height": 368
    },
    "executionInfo": {
     "elapsed": 7,
     "status": "ok",
     "timestamp": 1717162195786,
     "user": {
      "displayName": "Jon Mease",
      "userId": "14424318106531239228"
     },
     "user_tz": 240
    },
    "id": "CyIqf0Iqm_kg",
    "outputId": "a69f057e-0d3b-4210-bcfd-3980bd2bf5b5"
   },
   "outputs": [],
   "source": [
    "selection = alt.selection_point(\n",
    "    fields=['Origin'],\n",
    "    value=\"Japan\",\n",
    ")\n",
    "\n",
    "alt.Chart(cars).mark_point().encode(\n",
    "    alt.X('Horsepower'),\n",
    "    alt.Y('Miles_per_Gallon'),\n",
    "    color=alt.condition(\n",
    "        selection,\n",
    "        alt.Color('Origin:N').scale(domain=['Europe', 'Japan', 'USA']),\n",
    "        alt.value(\"lightgrey\")\n",
    "    )\n",
    ").add_params(\n",
    "    selection\n",
    ")"
   ]
  },
  {
   "cell_type": "markdown",
   "metadata": {
    "id": "y28RDh49niK7"
   },
   "source": [
    "> **Note:** Encoding channels that use a condition must be assigned to the corresponding keyword argument in the `.encode()` method call. For example, in this case that's `color=alt.condition(...)`."
   ]
  },
  {
   "cell_type": "markdown",
   "metadata": {
    "id": "BmjAmWOptBjV"
   },
   "source": [
    "### Point selection binding\n",
    "While selection parameters may be configured statically as in the examples above, they are most powerful when bound to other components of the chart that may be manipulated interactively. Point selections may be bound to widgets, mark click/hover events, and to legend interactions.\n",
    "\n",
    "#### Binding point selections to widgets\n",
    "Point selections may be bound to input widgets. For example, let's extend the previous example to use a dropdown widget to control which country of origin is selected\n",
    "\n",
    "\n",
    "\n"
   ]
  },
  {
   "cell_type": "code",
   "execution_count": null,
   "metadata": {
    "colab": {
     "base_uri": "https://localhost:8080/",
     "height": 387
    },
    "executionInfo": {
     "elapsed": 6,
     "status": "ok",
     "timestamp": 1717162195786,
     "user": {
      "displayName": "Jon Mease",
      "userId": "14424318106531239228"
     },
     "user_tz": 240
    },
    "id": "IEVQHhFEuE8P",
    "outputId": "f171f446-7bf2-443c-d2b8-84c93e808368"
   },
   "outputs": [],
   "source": [
    "# construct dropdown (select) widget\n",
    "input_dropdown = alt.binding_select(\n",
    "    options=['Europe', 'Japan', 'USA'],\n",
    "    name='Region '\n",
    ")\n",
    "\n",
    "selection = alt.selection_point(\n",
    "    fields=['Origin'],\n",
    "    value=\"Japan\",\n",
    "    bind=input_dropdown\n",
    ")\n",
    "\n",
    "alt.Chart(cars).mark_point().encode(\n",
    "    alt.X('Horsepower'),\n",
    "    alt.Y('Miles_per_Gallon'),\n",
    "    order=alt.condition(selection, alt.value(1), alt.value(0)),\n",
    "    color=alt.condition(\n",
    "        selection,\n",
    "        alt.Color('Origin:N').scale(domain=['Europe', 'Japan', 'USA']),\n",
    "        alt.value(\"lightgrey\")\n",
    "    )\n",
    ").add_params(\n",
    "    selection\n",
    ")"
   ]
  },
  {
   "cell_type": "markdown",
   "metadata": {
    "id": "gpgxXuQd2rX8"
   },
   "source": [
    "Here's an example of binding a point selection parameter to a radio button widget, and using the selection to filter the input data to the scatter plot."
   ]
  },
  {
   "cell_type": "code",
   "execution_count": null,
   "metadata": {
    "colab": {
     "base_uri": "https://localhost:8080/",
     "height": 389
    },
    "executionInfo": {
     "elapsed": 5,
     "status": "ok",
     "timestamp": 1717162195786,
     "user": {
      "displayName": "Jon Mease",
      "userId": "14424318106531239228"
     },
     "user_tz": 240
    },
    "id": "5CyVXWU22qlI",
    "outputId": "8f105da1-e82a-49d5-9e52-13deaf98d009"
   },
   "outputs": [],
   "source": [
    "options = ['Europe', 'Japan', 'USA']\n",
    "labels = [option + ' ' for option in options]\n",
    "\n",
    "input_radio = alt.binding_radio(\n",
    "    options=options + [None],\n",
    "    labels=labels + ['All'],\n",
    "    name='Region: '\n",
    ")\n",
    "selection = alt.selection_point(\n",
    "    fields=['Origin'],\n",
    "    value=None,\n",
    "    bind=input_radio,\n",
    ")\n",
    "\n",
    "alt.Chart(cars).mark_circle(size=60).encode(\n",
    "    alt.X('Horsepower:Q'),\n",
    "    alt.Y('Miles_per_Gallon:Q'),\n",
    "    alt.Color('Origin:N').scale(domain=options),\n",
    ").add_params(\n",
    "    selection\n",
    ").transform_filter(\n",
    "    selection\n",
    ")"
   ]
  },
  {
   "cell_type": "markdown",
   "metadata": {
    "id": "RBuvrsIOt9Ug"
   },
   "source": [
    "#### Binding point selections to click/hover\n",
    "A point selection may also be bound to click or hover interactions on a mark. Here is an example that builds a point selection and uses it to control the size and color of the point that is clicked on. In addition, the `order` encoding channel is used to raise the selected point above the unselected points."
   ]
  },
  {
   "cell_type": "code",
   "execution_count": null,
   "metadata": {
    "colab": {
     "base_uri": "https://localhost:8080/",
     "height": 368
    },
    "executionInfo": {
     "elapsed": 142,
     "status": "ok",
     "timestamp": 1717162195924,
     "user": {
      "displayName": "Jon Mease",
      "userId": "14424318106531239228"
     },
     "user_tz": 240
    },
    "id": "chvE1g-svSc4",
    "outputId": "ec39afd4-7de7-4bb7-fab1-6dd434c9fff3"
   },
   "outputs": [],
   "source": [
    "selection = alt.selection_point()\n",
    "\n",
    "alt.Chart(cars).mark_circle(size=60).encode(\n",
    "    alt.X('Horsepower'),\n",
    "    alt.Y('Miles_per_Gallon'),\n",
    "    size=alt.condition(selection, alt.value(300), alt.value(60)),\n",
    "    order=alt.condition(selection, alt.value(1), alt.value(0)),\n",
    "    color=alt.condition(\n",
    "        selection,\n",
    "        alt.Color('Origin:N').scale(domain=['Europe', 'Japan', 'USA']),\n",
    "        alt.value(\"lightgrey\")\n",
    "    )\n",
    ").add_params(\n",
    "    selection\n",
    ")"
   ]
  },
  {
   "cell_type": "markdown",
   "metadata": {
    "id": "JhtTvdN9wjw5"
   },
   "source": [
    "Here are some additional options you can use with `alt.selection_point()`\n",
    "\n",
    "```python\n",
    "selection = alt.selection_point(\n",
    "    on=\"pointerover\",  # Hover instead of click\n",
    "    empty=False,       # Start with all rows unselected instead of selected\n",
    "    nearest=True,      # Activate nearest point to the cursor\n",
    ")\n",
    "```\n",
    "\n",
    "See [Vega-Altair Selection Documentation](https://altair-viz.github.io/user_guide/generated/api/altair.selection_point.html) for the full list of configuration options."
   ]
  },
  {
   "cell_type": "markdown",
   "metadata": {
    "id": "pfuIF4UfVquR"
   },
   "source": [
    "#### Fields and Encodings Arguments\n",
    "When creating point selections using `alt.selection_point`, the `fields` and `encodings` optional arguments may be used to specify how selections are made and what data they correspond to.\n",
    "\n",
    "\n",
    "##### Fields Argument\n",
    "The `fields` argument specifies which data columns will be used to build the selection predicate. This means that when a selection is made, only the data points that match the specified fields of the selected point will be considered selected.\n",
    "\n",
    "To see how this works we'll set `fields` to `Origin`, which will cause all points that match the origin of the clicked point to be selected."
   ]
  },
  {
   "cell_type": "code",
   "execution_count": null,
   "metadata": {
    "colab": {
     "base_uri": "https://localhost:8080/",
     "height": 368
    },
    "executionInfo": {
     "elapsed": 543,
     "status": "ok",
     "timestamp": 1717162196465,
     "user": {
      "displayName": "Jon Mease",
      "userId": "14424318106531239228"
     },
     "user_tz": 240
    },
    "id": "CFCFecKlXtPc",
    "outputId": "62011c96-7c04-4cf1-8892-44b25da7476e"
   },
   "outputs": [],
   "source": [
    "selection = alt.selection_point(fields=[\"Origin\"])\n",
    "\n",
    "alt.Chart(cars).mark_circle(size=60).encode(\n",
    "    alt.X('Horsepower'),\n",
    "    alt.Y('Miles_per_Gallon'),\n",
    "    size=alt.condition(selection, alt.value(300), alt.value(60)),\n",
    "    order=alt.condition(selection, alt.value(1), alt.value(0)),\n",
    "    color=alt.condition(\n",
    "        selection,\n",
    "        alt.Color('Origin:N').scale(domain=['Europe', 'Japan', 'USA']),\n",
    "        alt.value(\"lightgrey\")\n",
    "    )\n",
    ").add_params(\n",
    "    selection\n",
    ")"
   ]
  },
  {
   "cell_type": "markdown",
   "metadata": {
    "id": "Rj47gvyYX4dj"
   },
   "source": [
    "##### Encodings Argument\n",
    "As an alternative to specifying the data fields to consider in the selection, the `encodings` argument allows you to specify the visual encodings that should be used for the selection. This is useful for creating interactions based on how data is represented visually, such as by color, size, or position.\n",
    "\n",
    "Here's an example of selecting cars that match the color and size of the clicked point.\n"
   ]
  },
  {
   "cell_type": "code",
   "execution_count": null,
   "metadata": {
    "colab": {
     "base_uri": "https://localhost:8080/",
     "height": 368
    },
    "executionInfo": {
     "elapsed": 4,
     "status": "ok",
     "timestamp": 1717162196465,
     "user": {
      "displayName": "Jon Mease",
      "userId": "14424318106531239228"
     },
     "user_tz": 240
    },
    "id": "pr-vk9hvYPU3",
    "outputId": "d18dd6dc-b24d-4582-d321-eeebd7e1db14"
   },
   "outputs": [],
   "source": [
    "selection = alt.selection_point(encodings=[\"size\", \"color\"])\n",
    "\n",
    "alt.Chart(cars).mark_circle(size=60).encode(\n",
    "    alt.X('Horsepower'),\n",
    "    alt.Y('Miles_per_Gallon'),\n",
    "    alt.Size('Cylinders:O'),\n",
    "    order=alt.condition(selection, alt.value(1), alt.value(0)),\n",
    "    color=alt.condition(\n",
    "        selection,\n",
    "        alt.Color('Origin:N').scale(domain=['Europe', 'Japan', 'USA']),\n",
    "        alt.value(\"lightgrey\")\n",
    "    )\n",
    ").add_params(\n",
    "    selection\n",
    ")"
   ]
  },
  {
   "cell_type": "markdown",
   "metadata": {
    "id": "-XSvoRWBt_d0"
   },
   "source": [
    "#### Binding point selections to legend interactions\n",
    "Point selection parameters may also be bound to legends, which then allows users to drive selections by clicking on legend entries. This is a powerful way to highlight or filter data points based on categorical variables represented in the legend.\n",
    "\n",
    "A selection is bound to a legend by setting the `bind` argument to the string `'legend'`, and setting the `encodings` argument to a single element list containing the legend's encoding (e.g. `color`, `size`, etc.)."
   ]
  },
  {
   "cell_type": "code",
   "execution_count": null,
   "metadata": {
    "colab": {
     "base_uri": "https://localhost:8080/",
     "height": 368
    },
    "executionInfo": {
     "elapsed": 3,
     "status": "ok",
     "timestamp": 1717162196465,
     "user": {
      "displayName": "Jon Mease",
      "userId": "14424318106531239228"
     },
     "user_tz": 240
    },
    "id": "AyejXetdgtXw",
    "outputId": "9ddc8389-ccde-4194-d201-5eb58ad48224"
   },
   "outputs": [],
   "source": [
    "# Create a point selection bound to legend\n",
    "selection = alt.selection_point(\n",
    "    encodings=['color'],\n",
    "    bind='legend'\n",
    ")\n",
    "\n",
    "# Create chart with point selection bound to legend\n",
    "chart = alt.Chart(cars).mark_circle(size=100).encode(\n",
    "    alt.X('Horsepower'),\n",
    "    alt.Y('Miles_per_Gallon'),\n",
    "    order=alt.condition(selection, alt.value(1), alt.value(0)),\n",
    "    color=alt.condition(selection, 'Origin:N', alt.value('lightgray'))\n",
    ").add_params(\n",
    "    selection\n",
    ")\n",
    "\n",
    "chart"
   ]
  },
  {
   "cell_type": "markdown",
   "metadata": {
    "id": "gJeqt3XWiZUj"
   },
   "source": [
    "### Interval selections\n",
    "Interval selection parameters are created using `alt.selection_interval()`, and they represent predicates of the form `{lower} <= {Column} < {upper}`. When an interval selection parameter is added to a chart with `add_params`, Vega-Altair adds a rectangle mark to show the selected region. By default, this rectangle mark is draggable and may be resized using scroll zoom.\n",
    "\n",
    "Here is an example that uses an interval selection with a `condition` to control the mark's color encoding."
   ]
  },
  {
   "cell_type": "code",
   "execution_count": null,
   "metadata": {
    "colab": {
     "base_uri": "https://localhost:8080/",
     "height": 368
    },
    "executionInfo": {
     "elapsed": 207,
     "status": "ok",
     "timestamp": 1717162196670,
     "user": {
      "displayName": "Jon Mease",
      "userId": "14424318106531239228"
     },
     "user_tz": 240
    },
    "id": "MW_yT3LMjYyh",
    "outputId": "ba6cc206-f5ed-4fe0-be81-6d54909fbe9c"
   },
   "outputs": [],
   "source": [
    "# Define interval selection with initial values\n",
    "selection = alt.selection_interval(value={'x': [50, 150], 'y': [10, 30]})\n",
    "\n",
    "# Create chart with point selection bound to legend\n",
    "chart = alt.Chart(cars).mark_circle(size=100).encode(\n",
    "    alt.X('Horsepower'),\n",
    "    alt.Y('Miles_per_Gallon'),\n",
    "    color=alt.condition(selection, 'Origin:N', alt.value('lightgray'))\n",
    ").add_params(\n",
    "    selection\n",
    ")\n",
    "\n",
    "chart"
   ]
  },
  {
   "cell_type": "markdown",
   "metadata": {
    "id": "XC5DFOeLlvqo"
   },
   "source": [
    "The initial interval selection `value` is not required. If not provided, nothing will be selected in the initial chart. Additionally, the `encodings` argument may be used to customize which dimensions may be selected. For example, setting `encodings` to `[\"x\"]` will result in a horizontal box selection"
   ]
  },
  {
   "cell_type": "code",
   "execution_count": null,
   "metadata": {
    "colab": {
     "base_uri": "https://localhost:8080/",
     "height": 368
    },
    "executionInfo": {
     "elapsed": 3,
     "status": "ok",
     "timestamp": 1717162196670,
     "user": {
      "displayName": "Jon Mease",
      "userId": "14424318106531239228"
     },
     "user_tz": 240
    },
    "id": "-x2LftoHmGgv",
    "outputId": "a80e7748-db83-4528-bf9d-f3dda3cdc53e"
   },
   "outputs": [],
   "source": [
    "# Define interval selection with initial values\n",
    "selection = alt.selection_interval(encodings=[\"x\"])\n",
    "\n",
    "# Create chart with point selection bound to legend\n",
    "chart = alt.Chart(cars).mark_circle(size=100).encode(\n",
    "    alt.X('Horsepower'),\n",
    "    alt.Y('Miles_per_Gallon'),\n",
    "    color=alt.condition(selection, 'Origin:N', alt.value('lightgray'))\n",
    ").add_params(\n",
    "    selection\n",
    ")\n",
    "\n",
    "chart"
   ]
  },
  {
   "cell_type": "markdown",
   "metadata": {
    "id": "W6lPquKVm2kF"
   },
   "source": [
    "### Multi-view selections\n",
    "Selections are particularly useful in multi-view charts, where a selection on one view may be used to filter or highlight marks in other views.\n",
    "\n",
    "Here we concatenate a new scatter plot, of Acceleration vs Miles per Gallon, to the right of the scatter plot above. Because the two charts are concatenated, we can use the same selection parameter in an `alt.condition` to control the color of the new scatter plot as well."
   ]
  },
  {
   "cell_type": "code",
   "execution_count": null,
   "metadata": {
    "colab": {
     "base_uri": "https://localhost:8080/",
     "height": 370
    },
    "executionInfo": {
     "elapsed": 239,
     "status": "ok",
     "timestamp": 1717162196907,
     "user": {
      "displayName": "Jon Mease",
      "userId": "14424318106531239228"
     },
     "user_tz": 240
    },
    "id": "VbDHDFPJnH2g",
    "outputId": "85e644cc-c9f5-4f93-a933-3c3859529bad"
   },
   "outputs": [],
   "source": [
    "selection = alt.selection_interval(encodings=['x'])\n",
    "\n",
    "left_chart = alt.Chart(cars).mark_circle(size=100).encode(\n",
    "    alt.X('Horsepower'),\n",
    "    alt.Y('Miles_per_Gallon'),\n",
    "    color=alt.condition(selection, 'Origin', alt.value('lightgray'))\n",
    ").add_params(\n",
    "    selection\n",
    ")\n",
    "\n",
    "right_chart = alt.Chart(cars).mark_circle(size=100).encode(\n",
    "    alt.X('Acceleration'),\n",
    "    alt.Y('Miles_per_Gallon'),\n",
    "    color=alt.condition(selection, 'Origin', alt.value('lightgray'))\n",
    ")\n",
    "\n",
    "left_chart | right_chart"
   ]
  },
  {
   "cell_type": "markdown",
   "metadata": {
    "id": "j8GbS2lEpR5g"
   },
   "source": [
    "You may notice that currently it's only possible to make interval selections on the left chart. This is because we've only added the selection parameter to the left chart using `add_params`. The chart that the selection is added to with `add_params` is the chart that will be configured to drive the selection. As this example demonstrates, a selection may be used in `alt.condition` (or in `transform_filter()`) in any chart in the layout whether or not the selection has been added to the chart with `add_params`.\n",
    "\n",
    "We can update this example to support selection in both subplot by adding the selection parameter with `add_params` to the right chart as well."
   ]
  },
  {
   "cell_type": "code",
   "execution_count": null,
   "metadata": {
    "colab": {
     "base_uri": "https://localhost:8080/",
     "height": 370
    },
    "executionInfo": {
     "elapsed": 172,
     "status": "ok",
     "timestamp": 1717162197077,
     "user": {
      "displayName": "Jon Mease",
      "userId": "14424318106531239228"
     },
     "user_tz": 240
    },
    "id": "5aI1ClfuqXtO",
    "outputId": "52025979-992a-47e2-ba03-e50541b49991"
   },
   "outputs": [],
   "source": [
    "selection = alt.selection_interval(encodings=['x'])\n",
    "\n",
    "left_chart = alt.Chart(cars).mark_circle(size=100).encode(\n",
    "    alt.X('Horsepower'),\n",
    "    alt.Y('Miles_per_Gallon'),\n",
    "    color=alt.condition(selection, 'Origin', alt.value('lightgray'))\n",
    ").add_params(\n",
    "    selection\n",
    ")\n",
    "\n",
    "right_chart = alt.Chart(cars).mark_circle(size=100).encode(\n",
    "    alt.X('Acceleration'),\n",
    "    alt.Y('Miles_per_Gallon'),\n",
    "    color=alt.condition(selection, 'Origin', alt.value('lightgray'))\n",
    ").add_params(\n",
    "    selection\n",
    ")\n",
    "\n",
    "left_chart | right_chart"
   ]
  },
  {
   "cell_type": "markdown",
   "metadata": {
    "id": "Or5nvImotfue"
   },
   "source": [
    "Interval selections may also be bound to scales, in which case pan and zoom are activated (rather than box selection) and the selection parameter's predicate is driven by the chart's active viewport.\n",
    "\n",
    "Here's an example that places two identical scatter plots side by side. A selection parameter with `bind=\"scales\"` is added to the left chart, which\n",
    " activates pan and zoom support on this chart. The selection parameter is used inside an `alt.condition` in the right chart to control the color of points. As the user pans and zooms using the left chart, the right chart highlights the points that are in the left chart's viewport."
   ]
  },
  {
   "cell_type": "code",
   "execution_count": null,
   "metadata": {
    "colab": {
     "base_uri": "https://localhost:8080/",
     "height": 370
    },
    "executionInfo": {
     "elapsed": 6,
     "status": "ok",
     "timestamp": 1717162197078,
     "user": {
      "displayName": "Jon Mease",
      "userId": "14424318106531239228"
     },
     "user_tz": 240
    },
    "id": "onklImnOt76f",
    "outputId": "2ea8c0de-d8a5-4a34-a0f7-596d7d003fb0"
   },
   "outputs": [],
   "source": [
    "selection = alt.selection_interval(bind=\"scales\")\n",
    "\n",
    "left_chart = alt.Chart(cars).mark_circle(size=100).encode(\n",
    "    alt.X('Horsepower'),\n",
    "    alt.Y('Miles_per_Gallon'),\n",
    "    alt.Color('Origin'),\n",
    ").add_params(\n",
    "    selection\n",
    ")\n",
    "\n",
    "right_chart = alt.Chart(cars).mark_circle(size=100).encode(\n",
    "    alt.X('Horsepower'),\n",
    "    alt.Y('Miles_per_Gallon'),\n",
    "    color=alt.condition(selection, 'Origin', alt.value('lightgray'))\n",
    ")\n",
    "\n",
    "(left_chart | right_chart).properties(bounds=\"flush\", spacing=60)"
   ]
  },
  {
   "cell_type": "markdown",
   "metadata": {
    "id": "2gw5GeSH05-S"
   },
   "source": [
    "> **Note:** The `.interactive()` method described earlier is actually just a shortcut for creating an interval selection parameter and adding it to the chart!"
   ]
  },
  {
   "cell_type": "markdown",
   "metadata": {
    "id": "0cMV4LRTqlsH"
   },
   "source": [
    "Here's another mutli-view example that uses an interval selection in the top scatter plot to filter the inputs to the bar chart below."
   ]
  },
  {
   "cell_type": "code",
   "execution_count": null,
   "metadata": {
    "colab": {
     "base_uri": "https://localhost:8080/",
     "height": 484
    },
    "executionInfo": {
     "elapsed": 5,
     "status": "ok",
     "timestamp": 1717162197078,
     "user": {
      "displayName": "Jon Mease",
      "userId": "14424318106531239228"
     },
     "user_tz": 240
    },
    "id": "b2CByKO0rDuK",
    "outputId": "81e941b1-0fa9-4fa9-bb52-d1bf46dd7fcc"
   },
   "outputs": [],
   "source": [
    "selection = alt.selection_interval()\n",
    "\n",
    "scatter = alt.Chart(cars).mark_circle(size=100).encode(\n",
    "    alt.X('Horsepower'),\n",
    "    alt.Y('Miles_per_Gallon'),\n",
    "    color=alt.condition(selection, 'Origin', alt.value('lightgray'))\n",
    ").add_params(\n",
    "    selection\n",
    ")\n",
    "\n",
    "bars = alt.Chart(cars).mark_bar().encode(\n",
    "    alt.X('count(Origin)').scale(domain=[0,260]),\n",
    "    alt.Y('Origin').scale(domain=[\"Europe\", \"Japan\", \"USA\"]),\n",
    "    alt.Color('Origin'),\n",
    ").transform_filter(\n",
    "    selection\n",
    ")\n",
    "\n",
    "scatter & bars"
   ]
  },
  {
   "cell_type": "markdown",
   "metadata": {
    "id": "2iFGgkaM3qIC"
   },
   "source": [
    "## Jupyter Widget Integration\n",
    "A powerful feature of Vega-Altair's support for interactivity is that it is implemented entirely in JavaScript, so these interactions work without a Python kernel (e.g. in the Vega Editor).  Sometimes, however, it's really useful to have access to a chart's interactive state in Python in order to use selections to drive other Python logic.\n",
    "\n",
    "This is possible using [`JupyterChart`](https://altair-viz.github.io/user_guide/jupyter_chart.html), which is built on top of [Jupyter Widgets](https://ipywidgets.readthedocs.io/en/latest/) using [AnyWidget](https://anywidget.dev/).\n",
    "\n",
    "\n",
    "Here is an example of accessing an interval selection from Python. Note that it's important to name the selection so that it's easy to look up in the `jchart.selections` object."
   ]
  },
  {
   "cell_type": "code",
   "execution_count": null,
   "metadata": {
    "colab": {
     "base_uri": "https://localhost:8080/",
     "height": 368,
     "referenced_widgets": [
      "82466e7584014cc8913a0d8a0e742b7a",
      "c5ecebdeec6845febe35aea9c3d61755"
     ]
    },
    "executionInfo": {
     "elapsed": 656,
     "status": "ok",
     "timestamp": 1717162616775,
     "user": {
      "displayName": "Jon Mease",
      "userId": "14424318106531239228"
     },
     "user_tz": 240
    },
    "id": "GVNqiXVRj5-m",
    "outputId": "e3e08665-6ffc-44a0-f6e2-0021a1595454"
   },
   "outputs": [],
   "source": [
    "brush = alt.selection_interval(name=\"brush\")\n",
    "\n",
    "chart = alt.Chart(cars).mark_point().encode(\n",
    "    x='Horsepower:Q',\n",
    "    y='Miles_per_Gallon:Q',\n",
    "    color=alt.condition(brush, 'Cylinders:O', alt.value('grey')),\n",
    ").add_params(brush)\n",
    "\n",
    "jchart = alt.JupyterChart(chart)\n",
    "jchart"
   ]
  },
  {
   "cell_type": "code",
   "execution_count": null,
   "metadata": {
    "colab": {
     "base_uri": "https://localhost:8080/"
    },
    "executionInfo": {
     "elapsed": 5,
     "status": "ok",
     "timestamp": 1717162623284,
     "user": {
      "displayName": "Jon Mease",
      "userId": "14424318106531239228"
     },
     "user_tz": 240
    },
    "id": "hFmAM6zLkQAl",
    "outputId": "c000d3dc-0d8a-4a51-b8b1-9bc6c15be858"
   },
   "outputs": [],
   "source": [
    "jchart.selections.brush.value\n"
   ]
  },
  {
   "cell_type": "markdown",
   "metadata": {
    "id": "p6IMDlao3rJi"
   },
   "source": [
    "Here's a more complex example that uses the selection to filter a pandas DataFrame, then display that filtered pandas DataFrame below that chart in a separate widget."
   ]
  },
  {
   "cell_type": "code",
   "execution_count": null,
   "metadata": {
    "colab": {
     "base_uri": "https://localhost:8080/",
     "height": 619,
     "referenced_widgets": [
      "2884f51bddca46b093ce30fc734de58c",
      "230539b46b4c4d64902a6c3f955cf006",
      "e0db6d9b928b4accb840bec4c7239bcf",
      "e2855085fcc947c682b07fe73ad64d7d",
      "2980cff7fe544704bb621365c1d0d277",
      "9b86bc2e69e940199eeb7c86bbc4634e",
      "344083d3034f4f69863da9c19adea9ec"
     ]
    },
    "executionInfo": {
     "elapsed": 390,
     "status": "ok",
     "timestamp": 1717162495991,
     "user": {
      "displayName": "Jon Mease",
      "userId": "14424318106531239228"
     },
     "user_tz": 240
    },
    "id": "Gyd1R3Mw1vkY",
    "outputId": "149c6c5f-f6c2-4acb-e512-7005c7ab543c"
   },
   "outputs": [],
   "source": [
    "from ipywidgets import HTML, VBox\n",
    "\n",
    "cars = data.cars()\n",
    "brush = alt.selection_interval(name=\"brush\")\n",
    "\n",
    "chart_widget = alt.JupyterChart(alt.Chart(cars).mark_point().encode(\n",
    "    x='Horsepower:Q',\n",
    "    y='Miles_per_Gallon:Q',\n",
    "    color=alt.condition(brush, 'Cylinders:O', alt.value('grey')),\n",
    ").add_params(brush))\n",
    "\n",
    "table_widget = HTML(value=cars.iloc[:0].to_html())\n",
    "\n",
    "def on_select(change):\n",
    "    sel = change.new.value\n",
    "    if sel is None or 'Horsepower' not in sel:\n",
    "        filtered = cars.iloc[:0]\n",
    "    else:\n",
    "        filter_query = (\n",
    "            f\"{sel['Horsepower'][0]} <= `Horsepower` <= {sel['Horsepower'][1]} and \"\n",
    "            f\"{sel['Miles_per_Gallon'][0]} <= `Miles_per_Gallon` <= {sel['Miles_per_Gallon'][1]}\"\n",
    "        )\n",
    "        filtered = cars.query(filter_query)\n",
    "\n",
    "    table_widget.value = filtered.to_html()\n",
    "\n",
    "chart_widget.selections.observe(on_select, [\"brush\"])\n",
    "\n",
    "VBox([chart_widget, table_widget])"
   ]
  }
 ],
 "metadata": {
  "colab": {
   "collapsed_sections": [
    "cS6ADQunL1Pr"
   ],
   "provenance": []
  },
  "kernelspec": {
   "display_name": "Python 3 (ipykernel)",
   "language": "python",
   "name": "python3"
  },
  "language_info": {
   "codemirror_mode": {
    "name": "ipython",
    "version": 3
   },
   "file_extension": ".py",
   "mimetype": "text/x-python",
   "name": "python",
   "nbconvert_exporter": "python",
   "pygments_lexer": "ipython3",
   "version": "3.12.1"
  },
  "widgets": {
   "application/vnd.jupyter.widget-state+json": {
    "230539b46b4c4d64902a6c3f955cf006": {
     "model_module": "anywidget",
     "model_module_version": "~0.9.*",
     "model_name": "AnyModel",
     "state": {
      "_anywidget_id": "altair.jupyter.jupyter_chart.JupyterChart",
      "_css": "\n    .vega-embed {\n        /* Make sure action menu isn't cut off */\n        overflow: visible;\n    }\n    ",
      "_dom_classes": [],
      "_esm": "import vegaEmbed from \"https://esm.sh/vega-embed@6?deps=vega@5&deps=vega-lite@5.17.0\";\nimport lodashDebounce from \"https://esm.sh/lodash-es@4.17.21/debounce\";\n\n// Note: For offline support, the import lines above are removed and the remaining script\n// is bundled using vl-convert's javascript_bundle function. See the documentation of\n// the javascript_bundle function for details on the available imports and their names.\n// If an additional import is required in the future, it will need to be added to vl-convert\n// in order to preserve offline support.\nasync function render({ model, el }) {\n    let finalize;\n\n    function showError(error){\n        el.innerHTML = (\n            '<div style=\"color:red;\">'\n            + '<p>JavaScript Error: ' + error.message + '</p>'\n            + \"<p>This usually means there's a typo in your chart specification. \"\n            + \"See the javascript console for the full traceback.</p>\"\n            + '</div>'\n        );\n    }\n\n    const reembed = async () => {\n        if (finalize != null) {\n          finalize();\n        }\n\n        model.set(\"local_tz\", Intl.DateTimeFormat().resolvedOptions().timeZone);\n\n        let spec = structuredClone(model.get(\"spec\"));\n        if (spec == null) {\n            // Remove any existing chart and return\n            while (el.firstChild) {\n                el.removeChild(el.lastChild);\n            }\n            model.save_changes();\n            return;\n        }\n        let embedOptions = structuredClone(model.get(\"embed_options\")) ?? undefined;\n\n        let api;\n        try {\n            api = await vegaEmbed(el, spec, embedOptions);\n        } catch (error) {\n            showError(error)\n            return;\n        }\n\n        finalize = api.finalize;\n\n        // Debounce config\n        const wait = model.get(\"debounce_wait\") ?? 10;\n        const debounceOpts = {leading: false, trailing: true};\n        if (model.get(\"max_wait\") ?? true) {\n            debounceOpts[\"maxWait\"] = wait;\n        }\n\n        const initialSelections = {};\n        for (const selectionName of Object.keys(model.get(\"_vl_selections\"))) {\n            const storeName = `${selectionName}_store`;\n            const selectionHandler = (_, value) => {\n                const newSelections = cleanJson(model.get(\"_vl_selections\") ?? {});\n                const store = cleanJson(api.view.data(storeName) ?? []);\n\n                newSelections[selectionName] = {value, store};\n                model.set(\"_vl_selections\", newSelections);\n                model.save_changes();\n            };\n            api.view.addSignalListener(selectionName, lodashDebounce(selectionHandler, wait, debounceOpts));\n\n            initialSelections[selectionName] = {\n                value: cleanJson(api.view.signal(selectionName) ?? {}),\n                store: cleanJson(api.view.data(storeName) ?? [])\n            }\n        }\n        model.set(\"_vl_selections\", initialSelections);\n\n        const initialParams = {};\n        for (const paramName of Object.keys(model.get(\"_params\"))) {\n            const paramHandler = (_, value) => {\n                const newParams = JSON.parse(JSON.stringify(model.get(\"_params\"))) || {};\n                newParams[paramName] = value;\n                model.set(\"_params\", newParams);\n                model.save_changes();\n            };\n            api.view.addSignalListener(paramName, lodashDebounce(paramHandler, wait, debounceOpts));\n\n            initialParams[paramName] = api.view.signal(paramName) ?? null\n        }\n        model.set(\"_params\", initialParams);\n        model.save_changes();\n\n        // Param change callback\n        model.on('change:_params', async (new_params) => {\n            for (const [param, value] of Object.entries(new_params.changed._params)) {\n                api.view.signal(param, value);\n            }\n            await api.view.runAsync();\n        });\n\n        // Add signal/data listeners\n        for (const watch of model.get(\"_js_watch_plan\") ?? []) {\n            if (watch.namespace === \"data\") {\n                const dataHandler = (_, value) => {\n                    model.set(\"_js_to_py_updates\", [{\n                        namespace: \"data\",\n                        name: watch.name,\n                        scope: watch.scope,\n                        value: cleanJson(value)\n                    }]);\n                    model.save_changes();\n                };\n                addDataListener(api.view, watch.name, watch.scope, lodashDebounce(dataHandler, wait, debounceOpts))\n\n            } else if (watch.namespace === \"signal\") {\n                const signalHandler = (_, value) => {\n                    model.set(\"_js_to_py_updates\", [{\n                        namespace: \"signal\",\n                        name: watch.name,\n                        scope: watch.scope,\n                        value: cleanJson(value)\n                    }]);\n                    model.save_changes();\n                };\n\n                addSignalListener(api.view, watch.name, watch.scope, lodashDebounce(signalHandler, wait, debounceOpts))\n            }\n        }\n\n        // Add signal/data updaters\n        model.on('change:_py_to_js_updates', async (updates) => {\n            for (const update of updates.changed._py_to_js_updates ?? []) {\n                if (update.namespace === \"signal\") {\n                    setSignalValue(api.view, update.name, update.scope, update.value);\n                } else if (update.namespace === \"data\") {\n                    setDataValue(api.view, update.name, update.scope, update.value);\n                }\n            }\n            await api.view.runAsync();\n        });\n    }\n\n    model.on('change:spec', reembed);\n    model.on('change:embed_options', reembed);\n    model.on('change:debounce_wait', reembed);\n    model.on('change:max_wait', reembed);\n    await reembed();\n}\n\nfunction cleanJson(data) {\n    return JSON.parse(JSON.stringify(data))\n}\n\nfunction getNestedRuntime(view, scope) {\n    var runtime = view._runtime;\n    for (const index of scope) {\n        runtime = runtime.subcontext[index];\n    }\n    return runtime\n}\n\nfunction lookupSignalOp(view, name, scope) {\n    let parent_runtime = getNestedRuntime(view, scope);\n    return parent_runtime.signals[name] ?? null;\n}\n\nfunction dataRef(view, name, scope) {\n    let parent_runtime = getNestedRuntime(view, scope);\n    return parent_runtime.data[name];\n}\n\nexport function setSignalValue(view, name, scope, value) {\n    let signal_op = lookupSignalOp(view, name, scope);\n    view.update(signal_op, value);\n}\n\nexport function setDataValue(view, name, scope, value) {\n    let dataset = dataRef(view, name, scope);\n    let changeset = view.changeset().remove(() => true).insert(value)\n    dataset.modified = true;\n    view.pulse(dataset.input, changeset);\n}\n\nexport function addSignalListener(view, name, scope, handler) {\n    let signal_op = lookupSignalOp(view, name, scope);\n    return addOperatorListener(\n        view,\n        name,\n        signal_op,\n        handler,\n    );\n}\n\nexport function addDataListener(view, name, scope, handler) {\n    let dataset = dataRef(view, name, scope).values;\n    return addOperatorListener(\n        view,\n        name,\n        dataset,\n        handler,\n    );\n}\n\n// Private helpers from Vega for dealing with nested signals/data\nfunction findOperatorHandler(op, handler) {\n    const h = (op._targets || [])\n        .filter(op => op._update && op._update.handler === handler);\n    return h.length ? h[0] : null;\n}\n\nfunction addOperatorListener(view, name, op, handler) {\n    let h = findOperatorHandler(op, handler);\n    if (!h) {\n        h = trap(view, () => handler(name, op.value));\n        h.handler = handler;\n        view.on(op, null, h);\n    }\n    return view;\n}\n\nfunction trap(view, fn) {\n    return !fn ? null : function() {\n        try {\n            fn.apply(this, arguments);\n        } catch (error) {\n            view.error(error);\n        }\n    };\n}\n\nexport default { render }\n",
      "_js_to_py_updates": null,
      "_js_watch_plan": null,
      "_model_module": "anywidget",
      "_model_module_version": "~0.9.*",
      "_model_name": "AnyModel",
      "_params": {},
      "_py_to_js_updates": null,
      "_view_count": null,
      "_view_module": "anywidget",
      "_view_module_version": "~0.9.*",
      "_view_name": "AnyView",
      "_vl_selections": {
       "brush": {
        "store": [
         {
          "fields": [
           {
            "channel": "x",
            "field": "Horsepower",
            "type": "R"
           },
           {
            "channel": "y",
            "field": "Miles_per_Gallon",
            "type": "R"
           }
          ],
          "unit": "",
          "values": [
           [
            202.825,
            238.9375
           ],
           [
            18.658854166666668,
            13.0859375
           ]
          ]
         }
        ],
        "value": {
         "Horsepower": [
          202.825,
          238.9375
         ],
         "Miles_per_Gallon": [
          13.0859375,
          18.658854166666668
         ]
        }
       }
      },
      "debounce_wait": 10,
      "embed_options": null,
      "layout": "IPY_MODEL_344083d3034f4f69863da9c19adea9ec",
      "local_tz": "America/New_York",
      "max_wait": true,
      "spec": {
       "$schema": "https://vega.github.io/schema/vega-lite/v5.17.0.json",
       "config": {
        "view": {
         "continuousHeight": 300,
         "continuousWidth": 300
        }
       },
       "data": {
        "name": "data-583e73726c1545c56c203344161a975c"
       },
       "datasets": {
        "data-583e73726c1545c56c203344161a975c": [
         {
          "Acceleration": 12,
          "Cylinders": 8,
          "Displacement": 307,
          "Horsepower": 130,
          "Miles_per_Gallon": 18,
          "Name": "chevrolet chevelle malibu",
          "Origin": "USA",
          "Weight_in_lbs": 3504,
          "Year": "1970-01-01T00:00:00"
         },
         {
          "Acceleration": 11.5,
          "Cylinders": 8,
          "Displacement": 350,
          "Horsepower": 165,
          "Miles_per_Gallon": 15,
          "Name": "buick skylark 320",
          "Origin": "USA",
          "Weight_in_lbs": 3693,
          "Year": "1970-01-01T00:00:00"
         },
         {
          "Acceleration": 11,
          "Cylinders": 8,
          "Displacement": 318,
          "Horsepower": 150,
          "Miles_per_Gallon": 18,
          "Name": "plymouth satellite",
          "Origin": "USA",
          "Weight_in_lbs": 3436,
          "Year": "1970-01-01T00:00:00"
         },
         {
          "Acceleration": 12,
          "Cylinders": 8,
          "Displacement": 304,
          "Horsepower": 150,
          "Miles_per_Gallon": 16,
          "Name": "amc rebel sst",
          "Origin": "USA",
          "Weight_in_lbs": 3433,
          "Year": "1970-01-01T00:00:00"
         },
         {
          "Acceleration": 10.5,
          "Cylinders": 8,
          "Displacement": 302,
          "Horsepower": 140,
          "Miles_per_Gallon": 17,
          "Name": "ford torino",
          "Origin": "USA",
          "Weight_in_lbs": 3449,
          "Year": "1970-01-01T00:00:00"
         },
         {
          "Acceleration": 10,
          "Cylinders": 8,
          "Displacement": 429,
          "Horsepower": 198,
          "Miles_per_Gallon": 15,
          "Name": "ford galaxie 500",
          "Origin": "USA",
          "Weight_in_lbs": 4341,
          "Year": "1970-01-01T00:00:00"
         },
         {
          "Acceleration": 9,
          "Cylinders": 8,
          "Displacement": 454,
          "Horsepower": 220,
          "Miles_per_Gallon": 14,
          "Name": "chevrolet impala",
          "Origin": "USA",
          "Weight_in_lbs": 4354,
          "Year": "1970-01-01T00:00:00"
         },
         {
          "Acceleration": 8.5,
          "Cylinders": 8,
          "Displacement": 440,
          "Horsepower": 215,
          "Miles_per_Gallon": 14,
          "Name": "plymouth fury iii",
          "Origin": "USA",
          "Weight_in_lbs": 4312,
          "Year": "1970-01-01T00:00:00"
         },
         {
          "Acceleration": 10,
          "Cylinders": 8,
          "Displacement": 455,
          "Horsepower": 225,
          "Miles_per_Gallon": 14,
          "Name": "pontiac catalina",
          "Origin": "USA",
          "Weight_in_lbs": 4425,
          "Year": "1970-01-01T00:00:00"
         },
         {
          "Acceleration": 8.5,
          "Cylinders": 8,
          "Displacement": 390,
          "Horsepower": 190,
          "Miles_per_Gallon": 15,
          "Name": "amc ambassador dpl",
          "Origin": "USA",
          "Weight_in_lbs": 3850,
          "Year": "1970-01-01T00:00:00"
         },
         {
          "Acceleration": 17.5,
          "Cylinders": 4,
          "Displacement": 133,
          "Horsepower": 115,
          "Miles_per_Gallon": null,
          "Name": "citroen ds-21 pallas",
          "Origin": "Europe",
          "Weight_in_lbs": 3090,
          "Year": "1970-01-01T00:00:00"
         },
         {
          "Acceleration": 11.5,
          "Cylinders": 8,
          "Displacement": 350,
          "Horsepower": 165,
          "Miles_per_Gallon": null,
          "Name": "chevrolet chevelle concours (sw)",
          "Origin": "USA",
          "Weight_in_lbs": 4142,
          "Year": "1970-01-01T00:00:00"
         },
         {
          "Acceleration": 11,
          "Cylinders": 8,
          "Displacement": 351,
          "Horsepower": 153,
          "Miles_per_Gallon": null,
          "Name": "ford torino (sw)",
          "Origin": "USA",
          "Weight_in_lbs": 4034,
          "Year": "1970-01-01T00:00:00"
         },
         {
          "Acceleration": 10.5,
          "Cylinders": 8,
          "Displacement": 383,
          "Horsepower": 175,
          "Miles_per_Gallon": null,
          "Name": "plymouth satellite (sw)",
          "Origin": "USA",
          "Weight_in_lbs": 4166,
          "Year": "1970-01-01T00:00:00"
         },
         {
          "Acceleration": 11,
          "Cylinders": 8,
          "Displacement": 360,
          "Horsepower": 175,
          "Miles_per_Gallon": null,
          "Name": "amc rebel sst (sw)",
          "Origin": "USA",
          "Weight_in_lbs": 3850,
          "Year": "1970-01-01T00:00:00"
         },
         {
          "Acceleration": 10,
          "Cylinders": 8,
          "Displacement": 383,
          "Horsepower": 170,
          "Miles_per_Gallon": 15,
          "Name": "dodge challenger se",
          "Origin": "USA",
          "Weight_in_lbs": 3563,
          "Year": "1970-01-01T00:00:00"
         },
         {
          "Acceleration": 8,
          "Cylinders": 8,
          "Displacement": 340,
          "Horsepower": 160,
          "Miles_per_Gallon": 14,
          "Name": "plymouth 'cuda 340",
          "Origin": "USA",
          "Weight_in_lbs": 3609,
          "Year": "1970-01-01T00:00:00"
         },
         {
          "Acceleration": 8,
          "Cylinders": 8,
          "Displacement": 302,
          "Horsepower": 140,
          "Miles_per_Gallon": null,
          "Name": "ford mustang boss 302",
          "Origin": "USA",
          "Weight_in_lbs": 3353,
          "Year": "1970-01-01T00:00:00"
         },
         {
          "Acceleration": 9.5,
          "Cylinders": 8,
          "Displacement": 400,
          "Horsepower": 150,
          "Miles_per_Gallon": 15,
          "Name": "chevrolet monte carlo",
          "Origin": "USA",
          "Weight_in_lbs": 3761,
          "Year": "1970-01-01T00:00:00"
         },
         {
          "Acceleration": 10,
          "Cylinders": 8,
          "Displacement": 455,
          "Horsepower": 225,
          "Miles_per_Gallon": 14,
          "Name": "buick estate wagon (sw)",
          "Origin": "USA",
          "Weight_in_lbs": 3086,
          "Year": "1970-01-01T00:00:00"
         },
         {
          "Acceleration": 15,
          "Cylinders": 4,
          "Displacement": 113,
          "Horsepower": 95,
          "Miles_per_Gallon": 24,
          "Name": "toyota corona mark ii",
          "Origin": "Japan",
          "Weight_in_lbs": 2372,
          "Year": "1970-01-01T00:00:00"
         },
         {
          "Acceleration": 15.5,
          "Cylinders": 6,
          "Displacement": 198,
          "Horsepower": 95,
          "Miles_per_Gallon": 22,
          "Name": "plymouth duster",
          "Origin": "USA",
          "Weight_in_lbs": 2833,
          "Year": "1970-01-01T00:00:00"
         },
         {
          "Acceleration": 15.5,
          "Cylinders": 6,
          "Displacement": 199,
          "Horsepower": 97,
          "Miles_per_Gallon": 18,
          "Name": "amc hornet",
          "Origin": "USA",
          "Weight_in_lbs": 2774,
          "Year": "1970-01-01T00:00:00"
         },
         {
          "Acceleration": 16,
          "Cylinders": 6,
          "Displacement": 200,
          "Horsepower": 85,
          "Miles_per_Gallon": 21,
          "Name": "ford maverick",
          "Origin": "USA",
          "Weight_in_lbs": 2587,
          "Year": "1970-01-01T00:00:00"
         },
         {
          "Acceleration": 14.5,
          "Cylinders": 4,
          "Displacement": 97,
          "Horsepower": 88,
          "Miles_per_Gallon": 27,
          "Name": "datsun pl510",
          "Origin": "Japan",
          "Weight_in_lbs": 2130,
          "Year": "1970-01-01T00:00:00"
         },
         {
          "Acceleration": 20.5,
          "Cylinders": 4,
          "Displacement": 97,
          "Horsepower": 46,
          "Miles_per_Gallon": 26,
          "Name": "volkswagen 1131 deluxe sedan",
          "Origin": "Europe",
          "Weight_in_lbs": 1835,
          "Year": "1970-01-01T00:00:00"
         },
         {
          "Acceleration": 17.5,
          "Cylinders": 4,
          "Displacement": 110,
          "Horsepower": 87,
          "Miles_per_Gallon": 25,
          "Name": "peugeot 504",
          "Origin": "Europe",
          "Weight_in_lbs": 2672,
          "Year": "1970-01-01T00:00:00"
         },
         {
          "Acceleration": 14.5,
          "Cylinders": 4,
          "Displacement": 107,
          "Horsepower": 90,
          "Miles_per_Gallon": 24,
          "Name": "audi 100 ls",
          "Origin": "Europe",
          "Weight_in_lbs": 2430,
          "Year": "1970-01-01T00:00:00"
         },
         {
          "Acceleration": 17.5,
          "Cylinders": 4,
          "Displacement": 104,
          "Horsepower": 95,
          "Miles_per_Gallon": 25,
          "Name": "saab 99e",
          "Origin": "Europe",
          "Weight_in_lbs": 2375,
          "Year": "1970-01-01T00:00:00"
         },
         {
          "Acceleration": 12.5,
          "Cylinders": 4,
          "Displacement": 121,
          "Horsepower": 113,
          "Miles_per_Gallon": 26,
          "Name": "bmw 2002",
          "Origin": "Europe",
          "Weight_in_lbs": 2234,
          "Year": "1970-01-01T00:00:00"
         },
         {
          "Acceleration": 15,
          "Cylinders": 6,
          "Displacement": 199,
          "Horsepower": 90,
          "Miles_per_Gallon": 21,
          "Name": "amc gremlin",
          "Origin": "USA",
          "Weight_in_lbs": 2648,
          "Year": "1970-01-01T00:00:00"
         },
         {
          "Acceleration": 14,
          "Cylinders": 8,
          "Displacement": 360,
          "Horsepower": 215,
          "Miles_per_Gallon": 10,
          "Name": "ford f250",
          "Origin": "USA",
          "Weight_in_lbs": 4615,
          "Year": "1970-01-01T00:00:00"
         },
         {
          "Acceleration": 15,
          "Cylinders": 8,
          "Displacement": 307,
          "Horsepower": 200,
          "Miles_per_Gallon": 10,
          "Name": "chevy c20",
          "Origin": "USA",
          "Weight_in_lbs": 4376,
          "Year": "1970-01-01T00:00:00"
         },
         {
          "Acceleration": 13.5,
          "Cylinders": 8,
          "Displacement": 318,
          "Horsepower": 210,
          "Miles_per_Gallon": 11,
          "Name": "dodge d200",
          "Origin": "USA",
          "Weight_in_lbs": 4382,
          "Year": "1970-01-01T00:00:00"
         },
         {
          "Acceleration": 18.5,
          "Cylinders": 8,
          "Displacement": 304,
          "Horsepower": 193,
          "Miles_per_Gallon": 9,
          "Name": "hi 1200d",
          "Origin": "USA",
          "Weight_in_lbs": 4732,
          "Year": "1970-01-01T00:00:00"
         },
         {
          "Acceleration": 14.5,
          "Cylinders": 4,
          "Displacement": 97,
          "Horsepower": 88,
          "Miles_per_Gallon": 27,
          "Name": "datsun pl510",
          "Origin": "Japan",
          "Weight_in_lbs": 2130,
          "Year": "1971-01-01T00:00:00"
         },
         {
          "Acceleration": 15.5,
          "Cylinders": 4,
          "Displacement": 140,
          "Horsepower": 90,
          "Miles_per_Gallon": 28,
          "Name": "chevrolet vega 2300",
          "Origin": "USA",
          "Weight_in_lbs": 2264,
          "Year": "1971-01-01T00:00:00"
         },
         {
          "Acceleration": 14,
          "Cylinders": 4,
          "Displacement": 113,
          "Horsepower": 95,
          "Miles_per_Gallon": 25,
          "Name": "toyota corona",
          "Origin": "Japan",
          "Weight_in_lbs": 2228,
          "Year": "1971-01-01T00:00:00"
         },
         {
          "Acceleration": 19,
          "Cylinders": 4,
          "Displacement": 98,
          "Horsepower": null,
          "Miles_per_Gallon": 25,
          "Name": "ford pinto",
          "Origin": "USA",
          "Weight_in_lbs": 2046,
          "Year": "1971-01-01T00:00:00"
         },
         {
          "Acceleration": 20,
          "Cylinders": 4,
          "Displacement": 97,
          "Horsepower": 48,
          "Miles_per_Gallon": null,
          "Name": "volkswagen super beetle 117",
          "Origin": "Europe",
          "Weight_in_lbs": 1978,
          "Year": "1971-01-01T00:00:00"
         },
         {
          "Acceleration": 13,
          "Cylinders": 6,
          "Displacement": 232,
          "Horsepower": 100,
          "Miles_per_Gallon": 19,
          "Name": "amc gremlin",
          "Origin": "USA",
          "Weight_in_lbs": 2634,
          "Year": "1971-01-01T00:00:00"
         },
         {
          "Acceleration": 15.5,
          "Cylinders": 6,
          "Displacement": 225,
          "Horsepower": 105,
          "Miles_per_Gallon": 16,
          "Name": "plymouth satellite custom",
          "Origin": "USA",
          "Weight_in_lbs": 3439,
          "Year": "1971-01-01T00:00:00"
         },
         {
          "Acceleration": 15.5,
          "Cylinders": 6,
          "Displacement": 250,
          "Horsepower": 100,
          "Miles_per_Gallon": 17,
          "Name": "chevrolet chevelle malibu",
          "Origin": "USA",
          "Weight_in_lbs": 3329,
          "Year": "1971-01-01T00:00:00"
         },
         {
          "Acceleration": 15.5,
          "Cylinders": 6,
          "Displacement": 250,
          "Horsepower": 88,
          "Miles_per_Gallon": 19,
          "Name": "ford torino 500",
          "Origin": "USA",
          "Weight_in_lbs": 3302,
          "Year": "1971-01-01T00:00:00"
         },
         {
          "Acceleration": 15.5,
          "Cylinders": 6,
          "Displacement": 232,
          "Horsepower": 100,
          "Miles_per_Gallon": 18,
          "Name": "amc matador",
          "Origin": "USA",
          "Weight_in_lbs": 3288,
          "Year": "1971-01-01T00:00:00"
         },
         {
          "Acceleration": 12,
          "Cylinders": 8,
          "Displacement": 350,
          "Horsepower": 165,
          "Miles_per_Gallon": 14,
          "Name": "chevrolet impala",
          "Origin": "USA",
          "Weight_in_lbs": 4209,
          "Year": "1971-01-01T00:00:00"
         },
         {
          "Acceleration": 11.5,
          "Cylinders": 8,
          "Displacement": 400,
          "Horsepower": 175,
          "Miles_per_Gallon": 14,
          "Name": "pontiac catalina brougham",
          "Origin": "USA",
          "Weight_in_lbs": 4464,
          "Year": "1971-01-01T00:00:00"
         },
         {
          "Acceleration": 13.5,
          "Cylinders": 8,
          "Displacement": 351,
          "Horsepower": 153,
          "Miles_per_Gallon": 14,
          "Name": "ford galaxie 500",
          "Origin": "USA",
          "Weight_in_lbs": 4154,
          "Year": "1971-01-01T00:00:00"
         },
         {
          "Acceleration": 13,
          "Cylinders": 8,
          "Displacement": 318,
          "Horsepower": 150,
          "Miles_per_Gallon": 14,
          "Name": "plymouth fury iii",
          "Origin": "USA",
          "Weight_in_lbs": 4096,
          "Year": "1971-01-01T00:00:00"
         },
         {
          "Acceleration": 11.5,
          "Cylinders": 8,
          "Displacement": 383,
          "Horsepower": 180,
          "Miles_per_Gallon": 12,
          "Name": "dodge monaco (sw)",
          "Origin": "USA",
          "Weight_in_lbs": 4955,
          "Year": "1971-01-01T00:00:00"
         },
         {
          "Acceleration": 12,
          "Cylinders": 8,
          "Displacement": 400,
          "Horsepower": 170,
          "Miles_per_Gallon": 13,
          "Name": "ford country squire (sw)",
          "Origin": "USA",
          "Weight_in_lbs": 4746,
          "Year": "1971-01-01T00:00:00"
         },
         {
          "Acceleration": 12,
          "Cylinders": 8,
          "Displacement": 400,
          "Horsepower": 175,
          "Miles_per_Gallon": 13,
          "Name": "pontiac safari (sw)",
          "Origin": "USA",
          "Weight_in_lbs": 5140,
          "Year": "1971-01-01T00:00:00"
         },
         {
          "Acceleration": 13.5,
          "Cylinders": 6,
          "Displacement": 258,
          "Horsepower": 110,
          "Miles_per_Gallon": 18,
          "Name": "amc hornet sportabout (sw)",
          "Origin": "USA",
          "Weight_in_lbs": 2962,
          "Year": "1971-01-01T00:00:00"
         },
         {
          "Acceleration": 19,
          "Cylinders": 4,
          "Displacement": 140,
          "Horsepower": 72,
          "Miles_per_Gallon": 22,
          "Name": "chevrolet vega (sw)",
          "Origin": "USA",
          "Weight_in_lbs": 2408,
          "Year": "1971-01-01T00:00:00"
         },
         {
          "Acceleration": 15,
          "Cylinders": 6,
          "Displacement": 250,
          "Horsepower": 100,
          "Miles_per_Gallon": 19,
          "Name": "pontiac firebird",
          "Origin": "USA",
          "Weight_in_lbs": 3282,
          "Year": "1971-01-01T00:00:00"
         },
         {
          "Acceleration": 14.5,
          "Cylinders": 6,
          "Displacement": 250,
          "Horsepower": 88,
          "Miles_per_Gallon": 18,
          "Name": "ford mustang",
          "Origin": "USA",
          "Weight_in_lbs": 3139,
          "Year": "1971-01-01T00:00:00"
         },
         {
          "Acceleration": 14,
          "Cylinders": 4,
          "Displacement": 122,
          "Horsepower": 86,
          "Miles_per_Gallon": 23,
          "Name": "mercury capri 2000",
          "Origin": "USA",
          "Weight_in_lbs": 2220,
          "Year": "1971-01-01T00:00:00"
         },
         {
          "Acceleration": 14,
          "Cylinders": 4,
          "Displacement": 116,
          "Horsepower": 90,
          "Miles_per_Gallon": 28,
          "Name": "opel 1900",
          "Origin": "Europe",
          "Weight_in_lbs": 2123,
          "Year": "1971-01-01T00:00:00"
         },
         {
          "Acceleration": 19.5,
          "Cylinders": 4,
          "Displacement": 79,
          "Horsepower": 70,
          "Miles_per_Gallon": 30,
          "Name": "peugeot 304",
          "Origin": "Europe",
          "Weight_in_lbs": 2074,
          "Year": "1971-01-01T00:00:00"
         },
         {
          "Acceleration": 14.5,
          "Cylinders": 4,
          "Displacement": 88,
          "Horsepower": 76,
          "Miles_per_Gallon": 30,
          "Name": "fiat 124b",
          "Origin": "Europe",
          "Weight_in_lbs": 2065,
          "Year": "1971-01-01T00:00:00"
         },
         {
          "Acceleration": 19,
          "Cylinders": 4,
          "Displacement": 71,
          "Horsepower": 65,
          "Miles_per_Gallon": 31,
          "Name": "toyota corolla 1200",
          "Origin": "Japan",
          "Weight_in_lbs": 1773,
          "Year": "1971-01-01T00:00:00"
         },
         {
          "Acceleration": 18,
          "Cylinders": 4,
          "Displacement": 72,
          "Horsepower": 69,
          "Miles_per_Gallon": 35,
          "Name": "datsun 1200",
          "Origin": "Japan",
          "Weight_in_lbs": 1613,
          "Year": "1971-01-01T00:00:00"
         },
         {
          "Acceleration": 19,
          "Cylinders": 4,
          "Displacement": 97,
          "Horsepower": 60,
          "Miles_per_Gallon": 27,
          "Name": "volkswagen model 111",
          "Origin": "Europe",
          "Weight_in_lbs": 1834,
          "Year": "1971-01-01T00:00:00"
         },
         {
          "Acceleration": 20.5,
          "Cylinders": 4,
          "Displacement": 91,
          "Horsepower": 70,
          "Miles_per_Gallon": 26,
          "Name": "plymouth cricket",
          "Origin": "USA",
          "Weight_in_lbs": 1955,
          "Year": "1971-01-01T00:00:00"
         },
         {
          "Acceleration": 15.5,
          "Cylinders": 4,
          "Displacement": 113,
          "Horsepower": 95,
          "Miles_per_Gallon": 24,
          "Name": "toyota corona hardtop",
          "Origin": "Japan",
          "Weight_in_lbs": 2278,
          "Year": "1972-01-01T00:00:00"
         },
         {
          "Acceleration": 17,
          "Cylinders": 4,
          "Displacement": 97.5,
          "Horsepower": 80,
          "Miles_per_Gallon": 25,
          "Name": "dodge colt hardtop",
          "Origin": "USA",
          "Weight_in_lbs": 2126,
          "Year": "1972-01-01T00:00:00"
         },
         {
          "Acceleration": 23.5,
          "Cylinders": 4,
          "Displacement": 97,
          "Horsepower": 54,
          "Miles_per_Gallon": 23,
          "Name": "volkswagen type 3",
          "Origin": "Europe",
          "Weight_in_lbs": 2254,
          "Year": "1972-01-01T00:00:00"
         },
         {
          "Acceleration": 19.5,
          "Cylinders": 4,
          "Displacement": 140,
          "Horsepower": 90,
          "Miles_per_Gallon": 20,
          "Name": "chevrolet vega",
          "Origin": "USA",
          "Weight_in_lbs": 2408,
          "Year": "1972-01-01T00:00:00"
         },
         {
          "Acceleration": 16.5,
          "Cylinders": 4,
          "Displacement": 122,
          "Horsepower": 86,
          "Miles_per_Gallon": 21,
          "Name": "ford pinto runabout",
          "Origin": "USA",
          "Weight_in_lbs": 2226,
          "Year": "1972-01-01T00:00:00"
         },
         {
          "Acceleration": 12,
          "Cylinders": 8,
          "Displacement": 350,
          "Horsepower": 165,
          "Miles_per_Gallon": 13,
          "Name": "chevrolet impala",
          "Origin": "USA",
          "Weight_in_lbs": 4274,
          "Year": "1972-01-01T00:00:00"
         },
         {
          "Acceleration": 12,
          "Cylinders": 8,
          "Displacement": 400,
          "Horsepower": 175,
          "Miles_per_Gallon": 14,
          "Name": "pontiac catalina",
          "Origin": "USA",
          "Weight_in_lbs": 4385,
          "Year": "1972-01-01T00:00:00"
         },
         {
          "Acceleration": 13.5,
          "Cylinders": 8,
          "Displacement": 318,
          "Horsepower": 150,
          "Miles_per_Gallon": 15,
          "Name": "plymouth fury iii",
          "Origin": "USA",
          "Weight_in_lbs": 4135,
          "Year": "1972-01-01T00:00:00"
         },
         {
          "Acceleration": 13,
          "Cylinders": 8,
          "Displacement": 351,
          "Horsepower": 153,
          "Miles_per_Gallon": 14,
          "Name": "ford galaxie 500",
          "Origin": "USA",
          "Weight_in_lbs": 4129,
          "Year": "1972-01-01T00:00:00"
         },
         {
          "Acceleration": 11.5,
          "Cylinders": 8,
          "Displacement": 304,
          "Horsepower": 150,
          "Miles_per_Gallon": 17,
          "Name": "amc ambassador sst",
          "Origin": "USA",
          "Weight_in_lbs": 3672,
          "Year": "1972-01-01T00:00:00"
         },
         {
          "Acceleration": 11,
          "Cylinders": 8,
          "Displacement": 429,
          "Horsepower": 208,
          "Miles_per_Gallon": 11,
          "Name": "mercury marquis",
          "Origin": "USA",
          "Weight_in_lbs": 4633,
          "Year": "1972-01-01T00:00:00"
         },
         {
          "Acceleration": 13.5,
          "Cylinders": 8,
          "Displacement": 350,
          "Horsepower": 155,
          "Miles_per_Gallon": 13,
          "Name": "buick lesabre custom",
          "Origin": "USA",
          "Weight_in_lbs": 4502,
          "Year": "1972-01-01T00:00:00"
         },
         {
          "Acceleration": 13.5,
          "Cylinders": 8,
          "Displacement": 350,
          "Horsepower": 160,
          "Miles_per_Gallon": 12,
          "Name": "oldsmobile delta 88 royale",
          "Origin": "USA",
          "Weight_in_lbs": 4456,
          "Year": "1972-01-01T00:00:00"
         },
         {
          "Acceleration": 12.5,
          "Cylinders": 8,
          "Displacement": 400,
          "Horsepower": 190,
          "Miles_per_Gallon": 13,
          "Name": "chrysler newport royal",
          "Origin": "USA",
          "Weight_in_lbs": 4422,
          "Year": "1972-01-01T00:00:00"
         },
         {
          "Acceleration": 13.5,
          "Cylinders": 3,
          "Displacement": 70,
          "Horsepower": 97,
          "Miles_per_Gallon": 19,
          "Name": "mazda rx2 coupe",
          "Origin": "Japan",
          "Weight_in_lbs": 2330,
          "Year": "1972-01-01T00:00:00"
         },
         {
          "Acceleration": 12.5,
          "Cylinders": 8,
          "Displacement": 304,
          "Horsepower": 150,
          "Miles_per_Gallon": 15,
          "Name": "amc matador (sw)",
          "Origin": "USA",
          "Weight_in_lbs": 3892,
          "Year": "1972-01-01T00:00:00"
         },
         {
          "Acceleration": 14,
          "Cylinders": 8,
          "Displacement": 307,
          "Horsepower": 130,
          "Miles_per_Gallon": 13,
          "Name": "chevrolet chevelle concours (sw)",
          "Origin": "USA",
          "Weight_in_lbs": 4098,
          "Year": "1972-01-01T00:00:00"
         },
         {
          "Acceleration": 16,
          "Cylinders": 8,
          "Displacement": 302,
          "Horsepower": 140,
          "Miles_per_Gallon": 13,
          "Name": "ford gran torino (sw)",
          "Origin": "USA",
          "Weight_in_lbs": 4294,
          "Year": "1972-01-01T00:00:00"
         },
         {
          "Acceleration": 14,
          "Cylinders": 8,
          "Displacement": 318,
          "Horsepower": 150,
          "Miles_per_Gallon": 14,
          "Name": "plymouth satellite custom (sw)",
          "Origin": "USA",
          "Weight_in_lbs": 4077,
          "Year": "1972-01-01T00:00:00"
         },
         {
          "Acceleration": 14.5,
          "Cylinders": 4,
          "Displacement": 121,
          "Horsepower": 112,
          "Miles_per_Gallon": 18,
          "Name": "volvo 145e (sw)",
          "Origin": "Europe",
          "Weight_in_lbs": 2933,
          "Year": "1972-01-01T00:00:00"
         },
         {
          "Acceleration": 18,
          "Cylinders": 4,
          "Displacement": 121,
          "Horsepower": 76,
          "Miles_per_Gallon": 22,
          "Name": "volkswagen 411 (sw)",
          "Origin": "Europe",
          "Weight_in_lbs": 2511,
          "Year": "1972-01-01T00:00:00"
         },
         {
          "Acceleration": 19.5,
          "Cylinders": 4,
          "Displacement": 120,
          "Horsepower": 87,
          "Miles_per_Gallon": 21,
          "Name": "peugeot 504 (sw)",
          "Origin": "Europe",
          "Weight_in_lbs": 2979,
          "Year": "1972-01-01T00:00:00"
         },
         {
          "Acceleration": 18,
          "Cylinders": 4,
          "Displacement": 96,
          "Horsepower": 69,
          "Miles_per_Gallon": 26,
          "Name": "renault 12 (sw)",
          "Origin": "Europe",
          "Weight_in_lbs": 2189,
          "Year": "1972-01-01T00:00:00"
         },
         {
          "Acceleration": 16,
          "Cylinders": 4,
          "Displacement": 122,
          "Horsepower": 86,
          "Miles_per_Gallon": 22,
          "Name": "ford pinto (sw)",
          "Origin": "USA",
          "Weight_in_lbs": 2395,
          "Year": "1972-01-01T00:00:00"
         },
         {
          "Acceleration": 17,
          "Cylinders": 4,
          "Displacement": 97,
          "Horsepower": 92,
          "Miles_per_Gallon": 28,
          "Name": "datsun 510 (sw)",
          "Origin": "Japan",
          "Weight_in_lbs": 2288,
          "Year": "1972-01-01T00:00:00"
         },
         {
          "Acceleration": 14.5,
          "Cylinders": 4,
          "Displacement": 120,
          "Horsepower": 97,
          "Miles_per_Gallon": 23,
          "Name": "toyouta corona mark ii (sw)",
          "Origin": "Japan",
          "Weight_in_lbs": 2506,
          "Year": "1972-01-01T00:00:00"
         },
         {
          "Acceleration": 15,
          "Cylinders": 4,
          "Displacement": 98,
          "Horsepower": 80,
          "Miles_per_Gallon": 28,
          "Name": "dodge colt (sw)",
          "Origin": "USA",
          "Weight_in_lbs": 2164,
          "Year": "1972-01-01T00:00:00"
         },
         {
          "Acceleration": 16.5,
          "Cylinders": 4,
          "Displacement": 97,
          "Horsepower": 88,
          "Miles_per_Gallon": 27,
          "Name": "toyota corolla 1600 (sw)",
          "Origin": "Japan",
          "Weight_in_lbs": 2100,
          "Year": "1972-01-01T00:00:00"
         },
         {
          "Acceleration": 13,
          "Cylinders": 8,
          "Displacement": 350,
          "Horsepower": 175,
          "Miles_per_Gallon": 13,
          "Name": "buick century 350",
          "Origin": "USA",
          "Weight_in_lbs": 4100,
          "Year": "1973-01-01T00:00:00"
         },
         {
          "Acceleration": 11.5,
          "Cylinders": 8,
          "Displacement": 304,
          "Horsepower": 150,
          "Miles_per_Gallon": 14,
          "Name": "amc matador",
          "Origin": "USA",
          "Weight_in_lbs": 3672,
          "Year": "1973-01-01T00:00:00"
         },
         {
          "Acceleration": 13,
          "Cylinders": 8,
          "Displacement": 350,
          "Horsepower": 145,
          "Miles_per_Gallon": 13,
          "Name": "chevrolet malibu",
          "Origin": "USA",
          "Weight_in_lbs": 3988,
          "Year": "1973-01-01T00:00:00"
         },
         {
          "Acceleration": 14.5,
          "Cylinders": 8,
          "Displacement": 302,
          "Horsepower": 137,
          "Miles_per_Gallon": 14,
          "Name": "ford gran torino",
          "Origin": "USA",
          "Weight_in_lbs": 4042,
          "Year": "1973-01-01T00:00:00"
         },
         {
          "Acceleration": 12.5,
          "Cylinders": 8,
          "Displacement": 318,
          "Horsepower": 150,
          "Miles_per_Gallon": 15,
          "Name": "dodge coronet custom",
          "Origin": "USA",
          "Weight_in_lbs": 3777,
          "Year": "1973-01-01T00:00:00"
         },
         {
          "Acceleration": 11.5,
          "Cylinders": 8,
          "Displacement": 429,
          "Horsepower": 198,
          "Miles_per_Gallon": 12,
          "Name": "mercury marquis brougham",
          "Origin": "USA",
          "Weight_in_lbs": 4952,
          "Year": "1973-01-01T00:00:00"
         },
         {
          "Acceleration": 12,
          "Cylinders": 8,
          "Displacement": 400,
          "Horsepower": 150,
          "Miles_per_Gallon": 13,
          "Name": "chevrolet caprice classic",
          "Origin": "USA",
          "Weight_in_lbs": 4464,
          "Year": "1973-01-01T00:00:00"
         },
         {
          "Acceleration": 13,
          "Cylinders": 8,
          "Displacement": 351,
          "Horsepower": 158,
          "Miles_per_Gallon": 13,
          "Name": "ford ltd",
          "Origin": "USA",
          "Weight_in_lbs": 4363,
          "Year": "1973-01-01T00:00:00"
         },
         {
          "Acceleration": 14.5,
          "Cylinders": 8,
          "Displacement": 318,
          "Horsepower": 150,
          "Miles_per_Gallon": 14,
          "Name": "plymouth fury gran sedan",
          "Origin": "USA",
          "Weight_in_lbs": 4237,
          "Year": "1973-01-01T00:00:00"
         },
         {
          "Acceleration": 11,
          "Cylinders": 8,
          "Displacement": 440,
          "Horsepower": 215,
          "Miles_per_Gallon": 13,
          "Name": "chrysler new yorker brougham",
          "Origin": "USA",
          "Weight_in_lbs": 4735,
          "Year": "1973-01-01T00:00:00"
         },
         {
          "Acceleration": 11,
          "Cylinders": 8,
          "Displacement": 455,
          "Horsepower": 225,
          "Miles_per_Gallon": 12,
          "Name": "buick electra 225 custom",
          "Origin": "USA",
          "Weight_in_lbs": 4951,
          "Year": "1973-01-01T00:00:00"
         },
         {
          "Acceleration": 11,
          "Cylinders": 8,
          "Displacement": 360,
          "Horsepower": 175,
          "Miles_per_Gallon": 13,
          "Name": "amc ambassador brougham",
          "Origin": "USA",
          "Weight_in_lbs": 3821,
          "Year": "1973-01-01T00:00:00"
         },
         {
          "Acceleration": 16.5,
          "Cylinders": 6,
          "Displacement": 225,
          "Horsepower": 105,
          "Miles_per_Gallon": 18,
          "Name": "plymouth valiant",
          "Origin": "USA",
          "Weight_in_lbs": 3121,
          "Year": "1973-01-01T00:00:00"
         },
         {
          "Acceleration": 18,
          "Cylinders": 6,
          "Displacement": 250,
          "Horsepower": 100,
          "Miles_per_Gallon": 16,
          "Name": "chevrolet nova custom",
          "Origin": "USA",
          "Weight_in_lbs": 3278,
          "Year": "1973-01-01T00:00:00"
         },
         {
          "Acceleration": 16,
          "Cylinders": 6,
          "Displacement": 232,
          "Horsepower": 100,
          "Miles_per_Gallon": 18,
          "Name": "amc hornet",
          "Origin": "USA",
          "Weight_in_lbs": 2945,
          "Year": "1973-01-01T00:00:00"
         },
         {
          "Acceleration": 16.5,
          "Cylinders": 6,
          "Displacement": 250,
          "Horsepower": 88,
          "Miles_per_Gallon": 18,
          "Name": "ford maverick",
          "Origin": "USA",
          "Weight_in_lbs": 3021,
          "Year": "1973-01-01T00:00:00"
         },
         {
          "Acceleration": 16,
          "Cylinders": 6,
          "Displacement": 198,
          "Horsepower": 95,
          "Miles_per_Gallon": 23,
          "Name": "plymouth duster",
          "Origin": "USA",
          "Weight_in_lbs": 2904,
          "Year": "1973-01-01T00:00:00"
         },
         {
          "Acceleration": 21,
          "Cylinders": 4,
          "Displacement": 97,
          "Horsepower": 46,
          "Miles_per_Gallon": 26,
          "Name": "volkswagen super beetle",
          "Origin": "Europe",
          "Weight_in_lbs": 1950,
          "Year": "1973-01-01T00:00:00"
         },
         {
          "Acceleration": 14,
          "Cylinders": 8,
          "Displacement": 400,
          "Horsepower": 150,
          "Miles_per_Gallon": 11,
          "Name": "chevrolet impala",
          "Origin": "USA",
          "Weight_in_lbs": 4997,
          "Year": "1973-01-01T00:00:00"
         },
         {
          "Acceleration": 12.5,
          "Cylinders": 8,
          "Displacement": 400,
          "Horsepower": 167,
          "Miles_per_Gallon": 12,
          "Name": "ford country",
          "Origin": "USA",
          "Weight_in_lbs": 4906,
          "Year": "1973-01-01T00:00:00"
         },
         {
          "Acceleration": 13,
          "Cylinders": 8,
          "Displacement": 360,
          "Horsepower": 170,
          "Miles_per_Gallon": 13,
          "Name": "plymouth custom suburb",
          "Origin": "USA",
          "Weight_in_lbs": 4654,
          "Year": "1973-01-01T00:00:00"
         },
         {
          "Acceleration": 12.5,
          "Cylinders": 8,
          "Displacement": 350,
          "Horsepower": 180,
          "Miles_per_Gallon": 12,
          "Name": "oldsmobile vista cruiser",
          "Origin": "USA",
          "Weight_in_lbs": 4499,
          "Year": "1973-01-01T00:00:00"
         },
         {
          "Acceleration": 15,
          "Cylinders": 6,
          "Displacement": 232,
          "Horsepower": 100,
          "Miles_per_Gallon": 18,
          "Name": "amc gremlin",
          "Origin": "USA",
          "Weight_in_lbs": 2789,
          "Year": "1973-01-01T00:00:00"
         },
         {
          "Acceleration": 19,
          "Cylinders": 4,
          "Displacement": 97,
          "Horsepower": 88,
          "Miles_per_Gallon": 20,
          "Name": "toyota carina",
          "Origin": "Japan",
          "Weight_in_lbs": 2279,
          "Year": "1973-01-01T00:00:00"
         },
         {
          "Acceleration": 19.5,
          "Cylinders": 4,
          "Displacement": 140,
          "Horsepower": 72,
          "Miles_per_Gallon": 21,
          "Name": "chevrolet vega",
          "Origin": "USA",
          "Weight_in_lbs": 2401,
          "Year": "1973-01-01T00:00:00"
         },
         {
          "Acceleration": 16.5,
          "Cylinders": 4,
          "Displacement": 108,
          "Horsepower": 94,
          "Miles_per_Gallon": 22,
          "Name": "datsun 610",
          "Origin": "Japan",
          "Weight_in_lbs": 2379,
          "Year": "1973-01-01T00:00:00"
         },
         {
          "Acceleration": 13.5,
          "Cylinders": 3,
          "Displacement": 70,
          "Horsepower": 90,
          "Miles_per_Gallon": 18,
          "Name": "maxda rx3",
          "Origin": "Japan",
          "Weight_in_lbs": 2124,
          "Year": "1973-01-01T00:00:00"
         },
         {
          "Acceleration": 18.5,
          "Cylinders": 4,
          "Displacement": 122,
          "Horsepower": 85,
          "Miles_per_Gallon": 19,
          "Name": "ford pinto",
          "Origin": "USA",
          "Weight_in_lbs": 2310,
          "Year": "1973-01-01T00:00:00"
         },
         {
          "Acceleration": 14,
          "Cylinders": 6,
          "Displacement": 155,
          "Horsepower": 107,
          "Miles_per_Gallon": 21,
          "Name": "mercury capri v6",
          "Origin": "USA",
          "Weight_in_lbs": 2472,
          "Year": "1973-01-01T00:00:00"
         },
         {
          "Acceleration": 15.5,
          "Cylinders": 4,
          "Displacement": 98,
          "Horsepower": 90,
          "Miles_per_Gallon": 26,
          "Name": "fiat 124 sport coupe",
          "Origin": "Europe",
          "Weight_in_lbs": 2265,
          "Year": "1973-01-01T00:00:00"
         },
         {
          "Acceleration": 13,
          "Cylinders": 8,
          "Displacement": 350,
          "Horsepower": 145,
          "Miles_per_Gallon": 15,
          "Name": "chevrolet monte carlo s",
          "Origin": "USA",
          "Weight_in_lbs": 4082,
          "Year": "1973-01-01T00:00:00"
         },
         {
          "Acceleration": 9.5,
          "Cylinders": 8,
          "Displacement": 400,
          "Horsepower": 230,
          "Miles_per_Gallon": 16,
          "Name": "pontiac grand prix",
          "Origin": "USA",
          "Weight_in_lbs": 4278,
          "Year": "1973-01-01T00:00:00"
         },
         {
          "Acceleration": 19.5,
          "Cylinders": 4,
          "Displacement": 68,
          "Horsepower": 49,
          "Miles_per_Gallon": 29,
          "Name": "fiat 128",
          "Origin": "Europe",
          "Weight_in_lbs": 1867,
          "Year": "1973-01-01T00:00:00"
         },
         {
          "Acceleration": 15.5,
          "Cylinders": 4,
          "Displacement": 116,
          "Horsepower": 75,
          "Miles_per_Gallon": 24,
          "Name": "opel manta",
          "Origin": "Europe",
          "Weight_in_lbs": 2158,
          "Year": "1973-01-01T00:00:00"
         },
         {
          "Acceleration": 14,
          "Cylinders": 4,
          "Displacement": 114,
          "Horsepower": 91,
          "Miles_per_Gallon": 20,
          "Name": "audi 100ls",
          "Origin": "Europe",
          "Weight_in_lbs": 2582,
          "Year": "1973-01-01T00:00:00"
         },
         {
          "Acceleration": 15.5,
          "Cylinders": 4,
          "Displacement": 121,
          "Horsepower": 112,
          "Miles_per_Gallon": 19,
          "Name": "volvo 144ea",
          "Origin": "Europe",
          "Weight_in_lbs": 2868,
          "Year": "1973-01-01T00:00:00"
         },
         {
          "Acceleration": 11,
          "Cylinders": 8,
          "Displacement": 318,
          "Horsepower": 150,
          "Miles_per_Gallon": 15,
          "Name": "dodge dart custom",
          "Origin": "USA",
          "Weight_in_lbs": 3399,
          "Year": "1973-01-01T00:00:00"
         },
         {
          "Acceleration": 14,
          "Cylinders": 4,
          "Displacement": 121,
          "Horsepower": 110,
          "Miles_per_Gallon": 24,
          "Name": "saab 99le",
          "Origin": "Europe",
          "Weight_in_lbs": 2660,
          "Year": "1973-01-01T00:00:00"
         },
         {
          "Acceleration": 13.5,
          "Cylinders": 6,
          "Displacement": 156,
          "Horsepower": 122,
          "Miles_per_Gallon": 20,
          "Name": "toyota mark ii",
          "Origin": "Japan",
          "Weight_in_lbs": 2807,
          "Year": "1973-01-01T00:00:00"
         },
         {
          "Acceleration": 11,
          "Cylinders": 8,
          "Displacement": 350,
          "Horsepower": 180,
          "Miles_per_Gallon": 11,
          "Name": "oldsmobile omega",
          "Origin": "USA",
          "Weight_in_lbs": 3664,
          "Year": "1973-01-01T00:00:00"
         },
         {
          "Acceleration": 16.5,
          "Cylinders": 6,
          "Displacement": 198,
          "Horsepower": 95,
          "Miles_per_Gallon": 20,
          "Name": "plymouth duster",
          "Origin": "USA",
          "Weight_in_lbs": 3102,
          "Year": "1974-01-01T00:00:00"
         },
         {
          "Acceleration": 17,
          "Cylinders": 6,
          "Displacement": 200,
          "Horsepower": null,
          "Miles_per_Gallon": 21,
          "Name": "ford maverick",
          "Origin": "USA",
          "Weight_in_lbs": 2875,
          "Year": "1974-01-01T00:00:00"
         },
         {
          "Acceleration": 16,
          "Cylinders": 6,
          "Displacement": 232,
          "Horsepower": 100,
          "Miles_per_Gallon": 19,
          "Name": "amc hornet",
          "Origin": "USA",
          "Weight_in_lbs": 2901,
          "Year": "1974-01-01T00:00:00"
         },
         {
          "Acceleration": 17,
          "Cylinders": 6,
          "Displacement": 250,
          "Horsepower": 100,
          "Miles_per_Gallon": 15,
          "Name": "chevrolet nova",
          "Origin": "USA",
          "Weight_in_lbs": 3336,
          "Year": "1974-01-01T00:00:00"
         },
         {
          "Acceleration": 19,
          "Cylinders": 4,
          "Displacement": 79,
          "Horsepower": 67,
          "Miles_per_Gallon": 31,
          "Name": "datsun b210",
          "Origin": "Japan",
          "Weight_in_lbs": 1950,
          "Year": "1974-01-01T00:00:00"
         },
         {
          "Acceleration": 16.5,
          "Cylinders": 4,
          "Displacement": 122,
          "Horsepower": 80,
          "Miles_per_Gallon": 26,
          "Name": "ford pinto",
          "Origin": "USA",
          "Weight_in_lbs": 2451,
          "Year": "1974-01-01T00:00:00"
         },
         {
          "Acceleration": 21,
          "Cylinders": 4,
          "Displacement": 71,
          "Horsepower": 65,
          "Miles_per_Gallon": 32,
          "Name": "toyota corolla 1200",
          "Origin": "Japan",
          "Weight_in_lbs": 1836,
          "Year": "1974-01-01T00:00:00"
         },
         {
          "Acceleration": 17,
          "Cylinders": 4,
          "Displacement": 140,
          "Horsepower": 75,
          "Miles_per_Gallon": 25,
          "Name": "chevrolet vega",
          "Origin": "USA",
          "Weight_in_lbs": 2542,
          "Year": "1974-01-01T00:00:00"
         },
         {
          "Acceleration": 17,
          "Cylinders": 6,
          "Displacement": 250,
          "Horsepower": 100,
          "Miles_per_Gallon": 16,
          "Name": "chevrolet chevelle malibu classic",
          "Origin": "USA",
          "Weight_in_lbs": 3781,
          "Year": "1974-01-01T00:00:00"
         },
         {
          "Acceleration": 18,
          "Cylinders": 6,
          "Displacement": 258,
          "Horsepower": 110,
          "Miles_per_Gallon": 16,
          "Name": "amc matador",
          "Origin": "USA",
          "Weight_in_lbs": 3632,
          "Year": "1974-01-01T00:00:00"
         },
         {
          "Acceleration": 16.5,
          "Cylinders": 6,
          "Displacement": 225,
          "Horsepower": 105,
          "Miles_per_Gallon": 18,
          "Name": "plymouth satellite sebring",
          "Origin": "USA",
          "Weight_in_lbs": 3613,
          "Year": "1974-01-01T00:00:00"
         },
         {
          "Acceleration": 14,
          "Cylinders": 8,
          "Displacement": 302,
          "Horsepower": 140,
          "Miles_per_Gallon": 16,
          "Name": "ford gran torino",
          "Origin": "USA",
          "Weight_in_lbs": 4141,
          "Year": "1974-01-01T00:00:00"
         },
         {
          "Acceleration": 14.5,
          "Cylinders": 8,
          "Displacement": 350,
          "Horsepower": 150,
          "Miles_per_Gallon": 13,
          "Name": "buick century luxus (sw)",
          "Origin": "USA",
          "Weight_in_lbs": 4699,
          "Year": "1974-01-01T00:00:00"
         },
         {
          "Acceleration": 13.5,
          "Cylinders": 8,
          "Displacement": 318,
          "Horsepower": 150,
          "Miles_per_Gallon": 14,
          "Name": "dodge coronet custom (sw)",
          "Origin": "USA",
          "Weight_in_lbs": 4457,
          "Year": "1974-01-01T00:00:00"
         },
         {
          "Acceleration": 16,
          "Cylinders": 8,
          "Displacement": 302,
          "Horsepower": 140,
          "Miles_per_Gallon": 14,
          "Name": "ford gran torino (sw)",
          "Origin": "USA",
          "Weight_in_lbs": 4638,
          "Year": "1974-01-01T00:00:00"
         },
         {
          "Acceleration": 15.5,
          "Cylinders": 8,
          "Displacement": 304,
          "Horsepower": 150,
          "Miles_per_Gallon": 14,
          "Name": "amc matador (sw)",
          "Origin": "USA",
          "Weight_in_lbs": 4257,
          "Year": "1974-01-01T00:00:00"
         },
         {
          "Acceleration": 16.5,
          "Cylinders": 4,
          "Displacement": 98,
          "Horsepower": 83,
          "Miles_per_Gallon": 29,
          "Name": "audi fox",
          "Origin": "Europe",
          "Weight_in_lbs": 2219,
          "Year": "1974-01-01T00:00:00"
         },
         {
          "Acceleration": 15.5,
          "Cylinders": 4,
          "Displacement": 79,
          "Horsepower": 67,
          "Miles_per_Gallon": 26,
          "Name": "volkswagen dasher",
          "Origin": "Europe",
          "Weight_in_lbs": 1963,
          "Year": "1974-01-01T00:00:00"
         },
         {
          "Acceleration": 14.5,
          "Cylinders": 4,
          "Displacement": 97,
          "Horsepower": 78,
          "Miles_per_Gallon": 26,
          "Name": "opel manta",
          "Origin": "Europe",
          "Weight_in_lbs": 2300,
          "Year": "1974-01-01T00:00:00"
         },
         {
          "Acceleration": 16.5,
          "Cylinders": 4,
          "Displacement": 76,
          "Horsepower": 52,
          "Miles_per_Gallon": 31,
          "Name": "toyota corona",
          "Origin": "Japan",
          "Weight_in_lbs": 1649,
          "Year": "1974-01-01T00:00:00"
         },
         {
          "Acceleration": 19,
          "Cylinders": 4,
          "Displacement": 83,
          "Horsepower": 61,
          "Miles_per_Gallon": 32,
          "Name": "datsun 710",
          "Origin": "Japan",
          "Weight_in_lbs": 2003,
          "Year": "1974-01-01T00:00:00"
         },
         {
          "Acceleration": 14.5,
          "Cylinders": 4,
          "Displacement": 90,
          "Horsepower": 75,
          "Miles_per_Gallon": 28,
          "Name": "dodge colt",
          "Origin": "USA",
          "Weight_in_lbs": 2125,
          "Year": "1974-01-01T00:00:00"
         },
         {
          "Acceleration": 15.5,
          "Cylinders": 4,
          "Displacement": 90,
          "Horsepower": 75,
          "Miles_per_Gallon": 24,
          "Name": "fiat 128",
          "Origin": "Europe",
          "Weight_in_lbs": 2108,
          "Year": "1974-01-01T00:00:00"
         },
         {
          "Acceleration": 14,
          "Cylinders": 4,
          "Displacement": 116,
          "Horsepower": 75,
          "Miles_per_Gallon": 26,
          "Name": "fiat 124 tc",
          "Origin": "Europe",
          "Weight_in_lbs": 2246,
          "Year": "1974-01-01T00:00:00"
         },
         {
          "Acceleration": 15,
          "Cylinders": 4,
          "Displacement": 120,
          "Horsepower": 97,
          "Miles_per_Gallon": 24,
          "Name": "honda civic",
          "Origin": "Japan",
          "Weight_in_lbs": 2489,
          "Year": "1974-01-01T00:00:00"
         },
         {
          "Acceleration": 15.5,
          "Cylinders": 4,
          "Displacement": 108,
          "Horsepower": 93,
          "Miles_per_Gallon": 26,
          "Name": "subaru",
          "Origin": "Japan",
          "Weight_in_lbs": 2391,
          "Year": "1974-01-01T00:00:00"
         },
         {
          "Acceleration": 16,
          "Cylinders": 4,
          "Displacement": 79,
          "Horsepower": 67,
          "Miles_per_Gallon": 31,
          "Name": "fiat x1.9",
          "Origin": "Europe",
          "Weight_in_lbs": 2000,
          "Year": "1974-01-01T00:00:00"
         },
         {
          "Acceleration": 16,
          "Cylinders": 6,
          "Displacement": 225,
          "Horsepower": 95,
          "Miles_per_Gallon": 19,
          "Name": "plymouth valiant custom",
          "Origin": "USA",
          "Weight_in_lbs": 3264,
          "Year": "1975-01-01T00:00:00"
         },
         {
          "Acceleration": 16,
          "Cylinders": 6,
          "Displacement": 250,
          "Horsepower": 105,
          "Miles_per_Gallon": 18,
          "Name": "chevrolet nova",
          "Origin": "USA",
          "Weight_in_lbs": 3459,
          "Year": "1975-01-01T00:00:00"
         },
         {
          "Acceleration": 21,
          "Cylinders": 6,
          "Displacement": 250,
          "Horsepower": 72,
          "Miles_per_Gallon": 15,
          "Name": "mercury monarch",
          "Origin": "USA",
          "Weight_in_lbs": 3432,
          "Year": "1975-01-01T00:00:00"
         },
         {
          "Acceleration": 19.5,
          "Cylinders": 6,
          "Displacement": 250,
          "Horsepower": 72,
          "Miles_per_Gallon": 15,
          "Name": "ford maverick",
          "Origin": "USA",
          "Weight_in_lbs": 3158,
          "Year": "1975-01-01T00:00:00"
         },
         {
          "Acceleration": 11.5,
          "Cylinders": 8,
          "Displacement": 400,
          "Horsepower": 170,
          "Miles_per_Gallon": 16,
          "Name": "pontiac catalina",
          "Origin": "USA",
          "Weight_in_lbs": 4668,
          "Year": "1975-01-01T00:00:00"
         },
         {
          "Acceleration": 14,
          "Cylinders": 8,
          "Displacement": 350,
          "Horsepower": 145,
          "Miles_per_Gallon": 15,
          "Name": "chevrolet bel air",
          "Origin": "USA",
          "Weight_in_lbs": 4440,
          "Year": "1975-01-01T00:00:00"
         },
         {
          "Acceleration": 14.5,
          "Cylinders": 8,
          "Displacement": 318,
          "Horsepower": 150,
          "Miles_per_Gallon": 16,
          "Name": "plymouth grand fury",
          "Origin": "USA",
          "Weight_in_lbs": 4498,
          "Year": "1975-01-01T00:00:00"
         },
         {
          "Acceleration": 13.5,
          "Cylinders": 8,
          "Displacement": 351,
          "Horsepower": 148,
          "Miles_per_Gallon": 14,
          "Name": "ford ltd",
          "Origin": "USA",
          "Weight_in_lbs": 4657,
          "Year": "1975-01-01T00:00:00"
         },
         {
          "Acceleration": 21,
          "Cylinders": 6,
          "Displacement": 231,
          "Horsepower": 110,
          "Miles_per_Gallon": 17,
          "Name": "buick century",
          "Origin": "USA",
          "Weight_in_lbs": 3907,
          "Year": "1975-01-01T00:00:00"
         },
         {
          "Acceleration": 18.5,
          "Cylinders": 6,
          "Displacement": 250,
          "Horsepower": 105,
          "Miles_per_Gallon": 16,
          "Name": "chevroelt chevelle malibu",
          "Origin": "USA",
          "Weight_in_lbs": 3897,
          "Year": "1975-01-01T00:00:00"
         },
         {
          "Acceleration": 19,
          "Cylinders": 6,
          "Displacement": 258,
          "Horsepower": 110,
          "Miles_per_Gallon": 15,
          "Name": "amc matador",
          "Origin": "USA",
          "Weight_in_lbs": 3730,
          "Year": "1975-01-01T00:00:00"
         },
         {
          "Acceleration": 19,
          "Cylinders": 6,
          "Displacement": 225,
          "Horsepower": 95,
          "Miles_per_Gallon": 18,
          "Name": "plymouth fury",
          "Origin": "USA",
          "Weight_in_lbs": 3785,
          "Year": "1975-01-01T00:00:00"
         },
         {
          "Acceleration": 15,
          "Cylinders": 6,
          "Displacement": 231,
          "Horsepower": 110,
          "Miles_per_Gallon": 21,
          "Name": "buick skyhawk",
          "Origin": "USA",
          "Weight_in_lbs": 3039,
          "Year": "1975-01-01T00:00:00"
         },
         {
          "Acceleration": 13.5,
          "Cylinders": 8,
          "Displacement": 262,
          "Horsepower": 110,
          "Miles_per_Gallon": 20,
          "Name": "chevrolet monza 2+2",
          "Origin": "USA",
          "Weight_in_lbs": 3221,
          "Year": "1975-01-01T00:00:00"
         },
         {
          "Acceleration": 12,
          "Cylinders": 8,
          "Displacement": 302,
          "Horsepower": 129,
          "Miles_per_Gallon": 13,
          "Name": "ford mustang ii",
          "Origin": "USA",
          "Weight_in_lbs": 3169,
          "Year": "1975-01-01T00:00:00"
         },
         {
          "Acceleration": 16,
          "Cylinders": 4,
          "Displacement": 97,
          "Horsepower": 75,
          "Miles_per_Gallon": 29,
          "Name": "toyota corolla",
          "Origin": "Japan",
          "Weight_in_lbs": 2171,
          "Year": "1975-01-01T00:00:00"
         },
         {
          "Acceleration": 17,
          "Cylinders": 4,
          "Displacement": 140,
          "Horsepower": 83,
          "Miles_per_Gallon": 23,
          "Name": "ford pinto",
          "Origin": "USA",
          "Weight_in_lbs": 2639,
          "Year": "1975-01-01T00:00:00"
         },
         {
          "Acceleration": 16,
          "Cylinders": 6,
          "Displacement": 232,
          "Horsepower": 100,
          "Miles_per_Gallon": 20,
          "Name": "amc gremlin",
          "Origin": "USA",
          "Weight_in_lbs": 2914,
          "Year": "1975-01-01T00:00:00"
         },
         {
          "Acceleration": 18.5,
          "Cylinders": 4,
          "Displacement": 140,
          "Horsepower": 78,
          "Miles_per_Gallon": 23,
          "Name": "pontiac astro",
          "Origin": "USA",
          "Weight_in_lbs": 2592,
          "Year": "1975-01-01T00:00:00"
         },
         {
          "Acceleration": 13.5,
          "Cylinders": 4,
          "Displacement": 134,
          "Horsepower": 96,
          "Miles_per_Gallon": 24,
          "Name": "toyota corona",
          "Origin": "Japan",
          "Weight_in_lbs": 2702,
          "Year": "1975-01-01T00:00:00"
         },
         {
          "Acceleration": 16.5,
          "Cylinders": 4,
          "Displacement": 90,
          "Horsepower": 71,
          "Miles_per_Gallon": 25,
          "Name": "volkswagen dasher",
          "Origin": "Europe",
          "Weight_in_lbs": 2223,
          "Year": "1975-01-01T00:00:00"
         },
         {
          "Acceleration": 17,
          "Cylinders": 4,
          "Displacement": 119,
          "Horsepower": 97,
          "Miles_per_Gallon": 24,
          "Name": "datsun 710",
          "Origin": "Japan",
          "Weight_in_lbs": 2545,
          "Year": "1975-01-01T00:00:00"
         },
         {
          "Acceleration": 14.5,
          "Cylinders": 6,
          "Displacement": 171,
          "Horsepower": 97,
          "Miles_per_Gallon": 18,
          "Name": "ford pinto",
          "Origin": "USA",
          "Weight_in_lbs": 2984,
          "Year": "1975-01-01T00:00:00"
         },
         {
          "Acceleration": 14,
          "Cylinders": 4,
          "Displacement": 90,
          "Horsepower": 70,
          "Miles_per_Gallon": 29,
          "Name": "volkswagen rabbit",
          "Origin": "Europe",
          "Weight_in_lbs": 1937,
          "Year": "1975-01-01T00:00:00"
         },
         {
          "Acceleration": 17,
          "Cylinders": 6,
          "Displacement": 232,
          "Horsepower": 90,
          "Miles_per_Gallon": 19,
          "Name": "amc pacer",
          "Origin": "USA",
          "Weight_in_lbs": 3211,
          "Year": "1975-01-01T00:00:00"
         },
         {
          "Acceleration": 15,
          "Cylinders": 4,
          "Displacement": 115,
          "Horsepower": 95,
          "Miles_per_Gallon": 23,
          "Name": "audi 100ls",
          "Origin": "Europe",
          "Weight_in_lbs": 2694,
          "Year": "1975-01-01T00:00:00"
         },
         {
          "Acceleration": 17,
          "Cylinders": 4,
          "Displacement": 120,
          "Horsepower": 88,
          "Miles_per_Gallon": 23,
          "Name": "peugeot 504",
          "Origin": "Europe",
          "Weight_in_lbs": 2957,
          "Year": "1975-01-01T00:00:00"
         },
         {
          "Acceleration": 14.5,
          "Cylinders": 4,
          "Displacement": 121,
          "Horsepower": 98,
          "Miles_per_Gallon": 22,
          "Name": "volvo 244dl",
          "Origin": "Europe",
          "Weight_in_lbs": 2945,
          "Year": "1975-01-01T00:00:00"
         },
         {
          "Acceleration": 13.5,
          "Cylinders": 4,
          "Displacement": 121,
          "Horsepower": 115,
          "Miles_per_Gallon": 25,
          "Name": "saab 99le",
          "Origin": "Europe",
          "Weight_in_lbs": 2671,
          "Year": "1975-01-01T00:00:00"
         },
         {
          "Acceleration": 17.5,
          "Cylinders": 4,
          "Displacement": 91,
          "Horsepower": 53,
          "Miles_per_Gallon": 33,
          "Name": "honda civic cvcc",
          "Origin": "Japan",
          "Weight_in_lbs": 1795,
          "Year": "1975-01-01T00:00:00"
         },
         {
          "Acceleration": 15.5,
          "Cylinders": 4,
          "Displacement": 107,
          "Horsepower": 86,
          "Miles_per_Gallon": 28,
          "Name": "fiat 131",
          "Origin": "Europe",
          "Weight_in_lbs": 2464,
          "Year": "1976-01-01T00:00:00"
         },
         {
          "Acceleration": 16.9,
          "Cylinders": 4,
          "Displacement": 116,
          "Horsepower": 81,
          "Miles_per_Gallon": 25,
          "Name": "opel 1900",
          "Origin": "Europe",
          "Weight_in_lbs": 2220,
          "Year": "1976-01-01T00:00:00"
         },
         {
          "Acceleration": 14.9,
          "Cylinders": 4,
          "Displacement": 140,
          "Horsepower": 92,
          "Miles_per_Gallon": 25,
          "Name": "capri ii",
          "Origin": "USA",
          "Weight_in_lbs": 2572,
          "Year": "1976-01-01T00:00:00"
         },
         {
          "Acceleration": 17.7,
          "Cylinders": 4,
          "Displacement": 98,
          "Horsepower": 79,
          "Miles_per_Gallon": 26,
          "Name": "dodge colt",
          "Origin": "USA",
          "Weight_in_lbs": 2255,
          "Year": "1976-01-01T00:00:00"
         },
         {
          "Acceleration": 15.3,
          "Cylinders": 4,
          "Displacement": 101,
          "Horsepower": 83,
          "Miles_per_Gallon": 27,
          "Name": "renault 12tl",
          "Origin": "Europe",
          "Weight_in_lbs": 2202,
          "Year": "1976-01-01T00:00:00"
         },
         {
          "Acceleration": 13,
          "Cylinders": 8,
          "Displacement": 305,
          "Horsepower": 140,
          "Miles_per_Gallon": 17.5,
          "Name": "chevrolet chevelle malibu classic",
          "Origin": "USA",
          "Weight_in_lbs": 4215,
          "Year": "1976-01-01T00:00:00"
         },
         {
          "Acceleration": 13,
          "Cylinders": 8,
          "Displacement": 318,
          "Horsepower": 150,
          "Miles_per_Gallon": 16,
          "Name": "dodge coronet brougham",
          "Origin": "USA",
          "Weight_in_lbs": 4190,
          "Year": "1976-01-01T00:00:00"
         },
         {
          "Acceleration": 13.9,
          "Cylinders": 8,
          "Displacement": 304,
          "Horsepower": 120,
          "Miles_per_Gallon": 15.5,
          "Name": "amc matador",
          "Origin": "USA",
          "Weight_in_lbs": 3962,
          "Year": "1976-01-01T00:00:00"
         },
         {
          "Acceleration": 12.8,
          "Cylinders": 8,
          "Displacement": 351,
          "Horsepower": 152,
          "Miles_per_Gallon": 14.5,
          "Name": "ford gran torino",
          "Origin": "USA",
          "Weight_in_lbs": 4215,
          "Year": "1976-01-01T00:00:00"
         },
         {
          "Acceleration": 15.4,
          "Cylinders": 6,
          "Displacement": 225,
          "Horsepower": 100,
          "Miles_per_Gallon": 22,
          "Name": "plymouth valiant",
          "Origin": "USA",
          "Weight_in_lbs": 3233,
          "Year": "1976-01-01T00:00:00"
         },
         {
          "Acceleration": 14.5,
          "Cylinders": 6,
          "Displacement": 250,
          "Horsepower": 105,
          "Miles_per_Gallon": 22,
          "Name": "chevrolet nova",
          "Origin": "USA",
          "Weight_in_lbs": 3353,
          "Year": "1976-01-01T00:00:00"
         },
         {
          "Acceleration": 17.6,
          "Cylinders": 6,
          "Displacement": 200,
          "Horsepower": 81,
          "Miles_per_Gallon": 24,
          "Name": "ford maverick",
          "Origin": "USA",
          "Weight_in_lbs": 3012,
          "Year": "1976-01-01T00:00:00"
         },
         {
          "Acceleration": 17.6,
          "Cylinders": 6,
          "Displacement": 232,
          "Horsepower": 90,
          "Miles_per_Gallon": 22.5,
          "Name": "amc hornet",
          "Origin": "USA",
          "Weight_in_lbs": 3085,
          "Year": "1976-01-01T00:00:00"
         },
         {
          "Acceleration": 22.2,
          "Cylinders": 4,
          "Displacement": 85,
          "Horsepower": 52,
          "Miles_per_Gallon": 29,
          "Name": "chevrolet chevette",
          "Origin": "USA",
          "Weight_in_lbs": 2035,
          "Year": "1976-01-01T00:00:00"
         },
         {
          "Acceleration": 22.1,
          "Cylinders": 4,
          "Displacement": 98,
          "Horsepower": 60,
          "Miles_per_Gallon": 24.5,
          "Name": "chevrolet woody",
          "Origin": "USA",
          "Weight_in_lbs": 2164,
          "Year": "1976-01-01T00:00:00"
         },
         {
          "Acceleration": 14.2,
          "Cylinders": 4,
          "Displacement": 90,
          "Horsepower": 70,
          "Miles_per_Gallon": 29,
          "Name": "vw rabbit",
          "Origin": "Europe",
          "Weight_in_lbs": 1937,
          "Year": "1976-01-01T00:00:00"
         },
         {
          "Acceleration": 17.4,
          "Cylinders": 4,
          "Displacement": 91,
          "Horsepower": 53,
          "Miles_per_Gallon": 33,
          "Name": "honda civic",
          "Origin": "Japan",
          "Weight_in_lbs": 1795,
          "Year": "1976-01-01T00:00:00"
         },
         {
          "Acceleration": 17.7,
          "Cylinders": 6,
          "Displacement": 225,
          "Horsepower": 100,
          "Miles_per_Gallon": 20,
          "Name": "dodge aspen se",
          "Origin": "USA",
          "Weight_in_lbs": 3651,
          "Year": "1976-01-01T00:00:00"
         },
         {
          "Acceleration": 21,
          "Cylinders": 6,
          "Displacement": 250,
          "Horsepower": 78,
          "Miles_per_Gallon": 18,
          "Name": "ford granada ghia",
          "Origin": "USA",
          "Weight_in_lbs": 3574,
          "Year": "1976-01-01T00:00:00"
         },
         {
          "Acceleration": 16.2,
          "Cylinders": 6,
          "Displacement": 250,
          "Horsepower": 110,
          "Miles_per_Gallon": 18.5,
          "Name": "pontiac ventura sj",
          "Origin": "USA",
          "Weight_in_lbs": 3645,
          "Year": "1976-01-01T00:00:00"
         },
         {
          "Acceleration": 17.8,
          "Cylinders": 6,
          "Displacement": 258,
          "Horsepower": 95,
          "Miles_per_Gallon": 17.5,
          "Name": "amc pacer d/l",
          "Origin": "USA",
          "Weight_in_lbs": 3193,
          "Year": "1976-01-01T00:00:00"
         },
         {
          "Acceleration": 12.2,
          "Cylinders": 4,
          "Displacement": 97,
          "Horsepower": 71,
          "Miles_per_Gallon": 29.5,
          "Name": "volkswagen rabbit",
          "Origin": "Europe",
          "Weight_in_lbs": 1825,
          "Year": "1976-01-01T00:00:00"
         },
         {
          "Acceleration": 17,
          "Cylinders": 4,
          "Displacement": 85,
          "Horsepower": 70,
          "Miles_per_Gallon": 32,
          "Name": "datsun b-210",
          "Origin": "Japan",
          "Weight_in_lbs": 1990,
          "Year": "1976-01-01T00:00:00"
         },
         {
          "Acceleration": 16.4,
          "Cylinders": 4,
          "Displacement": 97,
          "Horsepower": 75,
          "Miles_per_Gallon": 28,
          "Name": "toyota corolla",
          "Origin": "Japan",
          "Weight_in_lbs": 2155,
          "Year": "1976-01-01T00:00:00"
         },
         {
          "Acceleration": 13.6,
          "Cylinders": 4,
          "Displacement": 140,
          "Horsepower": 72,
          "Miles_per_Gallon": 26.5,
          "Name": "ford pinto",
          "Origin": "USA",
          "Weight_in_lbs": 2565,
          "Year": "1976-01-01T00:00:00"
         },
         {
          "Acceleration": 15.7,
          "Cylinders": 4,
          "Displacement": 130,
          "Horsepower": 102,
          "Miles_per_Gallon": 20,
          "Name": "volvo 245",
          "Origin": "Europe",
          "Weight_in_lbs": 3150,
          "Year": "1976-01-01T00:00:00"
         },
         {
          "Acceleration": 13.2,
          "Cylinders": 8,
          "Displacement": 318,
          "Horsepower": 150,
          "Miles_per_Gallon": 13,
          "Name": "plymouth volare premier v8",
          "Origin": "USA",
          "Weight_in_lbs": 3940,
          "Year": "1976-01-01T00:00:00"
         },
         {
          "Acceleration": 21.9,
          "Cylinders": 4,
          "Displacement": 120,
          "Horsepower": 88,
          "Miles_per_Gallon": 19,
          "Name": "peugeot 504",
          "Origin": "Europe",
          "Weight_in_lbs": 3270,
          "Year": "1976-01-01T00:00:00"
         },
         {
          "Acceleration": 15.5,
          "Cylinders": 6,
          "Displacement": 156,
          "Horsepower": 108,
          "Miles_per_Gallon": 19,
          "Name": "toyota mark ii",
          "Origin": "Japan",
          "Weight_in_lbs": 2930,
          "Year": "1976-01-01T00:00:00"
         },
         {
          "Acceleration": 16.7,
          "Cylinders": 6,
          "Displacement": 168,
          "Horsepower": 120,
          "Miles_per_Gallon": 16.5,
          "Name": "mercedes-benz 280s",
          "Origin": "Europe",
          "Weight_in_lbs": 3820,
          "Year": "1976-01-01T00:00:00"
         },
         {
          "Acceleration": 12.1,
          "Cylinders": 8,
          "Displacement": 350,
          "Horsepower": 180,
          "Miles_per_Gallon": 16.5,
          "Name": "cadillac seville",
          "Origin": "USA",
          "Weight_in_lbs": 4380,
          "Year": "1976-01-01T00:00:00"
         },
         {
          "Acceleration": 12,
          "Cylinders": 8,
          "Displacement": 350,
          "Horsepower": 145,
          "Miles_per_Gallon": 13,
          "Name": "chevy c10",
          "Origin": "USA",
          "Weight_in_lbs": 4055,
          "Year": "1976-01-01T00:00:00"
         },
         {
          "Acceleration": 15,
          "Cylinders": 8,
          "Displacement": 302,
          "Horsepower": 130,
          "Miles_per_Gallon": 13,
          "Name": "ford f108",
          "Origin": "USA",
          "Weight_in_lbs": 3870,
          "Year": "1976-01-01T00:00:00"
         },
         {
          "Acceleration": 14,
          "Cylinders": 8,
          "Displacement": 318,
          "Horsepower": 150,
          "Miles_per_Gallon": 13,
          "Name": "dodge d100",
          "Origin": "USA",
          "Weight_in_lbs": 3755,
          "Year": "1976-01-01T00:00:00"
         },
         {
          "Acceleration": 18.5,
          "Cylinders": 4,
          "Displacement": 98,
          "Horsepower": 68,
          "Miles_per_Gallon": 31.5,
          "Name": "honda Accelerationord cvcc",
          "Origin": "Japan",
          "Weight_in_lbs": 2045,
          "Year": "1977-01-01T00:00:00"
         },
         {
          "Acceleration": 14.8,
          "Cylinders": 4,
          "Displacement": 111,
          "Horsepower": 80,
          "Miles_per_Gallon": 30,
          "Name": "buick opel isuzu deluxe",
          "Origin": "USA",
          "Weight_in_lbs": 2155,
          "Year": "1977-01-01T00:00:00"
         },
         {
          "Acceleration": 18.6,
          "Cylinders": 4,
          "Displacement": 79,
          "Horsepower": 58,
          "Miles_per_Gallon": 36,
          "Name": "renault 5 gtl",
          "Origin": "Europe",
          "Weight_in_lbs": 1825,
          "Year": "1977-01-01T00:00:00"
         },
         {
          "Acceleration": 15.5,
          "Cylinders": 4,
          "Displacement": 122,
          "Horsepower": 96,
          "Miles_per_Gallon": 25.5,
          "Name": "plymouth arrow gs",
          "Origin": "USA",
          "Weight_in_lbs": 2300,
          "Year": "1977-01-01T00:00:00"
         },
         {
          "Acceleration": 16.8,
          "Cylinders": 4,
          "Displacement": 85,
          "Horsepower": 70,
          "Miles_per_Gallon": 33.5,
          "Name": "datsun f-10 hatchback",
          "Origin": "Japan",
          "Weight_in_lbs": 1945,
          "Year": "1977-01-01T00:00:00"
         },
         {
          "Acceleration": 12.5,
          "Cylinders": 8,
          "Displacement": 305,
          "Horsepower": 145,
          "Miles_per_Gallon": 17.5,
          "Name": "chevrolet caprice classic",
          "Origin": "USA",
          "Weight_in_lbs": 3880,
          "Year": "1977-01-01T00:00:00"
         },
         {
          "Acceleration": 19,
          "Cylinders": 8,
          "Displacement": 260,
          "Horsepower": 110,
          "Miles_per_Gallon": 17,
          "Name": "oldsmobile cutlass supreme",
          "Origin": "USA",
          "Weight_in_lbs": 4060,
          "Year": "1977-01-01T00:00:00"
         },
         {
          "Acceleration": 13.7,
          "Cylinders": 8,
          "Displacement": 318,
          "Horsepower": 145,
          "Miles_per_Gallon": 15.5,
          "Name": "dodge monaco brougham",
          "Origin": "USA",
          "Weight_in_lbs": 4140,
          "Year": "1977-01-01T00:00:00"
         },
         {
          "Acceleration": 14.9,
          "Cylinders": 8,
          "Displacement": 302,
          "Horsepower": 130,
          "Miles_per_Gallon": 15,
          "Name": "mercury cougar brougham",
          "Origin": "USA",
          "Weight_in_lbs": 4295,
          "Year": "1977-01-01T00:00:00"
         },
         {
          "Acceleration": 16.4,
          "Cylinders": 6,
          "Displacement": 250,
          "Horsepower": 110,
          "Miles_per_Gallon": 17.5,
          "Name": "chevrolet concours",
          "Origin": "USA",
          "Weight_in_lbs": 3520,
          "Year": "1977-01-01T00:00:00"
         },
         {
          "Acceleration": 16.9,
          "Cylinders": 6,
          "Displacement": 231,
          "Horsepower": 105,
          "Miles_per_Gallon": 20.5,
          "Name": "buick skylark",
          "Origin": "USA",
          "Weight_in_lbs": 3425,
          "Year": "1977-01-01T00:00:00"
         },
         {
          "Acceleration": 17.7,
          "Cylinders": 6,
          "Displacement": 225,
          "Horsepower": 100,
          "Miles_per_Gallon": 19,
          "Name": "plymouth volare custom",
          "Origin": "USA",
          "Weight_in_lbs": 3630,
          "Year": "1977-01-01T00:00:00"
         },
         {
          "Acceleration": 19,
          "Cylinders": 6,
          "Displacement": 250,
          "Horsepower": 98,
          "Miles_per_Gallon": 18.5,
          "Name": "ford granada",
          "Origin": "USA",
          "Weight_in_lbs": 3525,
          "Year": "1977-01-01T00:00:00"
         },
         {
          "Acceleration": 11.1,
          "Cylinders": 8,
          "Displacement": 400,
          "Horsepower": 180,
          "Miles_per_Gallon": 16,
          "Name": "pontiac grand prix lj",
          "Origin": "USA",
          "Weight_in_lbs": 4220,
          "Year": "1977-01-01T00:00:00"
         },
         {
          "Acceleration": 11.4,
          "Cylinders": 8,
          "Displacement": 350,
          "Horsepower": 170,
          "Miles_per_Gallon": 15.5,
          "Name": "chevrolet monte carlo landau",
          "Origin": "USA",
          "Weight_in_lbs": 4165,
          "Year": "1977-01-01T00:00:00"
         },
         {
          "Acceleration": 12.2,
          "Cylinders": 8,
          "Displacement": 400,
          "Horsepower": 190,
          "Miles_per_Gallon": 15.5,
          "Name": "chrysler cordoba",
          "Origin": "USA",
          "Weight_in_lbs": 4325,
          "Year": "1977-01-01T00:00:00"
         },
         {
          "Acceleration": 14.5,
          "Cylinders": 8,
          "Displacement": 351,
          "Horsepower": 149,
          "Miles_per_Gallon": 16,
          "Name": "ford thunderbird",
          "Origin": "USA",
          "Weight_in_lbs": 4335,
          "Year": "1977-01-01T00:00:00"
         },
         {
          "Acceleration": 14.5,
          "Cylinders": 4,
          "Displacement": 97,
          "Horsepower": 78,
          "Miles_per_Gallon": 29,
          "Name": "volkswagen rabbit custom",
          "Origin": "Europe",
          "Weight_in_lbs": 1940,
          "Year": "1977-01-01T00:00:00"
         },
         {
          "Acceleration": 16,
          "Cylinders": 4,
          "Displacement": 151,
          "Horsepower": 88,
          "Miles_per_Gallon": 24.5,
          "Name": "pontiac sunbird coupe",
          "Origin": "USA",
          "Weight_in_lbs": 2740,
          "Year": "1977-01-01T00:00:00"
         },
         {
          "Acceleration": 18.2,
          "Cylinders": 4,
          "Displacement": 97,
          "Horsepower": 75,
          "Miles_per_Gallon": 26,
          "Name": "toyota corolla liftback",
          "Origin": "Japan",
          "Weight_in_lbs": 2265,
          "Year": "1977-01-01T00:00:00"
         },
         {
          "Acceleration": 15.8,
          "Cylinders": 4,
          "Displacement": 140,
          "Horsepower": 89,
          "Miles_per_Gallon": 25.5,
          "Name": "ford mustang ii 2+2",
          "Origin": "USA",
          "Weight_in_lbs": 2755,
          "Year": "1977-01-01T00:00:00"
         },
         {
          "Acceleration": 17,
          "Cylinders": 4,
          "Displacement": 98,
          "Horsepower": 63,
          "Miles_per_Gallon": 30.5,
          "Name": "chevrolet chevette",
          "Origin": "USA",
          "Weight_in_lbs": 2051,
          "Year": "1977-01-01T00:00:00"
         },
         {
          "Acceleration": 15.9,
          "Cylinders": 4,
          "Displacement": 98,
          "Horsepower": 83,
          "Miles_per_Gallon": 33.5,
          "Name": "dodge colt m/m",
          "Origin": "USA",
          "Weight_in_lbs": 2075,
          "Year": "1977-01-01T00:00:00"
         },
         {
          "Acceleration": 16.4,
          "Cylinders": 4,
          "Displacement": 97,
          "Horsepower": 67,
          "Miles_per_Gallon": 30,
          "Name": "subaru dl",
          "Origin": "Japan",
          "Weight_in_lbs": 1985,
          "Year": "1977-01-01T00:00:00"
         },
         {
          "Acceleration": 14.1,
          "Cylinders": 4,
          "Displacement": 97,
          "Horsepower": 78,
          "Miles_per_Gallon": 30.5,
          "Name": "volkswagen dasher",
          "Origin": "Europe",
          "Weight_in_lbs": 2190,
          "Year": "1977-01-01T00:00:00"
         },
         {
          "Acceleration": 14.5,
          "Cylinders": 6,
          "Displacement": 146,
          "Horsepower": 97,
          "Miles_per_Gallon": 22,
          "Name": "datsun 810",
          "Origin": "Japan",
          "Weight_in_lbs": 2815,
          "Year": "1977-01-01T00:00:00"
         },
         {
          "Acceleration": 12.8,
          "Cylinders": 4,
          "Displacement": 121,
          "Horsepower": 110,
          "Miles_per_Gallon": 21.5,
          "Name": "bmw 320i",
          "Origin": "Europe",
          "Weight_in_lbs": 2600,
          "Year": "1977-01-01T00:00:00"
         },
         {
          "Acceleration": 13.5,
          "Cylinders": 3,
          "Displacement": 80,
          "Horsepower": 110,
          "Miles_per_Gallon": 21.5,
          "Name": "mazda rx-4",
          "Origin": "Japan",
          "Weight_in_lbs": 2720,
          "Year": "1977-01-01T00:00:00"
         },
         {
          "Acceleration": 21.5,
          "Cylinders": 4,
          "Displacement": 90,
          "Horsepower": 48,
          "Miles_per_Gallon": 43.1,
          "Name": "volkswagen rabbit custom diesel",
          "Origin": "Europe",
          "Weight_in_lbs": 1985,
          "Year": "1978-01-01T00:00:00"
         },
         {
          "Acceleration": 14.4,
          "Cylinders": 4,
          "Displacement": 98,
          "Horsepower": 66,
          "Miles_per_Gallon": 36.1,
          "Name": "ford fiesta",
          "Origin": "USA",
          "Weight_in_lbs": 1800,
          "Year": "1978-01-01T00:00:00"
         },
         {
          "Acceleration": 19.4,
          "Cylinders": 4,
          "Displacement": 78,
          "Horsepower": 52,
          "Miles_per_Gallon": 32.8,
          "Name": "mazda glc deluxe",
          "Origin": "Japan",
          "Weight_in_lbs": 1985,
          "Year": "1978-01-01T00:00:00"
         },
         {
          "Acceleration": 18.6,
          "Cylinders": 4,
          "Displacement": 85,
          "Horsepower": 70,
          "Miles_per_Gallon": 39.4,
          "Name": "datsun b210 gx",
          "Origin": "Japan",
          "Weight_in_lbs": 2070,
          "Year": "1978-01-01T00:00:00"
         },
         {
          "Acceleration": 16.4,
          "Cylinders": 4,
          "Displacement": 91,
          "Horsepower": 60,
          "Miles_per_Gallon": 36.1,
          "Name": "honda civic cvcc",
          "Origin": "Japan",
          "Weight_in_lbs": 1800,
          "Year": "1978-01-01T00:00:00"
         },
         {
          "Acceleration": 15.5,
          "Cylinders": 8,
          "Displacement": 260,
          "Horsepower": 110,
          "Miles_per_Gallon": 19.9,
          "Name": "oldsmobile cutlass salon brougham",
          "Origin": "USA",
          "Weight_in_lbs": 3365,
          "Year": "1978-01-01T00:00:00"
         },
         {
          "Acceleration": 13.2,
          "Cylinders": 8,
          "Displacement": 318,
          "Horsepower": 140,
          "Miles_per_Gallon": 19.4,
          "Name": "dodge diplomat",
          "Origin": "USA",
          "Weight_in_lbs": 3735,
          "Year": "1978-01-01T00:00:00"
         },
         {
          "Acceleration": 12.8,
          "Cylinders": 8,
          "Displacement": 302,
          "Horsepower": 139,
          "Miles_per_Gallon": 20.2,
          "Name": "mercury monarch ghia",
          "Origin": "USA",
          "Weight_in_lbs": 3570,
          "Year": "1978-01-01T00:00:00"
         },
         {
          "Acceleration": 19.2,
          "Cylinders": 6,
          "Displacement": 231,
          "Horsepower": 105,
          "Miles_per_Gallon": 19.2,
          "Name": "pontiac phoenix lj",
          "Origin": "USA",
          "Weight_in_lbs": 3535,
          "Year": "1978-01-01T00:00:00"
         },
         {
          "Acceleration": 18.2,
          "Cylinders": 6,
          "Displacement": 200,
          "Horsepower": 95,
          "Miles_per_Gallon": 20.5,
          "Name": "chevrolet malibu",
          "Origin": "USA",
          "Weight_in_lbs": 3155,
          "Year": "1978-01-01T00:00:00"
         },
         {
          "Acceleration": 15.8,
          "Cylinders": 6,
          "Displacement": 200,
          "Horsepower": 85,
          "Miles_per_Gallon": 20.2,
          "Name": "ford fairmont (auto)",
          "Origin": "USA",
          "Weight_in_lbs": 2965,
          "Year": "1978-01-01T00:00:00"
         },
         {
          "Acceleration": 15.4,
          "Cylinders": 4,
          "Displacement": 140,
          "Horsepower": 88,
          "Miles_per_Gallon": 25.1,
          "Name": "ford fairmont (man)",
          "Origin": "USA",
          "Weight_in_lbs": 2720,
          "Year": "1978-01-01T00:00:00"
         },
         {
          "Acceleration": 17.2,
          "Cylinders": 6,
          "Displacement": 225,
          "Horsepower": 100,
          "Miles_per_Gallon": 20.5,
          "Name": "plymouth volare",
          "Origin": "USA",
          "Weight_in_lbs": 3430,
          "Year": "1978-01-01T00:00:00"
         },
         {
          "Acceleration": 17.2,
          "Cylinders": 6,
          "Displacement": 232,
          "Horsepower": 90,
          "Miles_per_Gallon": 19.4,
          "Name": "amc concord",
          "Origin": "USA",
          "Weight_in_lbs": 3210,
          "Year": "1978-01-01T00:00:00"
         },
         {
          "Acceleration": 15.8,
          "Cylinders": 6,
          "Displacement": 231,
          "Horsepower": 105,
          "Miles_per_Gallon": 20.6,
          "Name": "buick century special",
          "Origin": "USA",
          "Weight_in_lbs": 3380,
          "Year": "1978-01-01T00:00:00"
         },
         {
          "Acceleration": 16.7,
          "Cylinders": 6,
          "Displacement": 200,
          "Horsepower": 85,
          "Miles_per_Gallon": 20.8,
          "Name": "mercury zephyr",
          "Origin": "USA",
          "Weight_in_lbs": 3070,
          "Year": "1978-01-01T00:00:00"
         },
         {
          "Acceleration": 18.7,
          "Cylinders": 6,
          "Displacement": 225,
          "Horsepower": 110,
          "Miles_per_Gallon": 18.6,
          "Name": "dodge aspen",
          "Origin": "USA",
          "Weight_in_lbs": 3620,
          "Year": "1978-01-01T00:00:00"
         },
         {
          "Acceleration": 15.1,
          "Cylinders": 6,
          "Displacement": 258,
          "Horsepower": 120,
          "Miles_per_Gallon": 18.1,
          "Name": "amc concord d/l",
          "Origin": "USA",
          "Weight_in_lbs": 3410,
          "Year": "1978-01-01T00:00:00"
         },
         {
          "Acceleration": 13.2,
          "Cylinders": 8,
          "Displacement": 305,
          "Horsepower": 145,
          "Miles_per_Gallon": 19.2,
          "Name": "chevrolet monte carlo landau",
          "Origin": "USA",
          "Weight_in_lbs": 3425,
          "Year": "1978-01-01T00:00:00"
         },
         {
          "Acceleration": 13.4,
          "Cylinders": 6,
          "Displacement": 231,
          "Horsepower": 165,
          "Miles_per_Gallon": 17.7,
          "Name": "buick regal sport coupe (turbo)",
          "Origin": "USA",
          "Weight_in_lbs": 3445,
          "Year": "1978-01-01T00:00:00"
         },
         {
          "Acceleration": 11.2,
          "Cylinders": 8,
          "Displacement": 302,
          "Horsepower": 139,
          "Miles_per_Gallon": 18.1,
          "Name": "ford futura",
          "Origin": "USA",
          "Weight_in_lbs": 3205,
          "Year": "1978-01-01T00:00:00"
         },
         {
          "Acceleration": 13.7,
          "Cylinders": 8,
          "Displacement": 318,
          "Horsepower": 140,
          "Miles_per_Gallon": 17.5,
          "Name": "dodge magnum xe",
          "Origin": "USA",
          "Weight_in_lbs": 4080,
          "Year": "1978-01-01T00:00:00"
         },
         {
          "Acceleration": 16.5,
          "Cylinders": 4,
          "Displacement": 98,
          "Horsepower": 68,
          "Miles_per_Gallon": 30,
          "Name": "chevrolet chevette",
          "Origin": "USA",
          "Weight_in_lbs": 2155,
          "Year": "1978-01-01T00:00:00"
         },
         {
          "Acceleration": 14.2,
          "Cylinders": 4,
          "Displacement": 134,
          "Horsepower": 95,
          "Miles_per_Gallon": 27.5,
          "Name": "toyota corona",
          "Origin": "Japan",
          "Weight_in_lbs": 2560,
          "Year": "1978-01-01T00:00:00"
         },
         {
          "Acceleration": 14.7,
          "Cylinders": 4,
          "Displacement": 119,
          "Horsepower": 97,
          "Miles_per_Gallon": 27.2,
          "Name": "datsun 510",
          "Origin": "Japan",
          "Weight_in_lbs": 2300,
          "Year": "1978-01-01T00:00:00"
         },
         {
          "Acceleration": 14.5,
          "Cylinders": 4,
          "Displacement": 105,
          "Horsepower": 75,
          "Miles_per_Gallon": 30.9,
          "Name": "dodge omni",
          "Origin": "USA",
          "Weight_in_lbs": 2230,
          "Year": "1978-01-01T00:00:00"
         },
         {
          "Acceleration": 14.8,
          "Cylinders": 4,
          "Displacement": 134,
          "Horsepower": 95,
          "Miles_per_Gallon": 21.1,
          "Name": "toyota celica gt liftback",
          "Origin": "Japan",
          "Weight_in_lbs": 2515,
          "Year": "1978-01-01T00:00:00"
         },
         {
          "Acceleration": 16.7,
          "Cylinders": 4,
          "Displacement": 156,
          "Horsepower": 105,
          "Miles_per_Gallon": 23.2,
          "Name": "plymouth sapporo",
          "Origin": "USA",
          "Weight_in_lbs": 2745,
          "Year": "1978-01-01T00:00:00"
         },
         {
          "Acceleration": 17.6,
          "Cylinders": 4,
          "Displacement": 151,
          "Horsepower": 85,
          "Miles_per_Gallon": 23.8,
          "Name": "oldsmobile starfire sx",
          "Origin": "USA",
          "Weight_in_lbs": 2855,
          "Year": "1978-01-01T00:00:00"
         },
         {
          "Acceleration": 14.9,
          "Cylinders": 4,
          "Displacement": 119,
          "Horsepower": 97,
          "Miles_per_Gallon": 23.9,
          "Name": "datsun 200-sx",
          "Origin": "Japan",
          "Weight_in_lbs": 2405,
          "Year": "1978-01-01T00:00:00"
         },
         {
          "Acceleration": 15.9,
          "Cylinders": 5,
          "Displacement": 131,
          "Horsepower": 103,
          "Miles_per_Gallon": 20.3,
          "Name": "audi 5000",
          "Origin": "Europe",
          "Weight_in_lbs": 2830,
          "Year": "1978-01-01T00:00:00"
         },
         {
          "Acceleration": 13.6,
          "Cylinders": 6,
          "Displacement": 163,
          "Horsepower": 125,
          "Miles_per_Gallon": 17,
          "Name": "volvo 264gl",
          "Origin": "Europe",
          "Weight_in_lbs": 3140,
          "Year": "1978-01-01T00:00:00"
         },
         {
          "Acceleration": 15.7,
          "Cylinders": 4,
          "Displacement": 121,
          "Horsepower": 115,
          "Miles_per_Gallon": 21.6,
          "Name": "saab 99gle",
          "Origin": "Europe",
          "Weight_in_lbs": 2795,
          "Year": "1978-01-01T00:00:00"
         },
         {
          "Acceleration": 15.8,
          "Cylinders": 6,
          "Displacement": 163,
          "Horsepower": 133,
          "Miles_per_Gallon": 16.2,
          "Name": "peugeot 604sl",
          "Origin": "Europe",
          "Weight_in_lbs": 3410,
          "Year": "1978-01-01T00:00:00"
         },
         {
          "Acceleration": 14.9,
          "Cylinders": 4,
          "Displacement": 89,
          "Horsepower": 71,
          "Miles_per_Gallon": 31.5,
          "Name": "volkswagen scirocco",
          "Origin": "Europe",
          "Weight_in_lbs": 1990,
          "Year": "1978-01-01T00:00:00"
         },
         {
          "Acceleration": 16.6,
          "Cylinders": 4,
          "Displacement": 98,
          "Horsepower": 68,
          "Miles_per_Gallon": 29.5,
          "Name": "honda Accelerationord lx",
          "Origin": "Japan",
          "Weight_in_lbs": 2135,
          "Year": "1978-01-01T00:00:00"
         },
         {
          "Acceleration": 15.4,
          "Cylinders": 6,
          "Displacement": 231,
          "Horsepower": 115,
          "Miles_per_Gallon": 21.5,
          "Name": "pontiac lemans v6",
          "Origin": "USA",
          "Weight_in_lbs": 3245,
          "Year": "1979-01-01T00:00:00"
         },
         {
          "Acceleration": 18.2,
          "Cylinders": 6,
          "Displacement": 200,
          "Horsepower": 85,
          "Miles_per_Gallon": 19.8,
          "Name": "mercury zephyr 6",
          "Origin": "USA",
          "Weight_in_lbs": 2990,
          "Year": "1979-01-01T00:00:00"
         },
         {
          "Acceleration": 17.3,
          "Cylinders": 4,
          "Displacement": 140,
          "Horsepower": 88,
          "Miles_per_Gallon": 22.3,
          "Name": "ford fairmont 4",
          "Origin": "USA",
          "Weight_in_lbs": 2890,
          "Year": "1979-01-01T00:00:00"
         },
         {
          "Acceleration": 18.2,
          "Cylinders": 6,
          "Displacement": 232,
          "Horsepower": 90,
          "Miles_per_Gallon": 20.2,
          "Name": "amc concord dl 6",
          "Origin": "USA",
          "Weight_in_lbs": 3265,
          "Year": "1979-01-01T00:00:00"
         },
         {
          "Acceleration": 16.6,
          "Cylinders": 6,
          "Displacement": 225,
          "Horsepower": 110,
          "Miles_per_Gallon": 20.6,
          "Name": "dodge aspen 6",
          "Origin": "USA",
          "Weight_in_lbs": 3360,
          "Year": "1979-01-01T00:00:00"
         },
         {
          "Acceleration": 15.4,
          "Cylinders": 8,
          "Displacement": 305,
          "Horsepower": 130,
          "Miles_per_Gallon": 17,
          "Name": "chevrolet caprice classic",
          "Origin": "USA",
          "Weight_in_lbs": 3840,
          "Year": "1979-01-01T00:00:00"
         },
         {
          "Acceleration": 13.4,
          "Cylinders": 8,
          "Displacement": 302,
          "Horsepower": 129,
          "Miles_per_Gallon": 17.6,
          "Name": "ford ltd landau",
          "Origin": "USA",
          "Weight_in_lbs": 3725,
          "Year": "1979-01-01T00:00:00"
         },
         {
          "Acceleration": 13.2,
          "Cylinders": 8,
          "Displacement": 351,
          "Horsepower": 138,
          "Miles_per_Gallon": 16.5,
          "Name": "mercury grand marquis",
          "Origin": "USA",
          "Weight_in_lbs": 3955,
          "Year": "1979-01-01T00:00:00"
         },
         {
          "Acceleration": 15.2,
          "Cylinders": 8,
          "Displacement": 318,
          "Horsepower": 135,
          "Miles_per_Gallon": 18.2,
          "Name": "dodge st. regis",
          "Origin": "USA",
          "Weight_in_lbs": 3830,
          "Year": "1979-01-01T00:00:00"
         },
         {
          "Acceleration": 14.9,
          "Cylinders": 8,
          "Displacement": 350,
          "Horsepower": 155,
          "Miles_per_Gallon": 16.9,
          "Name": "buick estate wagon (sw)",
          "Origin": "USA",
          "Weight_in_lbs": 4360,
          "Year": "1979-01-01T00:00:00"
         },
         {
          "Acceleration": 14.3,
          "Cylinders": 8,
          "Displacement": 351,
          "Horsepower": 142,
          "Miles_per_Gallon": 15.5,
          "Name": "ford country squire (sw)",
          "Origin": "USA",
          "Weight_in_lbs": 4054,
          "Year": "1979-01-01T00:00:00"
         },
         {
          "Acceleration": 15,
          "Cylinders": 8,
          "Displacement": 267,
          "Horsepower": 125,
          "Miles_per_Gallon": 19.2,
          "Name": "chevrolet malibu classic (sw)",
          "Origin": "USA",
          "Weight_in_lbs": 3605,
          "Year": "1979-01-01T00:00:00"
         },
         {
          "Acceleration": 13,
          "Cylinders": 8,
          "Displacement": 360,
          "Horsepower": 150,
          "Miles_per_Gallon": 18.5,
          "Name": "chrysler lebaron town @ country (sw)",
          "Origin": "USA",
          "Weight_in_lbs": 3940,
          "Year": "1979-01-01T00:00:00"
         },
         {
          "Acceleration": 14,
          "Cylinders": 4,
          "Displacement": 89,
          "Horsepower": 71,
          "Miles_per_Gallon": 31.9,
          "Name": "vw rabbit custom",
          "Origin": "Europe",
          "Weight_in_lbs": 1925,
          "Year": "1979-01-01T00:00:00"
         },
         {
          "Acceleration": 15.2,
          "Cylinders": 4,
          "Displacement": 86,
          "Horsepower": 65,
          "Miles_per_Gallon": 34.1,
          "Name": "maxda glc deluxe",
          "Origin": "Japan",
          "Weight_in_lbs": 1975,
          "Year": "1979-01-01T00:00:00"
         },
         {
          "Acceleration": 14.4,
          "Cylinders": 4,
          "Displacement": 98,
          "Horsepower": 80,
          "Miles_per_Gallon": 35.7,
          "Name": "dodge colt hatchback custom",
          "Origin": "USA",
          "Weight_in_lbs": 1915,
          "Year": "1979-01-01T00:00:00"
         },
         {
          "Acceleration": 15,
          "Cylinders": 4,
          "Displacement": 121,
          "Horsepower": 80,
          "Miles_per_Gallon": 27.4,
          "Name": "amc spirit dl",
          "Origin": "USA",
          "Weight_in_lbs": 2670,
          "Year": "1979-01-01T00:00:00"
         },
         {
          "Acceleration": 20.1,
          "Cylinders": 5,
          "Displacement": 183,
          "Horsepower": 77,
          "Miles_per_Gallon": 25.4,
          "Name": "mercedes benz 300d",
          "Origin": "Europe",
          "Weight_in_lbs": 3530,
          "Year": "1979-01-01T00:00:00"
         },
         {
          "Acceleration": 17.4,
          "Cylinders": 8,
          "Displacement": 350,
          "Horsepower": 125,
          "Miles_per_Gallon": 23,
          "Name": "cadillac eldorado",
          "Origin": "USA",
          "Weight_in_lbs": 3900,
          "Year": "1979-01-01T00:00:00"
         },
         {
          "Acceleration": 24.8,
          "Cylinders": 4,
          "Displacement": 141,
          "Horsepower": 71,
          "Miles_per_Gallon": 27.2,
          "Name": "peugeot 504",
          "Origin": "Europe",
          "Weight_in_lbs": 3190,
          "Year": "1979-01-01T00:00:00"
         },
         {
          "Acceleration": 22.2,
          "Cylinders": 8,
          "Displacement": 260,
          "Horsepower": 90,
          "Miles_per_Gallon": 23.9,
          "Name": "oldsmobile cutlass salon brougham",
          "Origin": "USA",
          "Weight_in_lbs": 3420,
          "Year": "1979-01-01T00:00:00"
         },
         {
          "Acceleration": 13.2,
          "Cylinders": 4,
          "Displacement": 105,
          "Horsepower": 70,
          "Miles_per_Gallon": 34.2,
          "Name": "plymouth horizon",
          "Origin": "USA",
          "Weight_in_lbs": 2200,
          "Year": "1979-01-01T00:00:00"
         },
         {
          "Acceleration": 14.9,
          "Cylinders": 4,
          "Displacement": 105,
          "Horsepower": 70,
          "Miles_per_Gallon": 34.5,
          "Name": "plymouth horizon tc3",
          "Origin": "USA",
          "Weight_in_lbs": 2150,
          "Year": "1979-01-01T00:00:00"
         },
         {
          "Acceleration": 19.2,
          "Cylinders": 4,
          "Displacement": 85,
          "Horsepower": 65,
          "Miles_per_Gallon": 31.8,
          "Name": "datsun 210",
          "Origin": "Japan",
          "Weight_in_lbs": 2020,
          "Year": "1979-01-01T00:00:00"
         },
         {
          "Acceleration": 14.7,
          "Cylinders": 4,
          "Displacement": 91,
          "Horsepower": 69,
          "Miles_per_Gallon": 37.3,
          "Name": "fiat strada custom",
          "Origin": "Europe",
          "Weight_in_lbs": 2130,
          "Year": "1979-01-01T00:00:00"
         },
         {
          "Acceleration": 16,
          "Cylinders": 4,
          "Displacement": 151,
          "Horsepower": 90,
          "Miles_per_Gallon": 28.4,
          "Name": "buick skylark limited",
          "Origin": "USA",
          "Weight_in_lbs": 2670,
          "Year": "1979-01-01T00:00:00"
         },
         {
          "Acceleration": 11.3,
          "Cylinders": 6,
          "Displacement": 173,
          "Horsepower": 115,
          "Miles_per_Gallon": 28.8,
          "Name": "chevrolet citation",
          "Origin": "USA",
          "Weight_in_lbs": 2595,
          "Year": "1979-01-01T00:00:00"
         },
         {
          "Acceleration": 12.9,
          "Cylinders": 6,
          "Displacement": 173,
          "Horsepower": 115,
          "Miles_per_Gallon": 26.8,
          "Name": "oldsmobile omega brougham",
          "Origin": "USA",
          "Weight_in_lbs": 2700,
          "Year": "1979-01-01T00:00:00"
         },
         {
          "Acceleration": 13.2,
          "Cylinders": 4,
          "Displacement": 151,
          "Horsepower": 90,
          "Miles_per_Gallon": 33.5,
          "Name": "pontiac phoenix",
          "Origin": "USA",
          "Weight_in_lbs": 2556,
          "Year": "1979-01-01T00:00:00"
         },
         {
          "Acceleration": 14.7,
          "Cylinders": 4,
          "Displacement": 98,
          "Horsepower": 76,
          "Miles_per_Gallon": 41.5,
          "Name": "vw rabbit",
          "Origin": "Europe",
          "Weight_in_lbs": 2144,
          "Year": "1980-01-01T00:00:00"
         },
         {
          "Acceleration": 18.8,
          "Cylinders": 4,
          "Displacement": 89,
          "Horsepower": 60,
          "Miles_per_Gallon": 38.1,
          "Name": "toyota corolla tercel",
          "Origin": "Japan",
          "Weight_in_lbs": 1968,
          "Year": "1980-01-01T00:00:00"
         },
         {
          "Acceleration": 15.5,
          "Cylinders": 4,
          "Displacement": 98,
          "Horsepower": 70,
          "Miles_per_Gallon": 32.1,
          "Name": "chevrolet chevette",
          "Origin": "USA",
          "Weight_in_lbs": 2120,
          "Year": "1980-01-01T00:00:00"
         },
         {
          "Acceleration": 16.4,
          "Cylinders": 4,
          "Displacement": 86,
          "Horsepower": 65,
          "Miles_per_Gallon": 37.2,
          "Name": "datsun 310",
          "Origin": "Japan",
          "Weight_in_lbs": 2019,
          "Year": "1980-01-01T00:00:00"
         },
         {
          "Acceleration": 16.5,
          "Cylinders": 4,
          "Displacement": 151,
          "Horsepower": 90,
          "Miles_per_Gallon": 28,
          "Name": "chevrolet citation",
          "Origin": "USA",
          "Weight_in_lbs": 2678,
          "Year": "1980-01-01T00:00:00"
         },
         {
          "Acceleration": 18.1,
          "Cylinders": 4,
          "Displacement": 140,
          "Horsepower": 88,
          "Miles_per_Gallon": 26.4,
          "Name": "ford fairmont",
          "Origin": "USA",
          "Weight_in_lbs": 2870,
          "Year": "1980-01-01T00:00:00"
         },
         {
          "Acceleration": 20.1,
          "Cylinders": 4,
          "Displacement": 151,
          "Horsepower": 90,
          "Miles_per_Gallon": 24.3,
          "Name": "amc concord",
          "Origin": "USA",
          "Weight_in_lbs": 3003,
          "Year": "1980-01-01T00:00:00"
         },
         {
          "Acceleration": 18.7,
          "Cylinders": 6,
          "Displacement": 225,
          "Horsepower": 90,
          "Miles_per_Gallon": 19.1,
          "Name": "dodge aspen",
          "Origin": "USA",
          "Weight_in_lbs": 3381,
          "Year": "1980-01-01T00:00:00"
         },
         {
          "Acceleration": 15.8,
          "Cylinders": 4,
          "Displacement": 97,
          "Horsepower": 78,
          "Miles_per_Gallon": 34.3,
          "Name": "audi 4000",
          "Origin": "Europe",
          "Weight_in_lbs": 2188,
          "Year": "1980-01-01T00:00:00"
         },
         {
          "Acceleration": 15.5,
          "Cylinders": 4,
          "Displacement": 134,
          "Horsepower": 90,
          "Miles_per_Gallon": 29.8,
          "Name": "toyota corona liftback",
          "Origin": "Japan",
          "Weight_in_lbs": 2711,
          "Year": "1980-01-01T00:00:00"
         },
         {
          "Acceleration": 17.5,
          "Cylinders": 4,
          "Displacement": 120,
          "Horsepower": 75,
          "Miles_per_Gallon": 31.3,
          "Name": "mazda 626",
          "Origin": "Japan",
          "Weight_in_lbs": 2542,
          "Year": "1980-01-01T00:00:00"
         },
         {
          "Acceleration": 15,
          "Cylinders": 4,
          "Displacement": 119,
          "Horsepower": 92,
          "Miles_per_Gallon": 37,
          "Name": "datsun 510 hatchback",
          "Origin": "Japan",
          "Weight_in_lbs": 2434,
          "Year": "1980-01-01T00:00:00"
         },
         {
          "Acceleration": 15.2,
          "Cylinders": 4,
          "Displacement": 108,
          "Horsepower": 75,
          "Miles_per_Gallon": 32.2,
          "Name": "toyota corolla",
          "Origin": "Japan",
          "Weight_in_lbs": 2265,
          "Year": "1980-01-01T00:00:00"
         },
         {
          "Acceleration": 17.9,
          "Cylinders": 4,
          "Displacement": 86,
          "Horsepower": 65,
          "Miles_per_Gallon": 46.6,
          "Name": "mazda glc",
          "Origin": "Japan",
          "Weight_in_lbs": 2110,
          "Year": "1980-01-01T00:00:00"
         },
         {
          "Acceleration": 14.4,
          "Cylinders": 4,
          "Displacement": 156,
          "Horsepower": 105,
          "Miles_per_Gallon": 27.9,
          "Name": "dodge colt",
          "Origin": "USA",
          "Weight_in_lbs": 2800,
          "Year": "1980-01-01T00:00:00"
         },
         {
          "Acceleration": 19.2,
          "Cylinders": 4,
          "Displacement": 85,
          "Horsepower": 65,
          "Miles_per_Gallon": 40.8,
          "Name": "datsun 210",
          "Origin": "Japan",
          "Weight_in_lbs": 2110,
          "Year": "1980-01-01T00:00:00"
         },
         {
          "Acceleration": 21.7,
          "Cylinders": 4,
          "Displacement": 90,
          "Horsepower": 48,
          "Miles_per_Gallon": 44.3,
          "Name": "vw rabbit c (diesel)",
          "Origin": "Europe",
          "Weight_in_lbs": 2085,
          "Year": "1980-01-01T00:00:00"
         },
         {
          "Acceleration": 23.7,
          "Cylinders": 4,
          "Displacement": 90,
          "Horsepower": 48,
          "Miles_per_Gallon": 43.4,
          "Name": "vw dasher (diesel)",
          "Origin": "Europe",
          "Weight_in_lbs": 2335,
          "Year": "1980-01-01T00:00:00"
         },
         {
          "Acceleration": 19.9,
          "Cylinders": 5,
          "Displacement": 121,
          "Horsepower": 67,
          "Miles_per_Gallon": 36.4,
          "Name": "audi 5000s (diesel)",
          "Origin": "Europe",
          "Weight_in_lbs": 2950,
          "Year": "1980-01-01T00:00:00"
         },
         {
          "Acceleration": 21.8,
          "Cylinders": 4,
          "Displacement": 146,
          "Horsepower": 67,
          "Miles_per_Gallon": 30,
          "Name": "mercedes-benz 240d",
          "Origin": "Europe",
          "Weight_in_lbs": 3250,
          "Year": "1980-01-01T00:00:00"
         },
         {
          "Acceleration": 13.8,
          "Cylinders": 4,
          "Displacement": 91,
          "Horsepower": 67,
          "Miles_per_Gallon": 44.6,
          "Name": "honda civic 1500 gl",
          "Origin": "Japan",
          "Weight_in_lbs": 1850,
          "Year": "1980-01-01T00:00:00"
         },
         {
          "Acceleration": 17.3,
          "Cylinders": 4,
          "Displacement": 85,
          "Horsepower": null,
          "Miles_per_Gallon": 40.9,
          "Name": "renault lecar deluxe",
          "Origin": "Europe",
          "Weight_in_lbs": 1835,
          "Year": "1980-01-01T00:00:00"
         },
         {
          "Acceleration": 18,
          "Cylinders": 4,
          "Displacement": 97,
          "Horsepower": 67,
          "Miles_per_Gallon": 33.8,
          "Name": "subaru dl",
          "Origin": "Japan",
          "Weight_in_lbs": 2145,
          "Year": "1980-01-01T00:00:00"
         },
         {
          "Acceleration": 15.3,
          "Cylinders": 4,
          "Displacement": 89,
          "Horsepower": 62,
          "Miles_per_Gallon": 29.8,
          "Name": "vokswagen rabbit",
          "Origin": "Europe",
          "Weight_in_lbs": 1845,
          "Year": "1980-01-01T00:00:00"
         },
         {
          "Acceleration": 11.4,
          "Cylinders": 6,
          "Displacement": 168,
          "Horsepower": 132,
          "Miles_per_Gallon": 32.7,
          "Name": "datsun 280-zx",
          "Origin": "Japan",
          "Weight_in_lbs": 2910,
          "Year": "1980-01-01T00:00:00"
         },
         {
          "Acceleration": 12.5,
          "Cylinders": 3,
          "Displacement": 70,
          "Horsepower": 100,
          "Miles_per_Gallon": 23.7,
          "Name": "mazda rx-7 gs",
          "Origin": "Japan",
          "Weight_in_lbs": 2420,
          "Year": "1980-01-01T00:00:00"
         },
         {
          "Acceleration": 15.1,
          "Cylinders": 4,
          "Displacement": 122,
          "Horsepower": 88,
          "Miles_per_Gallon": 35,
          "Name": "triumph tr7 coupe",
          "Origin": "Europe",
          "Weight_in_lbs": 2500,
          "Year": "1980-01-01T00:00:00"
         },
         {
          "Acceleration": 14.3,
          "Cylinders": 4,
          "Displacement": 140,
          "Horsepower": null,
          "Miles_per_Gallon": 23.6,
          "Name": "ford mustang cobra",
          "Origin": "USA",
          "Weight_in_lbs": 2905,
          "Year": "1980-01-01T00:00:00"
         },
         {
          "Acceleration": 17,
          "Cylinders": 4,
          "Displacement": 107,
          "Horsepower": 72,
          "Miles_per_Gallon": 32.4,
          "Name": "honda Accelerationord",
          "Origin": "Japan",
          "Weight_in_lbs": 2290,
          "Year": "1980-01-01T00:00:00"
         },
         {
          "Acceleration": 15.7,
          "Cylinders": 4,
          "Displacement": 135,
          "Horsepower": 84,
          "Miles_per_Gallon": 27.2,
          "Name": "plymouth reliant",
          "Origin": "USA",
          "Weight_in_lbs": 2490,
          "Year": "1982-01-01T00:00:00"
         },
         {
          "Acceleration": 16.4,
          "Cylinders": 4,
          "Displacement": 151,
          "Horsepower": 84,
          "Miles_per_Gallon": 26.6,
          "Name": "buick skylark",
          "Origin": "USA",
          "Weight_in_lbs": 2635,
          "Year": "1982-01-01T00:00:00"
         },
         {
          "Acceleration": 14.4,
          "Cylinders": 4,
          "Displacement": 156,
          "Horsepower": 92,
          "Miles_per_Gallon": 25.8,
          "Name": "dodge aries wagon (sw)",
          "Origin": "USA",
          "Weight_in_lbs": 2620,
          "Year": "1982-01-01T00:00:00"
         },
         {
          "Acceleration": 12.6,
          "Cylinders": 6,
          "Displacement": 173,
          "Horsepower": 110,
          "Miles_per_Gallon": 23.5,
          "Name": "chevrolet citation",
          "Origin": "USA",
          "Weight_in_lbs": 2725,
          "Year": "1982-01-01T00:00:00"
         },
         {
          "Acceleration": 12.9,
          "Cylinders": 4,
          "Displacement": 135,
          "Horsepower": 84,
          "Miles_per_Gallon": 30,
          "Name": "plymouth reliant",
          "Origin": "USA",
          "Weight_in_lbs": 2385,
          "Year": "1982-01-01T00:00:00"
         },
         {
          "Acceleration": 16.9,
          "Cylinders": 4,
          "Displacement": 79,
          "Horsepower": 58,
          "Miles_per_Gallon": 39.1,
          "Name": "toyota starlet",
          "Origin": "Japan",
          "Weight_in_lbs": 1755,
          "Year": "1982-01-01T00:00:00"
         },
         {
          "Acceleration": 16.4,
          "Cylinders": 4,
          "Displacement": 86,
          "Horsepower": 64,
          "Miles_per_Gallon": 39,
          "Name": "plymouth champ",
          "Origin": "USA",
          "Weight_in_lbs": 1875,
          "Year": "1982-01-01T00:00:00"
         },
         {
          "Acceleration": 16.1,
          "Cylinders": 4,
          "Displacement": 81,
          "Horsepower": 60,
          "Miles_per_Gallon": 35.1,
          "Name": "honda civic 1300",
          "Origin": "Japan",
          "Weight_in_lbs": 1760,
          "Year": "1982-01-01T00:00:00"
         },
         {
          "Acceleration": 17.8,
          "Cylinders": 4,
          "Displacement": 97,
          "Horsepower": 67,
          "Miles_per_Gallon": 32.3,
          "Name": "subaru",
          "Origin": "Japan",
          "Weight_in_lbs": 2065,
          "Year": "1982-01-01T00:00:00"
         },
         {
          "Acceleration": 19.4,
          "Cylinders": 4,
          "Displacement": 85,
          "Horsepower": 65,
          "Miles_per_Gallon": 37,
          "Name": "datsun 210",
          "Origin": "Japan",
          "Weight_in_lbs": 1975,
          "Year": "1982-01-01T00:00:00"
         },
         {
          "Acceleration": 17.3,
          "Cylinders": 4,
          "Displacement": 89,
          "Horsepower": 62,
          "Miles_per_Gallon": 37.7,
          "Name": "toyota tercel",
          "Origin": "Japan",
          "Weight_in_lbs": 2050,
          "Year": "1982-01-01T00:00:00"
         },
         {
          "Acceleration": 16,
          "Cylinders": 4,
          "Displacement": 91,
          "Horsepower": 68,
          "Miles_per_Gallon": 34.1,
          "Name": "mazda glc 4",
          "Origin": "Japan",
          "Weight_in_lbs": 1985,
          "Year": "1982-01-01T00:00:00"
         },
         {
          "Acceleration": 14.9,
          "Cylinders": 4,
          "Displacement": 105,
          "Horsepower": 63,
          "Miles_per_Gallon": 34.7,
          "Name": "plymouth horizon 4",
          "Origin": "USA",
          "Weight_in_lbs": 2215,
          "Year": "1982-01-01T00:00:00"
         },
         {
          "Acceleration": 16.2,
          "Cylinders": 4,
          "Displacement": 98,
          "Horsepower": 65,
          "Miles_per_Gallon": 34.4,
          "Name": "ford escort 4w",
          "Origin": "USA",
          "Weight_in_lbs": 2045,
          "Year": "1982-01-01T00:00:00"
         },
         {
          "Acceleration": 20.7,
          "Cylinders": 4,
          "Displacement": 98,
          "Horsepower": 65,
          "Miles_per_Gallon": 29.9,
          "Name": "ford escort 2h",
          "Origin": "USA",
          "Weight_in_lbs": 2380,
          "Year": "1982-01-01T00:00:00"
         },
         {
          "Acceleration": 14.2,
          "Cylinders": 4,
          "Displacement": 105,
          "Horsepower": 74,
          "Miles_per_Gallon": 33,
          "Name": "volkswagen jetta",
          "Origin": "Europe",
          "Weight_in_lbs": 2190,
          "Year": "1982-01-01T00:00:00"
         },
         {
          "Acceleration": 15.8,
          "Cylinders": 4,
          "Displacement": 100,
          "Horsepower": null,
          "Miles_per_Gallon": 34.5,
          "Name": "renault 18i",
          "Origin": "Europe",
          "Weight_in_lbs": 2320,
          "Year": "1982-01-01T00:00:00"
         },
         {
          "Acceleration": 14.4,
          "Cylinders": 4,
          "Displacement": 107,
          "Horsepower": 75,
          "Miles_per_Gallon": 33.7,
          "Name": "honda prelude",
          "Origin": "Japan",
          "Weight_in_lbs": 2210,
          "Year": "1982-01-01T00:00:00"
         },
         {
          "Acceleration": 16.8,
          "Cylinders": 4,
          "Displacement": 108,
          "Horsepower": 75,
          "Miles_per_Gallon": 32.4,
          "Name": "toyota corolla",
          "Origin": "Japan",
          "Weight_in_lbs": 2350,
          "Year": "1982-01-01T00:00:00"
         },
         {
          "Acceleration": 14.8,
          "Cylinders": 4,
          "Displacement": 119,
          "Horsepower": 100,
          "Miles_per_Gallon": 32.9,
          "Name": "datsun 200sx",
          "Origin": "Japan",
          "Weight_in_lbs": 2615,
          "Year": "1982-01-01T00:00:00"
         },
         {
          "Acceleration": 18.3,
          "Cylinders": 4,
          "Displacement": 120,
          "Horsepower": 74,
          "Miles_per_Gallon": 31.6,
          "Name": "mazda 626",
          "Origin": "Japan",
          "Weight_in_lbs": 2635,
          "Year": "1982-01-01T00:00:00"
         },
         {
          "Acceleration": 20.4,
          "Cylinders": 4,
          "Displacement": 141,
          "Horsepower": 80,
          "Miles_per_Gallon": 28.1,
          "Name": "peugeot 505s turbo diesel",
          "Origin": "Europe",
          "Weight_in_lbs": 3230,
          "Year": "1982-01-01T00:00:00"
         },
         {
          "Acceleration": 15.4,
          "Cylinders": 4,
          "Displacement": 121,
          "Horsepower": 110,
          "Miles_per_Gallon": null,
          "Name": "saab 900s",
          "Origin": "Europe",
          "Weight_in_lbs": 2800,
          "Year": "1982-01-01T00:00:00"
         },
         {
          "Acceleration": 19.6,
          "Cylinders": 6,
          "Displacement": 145,
          "Horsepower": 76,
          "Miles_per_Gallon": 30.7,
          "Name": "volvo diesel",
          "Origin": "Europe",
          "Weight_in_lbs": 3160,
          "Year": "1982-01-01T00:00:00"
         },
         {
          "Acceleration": 12.6,
          "Cylinders": 6,
          "Displacement": 168,
          "Horsepower": 116,
          "Miles_per_Gallon": 25.4,
          "Name": "toyota cressida",
          "Origin": "Japan",
          "Weight_in_lbs": 2900,
          "Year": "1982-01-01T00:00:00"
         },
         {
          "Acceleration": 13.8,
          "Cylinders": 6,
          "Displacement": 146,
          "Horsepower": 120,
          "Miles_per_Gallon": 24.2,
          "Name": "datsun 810 maxima",
          "Origin": "Japan",
          "Weight_in_lbs": 2930,
          "Year": "1982-01-01T00:00:00"
         },
         {
          "Acceleration": 15.8,
          "Cylinders": 6,
          "Displacement": 231,
          "Horsepower": 110,
          "Miles_per_Gallon": 22.4,
          "Name": "buick century",
          "Origin": "USA",
          "Weight_in_lbs": 3415,
          "Year": "1982-01-01T00:00:00"
         },
         {
          "Acceleration": 19,
          "Cylinders": 8,
          "Displacement": 350,
          "Horsepower": 105,
          "Miles_per_Gallon": 26.6,
          "Name": "oldsmobile cutlass ls",
          "Origin": "USA",
          "Weight_in_lbs": 3725,
          "Year": "1982-01-01T00:00:00"
         },
         {
          "Acceleration": 17.1,
          "Cylinders": 6,
          "Displacement": 200,
          "Horsepower": 88,
          "Miles_per_Gallon": 20.2,
          "Name": "ford granada gl",
          "Origin": "USA",
          "Weight_in_lbs": 3060,
          "Year": "1982-01-01T00:00:00"
         },
         {
          "Acceleration": 16.6,
          "Cylinders": 6,
          "Displacement": 225,
          "Horsepower": 85,
          "Miles_per_Gallon": 17.6,
          "Name": "chrysler lebaron salon",
          "Origin": "USA",
          "Weight_in_lbs": 3465,
          "Year": "1982-01-01T00:00:00"
         },
         {
          "Acceleration": 19.6,
          "Cylinders": 4,
          "Displacement": 112,
          "Horsepower": 88,
          "Miles_per_Gallon": 28,
          "Name": "chevrolet cavalier",
          "Origin": "USA",
          "Weight_in_lbs": 2605,
          "Year": "1982-01-01T00:00:00"
         },
         {
          "Acceleration": 18.6,
          "Cylinders": 4,
          "Displacement": 112,
          "Horsepower": 88,
          "Miles_per_Gallon": 27,
          "Name": "chevrolet cavalier wagon",
          "Origin": "USA",
          "Weight_in_lbs": 2640,
          "Year": "1982-01-01T00:00:00"
         },
         {
          "Acceleration": 18,
          "Cylinders": 4,
          "Displacement": 112,
          "Horsepower": 88,
          "Miles_per_Gallon": 34,
          "Name": "chevrolet cavalier 2-door",
          "Origin": "USA",
          "Weight_in_lbs": 2395,
          "Year": "1982-01-01T00:00:00"
         },
         {
          "Acceleration": 16.2,
          "Cylinders": 4,
          "Displacement": 112,
          "Horsepower": 85,
          "Miles_per_Gallon": 31,
          "Name": "pontiac j2000 se hatchback",
          "Origin": "USA",
          "Weight_in_lbs": 2575,
          "Year": "1982-01-01T00:00:00"
         },
         {
          "Acceleration": 16,
          "Cylinders": 4,
          "Displacement": 135,
          "Horsepower": 84,
          "Miles_per_Gallon": 29,
          "Name": "dodge aries se",
          "Origin": "USA",
          "Weight_in_lbs": 2525,
          "Year": "1982-01-01T00:00:00"
         },
         {
          "Acceleration": 18,
          "Cylinders": 4,
          "Displacement": 151,
          "Horsepower": 90,
          "Miles_per_Gallon": 27,
          "Name": "pontiac phoenix",
          "Origin": "USA",
          "Weight_in_lbs": 2735,
          "Year": "1982-01-01T00:00:00"
         },
         {
          "Acceleration": 16.4,
          "Cylinders": 4,
          "Displacement": 140,
          "Horsepower": 92,
          "Miles_per_Gallon": 24,
          "Name": "ford fairmont futura",
          "Origin": "USA",
          "Weight_in_lbs": 2865,
          "Year": "1982-01-01T00:00:00"
         },
         {
          "Acceleration": 20.5,
          "Cylinders": 4,
          "Displacement": 151,
          "Horsepower": null,
          "Miles_per_Gallon": 23,
          "Name": "amc concord dl",
          "Origin": "USA",
          "Weight_in_lbs": 3035,
          "Year": "1982-01-01T00:00:00"
         },
         {
          "Acceleration": 15.3,
          "Cylinders": 4,
          "Displacement": 105,
          "Horsepower": 74,
          "Miles_per_Gallon": 36,
          "Name": "volkswagen rabbit l",
          "Origin": "Europe",
          "Weight_in_lbs": 1980,
          "Year": "1982-01-01T00:00:00"
         },
         {
          "Acceleration": 18.2,
          "Cylinders": 4,
          "Displacement": 91,
          "Horsepower": 68,
          "Miles_per_Gallon": 37,
          "Name": "mazda glc custom l",
          "Origin": "Japan",
          "Weight_in_lbs": 2025,
          "Year": "1982-01-01T00:00:00"
         },
         {
          "Acceleration": 17.6,
          "Cylinders": 4,
          "Displacement": 91,
          "Horsepower": 68,
          "Miles_per_Gallon": 31,
          "Name": "mazda glc custom",
          "Origin": "Japan",
          "Weight_in_lbs": 1970,
          "Year": "1982-01-01T00:00:00"
         },
         {
          "Acceleration": 14.7,
          "Cylinders": 4,
          "Displacement": 105,
          "Horsepower": 63,
          "Miles_per_Gallon": 38,
          "Name": "plymouth horizon miser",
          "Origin": "USA",
          "Weight_in_lbs": 2125,
          "Year": "1982-01-01T00:00:00"
         },
         {
          "Acceleration": 17.3,
          "Cylinders": 4,
          "Displacement": 98,
          "Horsepower": 70,
          "Miles_per_Gallon": 36,
          "Name": "mercury lynx l",
          "Origin": "USA",
          "Weight_in_lbs": 2125,
          "Year": "1982-01-01T00:00:00"
         },
         {
          "Acceleration": 14.5,
          "Cylinders": 4,
          "Displacement": 120,
          "Horsepower": 88,
          "Miles_per_Gallon": 36,
          "Name": "nissan stanza xe",
          "Origin": "Japan",
          "Weight_in_lbs": 2160,
          "Year": "1982-01-01T00:00:00"
         },
         {
          "Acceleration": 14.5,
          "Cylinders": 4,
          "Displacement": 107,
          "Horsepower": 75,
          "Miles_per_Gallon": 36,
          "Name": "honda Accelerationord",
          "Origin": "Japan",
          "Weight_in_lbs": 2205,
          "Year": "1982-01-01T00:00:00"
         },
         {
          "Acceleration": 16.9,
          "Cylinders": 4,
          "Displacement": 108,
          "Horsepower": 70,
          "Miles_per_Gallon": 34,
          "Name": "toyota corolla",
          "Origin": "Japan",
          "Weight_in_lbs": 2245,
          "Year": "1982-01-01T00:00:00"
         },
         {
          "Acceleration": 15,
          "Cylinders": 4,
          "Displacement": 91,
          "Horsepower": 67,
          "Miles_per_Gallon": 38,
          "Name": "honda civic",
          "Origin": "Japan",
          "Weight_in_lbs": 1965,
          "Year": "1982-01-01T00:00:00"
         },
         {
          "Acceleration": 15.7,
          "Cylinders": 4,
          "Displacement": 91,
          "Horsepower": 67,
          "Miles_per_Gallon": 32,
          "Name": "honda civic (auto)",
          "Origin": "Japan",
          "Weight_in_lbs": 1965,
          "Year": "1982-01-01T00:00:00"
         },
         {
          "Acceleration": 16.2,
          "Cylinders": 4,
          "Displacement": 91,
          "Horsepower": 67,
          "Miles_per_Gallon": 38,
          "Name": "datsun 310 gx",
          "Origin": "Japan",
          "Weight_in_lbs": 1995,
          "Year": "1982-01-01T00:00:00"
         },
         {
          "Acceleration": 16.4,
          "Cylinders": 6,
          "Displacement": 181,
          "Horsepower": 110,
          "Miles_per_Gallon": 25,
          "Name": "buick century limited",
          "Origin": "USA",
          "Weight_in_lbs": 2945,
          "Year": "1982-01-01T00:00:00"
         },
         {
          "Acceleration": 17,
          "Cylinders": 6,
          "Displacement": 262,
          "Horsepower": 85,
          "Miles_per_Gallon": 38,
          "Name": "oldsmobile cutlass ciera (diesel)",
          "Origin": "USA",
          "Weight_in_lbs": 3015,
          "Year": "1982-01-01T00:00:00"
         },
         {
          "Acceleration": 14.5,
          "Cylinders": 4,
          "Displacement": 156,
          "Horsepower": 92,
          "Miles_per_Gallon": 26,
          "Name": "chrysler lebaron medallion",
          "Origin": "USA",
          "Weight_in_lbs": 2585,
          "Year": "1982-01-01T00:00:00"
         },
         {
          "Acceleration": 14.7,
          "Cylinders": 6,
          "Displacement": 232,
          "Horsepower": 112,
          "Miles_per_Gallon": 22,
          "Name": "ford granada l",
          "Origin": "USA",
          "Weight_in_lbs": 2835,
          "Year": "1982-01-01T00:00:00"
         },
         {
          "Acceleration": 13.9,
          "Cylinders": 4,
          "Displacement": 144,
          "Horsepower": 96,
          "Miles_per_Gallon": 32,
          "Name": "toyota celica gt",
          "Origin": "Japan",
          "Weight_in_lbs": 2665,
          "Year": "1982-01-01T00:00:00"
         },
         {
          "Acceleration": 13,
          "Cylinders": 4,
          "Displacement": 135,
          "Horsepower": 84,
          "Miles_per_Gallon": 36,
          "Name": "dodge charger 2.2",
          "Origin": "USA",
          "Weight_in_lbs": 2370,
          "Year": "1982-01-01T00:00:00"
         },
         {
          "Acceleration": 17.3,
          "Cylinders": 4,
          "Displacement": 151,
          "Horsepower": 90,
          "Miles_per_Gallon": 27,
          "Name": "chevrolet camaro",
          "Origin": "USA",
          "Weight_in_lbs": 2950,
          "Year": "1982-01-01T00:00:00"
         },
         {
          "Acceleration": 15.6,
          "Cylinders": 4,
          "Displacement": 140,
          "Horsepower": 86,
          "Miles_per_Gallon": 27,
          "Name": "ford mustang gl",
          "Origin": "USA",
          "Weight_in_lbs": 2790,
          "Year": "1982-01-01T00:00:00"
         },
         {
          "Acceleration": 24.6,
          "Cylinders": 4,
          "Displacement": 97,
          "Horsepower": 52,
          "Miles_per_Gallon": 44,
          "Name": "vw pickup",
          "Origin": "Europe",
          "Weight_in_lbs": 2130,
          "Year": "1982-01-01T00:00:00"
         },
         {
          "Acceleration": 11.6,
          "Cylinders": 4,
          "Displacement": 135,
          "Horsepower": 84,
          "Miles_per_Gallon": 32,
          "Name": "dodge rampage",
          "Origin": "USA",
          "Weight_in_lbs": 2295,
          "Year": "1982-01-01T00:00:00"
         },
         {
          "Acceleration": 18.6,
          "Cylinders": 4,
          "Displacement": 120,
          "Horsepower": 79,
          "Miles_per_Gallon": 28,
          "Name": "ford ranger",
          "Origin": "USA",
          "Weight_in_lbs": 2625,
          "Year": "1982-01-01T00:00:00"
         },
         {
          "Acceleration": 19.4,
          "Cylinders": 4,
          "Displacement": 119,
          "Horsepower": 82,
          "Miles_per_Gallon": 31,
          "Name": "chevy s-10",
          "Origin": "USA",
          "Weight_in_lbs": 2720,
          "Year": "1982-01-01T00:00:00"
         }
        ]
       },
       "encoding": {
        "color": {
         "condition": {
          "field": "Cylinders",
          "param": "brush",
          "type": "ordinal"
         },
         "value": "grey"
        },
        "x": {
         "field": "Horsepower",
         "type": "quantitative"
        },
        "y": {
         "field": "Miles_per_Gallon",
         "type": "quantitative"
        }
       },
       "mark": {
        "type": "point"
       },
       "params": [
        {
         "name": "brush",
         "select": {
          "type": "interval"
         }
        }
       ]
      }
     }
    },
    "2884f51bddca46b093ce30fc734de58c": {
     "model_module": "@jupyter-widgets/controls",
     "model_module_version": "1.5.0",
     "model_name": "VBoxModel",
     "state": {
      "_dom_classes": [],
      "_model_module": "@jupyter-widgets/controls",
      "_model_module_version": "1.5.0",
      "_model_name": "VBoxModel",
      "_view_count": null,
      "_view_module": "@jupyter-widgets/controls",
      "_view_module_version": "1.5.0",
      "_view_name": "VBoxView",
      "box_style": "",
      "children": [
       "IPY_MODEL_230539b46b4c4d64902a6c3f955cf006",
       "IPY_MODEL_e0db6d9b928b4accb840bec4c7239bcf"
      ],
      "layout": "IPY_MODEL_e2855085fcc947c682b07fe73ad64d7d"
     }
    },
    "2980cff7fe544704bb621365c1d0d277": {
     "model_module": "@jupyter-widgets/base",
     "model_module_version": "1.2.0",
     "model_name": "LayoutModel",
     "state": {
      "_model_module": "@jupyter-widgets/base",
      "_model_module_version": "1.2.0",
      "_model_name": "LayoutModel",
      "_view_count": null,
      "_view_module": "@jupyter-widgets/base",
      "_view_module_version": "1.2.0",
      "_view_name": "LayoutView",
      "align_content": null,
      "align_items": null,
      "align_self": null,
      "border": null,
      "bottom": null,
      "display": null,
      "flex": null,
      "flex_flow": null,
      "grid_area": null,
      "grid_auto_columns": null,
      "grid_auto_flow": null,
      "grid_auto_rows": null,
      "grid_column": null,
      "grid_gap": null,
      "grid_row": null,
      "grid_template_areas": null,
      "grid_template_columns": null,
      "grid_template_rows": null,
      "height": null,
      "justify_content": null,
      "justify_items": null,
      "left": null,
      "margin": null,
      "max_height": null,
      "max_width": null,
      "min_height": null,
      "min_width": null,
      "object_fit": null,
      "object_position": null,
      "order": null,
      "overflow": null,
      "overflow_x": null,
      "overflow_y": null,
      "padding": null,
      "right": null,
      "top": null,
      "visibility": null,
      "width": null
     }
    },
    "344083d3034f4f69863da9c19adea9ec": {
     "model_module": "@jupyter-widgets/base",
     "model_module_version": "1.2.0",
     "model_name": "LayoutModel",
     "state": {
      "_model_module": "@jupyter-widgets/base",
      "_model_module_version": "1.2.0",
      "_model_name": "LayoutModel",
      "_view_count": null,
      "_view_module": "@jupyter-widgets/base",
      "_view_module_version": "1.2.0",
      "_view_name": "LayoutView",
      "align_content": null,
      "align_items": null,
      "align_self": null,
      "border": null,
      "bottom": null,
      "display": null,
      "flex": null,
      "flex_flow": null,
      "grid_area": null,
      "grid_auto_columns": null,
      "grid_auto_flow": null,
      "grid_auto_rows": null,
      "grid_column": null,
      "grid_gap": null,
      "grid_row": null,
      "grid_template_areas": null,
      "grid_template_columns": null,
      "grid_template_rows": null,
      "height": null,
      "justify_content": null,
      "justify_items": null,
      "left": null,
      "margin": null,
      "max_height": null,
      "max_width": null,
      "min_height": null,
      "min_width": null,
      "object_fit": null,
      "object_position": null,
      "order": null,
      "overflow": null,
      "overflow_x": null,
      "overflow_y": null,
      "padding": null,
      "right": null,
      "top": null,
      "visibility": null,
      "width": null
     }
    },
    "82466e7584014cc8913a0d8a0e742b7a": {
     "model_module": "anywidget",
     "model_module_version": "~0.9.*",
     "model_name": "AnyModel",
     "state": {
      "_anywidget_id": "altair.jupyter.jupyter_chart.JupyterChart",
      "_css": "\n    .vega-embed {\n        /* Make sure action menu isn't cut off */\n        overflow: visible;\n    }\n    ",
      "_dom_classes": [],
      "_esm": "import vegaEmbed from \"https://esm.sh/vega-embed@6?deps=vega@5&deps=vega-lite@5.17.0\";\nimport lodashDebounce from \"https://esm.sh/lodash-es@4.17.21/debounce\";\n\n// Note: For offline support, the import lines above are removed and the remaining script\n// is bundled using vl-convert's javascript_bundle function. See the documentation of\n// the javascript_bundle function for details on the available imports and their names.\n// If an additional import is required in the future, it will need to be added to vl-convert\n// in order to preserve offline support.\nasync function render({ model, el }) {\n    let finalize;\n\n    function showError(error){\n        el.innerHTML = (\n            '<div style=\"color:red;\">'\n            + '<p>JavaScript Error: ' + error.message + '</p>'\n            + \"<p>This usually means there's a typo in your chart specification. \"\n            + \"See the javascript console for the full traceback.</p>\"\n            + '</div>'\n        );\n    }\n\n    const reembed = async () => {\n        if (finalize != null) {\n          finalize();\n        }\n\n        model.set(\"local_tz\", Intl.DateTimeFormat().resolvedOptions().timeZone);\n\n        let spec = structuredClone(model.get(\"spec\"));\n        if (spec == null) {\n            // Remove any existing chart and return\n            while (el.firstChild) {\n                el.removeChild(el.lastChild);\n            }\n            model.save_changes();\n            return;\n        }\n        let embedOptions = structuredClone(model.get(\"embed_options\")) ?? undefined;\n\n        let api;\n        try {\n            api = await vegaEmbed(el, spec, embedOptions);\n        } catch (error) {\n            showError(error)\n            return;\n        }\n\n        finalize = api.finalize;\n\n        // Debounce config\n        const wait = model.get(\"debounce_wait\") ?? 10;\n        const debounceOpts = {leading: false, trailing: true};\n        if (model.get(\"max_wait\") ?? true) {\n            debounceOpts[\"maxWait\"] = wait;\n        }\n\n        const initialSelections = {};\n        for (const selectionName of Object.keys(model.get(\"_vl_selections\"))) {\n            const storeName = `${selectionName}_store`;\n            const selectionHandler = (_, value) => {\n                const newSelections = cleanJson(model.get(\"_vl_selections\") ?? {});\n                const store = cleanJson(api.view.data(storeName) ?? []);\n\n                newSelections[selectionName] = {value, store};\n                model.set(\"_vl_selections\", newSelections);\n                model.save_changes();\n            };\n            api.view.addSignalListener(selectionName, lodashDebounce(selectionHandler, wait, debounceOpts));\n\n            initialSelections[selectionName] = {\n                value: cleanJson(api.view.signal(selectionName) ?? {}),\n                store: cleanJson(api.view.data(storeName) ?? [])\n            }\n        }\n        model.set(\"_vl_selections\", initialSelections);\n\n        const initialParams = {};\n        for (const paramName of Object.keys(model.get(\"_params\"))) {\n            const paramHandler = (_, value) => {\n                const newParams = JSON.parse(JSON.stringify(model.get(\"_params\"))) || {};\n                newParams[paramName] = value;\n                model.set(\"_params\", newParams);\n                model.save_changes();\n            };\n            api.view.addSignalListener(paramName, lodashDebounce(paramHandler, wait, debounceOpts));\n\n            initialParams[paramName] = api.view.signal(paramName) ?? null\n        }\n        model.set(\"_params\", initialParams);\n        model.save_changes();\n\n        // Param change callback\n        model.on('change:_params', async (new_params) => {\n            for (const [param, value] of Object.entries(new_params.changed._params)) {\n                api.view.signal(param, value);\n            }\n            await api.view.runAsync();\n        });\n\n        // Add signal/data listeners\n        for (const watch of model.get(\"_js_watch_plan\") ?? []) {\n            if (watch.namespace === \"data\") {\n                const dataHandler = (_, value) => {\n                    model.set(\"_js_to_py_updates\", [{\n                        namespace: \"data\",\n                        name: watch.name,\n                        scope: watch.scope,\n                        value: cleanJson(value)\n                    }]);\n                    model.save_changes();\n                };\n                addDataListener(api.view, watch.name, watch.scope, lodashDebounce(dataHandler, wait, debounceOpts))\n\n            } else if (watch.namespace === \"signal\") {\n                const signalHandler = (_, value) => {\n                    model.set(\"_js_to_py_updates\", [{\n                        namespace: \"signal\",\n                        name: watch.name,\n                        scope: watch.scope,\n                        value: cleanJson(value)\n                    }]);\n                    model.save_changes();\n                };\n\n                addSignalListener(api.view, watch.name, watch.scope, lodashDebounce(signalHandler, wait, debounceOpts))\n            }\n        }\n\n        // Add signal/data updaters\n        model.on('change:_py_to_js_updates', async (updates) => {\n            for (const update of updates.changed._py_to_js_updates ?? []) {\n                if (update.namespace === \"signal\") {\n                    setSignalValue(api.view, update.name, update.scope, update.value);\n                } else if (update.namespace === \"data\") {\n                    setDataValue(api.view, update.name, update.scope, update.value);\n                }\n            }\n            await api.view.runAsync();\n        });\n    }\n\n    model.on('change:spec', reembed);\n    model.on('change:embed_options', reembed);\n    model.on('change:debounce_wait', reembed);\n    model.on('change:max_wait', reembed);\n    await reembed();\n}\n\nfunction cleanJson(data) {\n    return JSON.parse(JSON.stringify(data))\n}\n\nfunction getNestedRuntime(view, scope) {\n    var runtime = view._runtime;\n    for (const index of scope) {\n        runtime = runtime.subcontext[index];\n    }\n    return runtime\n}\n\nfunction lookupSignalOp(view, name, scope) {\n    let parent_runtime = getNestedRuntime(view, scope);\n    return parent_runtime.signals[name] ?? null;\n}\n\nfunction dataRef(view, name, scope) {\n    let parent_runtime = getNestedRuntime(view, scope);\n    return parent_runtime.data[name];\n}\n\nexport function setSignalValue(view, name, scope, value) {\n    let signal_op = lookupSignalOp(view, name, scope);\n    view.update(signal_op, value);\n}\n\nexport function setDataValue(view, name, scope, value) {\n    let dataset = dataRef(view, name, scope);\n    let changeset = view.changeset().remove(() => true).insert(value)\n    dataset.modified = true;\n    view.pulse(dataset.input, changeset);\n}\n\nexport function addSignalListener(view, name, scope, handler) {\n    let signal_op = lookupSignalOp(view, name, scope);\n    return addOperatorListener(\n        view,\n        name,\n        signal_op,\n        handler,\n    );\n}\n\nexport function addDataListener(view, name, scope, handler) {\n    let dataset = dataRef(view, name, scope).values;\n    return addOperatorListener(\n        view,\n        name,\n        dataset,\n        handler,\n    );\n}\n\n// Private helpers from Vega for dealing with nested signals/data\nfunction findOperatorHandler(op, handler) {\n    const h = (op._targets || [])\n        .filter(op => op._update && op._update.handler === handler);\n    return h.length ? h[0] : null;\n}\n\nfunction addOperatorListener(view, name, op, handler) {\n    let h = findOperatorHandler(op, handler);\n    if (!h) {\n        h = trap(view, () => handler(name, op.value));\n        h.handler = handler;\n        view.on(op, null, h);\n    }\n    return view;\n}\n\nfunction trap(view, fn) {\n    return !fn ? null : function() {\n        try {\n            fn.apply(this, arguments);\n        } catch (error) {\n            view.error(error);\n        }\n    };\n}\n\nexport default { render }\n",
      "_js_to_py_updates": null,
      "_js_watch_plan": null,
      "_model_module": "anywidget",
      "_model_module_version": "~0.9.*",
      "_model_name": "AnyModel",
      "_params": {},
      "_py_to_js_updates": null,
      "_view_count": null,
      "_view_module": "anywidget",
      "_view_module_version": "~0.9.*",
      "_view_name": "AnyView",
      "_vl_selections": {
       "brush": {
        "store": [
         {
          "fields": [
           {
            "channel": "x",
            "field": "Horsepower",
            "type": "R"
           },
           {
            "channel": "y",
            "field": "Miles_per_Gallon",
            "type": "R"
           }
          ],
          "unit": "",
          "values": [
           [
            91.0625,
            111.9875
           ],
           [
            21.468749999999996,
            15.153645833333334
           ]
          ]
         }
        ],
        "value": {
         "Horsepower": [
          91.0625,
          111.9875
         ],
         "Miles_per_Gallon": [
          15.153645833333334,
          21.468749999999996
         ]
        }
       }
      },
      "debounce_wait": 10,
      "embed_options": null,
      "layout": "IPY_MODEL_c5ecebdeec6845febe35aea9c3d61755",
      "local_tz": "America/New_York",
      "max_wait": true,
      "spec": {
       "$schema": "https://vega.github.io/schema/vega-lite/v5.17.0.json",
       "config": {
        "view": {
         "continuousHeight": 300,
         "continuousWidth": 300
        }
       },
       "data": {
        "name": "data-583e73726c1545c56c203344161a975c"
       },
       "datasets": {
        "data-583e73726c1545c56c203344161a975c": [
         {
          "Acceleration": 12,
          "Cylinders": 8,
          "Displacement": 307,
          "Horsepower": 130,
          "Miles_per_Gallon": 18,
          "Name": "chevrolet chevelle malibu",
          "Origin": "USA",
          "Weight_in_lbs": 3504,
          "Year": "1970-01-01T00:00:00"
         },
         {
          "Acceleration": 11.5,
          "Cylinders": 8,
          "Displacement": 350,
          "Horsepower": 165,
          "Miles_per_Gallon": 15,
          "Name": "buick skylark 320",
          "Origin": "USA",
          "Weight_in_lbs": 3693,
          "Year": "1970-01-01T00:00:00"
         },
         {
          "Acceleration": 11,
          "Cylinders": 8,
          "Displacement": 318,
          "Horsepower": 150,
          "Miles_per_Gallon": 18,
          "Name": "plymouth satellite",
          "Origin": "USA",
          "Weight_in_lbs": 3436,
          "Year": "1970-01-01T00:00:00"
         },
         {
          "Acceleration": 12,
          "Cylinders": 8,
          "Displacement": 304,
          "Horsepower": 150,
          "Miles_per_Gallon": 16,
          "Name": "amc rebel sst",
          "Origin": "USA",
          "Weight_in_lbs": 3433,
          "Year": "1970-01-01T00:00:00"
         },
         {
          "Acceleration": 10.5,
          "Cylinders": 8,
          "Displacement": 302,
          "Horsepower": 140,
          "Miles_per_Gallon": 17,
          "Name": "ford torino",
          "Origin": "USA",
          "Weight_in_lbs": 3449,
          "Year": "1970-01-01T00:00:00"
         },
         {
          "Acceleration": 10,
          "Cylinders": 8,
          "Displacement": 429,
          "Horsepower": 198,
          "Miles_per_Gallon": 15,
          "Name": "ford galaxie 500",
          "Origin": "USA",
          "Weight_in_lbs": 4341,
          "Year": "1970-01-01T00:00:00"
         },
         {
          "Acceleration": 9,
          "Cylinders": 8,
          "Displacement": 454,
          "Horsepower": 220,
          "Miles_per_Gallon": 14,
          "Name": "chevrolet impala",
          "Origin": "USA",
          "Weight_in_lbs": 4354,
          "Year": "1970-01-01T00:00:00"
         },
         {
          "Acceleration": 8.5,
          "Cylinders": 8,
          "Displacement": 440,
          "Horsepower": 215,
          "Miles_per_Gallon": 14,
          "Name": "plymouth fury iii",
          "Origin": "USA",
          "Weight_in_lbs": 4312,
          "Year": "1970-01-01T00:00:00"
         },
         {
          "Acceleration": 10,
          "Cylinders": 8,
          "Displacement": 455,
          "Horsepower": 225,
          "Miles_per_Gallon": 14,
          "Name": "pontiac catalina",
          "Origin": "USA",
          "Weight_in_lbs": 4425,
          "Year": "1970-01-01T00:00:00"
         },
         {
          "Acceleration": 8.5,
          "Cylinders": 8,
          "Displacement": 390,
          "Horsepower": 190,
          "Miles_per_Gallon": 15,
          "Name": "amc ambassador dpl",
          "Origin": "USA",
          "Weight_in_lbs": 3850,
          "Year": "1970-01-01T00:00:00"
         },
         {
          "Acceleration": 17.5,
          "Cylinders": 4,
          "Displacement": 133,
          "Horsepower": 115,
          "Miles_per_Gallon": null,
          "Name": "citroen ds-21 pallas",
          "Origin": "Europe",
          "Weight_in_lbs": 3090,
          "Year": "1970-01-01T00:00:00"
         },
         {
          "Acceleration": 11.5,
          "Cylinders": 8,
          "Displacement": 350,
          "Horsepower": 165,
          "Miles_per_Gallon": null,
          "Name": "chevrolet chevelle concours (sw)",
          "Origin": "USA",
          "Weight_in_lbs": 4142,
          "Year": "1970-01-01T00:00:00"
         },
         {
          "Acceleration": 11,
          "Cylinders": 8,
          "Displacement": 351,
          "Horsepower": 153,
          "Miles_per_Gallon": null,
          "Name": "ford torino (sw)",
          "Origin": "USA",
          "Weight_in_lbs": 4034,
          "Year": "1970-01-01T00:00:00"
         },
         {
          "Acceleration": 10.5,
          "Cylinders": 8,
          "Displacement": 383,
          "Horsepower": 175,
          "Miles_per_Gallon": null,
          "Name": "plymouth satellite (sw)",
          "Origin": "USA",
          "Weight_in_lbs": 4166,
          "Year": "1970-01-01T00:00:00"
         },
         {
          "Acceleration": 11,
          "Cylinders": 8,
          "Displacement": 360,
          "Horsepower": 175,
          "Miles_per_Gallon": null,
          "Name": "amc rebel sst (sw)",
          "Origin": "USA",
          "Weight_in_lbs": 3850,
          "Year": "1970-01-01T00:00:00"
         },
         {
          "Acceleration": 10,
          "Cylinders": 8,
          "Displacement": 383,
          "Horsepower": 170,
          "Miles_per_Gallon": 15,
          "Name": "dodge challenger se",
          "Origin": "USA",
          "Weight_in_lbs": 3563,
          "Year": "1970-01-01T00:00:00"
         },
         {
          "Acceleration": 8,
          "Cylinders": 8,
          "Displacement": 340,
          "Horsepower": 160,
          "Miles_per_Gallon": 14,
          "Name": "plymouth 'cuda 340",
          "Origin": "USA",
          "Weight_in_lbs": 3609,
          "Year": "1970-01-01T00:00:00"
         },
         {
          "Acceleration": 8,
          "Cylinders": 8,
          "Displacement": 302,
          "Horsepower": 140,
          "Miles_per_Gallon": null,
          "Name": "ford mustang boss 302",
          "Origin": "USA",
          "Weight_in_lbs": 3353,
          "Year": "1970-01-01T00:00:00"
         },
         {
          "Acceleration": 9.5,
          "Cylinders": 8,
          "Displacement": 400,
          "Horsepower": 150,
          "Miles_per_Gallon": 15,
          "Name": "chevrolet monte carlo",
          "Origin": "USA",
          "Weight_in_lbs": 3761,
          "Year": "1970-01-01T00:00:00"
         },
         {
          "Acceleration": 10,
          "Cylinders": 8,
          "Displacement": 455,
          "Horsepower": 225,
          "Miles_per_Gallon": 14,
          "Name": "buick estate wagon (sw)",
          "Origin": "USA",
          "Weight_in_lbs": 3086,
          "Year": "1970-01-01T00:00:00"
         },
         {
          "Acceleration": 15,
          "Cylinders": 4,
          "Displacement": 113,
          "Horsepower": 95,
          "Miles_per_Gallon": 24,
          "Name": "toyota corona mark ii",
          "Origin": "Japan",
          "Weight_in_lbs": 2372,
          "Year": "1970-01-01T00:00:00"
         },
         {
          "Acceleration": 15.5,
          "Cylinders": 6,
          "Displacement": 198,
          "Horsepower": 95,
          "Miles_per_Gallon": 22,
          "Name": "plymouth duster",
          "Origin": "USA",
          "Weight_in_lbs": 2833,
          "Year": "1970-01-01T00:00:00"
         },
         {
          "Acceleration": 15.5,
          "Cylinders": 6,
          "Displacement": 199,
          "Horsepower": 97,
          "Miles_per_Gallon": 18,
          "Name": "amc hornet",
          "Origin": "USA",
          "Weight_in_lbs": 2774,
          "Year": "1970-01-01T00:00:00"
         },
         {
          "Acceleration": 16,
          "Cylinders": 6,
          "Displacement": 200,
          "Horsepower": 85,
          "Miles_per_Gallon": 21,
          "Name": "ford maverick",
          "Origin": "USA",
          "Weight_in_lbs": 2587,
          "Year": "1970-01-01T00:00:00"
         },
         {
          "Acceleration": 14.5,
          "Cylinders": 4,
          "Displacement": 97,
          "Horsepower": 88,
          "Miles_per_Gallon": 27,
          "Name": "datsun pl510",
          "Origin": "Japan",
          "Weight_in_lbs": 2130,
          "Year": "1970-01-01T00:00:00"
         },
         {
          "Acceleration": 20.5,
          "Cylinders": 4,
          "Displacement": 97,
          "Horsepower": 46,
          "Miles_per_Gallon": 26,
          "Name": "volkswagen 1131 deluxe sedan",
          "Origin": "Europe",
          "Weight_in_lbs": 1835,
          "Year": "1970-01-01T00:00:00"
         },
         {
          "Acceleration": 17.5,
          "Cylinders": 4,
          "Displacement": 110,
          "Horsepower": 87,
          "Miles_per_Gallon": 25,
          "Name": "peugeot 504",
          "Origin": "Europe",
          "Weight_in_lbs": 2672,
          "Year": "1970-01-01T00:00:00"
         },
         {
          "Acceleration": 14.5,
          "Cylinders": 4,
          "Displacement": 107,
          "Horsepower": 90,
          "Miles_per_Gallon": 24,
          "Name": "audi 100 ls",
          "Origin": "Europe",
          "Weight_in_lbs": 2430,
          "Year": "1970-01-01T00:00:00"
         },
         {
          "Acceleration": 17.5,
          "Cylinders": 4,
          "Displacement": 104,
          "Horsepower": 95,
          "Miles_per_Gallon": 25,
          "Name": "saab 99e",
          "Origin": "Europe",
          "Weight_in_lbs": 2375,
          "Year": "1970-01-01T00:00:00"
         },
         {
          "Acceleration": 12.5,
          "Cylinders": 4,
          "Displacement": 121,
          "Horsepower": 113,
          "Miles_per_Gallon": 26,
          "Name": "bmw 2002",
          "Origin": "Europe",
          "Weight_in_lbs": 2234,
          "Year": "1970-01-01T00:00:00"
         },
         {
          "Acceleration": 15,
          "Cylinders": 6,
          "Displacement": 199,
          "Horsepower": 90,
          "Miles_per_Gallon": 21,
          "Name": "amc gremlin",
          "Origin": "USA",
          "Weight_in_lbs": 2648,
          "Year": "1970-01-01T00:00:00"
         },
         {
          "Acceleration": 14,
          "Cylinders": 8,
          "Displacement": 360,
          "Horsepower": 215,
          "Miles_per_Gallon": 10,
          "Name": "ford f250",
          "Origin": "USA",
          "Weight_in_lbs": 4615,
          "Year": "1970-01-01T00:00:00"
         },
         {
          "Acceleration": 15,
          "Cylinders": 8,
          "Displacement": 307,
          "Horsepower": 200,
          "Miles_per_Gallon": 10,
          "Name": "chevy c20",
          "Origin": "USA",
          "Weight_in_lbs": 4376,
          "Year": "1970-01-01T00:00:00"
         },
         {
          "Acceleration": 13.5,
          "Cylinders": 8,
          "Displacement": 318,
          "Horsepower": 210,
          "Miles_per_Gallon": 11,
          "Name": "dodge d200",
          "Origin": "USA",
          "Weight_in_lbs": 4382,
          "Year": "1970-01-01T00:00:00"
         },
         {
          "Acceleration": 18.5,
          "Cylinders": 8,
          "Displacement": 304,
          "Horsepower": 193,
          "Miles_per_Gallon": 9,
          "Name": "hi 1200d",
          "Origin": "USA",
          "Weight_in_lbs": 4732,
          "Year": "1970-01-01T00:00:00"
         },
         {
          "Acceleration": 14.5,
          "Cylinders": 4,
          "Displacement": 97,
          "Horsepower": 88,
          "Miles_per_Gallon": 27,
          "Name": "datsun pl510",
          "Origin": "Japan",
          "Weight_in_lbs": 2130,
          "Year": "1971-01-01T00:00:00"
         },
         {
          "Acceleration": 15.5,
          "Cylinders": 4,
          "Displacement": 140,
          "Horsepower": 90,
          "Miles_per_Gallon": 28,
          "Name": "chevrolet vega 2300",
          "Origin": "USA",
          "Weight_in_lbs": 2264,
          "Year": "1971-01-01T00:00:00"
         },
         {
          "Acceleration": 14,
          "Cylinders": 4,
          "Displacement": 113,
          "Horsepower": 95,
          "Miles_per_Gallon": 25,
          "Name": "toyota corona",
          "Origin": "Japan",
          "Weight_in_lbs": 2228,
          "Year": "1971-01-01T00:00:00"
         },
         {
          "Acceleration": 19,
          "Cylinders": 4,
          "Displacement": 98,
          "Horsepower": null,
          "Miles_per_Gallon": 25,
          "Name": "ford pinto",
          "Origin": "USA",
          "Weight_in_lbs": 2046,
          "Year": "1971-01-01T00:00:00"
         },
         {
          "Acceleration": 20,
          "Cylinders": 4,
          "Displacement": 97,
          "Horsepower": 48,
          "Miles_per_Gallon": null,
          "Name": "volkswagen super beetle 117",
          "Origin": "Europe",
          "Weight_in_lbs": 1978,
          "Year": "1971-01-01T00:00:00"
         },
         {
          "Acceleration": 13,
          "Cylinders": 6,
          "Displacement": 232,
          "Horsepower": 100,
          "Miles_per_Gallon": 19,
          "Name": "amc gremlin",
          "Origin": "USA",
          "Weight_in_lbs": 2634,
          "Year": "1971-01-01T00:00:00"
         },
         {
          "Acceleration": 15.5,
          "Cylinders": 6,
          "Displacement": 225,
          "Horsepower": 105,
          "Miles_per_Gallon": 16,
          "Name": "plymouth satellite custom",
          "Origin": "USA",
          "Weight_in_lbs": 3439,
          "Year": "1971-01-01T00:00:00"
         },
         {
          "Acceleration": 15.5,
          "Cylinders": 6,
          "Displacement": 250,
          "Horsepower": 100,
          "Miles_per_Gallon": 17,
          "Name": "chevrolet chevelle malibu",
          "Origin": "USA",
          "Weight_in_lbs": 3329,
          "Year": "1971-01-01T00:00:00"
         },
         {
          "Acceleration": 15.5,
          "Cylinders": 6,
          "Displacement": 250,
          "Horsepower": 88,
          "Miles_per_Gallon": 19,
          "Name": "ford torino 500",
          "Origin": "USA",
          "Weight_in_lbs": 3302,
          "Year": "1971-01-01T00:00:00"
         },
         {
          "Acceleration": 15.5,
          "Cylinders": 6,
          "Displacement": 232,
          "Horsepower": 100,
          "Miles_per_Gallon": 18,
          "Name": "amc matador",
          "Origin": "USA",
          "Weight_in_lbs": 3288,
          "Year": "1971-01-01T00:00:00"
         },
         {
          "Acceleration": 12,
          "Cylinders": 8,
          "Displacement": 350,
          "Horsepower": 165,
          "Miles_per_Gallon": 14,
          "Name": "chevrolet impala",
          "Origin": "USA",
          "Weight_in_lbs": 4209,
          "Year": "1971-01-01T00:00:00"
         },
         {
          "Acceleration": 11.5,
          "Cylinders": 8,
          "Displacement": 400,
          "Horsepower": 175,
          "Miles_per_Gallon": 14,
          "Name": "pontiac catalina brougham",
          "Origin": "USA",
          "Weight_in_lbs": 4464,
          "Year": "1971-01-01T00:00:00"
         },
         {
          "Acceleration": 13.5,
          "Cylinders": 8,
          "Displacement": 351,
          "Horsepower": 153,
          "Miles_per_Gallon": 14,
          "Name": "ford galaxie 500",
          "Origin": "USA",
          "Weight_in_lbs": 4154,
          "Year": "1971-01-01T00:00:00"
         },
         {
          "Acceleration": 13,
          "Cylinders": 8,
          "Displacement": 318,
          "Horsepower": 150,
          "Miles_per_Gallon": 14,
          "Name": "plymouth fury iii",
          "Origin": "USA",
          "Weight_in_lbs": 4096,
          "Year": "1971-01-01T00:00:00"
         },
         {
          "Acceleration": 11.5,
          "Cylinders": 8,
          "Displacement": 383,
          "Horsepower": 180,
          "Miles_per_Gallon": 12,
          "Name": "dodge monaco (sw)",
          "Origin": "USA",
          "Weight_in_lbs": 4955,
          "Year": "1971-01-01T00:00:00"
         },
         {
          "Acceleration": 12,
          "Cylinders": 8,
          "Displacement": 400,
          "Horsepower": 170,
          "Miles_per_Gallon": 13,
          "Name": "ford country squire (sw)",
          "Origin": "USA",
          "Weight_in_lbs": 4746,
          "Year": "1971-01-01T00:00:00"
         },
         {
          "Acceleration": 12,
          "Cylinders": 8,
          "Displacement": 400,
          "Horsepower": 175,
          "Miles_per_Gallon": 13,
          "Name": "pontiac safari (sw)",
          "Origin": "USA",
          "Weight_in_lbs": 5140,
          "Year": "1971-01-01T00:00:00"
         },
         {
          "Acceleration": 13.5,
          "Cylinders": 6,
          "Displacement": 258,
          "Horsepower": 110,
          "Miles_per_Gallon": 18,
          "Name": "amc hornet sportabout (sw)",
          "Origin": "USA",
          "Weight_in_lbs": 2962,
          "Year": "1971-01-01T00:00:00"
         },
         {
          "Acceleration": 19,
          "Cylinders": 4,
          "Displacement": 140,
          "Horsepower": 72,
          "Miles_per_Gallon": 22,
          "Name": "chevrolet vega (sw)",
          "Origin": "USA",
          "Weight_in_lbs": 2408,
          "Year": "1971-01-01T00:00:00"
         },
         {
          "Acceleration": 15,
          "Cylinders": 6,
          "Displacement": 250,
          "Horsepower": 100,
          "Miles_per_Gallon": 19,
          "Name": "pontiac firebird",
          "Origin": "USA",
          "Weight_in_lbs": 3282,
          "Year": "1971-01-01T00:00:00"
         },
         {
          "Acceleration": 14.5,
          "Cylinders": 6,
          "Displacement": 250,
          "Horsepower": 88,
          "Miles_per_Gallon": 18,
          "Name": "ford mustang",
          "Origin": "USA",
          "Weight_in_lbs": 3139,
          "Year": "1971-01-01T00:00:00"
         },
         {
          "Acceleration": 14,
          "Cylinders": 4,
          "Displacement": 122,
          "Horsepower": 86,
          "Miles_per_Gallon": 23,
          "Name": "mercury capri 2000",
          "Origin": "USA",
          "Weight_in_lbs": 2220,
          "Year": "1971-01-01T00:00:00"
         },
         {
          "Acceleration": 14,
          "Cylinders": 4,
          "Displacement": 116,
          "Horsepower": 90,
          "Miles_per_Gallon": 28,
          "Name": "opel 1900",
          "Origin": "Europe",
          "Weight_in_lbs": 2123,
          "Year": "1971-01-01T00:00:00"
         },
         {
          "Acceleration": 19.5,
          "Cylinders": 4,
          "Displacement": 79,
          "Horsepower": 70,
          "Miles_per_Gallon": 30,
          "Name": "peugeot 304",
          "Origin": "Europe",
          "Weight_in_lbs": 2074,
          "Year": "1971-01-01T00:00:00"
         },
         {
          "Acceleration": 14.5,
          "Cylinders": 4,
          "Displacement": 88,
          "Horsepower": 76,
          "Miles_per_Gallon": 30,
          "Name": "fiat 124b",
          "Origin": "Europe",
          "Weight_in_lbs": 2065,
          "Year": "1971-01-01T00:00:00"
         },
         {
          "Acceleration": 19,
          "Cylinders": 4,
          "Displacement": 71,
          "Horsepower": 65,
          "Miles_per_Gallon": 31,
          "Name": "toyota corolla 1200",
          "Origin": "Japan",
          "Weight_in_lbs": 1773,
          "Year": "1971-01-01T00:00:00"
         },
         {
          "Acceleration": 18,
          "Cylinders": 4,
          "Displacement": 72,
          "Horsepower": 69,
          "Miles_per_Gallon": 35,
          "Name": "datsun 1200",
          "Origin": "Japan",
          "Weight_in_lbs": 1613,
          "Year": "1971-01-01T00:00:00"
         },
         {
          "Acceleration": 19,
          "Cylinders": 4,
          "Displacement": 97,
          "Horsepower": 60,
          "Miles_per_Gallon": 27,
          "Name": "volkswagen model 111",
          "Origin": "Europe",
          "Weight_in_lbs": 1834,
          "Year": "1971-01-01T00:00:00"
         },
         {
          "Acceleration": 20.5,
          "Cylinders": 4,
          "Displacement": 91,
          "Horsepower": 70,
          "Miles_per_Gallon": 26,
          "Name": "plymouth cricket",
          "Origin": "USA",
          "Weight_in_lbs": 1955,
          "Year": "1971-01-01T00:00:00"
         },
         {
          "Acceleration": 15.5,
          "Cylinders": 4,
          "Displacement": 113,
          "Horsepower": 95,
          "Miles_per_Gallon": 24,
          "Name": "toyota corona hardtop",
          "Origin": "Japan",
          "Weight_in_lbs": 2278,
          "Year": "1972-01-01T00:00:00"
         },
         {
          "Acceleration": 17,
          "Cylinders": 4,
          "Displacement": 97.5,
          "Horsepower": 80,
          "Miles_per_Gallon": 25,
          "Name": "dodge colt hardtop",
          "Origin": "USA",
          "Weight_in_lbs": 2126,
          "Year": "1972-01-01T00:00:00"
         },
         {
          "Acceleration": 23.5,
          "Cylinders": 4,
          "Displacement": 97,
          "Horsepower": 54,
          "Miles_per_Gallon": 23,
          "Name": "volkswagen type 3",
          "Origin": "Europe",
          "Weight_in_lbs": 2254,
          "Year": "1972-01-01T00:00:00"
         },
         {
          "Acceleration": 19.5,
          "Cylinders": 4,
          "Displacement": 140,
          "Horsepower": 90,
          "Miles_per_Gallon": 20,
          "Name": "chevrolet vega",
          "Origin": "USA",
          "Weight_in_lbs": 2408,
          "Year": "1972-01-01T00:00:00"
         },
         {
          "Acceleration": 16.5,
          "Cylinders": 4,
          "Displacement": 122,
          "Horsepower": 86,
          "Miles_per_Gallon": 21,
          "Name": "ford pinto runabout",
          "Origin": "USA",
          "Weight_in_lbs": 2226,
          "Year": "1972-01-01T00:00:00"
         },
         {
          "Acceleration": 12,
          "Cylinders": 8,
          "Displacement": 350,
          "Horsepower": 165,
          "Miles_per_Gallon": 13,
          "Name": "chevrolet impala",
          "Origin": "USA",
          "Weight_in_lbs": 4274,
          "Year": "1972-01-01T00:00:00"
         },
         {
          "Acceleration": 12,
          "Cylinders": 8,
          "Displacement": 400,
          "Horsepower": 175,
          "Miles_per_Gallon": 14,
          "Name": "pontiac catalina",
          "Origin": "USA",
          "Weight_in_lbs": 4385,
          "Year": "1972-01-01T00:00:00"
         },
         {
          "Acceleration": 13.5,
          "Cylinders": 8,
          "Displacement": 318,
          "Horsepower": 150,
          "Miles_per_Gallon": 15,
          "Name": "plymouth fury iii",
          "Origin": "USA",
          "Weight_in_lbs": 4135,
          "Year": "1972-01-01T00:00:00"
         },
         {
          "Acceleration": 13,
          "Cylinders": 8,
          "Displacement": 351,
          "Horsepower": 153,
          "Miles_per_Gallon": 14,
          "Name": "ford galaxie 500",
          "Origin": "USA",
          "Weight_in_lbs": 4129,
          "Year": "1972-01-01T00:00:00"
         },
         {
          "Acceleration": 11.5,
          "Cylinders": 8,
          "Displacement": 304,
          "Horsepower": 150,
          "Miles_per_Gallon": 17,
          "Name": "amc ambassador sst",
          "Origin": "USA",
          "Weight_in_lbs": 3672,
          "Year": "1972-01-01T00:00:00"
         },
         {
          "Acceleration": 11,
          "Cylinders": 8,
          "Displacement": 429,
          "Horsepower": 208,
          "Miles_per_Gallon": 11,
          "Name": "mercury marquis",
          "Origin": "USA",
          "Weight_in_lbs": 4633,
          "Year": "1972-01-01T00:00:00"
         },
         {
          "Acceleration": 13.5,
          "Cylinders": 8,
          "Displacement": 350,
          "Horsepower": 155,
          "Miles_per_Gallon": 13,
          "Name": "buick lesabre custom",
          "Origin": "USA",
          "Weight_in_lbs": 4502,
          "Year": "1972-01-01T00:00:00"
         },
         {
          "Acceleration": 13.5,
          "Cylinders": 8,
          "Displacement": 350,
          "Horsepower": 160,
          "Miles_per_Gallon": 12,
          "Name": "oldsmobile delta 88 royale",
          "Origin": "USA",
          "Weight_in_lbs": 4456,
          "Year": "1972-01-01T00:00:00"
         },
         {
          "Acceleration": 12.5,
          "Cylinders": 8,
          "Displacement": 400,
          "Horsepower": 190,
          "Miles_per_Gallon": 13,
          "Name": "chrysler newport royal",
          "Origin": "USA",
          "Weight_in_lbs": 4422,
          "Year": "1972-01-01T00:00:00"
         },
         {
          "Acceleration": 13.5,
          "Cylinders": 3,
          "Displacement": 70,
          "Horsepower": 97,
          "Miles_per_Gallon": 19,
          "Name": "mazda rx2 coupe",
          "Origin": "Japan",
          "Weight_in_lbs": 2330,
          "Year": "1972-01-01T00:00:00"
         },
         {
          "Acceleration": 12.5,
          "Cylinders": 8,
          "Displacement": 304,
          "Horsepower": 150,
          "Miles_per_Gallon": 15,
          "Name": "amc matador (sw)",
          "Origin": "USA",
          "Weight_in_lbs": 3892,
          "Year": "1972-01-01T00:00:00"
         },
         {
          "Acceleration": 14,
          "Cylinders": 8,
          "Displacement": 307,
          "Horsepower": 130,
          "Miles_per_Gallon": 13,
          "Name": "chevrolet chevelle concours (sw)",
          "Origin": "USA",
          "Weight_in_lbs": 4098,
          "Year": "1972-01-01T00:00:00"
         },
         {
          "Acceleration": 16,
          "Cylinders": 8,
          "Displacement": 302,
          "Horsepower": 140,
          "Miles_per_Gallon": 13,
          "Name": "ford gran torino (sw)",
          "Origin": "USA",
          "Weight_in_lbs": 4294,
          "Year": "1972-01-01T00:00:00"
         },
         {
          "Acceleration": 14,
          "Cylinders": 8,
          "Displacement": 318,
          "Horsepower": 150,
          "Miles_per_Gallon": 14,
          "Name": "plymouth satellite custom (sw)",
          "Origin": "USA",
          "Weight_in_lbs": 4077,
          "Year": "1972-01-01T00:00:00"
         },
         {
          "Acceleration": 14.5,
          "Cylinders": 4,
          "Displacement": 121,
          "Horsepower": 112,
          "Miles_per_Gallon": 18,
          "Name": "volvo 145e (sw)",
          "Origin": "Europe",
          "Weight_in_lbs": 2933,
          "Year": "1972-01-01T00:00:00"
         },
         {
          "Acceleration": 18,
          "Cylinders": 4,
          "Displacement": 121,
          "Horsepower": 76,
          "Miles_per_Gallon": 22,
          "Name": "volkswagen 411 (sw)",
          "Origin": "Europe",
          "Weight_in_lbs": 2511,
          "Year": "1972-01-01T00:00:00"
         },
         {
          "Acceleration": 19.5,
          "Cylinders": 4,
          "Displacement": 120,
          "Horsepower": 87,
          "Miles_per_Gallon": 21,
          "Name": "peugeot 504 (sw)",
          "Origin": "Europe",
          "Weight_in_lbs": 2979,
          "Year": "1972-01-01T00:00:00"
         },
         {
          "Acceleration": 18,
          "Cylinders": 4,
          "Displacement": 96,
          "Horsepower": 69,
          "Miles_per_Gallon": 26,
          "Name": "renault 12 (sw)",
          "Origin": "Europe",
          "Weight_in_lbs": 2189,
          "Year": "1972-01-01T00:00:00"
         },
         {
          "Acceleration": 16,
          "Cylinders": 4,
          "Displacement": 122,
          "Horsepower": 86,
          "Miles_per_Gallon": 22,
          "Name": "ford pinto (sw)",
          "Origin": "USA",
          "Weight_in_lbs": 2395,
          "Year": "1972-01-01T00:00:00"
         },
         {
          "Acceleration": 17,
          "Cylinders": 4,
          "Displacement": 97,
          "Horsepower": 92,
          "Miles_per_Gallon": 28,
          "Name": "datsun 510 (sw)",
          "Origin": "Japan",
          "Weight_in_lbs": 2288,
          "Year": "1972-01-01T00:00:00"
         },
         {
          "Acceleration": 14.5,
          "Cylinders": 4,
          "Displacement": 120,
          "Horsepower": 97,
          "Miles_per_Gallon": 23,
          "Name": "toyouta corona mark ii (sw)",
          "Origin": "Japan",
          "Weight_in_lbs": 2506,
          "Year": "1972-01-01T00:00:00"
         },
         {
          "Acceleration": 15,
          "Cylinders": 4,
          "Displacement": 98,
          "Horsepower": 80,
          "Miles_per_Gallon": 28,
          "Name": "dodge colt (sw)",
          "Origin": "USA",
          "Weight_in_lbs": 2164,
          "Year": "1972-01-01T00:00:00"
         },
         {
          "Acceleration": 16.5,
          "Cylinders": 4,
          "Displacement": 97,
          "Horsepower": 88,
          "Miles_per_Gallon": 27,
          "Name": "toyota corolla 1600 (sw)",
          "Origin": "Japan",
          "Weight_in_lbs": 2100,
          "Year": "1972-01-01T00:00:00"
         },
         {
          "Acceleration": 13,
          "Cylinders": 8,
          "Displacement": 350,
          "Horsepower": 175,
          "Miles_per_Gallon": 13,
          "Name": "buick century 350",
          "Origin": "USA",
          "Weight_in_lbs": 4100,
          "Year": "1973-01-01T00:00:00"
         },
         {
          "Acceleration": 11.5,
          "Cylinders": 8,
          "Displacement": 304,
          "Horsepower": 150,
          "Miles_per_Gallon": 14,
          "Name": "amc matador",
          "Origin": "USA",
          "Weight_in_lbs": 3672,
          "Year": "1973-01-01T00:00:00"
         },
         {
          "Acceleration": 13,
          "Cylinders": 8,
          "Displacement": 350,
          "Horsepower": 145,
          "Miles_per_Gallon": 13,
          "Name": "chevrolet malibu",
          "Origin": "USA",
          "Weight_in_lbs": 3988,
          "Year": "1973-01-01T00:00:00"
         },
         {
          "Acceleration": 14.5,
          "Cylinders": 8,
          "Displacement": 302,
          "Horsepower": 137,
          "Miles_per_Gallon": 14,
          "Name": "ford gran torino",
          "Origin": "USA",
          "Weight_in_lbs": 4042,
          "Year": "1973-01-01T00:00:00"
         },
         {
          "Acceleration": 12.5,
          "Cylinders": 8,
          "Displacement": 318,
          "Horsepower": 150,
          "Miles_per_Gallon": 15,
          "Name": "dodge coronet custom",
          "Origin": "USA",
          "Weight_in_lbs": 3777,
          "Year": "1973-01-01T00:00:00"
         },
         {
          "Acceleration": 11.5,
          "Cylinders": 8,
          "Displacement": 429,
          "Horsepower": 198,
          "Miles_per_Gallon": 12,
          "Name": "mercury marquis brougham",
          "Origin": "USA",
          "Weight_in_lbs": 4952,
          "Year": "1973-01-01T00:00:00"
         },
         {
          "Acceleration": 12,
          "Cylinders": 8,
          "Displacement": 400,
          "Horsepower": 150,
          "Miles_per_Gallon": 13,
          "Name": "chevrolet caprice classic",
          "Origin": "USA",
          "Weight_in_lbs": 4464,
          "Year": "1973-01-01T00:00:00"
         },
         {
          "Acceleration": 13,
          "Cylinders": 8,
          "Displacement": 351,
          "Horsepower": 158,
          "Miles_per_Gallon": 13,
          "Name": "ford ltd",
          "Origin": "USA",
          "Weight_in_lbs": 4363,
          "Year": "1973-01-01T00:00:00"
         },
         {
          "Acceleration": 14.5,
          "Cylinders": 8,
          "Displacement": 318,
          "Horsepower": 150,
          "Miles_per_Gallon": 14,
          "Name": "plymouth fury gran sedan",
          "Origin": "USA",
          "Weight_in_lbs": 4237,
          "Year": "1973-01-01T00:00:00"
         },
         {
          "Acceleration": 11,
          "Cylinders": 8,
          "Displacement": 440,
          "Horsepower": 215,
          "Miles_per_Gallon": 13,
          "Name": "chrysler new yorker brougham",
          "Origin": "USA",
          "Weight_in_lbs": 4735,
          "Year": "1973-01-01T00:00:00"
         },
         {
          "Acceleration": 11,
          "Cylinders": 8,
          "Displacement": 455,
          "Horsepower": 225,
          "Miles_per_Gallon": 12,
          "Name": "buick electra 225 custom",
          "Origin": "USA",
          "Weight_in_lbs": 4951,
          "Year": "1973-01-01T00:00:00"
         },
         {
          "Acceleration": 11,
          "Cylinders": 8,
          "Displacement": 360,
          "Horsepower": 175,
          "Miles_per_Gallon": 13,
          "Name": "amc ambassador brougham",
          "Origin": "USA",
          "Weight_in_lbs": 3821,
          "Year": "1973-01-01T00:00:00"
         },
         {
          "Acceleration": 16.5,
          "Cylinders": 6,
          "Displacement": 225,
          "Horsepower": 105,
          "Miles_per_Gallon": 18,
          "Name": "plymouth valiant",
          "Origin": "USA",
          "Weight_in_lbs": 3121,
          "Year": "1973-01-01T00:00:00"
         },
         {
          "Acceleration": 18,
          "Cylinders": 6,
          "Displacement": 250,
          "Horsepower": 100,
          "Miles_per_Gallon": 16,
          "Name": "chevrolet nova custom",
          "Origin": "USA",
          "Weight_in_lbs": 3278,
          "Year": "1973-01-01T00:00:00"
         },
         {
          "Acceleration": 16,
          "Cylinders": 6,
          "Displacement": 232,
          "Horsepower": 100,
          "Miles_per_Gallon": 18,
          "Name": "amc hornet",
          "Origin": "USA",
          "Weight_in_lbs": 2945,
          "Year": "1973-01-01T00:00:00"
         },
         {
          "Acceleration": 16.5,
          "Cylinders": 6,
          "Displacement": 250,
          "Horsepower": 88,
          "Miles_per_Gallon": 18,
          "Name": "ford maverick",
          "Origin": "USA",
          "Weight_in_lbs": 3021,
          "Year": "1973-01-01T00:00:00"
         },
         {
          "Acceleration": 16,
          "Cylinders": 6,
          "Displacement": 198,
          "Horsepower": 95,
          "Miles_per_Gallon": 23,
          "Name": "plymouth duster",
          "Origin": "USA",
          "Weight_in_lbs": 2904,
          "Year": "1973-01-01T00:00:00"
         },
         {
          "Acceleration": 21,
          "Cylinders": 4,
          "Displacement": 97,
          "Horsepower": 46,
          "Miles_per_Gallon": 26,
          "Name": "volkswagen super beetle",
          "Origin": "Europe",
          "Weight_in_lbs": 1950,
          "Year": "1973-01-01T00:00:00"
         },
         {
          "Acceleration": 14,
          "Cylinders": 8,
          "Displacement": 400,
          "Horsepower": 150,
          "Miles_per_Gallon": 11,
          "Name": "chevrolet impala",
          "Origin": "USA",
          "Weight_in_lbs": 4997,
          "Year": "1973-01-01T00:00:00"
         },
         {
          "Acceleration": 12.5,
          "Cylinders": 8,
          "Displacement": 400,
          "Horsepower": 167,
          "Miles_per_Gallon": 12,
          "Name": "ford country",
          "Origin": "USA",
          "Weight_in_lbs": 4906,
          "Year": "1973-01-01T00:00:00"
         },
         {
          "Acceleration": 13,
          "Cylinders": 8,
          "Displacement": 360,
          "Horsepower": 170,
          "Miles_per_Gallon": 13,
          "Name": "plymouth custom suburb",
          "Origin": "USA",
          "Weight_in_lbs": 4654,
          "Year": "1973-01-01T00:00:00"
         },
         {
          "Acceleration": 12.5,
          "Cylinders": 8,
          "Displacement": 350,
          "Horsepower": 180,
          "Miles_per_Gallon": 12,
          "Name": "oldsmobile vista cruiser",
          "Origin": "USA",
          "Weight_in_lbs": 4499,
          "Year": "1973-01-01T00:00:00"
         },
         {
          "Acceleration": 15,
          "Cylinders": 6,
          "Displacement": 232,
          "Horsepower": 100,
          "Miles_per_Gallon": 18,
          "Name": "amc gremlin",
          "Origin": "USA",
          "Weight_in_lbs": 2789,
          "Year": "1973-01-01T00:00:00"
         },
         {
          "Acceleration": 19,
          "Cylinders": 4,
          "Displacement": 97,
          "Horsepower": 88,
          "Miles_per_Gallon": 20,
          "Name": "toyota carina",
          "Origin": "Japan",
          "Weight_in_lbs": 2279,
          "Year": "1973-01-01T00:00:00"
         },
         {
          "Acceleration": 19.5,
          "Cylinders": 4,
          "Displacement": 140,
          "Horsepower": 72,
          "Miles_per_Gallon": 21,
          "Name": "chevrolet vega",
          "Origin": "USA",
          "Weight_in_lbs": 2401,
          "Year": "1973-01-01T00:00:00"
         },
         {
          "Acceleration": 16.5,
          "Cylinders": 4,
          "Displacement": 108,
          "Horsepower": 94,
          "Miles_per_Gallon": 22,
          "Name": "datsun 610",
          "Origin": "Japan",
          "Weight_in_lbs": 2379,
          "Year": "1973-01-01T00:00:00"
         },
         {
          "Acceleration": 13.5,
          "Cylinders": 3,
          "Displacement": 70,
          "Horsepower": 90,
          "Miles_per_Gallon": 18,
          "Name": "maxda rx3",
          "Origin": "Japan",
          "Weight_in_lbs": 2124,
          "Year": "1973-01-01T00:00:00"
         },
         {
          "Acceleration": 18.5,
          "Cylinders": 4,
          "Displacement": 122,
          "Horsepower": 85,
          "Miles_per_Gallon": 19,
          "Name": "ford pinto",
          "Origin": "USA",
          "Weight_in_lbs": 2310,
          "Year": "1973-01-01T00:00:00"
         },
         {
          "Acceleration": 14,
          "Cylinders": 6,
          "Displacement": 155,
          "Horsepower": 107,
          "Miles_per_Gallon": 21,
          "Name": "mercury capri v6",
          "Origin": "USA",
          "Weight_in_lbs": 2472,
          "Year": "1973-01-01T00:00:00"
         },
         {
          "Acceleration": 15.5,
          "Cylinders": 4,
          "Displacement": 98,
          "Horsepower": 90,
          "Miles_per_Gallon": 26,
          "Name": "fiat 124 sport coupe",
          "Origin": "Europe",
          "Weight_in_lbs": 2265,
          "Year": "1973-01-01T00:00:00"
         },
         {
          "Acceleration": 13,
          "Cylinders": 8,
          "Displacement": 350,
          "Horsepower": 145,
          "Miles_per_Gallon": 15,
          "Name": "chevrolet monte carlo s",
          "Origin": "USA",
          "Weight_in_lbs": 4082,
          "Year": "1973-01-01T00:00:00"
         },
         {
          "Acceleration": 9.5,
          "Cylinders": 8,
          "Displacement": 400,
          "Horsepower": 230,
          "Miles_per_Gallon": 16,
          "Name": "pontiac grand prix",
          "Origin": "USA",
          "Weight_in_lbs": 4278,
          "Year": "1973-01-01T00:00:00"
         },
         {
          "Acceleration": 19.5,
          "Cylinders": 4,
          "Displacement": 68,
          "Horsepower": 49,
          "Miles_per_Gallon": 29,
          "Name": "fiat 128",
          "Origin": "Europe",
          "Weight_in_lbs": 1867,
          "Year": "1973-01-01T00:00:00"
         },
         {
          "Acceleration": 15.5,
          "Cylinders": 4,
          "Displacement": 116,
          "Horsepower": 75,
          "Miles_per_Gallon": 24,
          "Name": "opel manta",
          "Origin": "Europe",
          "Weight_in_lbs": 2158,
          "Year": "1973-01-01T00:00:00"
         },
         {
          "Acceleration": 14,
          "Cylinders": 4,
          "Displacement": 114,
          "Horsepower": 91,
          "Miles_per_Gallon": 20,
          "Name": "audi 100ls",
          "Origin": "Europe",
          "Weight_in_lbs": 2582,
          "Year": "1973-01-01T00:00:00"
         },
         {
          "Acceleration": 15.5,
          "Cylinders": 4,
          "Displacement": 121,
          "Horsepower": 112,
          "Miles_per_Gallon": 19,
          "Name": "volvo 144ea",
          "Origin": "Europe",
          "Weight_in_lbs": 2868,
          "Year": "1973-01-01T00:00:00"
         },
         {
          "Acceleration": 11,
          "Cylinders": 8,
          "Displacement": 318,
          "Horsepower": 150,
          "Miles_per_Gallon": 15,
          "Name": "dodge dart custom",
          "Origin": "USA",
          "Weight_in_lbs": 3399,
          "Year": "1973-01-01T00:00:00"
         },
         {
          "Acceleration": 14,
          "Cylinders": 4,
          "Displacement": 121,
          "Horsepower": 110,
          "Miles_per_Gallon": 24,
          "Name": "saab 99le",
          "Origin": "Europe",
          "Weight_in_lbs": 2660,
          "Year": "1973-01-01T00:00:00"
         },
         {
          "Acceleration": 13.5,
          "Cylinders": 6,
          "Displacement": 156,
          "Horsepower": 122,
          "Miles_per_Gallon": 20,
          "Name": "toyota mark ii",
          "Origin": "Japan",
          "Weight_in_lbs": 2807,
          "Year": "1973-01-01T00:00:00"
         },
         {
          "Acceleration": 11,
          "Cylinders": 8,
          "Displacement": 350,
          "Horsepower": 180,
          "Miles_per_Gallon": 11,
          "Name": "oldsmobile omega",
          "Origin": "USA",
          "Weight_in_lbs": 3664,
          "Year": "1973-01-01T00:00:00"
         },
         {
          "Acceleration": 16.5,
          "Cylinders": 6,
          "Displacement": 198,
          "Horsepower": 95,
          "Miles_per_Gallon": 20,
          "Name": "plymouth duster",
          "Origin": "USA",
          "Weight_in_lbs": 3102,
          "Year": "1974-01-01T00:00:00"
         },
         {
          "Acceleration": 17,
          "Cylinders": 6,
          "Displacement": 200,
          "Horsepower": null,
          "Miles_per_Gallon": 21,
          "Name": "ford maverick",
          "Origin": "USA",
          "Weight_in_lbs": 2875,
          "Year": "1974-01-01T00:00:00"
         },
         {
          "Acceleration": 16,
          "Cylinders": 6,
          "Displacement": 232,
          "Horsepower": 100,
          "Miles_per_Gallon": 19,
          "Name": "amc hornet",
          "Origin": "USA",
          "Weight_in_lbs": 2901,
          "Year": "1974-01-01T00:00:00"
         },
         {
          "Acceleration": 17,
          "Cylinders": 6,
          "Displacement": 250,
          "Horsepower": 100,
          "Miles_per_Gallon": 15,
          "Name": "chevrolet nova",
          "Origin": "USA",
          "Weight_in_lbs": 3336,
          "Year": "1974-01-01T00:00:00"
         },
         {
          "Acceleration": 19,
          "Cylinders": 4,
          "Displacement": 79,
          "Horsepower": 67,
          "Miles_per_Gallon": 31,
          "Name": "datsun b210",
          "Origin": "Japan",
          "Weight_in_lbs": 1950,
          "Year": "1974-01-01T00:00:00"
         },
         {
          "Acceleration": 16.5,
          "Cylinders": 4,
          "Displacement": 122,
          "Horsepower": 80,
          "Miles_per_Gallon": 26,
          "Name": "ford pinto",
          "Origin": "USA",
          "Weight_in_lbs": 2451,
          "Year": "1974-01-01T00:00:00"
         },
         {
          "Acceleration": 21,
          "Cylinders": 4,
          "Displacement": 71,
          "Horsepower": 65,
          "Miles_per_Gallon": 32,
          "Name": "toyota corolla 1200",
          "Origin": "Japan",
          "Weight_in_lbs": 1836,
          "Year": "1974-01-01T00:00:00"
         },
         {
          "Acceleration": 17,
          "Cylinders": 4,
          "Displacement": 140,
          "Horsepower": 75,
          "Miles_per_Gallon": 25,
          "Name": "chevrolet vega",
          "Origin": "USA",
          "Weight_in_lbs": 2542,
          "Year": "1974-01-01T00:00:00"
         },
         {
          "Acceleration": 17,
          "Cylinders": 6,
          "Displacement": 250,
          "Horsepower": 100,
          "Miles_per_Gallon": 16,
          "Name": "chevrolet chevelle malibu classic",
          "Origin": "USA",
          "Weight_in_lbs": 3781,
          "Year": "1974-01-01T00:00:00"
         },
         {
          "Acceleration": 18,
          "Cylinders": 6,
          "Displacement": 258,
          "Horsepower": 110,
          "Miles_per_Gallon": 16,
          "Name": "amc matador",
          "Origin": "USA",
          "Weight_in_lbs": 3632,
          "Year": "1974-01-01T00:00:00"
         },
         {
          "Acceleration": 16.5,
          "Cylinders": 6,
          "Displacement": 225,
          "Horsepower": 105,
          "Miles_per_Gallon": 18,
          "Name": "plymouth satellite sebring",
          "Origin": "USA",
          "Weight_in_lbs": 3613,
          "Year": "1974-01-01T00:00:00"
         },
         {
          "Acceleration": 14,
          "Cylinders": 8,
          "Displacement": 302,
          "Horsepower": 140,
          "Miles_per_Gallon": 16,
          "Name": "ford gran torino",
          "Origin": "USA",
          "Weight_in_lbs": 4141,
          "Year": "1974-01-01T00:00:00"
         },
         {
          "Acceleration": 14.5,
          "Cylinders": 8,
          "Displacement": 350,
          "Horsepower": 150,
          "Miles_per_Gallon": 13,
          "Name": "buick century luxus (sw)",
          "Origin": "USA",
          "Weight_in_lbs": 4699,
          "Year": "1974-01-01T00:00:00"
         },
         {
          "Acceleration": 13.5,
          "Cylinders": 8,
          "Displacement": 318,
          "Horsepower": 150,
          "Miles_per_Gallon": 14,
          "Name": "dodge coronet custom (sw)",
          "Origin": "USA",
          "Weight_in_lbs": 4457,
          "Year": "1974-01-01T00:00:00"
         },
         {
          "Acceleration": 16,
          "Cylinders": 8,
          "Displacement": 302,
          "Horsepower": 140,
          "Miles_per_Gallon": 14,
          "Name": "ford gran torino (sw)",
          "Origin": "USA",
          "Weight_in_lbs": 4638,
          "Year": "1974-01-01T00:00:00"
         },
         {
          "Acceleration": 15.5,
          "Cylinders": 8,
          "Displacement": 304,
          "Horsepower": 150,
          "Miles_per_Gallon": 14,
          "Name": "amc matador (sw)",
          "Origin": "USA",
          "Weight_in_lbs": 4257,
          "Year": "1974-01-01T00:00:00"
         },
         {
          "Acceleration": 16.5,
          "Cylinders": 4,
          "Displacement": 98,
          "Horsepower": 83,
          "Miles_per_Gallon": 29,
          "Name": "audi fox",
          "Origin": "Europe",
          "Weight_in_lbs": 2219,
          "Year": "1974-01-01T00:00:00"
         },
         {
          "Acceleration": 15.5,
          "Cylinders": 4,
          "Displacement": 79,
          "Horsepower": 67,
          "Miles_per_Gallon": 26,
          "Name": "volkswagen dasher",
          "Origin": "Europe",
          "Weight_in_lbs": 1963,
          "Year": "1974-01-01T00:00:00"
         },
         {
          "Acceleration": 14.5,
          "Cylinders": 4,
          "Displacement": 97,
          "Horsepower": 78,
          "Miles_per_Gallon": 26,
          "Name": "opel manta",
          "Origin": "Europe",
          "Weight_in_lbs": 2300,
          "Year": "1974-01-01T00:00:00"
         },
         {
          "Acceleration": 16.5,
          "Cylinders": 4,
          "Displacement": 76,
          "Horsepower": 52,
          "Miles_per_Gallon": 31,
          "Name": "toyota corona",
          "Origin": "Japan",
          "Weight_in_lbs": 1649,
          "Year": "1974-01-01T00:00:00"
         },
         {
          "Acceleration": 19,
          "Cylinders": 4,
          "Displacement": 83,
          "Horsepower": 61,
          "Miles_per_Gallon": 32,
          "Name": "datsun 710",
          "Origin": "Japan",
          "Weight_in_lbs": 2003,
          "Year": "1974-01-01T00:00:00"
         },
         {
          "Acceleration": 14.5,
          "Cylinders": 4,
          "Displacement": 90,
          "Horsepower": 75,
          "Miles_per_Gallon": 28,
          "Name": "dodge colt",
          "Origin": "USA",
          "Weight_in_lbs": 2125,
          "Year": "1974-01-01T00:00:00"
         },
         {
          "Acceleration": 15.5,
          "Cylinders": 4,
          "Displacement": 90,
          "Horsepower": 75,
          "Miles_per_Gallon": 24,
          "Name": "fiat 128",
          "Origin": "Europe",
          "Weight_in_lbs": 2108,
          "Year": "1974-01-01T00:00:00"
         },
         {
          "Acceleration": 14,
          "Cylinders": 4,
          "Displacement": 116,
          "Horsepower": 75,
          "Miles_per_Gallon": 26,
          "Name": "fiat 124 tc",
          "Origin": "Europe",
          "Weight_in_lbs": 2246,
          "Year": "1974-01-01T00:00:00"
         },
         {
          "Acceleration": 15,
          "Cylinders": 4,
          "Displacement": 120,
          "Horsepower": 97,
          "Miles_per_Gallon": 24,
          "Name": "honda civic",
          "Origin": "Japan",
          "Weight_in_lbs": 2489,
          "Year": "1974-01-01T00:00:00"
         },
         {
          "Acceleration": 15.5,
          "Cylinders": 4,
          "Displacement": 108,
          "Horsepower": 93,
          "Miles_per_Gallon": 26,
          "Name": "subaru",
          "Origin": "Japan",
          "Weight_in_lbs": 2391,
          "Year": "1974-01-01T00:00:00"
         },
         {
          "Acceleration": 16,
          "Cylinders": 4,
          "Displacement": 79,
          "Horsepower": 67,
          "Miles_per_Gallon": 31,
          "Name": "fiat x1.9",
          "Origin": "Europe",
          "Weight_in_lbs": 2000,
          "Year": "1974-01-01T00:00:00"
         },
         {
          "Acceleration": 16,
          "Cylinders": 6,
          "Displacement": 225,
          "Horsepower": 95,
          "Miles_per_Gallon": 19,
          "Name": "plymouth valiant custom",
          "Origin": "USA",
          "Weight_in_lbs": 3264,
          "Year": "1975-01-01T00:00:00"
         },
         {
          "Acceleration": 16,
          "Cylinders": 6,
          "Displacement": 250,
          "Horsepower": 105,
          "Miles_per_Gallon": 18,
          "Name": "chevrolet nova",
          "Origin": "USA",
          "Weight_in_lbs": 3459,
          "Year": "1975-01-01T00:00:00"
         },
         {
          "Acceleration": 21,
          "Cylinders": 6,
          "Displacement": 250,
          "Horsepower": 72,
          "Miles_per_Gallon": 15,
          "Name": "mercury monarch",
          "Origin": "USA",
          "Weight_in_lbs": 3432,
          "Year": "1975-01-01T00:00:00"
         },
         {
          "Acceleration": 19.5,
          "Cylinders": 6,
          "Displacement": 250,
          "Horsepower": 72,
          "Miles_per_Gallon": 15,
          "Name": "ford maverick",
          "Origin": "USA",
          "Weight_in_lbs": 3158,
          "Year": "1975-01-01T00:00:00"
         },
         {
          "Acceleration": 11.5,
          "Cylinders": 8,
          "Displacement": 400,
          "Horsepower": 170,
          "Miles_per_Gallon": 16,
          "Name": "pontiac catalina",
          "Origin": "USA",
          "Weight_in_lbs": 4668,
          "Year": "1975-01-01T00:00:00"
         },
         {
          "Acceleration": 14,
          "Cylinders": 8,
          "Displacement": 350,
          "Horsepower": 145,
          "Miles_per_Gallon": 15,
          "Name": "chevrolet bel air",
          "Origin": "USA",
          "Weight_in_lbs": 4440,
          "Year": "1975-01-01T00:00:00"
         },
         {
          "Acceleration": 14.5,
          "Cylinders": 8,
          "Displacement": 318,
          "Horsepower": 150,
          "Miles_per_Gallon": 16,
          "Name": "plymouth grand fury",
          "Origin": "USA",
          "Weight_in_lbs": 4498,
          "Year": "1975-01-01T00:00:00"
         },
         {
          "Acceleration": 13.5,
          "Cylinders": 8,
          "Displacement": 351,
          "Horsepower": 148,
          "Miles_per_Gallon": 14,
          "Name": "ford ltd",
          "Origin": "USA",
          "Weight_in_lbs": 4657,
          "Year": "1975-01-01T00:00:00"
         },
         {
          "Acceleration": 21,
          "Cylinders": 6,
          "Displacement": 231,
          "Horsepower": 110,
          "Miles_per_Gallon": 17,
          "Name": "buick century",
          "Origin": "USA",
          "Weight_in_lbs": 3907,
          "Year": "1975-01-01T00:00:00"
         },
         {
          "Acceleration": 18.5,
          "Cylinders": 6,
          "Displacement": 250,
          "Horsepower": 105,
          "Miles_per_Gallon": 16,
          "Name": "chevroelt chevelle malibu",
          "Origin": "USA",
          "Weight_in_lbs": 3897,
          "Year": "1975-01-01T00:00:00"
         },
         {
          "Acceleration": 19,
          "Cylinders": 6,
          "Displacement": 258,
          "Horsepower": 110,
          "Miles_per_Gallon": 15,
          "Name": "amc matador",
          "Origin": "USA",
          "Weight_in_lbs": 3730,
          "Year": "1975-01-01T00:00:00"
         },
         {
          "Acceleration": 19,
          "Cylinders": 6,
          "Displacement": 225,
          "Horsepower": 95,
          "Miles_per_Gallon": 18,
          "Name": "plymouth fury",
          "Origin": "USA",
          "Weight_in_lbs": 3785,
          "Year": "1975-01-01T00:00:00"
         },
         {
          "Acceleration": 15,
          "Cylinders": 6,
          "Displacement": 231,
          "Horsepower": 110,
          "Miles_per_Gallon": 21,
          "Name": "buick skyhawk",
          "Origin": "USA",
          "Weight_in_lbs": 3039,
          "Year": "1975-01-01T00:00:00"
         },
         {
          "Acceleration": 13.5,
          "Cylinders": 8,
          "Displacement": 262,
          "Horsepower": 110,
          "Miles_per_Gallon": 20,
          "Name": "chevrolet monza 2+2",
          "Origin": "USA",
          "Weight_in_lbs": 3221,
          "Year": "1975-01-01T00:00:00"
         },
         {
          "Acceleration": 12,
          "Cylinders": 8,
          "Displacement": 302,
          "Horsepower": 129,
          "Miles_per_Gallon": 13,
          "Name": "ford mustang ii",
          "Origin": "USA",
          "Weight_in_lbs": 3169,
          "Year": "1975-01-01T00:00:00"
         },
         {
          "Acceleration": 16,
          "Cylinders": 4,
          "Displacement": 97,
          "Horsepower": 75,
          "Miles_per_Gallon": 29,
          "Name": "toyota corolla",
          "Origin": "Japan",
          "Weight_in_lbs": 2171,
          "Year": "1975-01-01T00:00:00"
         },
         {
          "Acceleration": 17,
          "Cylinders": 4,
          "Displacement": 140,
          "Horsepower": 83,
          "Miles_per_Gallon": 23,
          "Name": "ford pinto",
          "Origin": "USA",
          "Weight_in_lbs": 2639,
          "Year": "1975-01-01T00:00:00"
         },
         {
          "Acceleration": 16,
          "Cylinders": 6,
          "Displacement": 232,
          "Horsepower": 100,
          "Miles_per_Gallon": 20,
          "Name": "amc gremlin",
          "Origin": "USA",
          "Weight_in_lbs": 2914,
          "Year": "1975-01-01T00:00:00"
         },
         {
          "Acceleration": 18.5,
          "Cylinders": 4,
          "Displacement": 140,
          "Horsepower": 78,
          "Miles_per_Gallon": 23,
          "Name": "pontiac astro",
          "Origin": "USA",
          "Weight_in_lbs": 2592,
          "Year": "1975-01-01T00:00:00"
         },
         {
          "Acceleration": 13.5,
          "Cylinders": 4,
          "Displacement": 134,
          "Horsepower": 96,
          "Miles_per_Gallon": 24,
          "Name": "toyota corona",
          "Origin": "Japan",
          "Weight_in_lbs": 2702,
          "Year": "1975-01-01T00:00:00"
         },
         {
          "Acceleration": 16.5,
          "Cylinders": 4,
          "Displacement": 90,
          "Horsepower": 71,
          "Miles_per_Gallon": 25,
          "Name": "volkswagen dasher",
          "Origin": "Europe",
          "Weight_in_lbs": 2223,
          "Year": "1975-01-01T00:00:00"
         },
         {
          "Acceleration": 17,
          "Cylinders": 4,
          "Displacement": 119,
          "Horsepower": 97,
          "Miles_per_Gallon": 24,
          "Name": "datsun 710",
          "Origin": "Japan",
          "Weight_in_lbs": 2545,
          "Year": "1975-01-01T00:00:00"
         },
         {
          "Acceleration": 14.5,
          "Cylinders": 6,
          "Displacement": 171,
          "Horsepower": 97,
          "Miles_per_Gallon": 18,
          "Name": "ford pinto",
          "Origin": "USA",
          "Weight_in_lbs": 2984,
          "Year": "1975-01-01T00:00:00"
         },
         {
          "Acceleration": 14,
          "Cylinders": 4,
          "Displacement": 90,
          "Horsepower": 70,
          "Miles_per_Gallon": 29,
          "Name": "volkswagen rabbit",
          "Origin": "Europe",
          "Weight_in_lbs": 1937,
          "Year": "1975-01-01T00:00:00"
         },
         {
          "Acceleration": 17,
          "Cylinders": 6,
          "Displacement": 232,
          "Horsepower": 90,
          "Miles_per_Gallon": 19,
          "Name": "amc pacer",
          "Origin": "USA",
          "Weight_in_lbs": 3211,
          "Year": "1975-01-01T00:00:00"
         },
         {
          "Acceleration": 15,
          "Cylinders": 4,
          "Displacement": 115,
          "Horsepower": 95,
          "Miles_per_Gallon": 23,
          "Name": "audi 100ls",
          "Origin": "Europe",
          "Weight_in_lbs": 2694,
          "Year": "1975-01-01T00:00:00"
         },
         {
          "Acceleration": 17,
          "Cylinders": 4,
          "Displacement": 120,
          "Horsepower": 88,
          "Miles_per_Gallon": 23,
          "Name": "peugeot 504",
          "Origin": "Europe",
          "Weight_in_lbs": 2957,
          "Year": "1975-01-01T00:00:00"
         },
         {
          "Acceleration": 14.5,
          "Cylinders": 4,
          "Displacement": 121,
          "Horsepower": 98,
          "Miles_per_Gallon": 22,
          "Name": "volvo 244dl",
          "Origin": "Europe",
          "Weight_in_lbs": 2945,
          "Year": "1975-01-01T00:00:00"
         },
         {
          "Acceleration": 13.5,
          "Cylinders": 4,
          "Displacement": 121,
          "Horsepower": 115,
          "Miles_per_Gallon": 25,
          "Name": "saab 99le",
          "Origin": "Europe",
          "Weight_in_lbs": 2671,
          "Year": "1975-01-01T00:00:00"
         },
         {
          "Acceleration": 17.5,
          "Cylinders": 4,
          "Displacement": 91,
          "Horsepower": 53,
          "Miles_per_Gallon": 33,
          "Name": "honda civic cvcc",
          "Origin": "Japan",
          "Weight_in_lbs": 1795,
          "Year": "1975-01-01T00:00:00"
         },
         {
          "Acceleration": 15.5,
          "Cylinders": 4,
          "Displacement": 107,
          "Horsepower": 86,
          "Miles_per_Gallon": 28,
          "Name": "fiat 131",
          "Origin": "Europe",
          "Weight_in_lbs": 2464,
          "Year": "1976-01-01T00:00:00"
         },
         {
          "Acceleration": 16.9,
          "Cylinders": 4,
          "Displacement": 116,
          "Horsepower": 81,
          "Miles_per_Gallon": 25,
          "Name": "opel 1900",
          "Origin": "Europe",
          "Weight_in_lbs": 2220,
          "Year": "1976-01-01T00:00:00"
         },
         {
          "Acceleration": 14.9,
          "Cylinders": 4,
          "Displacement": 140,
          "Horsepower": 92,
          "Miles_per_Gallon": 25,
          "Name": "capri ii",
          "Origin": "USA",
          "Weight_in_lbs": 2572,
          "Year": "1976-01-01T00:00:00"
         },
         {
          "Acceleration": 17.7,
          "Cylinders": 4,
          "Displacement": 98,
          "Horsepower": 79,
          "Miles_per_Gallon": 26,
          "Name": "dodge colt",
          "Origin": "USA",
          "Weight_in_lbs": 2255,
          "Year": "1976-01-01T00:00:00"
         },
         {
          "Acceleration": 15.3,
          "Cylinders": 4,
          "Displacement": 101,
          "Horsepower": 83,
          "Miles_per_Gallon": 27,
          "Name": "renault 12tl",
          "Origin": "Europe",
          "Weight_in_lbs": 2202,
          "Year": "1976-01-01T00:00:00"
         },
         {
          "Acceleration": 13,
          "Cylinders": 8,
          "Displacement": 305,
          "Horsepower": 140,
          "Miles_per_Gallon": 17.5,
          "Name": "chevrolet chevelle malibu classic",
          "Origin": "USA",
          "Weight_in_lbs": 4215,
          "Year": "1976-01-01T00:00:00"
         },
         {
          "Acceleration": 13,
          "Cylinders": 8,
          "Displacement": 318,
          "Horsepower": 150,
          "Miles_per_Gallon": 16,
          "Name": "dodge coronet brougham",
          "Origin": "USA",
          "Weight_in_lbs": 4190,
          "Year": "1976-01-01T00:00:00"
         },
         {
          "Acceleration": 13.9,
          "Cylinders": 8,
          "Displacement": 304,
          "Horsepower": 120,
          "Miles_per_Gallon": 15.5,
          "Name": "amc matador",
          "Origin": "USA",
          "Weight_in_lbs": 3962,
          "Year": "1976-01-01T00:00:00"
         },
         {
          "Acceleration": 12.8,
          "Cylinders": 8,
          "Displacement": 351,
          "Horsepower": 152,
          "Miles_per_Gallon": 14.5,
          "Name": "ford gran torino",
          "Origin": "USA",
          "Weight_in_lbs": 4215,
          "Year": "1976-01-01T00:00:00"
         },
         {
          "Acceleration": 15.4,
          "Cylinders": 6,
          "Displacement": 225,
          "Horsepower": 100,
          "Miles_per_Gallon": 22,
          "Name": "plymouth valiant",
          "Origin": "USA",
          "Weight_in_lbs": 3233,
          "Year": "1976-01-01T00:00:00"
         },
         {
          "Acceleration": 14.5,
          "Cylinders": 6,
          "Displacement": 250,
          "Horsepower": 105,
          "Miles_per_Gallon": 22,
          "Name": "chevrolet nova",
          "Origin": "USA",
          "Weight_in_lbs": 3353,
          "Year": "1976-01-01T00:00:00"
         },
         {
          "Acceleration": 17.6,
          "Cylinders": 6,
          "Displacement": 200,
          "Horsepower": 81,
          "Miles_per_Gallon": 24,
          "Name": "ford maverick",
          "Origin": "USA",
          "Weight_in_lbs": 3012,
          "Year": "1976-01-01T00:00:00"
         },
         {
          "Acceleration": 17.6,
          "Cylinders": 6,
          "Displacement": 232,
          "Horsepower": 90,
          "Miles_per_Gallon": 22.5,
          "Name": "amc hornet",
          "Origin": "USA",
          "Weight_in_lbs": 3085,
          "Year": "1976-01-01T00:00:00"
         },
         {
          "Acceleration": 22.2,
          "Cylinders": 4,
          "Displacement": 85,
          "Horsepower": 52,
          "Miles_per_Gallon": 29,
          "Name": "chevrolet chevette",
          "Origin": "USA",
          "Weight_in_lbs": 2035,
          "Year": "1976-01-01T00:00:00"
         },
         {
          "Acceleration": 22.1,
          "Cylinders": 4,
          "Displacement": 98,
          "Horsepower": 60,
          "Miles_per_Gallon": 24.5,
          "Name": "chevrolet woody",
          "Origin": "USA",
          "Weight_in_lbs": 2164,
          "Year": "1976-01-01T00:00:00"
         },
         {
          "Acceleration": 14.2,
          "Cylinders": 4,
          "Displacement": 90,
          "Horsepower": 70,
          "Miles_per_Gallon": 29,
          "Name": "vw rabbit",
          "Origin": "Europe",
          "Weight_in_lbs": 1937,
          "Year": "1976-01-01T00:00:00"
         },
         {
          "Acceleration": 17.4,
          "Cylinders": 4,
          "Displacement": 91,
          "Horsepower": 53,
          "Miles_per_Gallon": 33,
          "Name": "honda civic",
          "Origin": "Japan",
          "Weight_in_lbs": 1795,
          "Year": "1976-01-01T00:00:00"
         },
         {
          "Acceleration": 17.7,
          "Cylinders": 6,
          "Displacement": 225,
          "Horsepower": 100,
          "Miles_per_Gallon": 20,
          "Name": "dodge aspen se",
          "Origin": "USA",
          "Weight_in_lbs": 3651,
          "Year": "1976-01-01T00:00:00"
         },
         {
          "Acceleration": 21,
          "Cylinders": 6,
          "Displacement": 250,
          "Horsepower": 78,
          "Miles_per_Gallon": 18,
          "Name": "ford granada ghia",
          "Origin": "USA",
          "Weight_in_lbs": 3574,
          "Year": "1976-01-01T00:00:00"
         },
         {
          "Acceleration": 16.2,
          "Cylinders": 6,
          "Displacement": 250,
          "Horsepower": 110,
          "Miles_per_Gallon": 18.5,
          "Name": "pontiac ventura sj",
          "Origin": "USA",
          "Weight_in_lbs": 3645,
          "Year": "1976-01-01T00:00:00"
         },
         {
          "Acceleration": 17.8,
          "Cylinders": 6,
          "Displacement": 258,
          "Horsepower": 95,
          "Miles_per_Gallon": 17.5,
          "Name": "amc pacer d/l",
          "Origin": "USA",
          "Weight_in_lbs": 3193,
          "Year": "1976-01-01T00:00:00"
         },
         {
          "Acceleration": 12.2,
          "Cylinders": 4,
          "Displacement": 97,
          "Horsepower": 71,
          "Miles_per_Gallon": 29.5,
          "Name": "volkswagen rabbit",
          "Origin": "Europe",
          "Weight_in_lbs": 1825,
          "Year": "1976-01-01T00:00:00"
         },
         {
          "Acceleration": 17,
          "Cylinders": 4,
          "Displacement": 85,
          "Horsepower": 70,
          "Miles_per_Gallon": 32,
          "Name": "datsun b-210",
          "Origin": "Japan",
          "Weight_in_lbs": 1990,
          "Year": "1976-01-01T00:00:00"
         },
         {
          "Acceleration": 16.4,
          "Cylinders": 4,
          "Displacement": 97,
          "Horsepower": 75,
          "Miles_per_Gallon": 28,
          "Name": "toyota corolla",
          "Origin": "Japan",
          "Weight_in_lbs": 2155,
          "Year": "1976-01-01T00:00:00"
         },
         {
          "Acceleration": 13.6,
          "Cylinders": 4,
          "Displacement": 140,
          "Horsepower": 72,
          "Miles_per_Gallon": 26.5,
          "Name": "ford pinto",
          "Origin": "USA",
          "Weight_in_lbs": 2565,
          "Year": "1976-01-01T00:00:00"
         },
         {
          "Acceleration": 15.7,
          "Cylinders": 4,
          "Displacement": 130,
          "Horsepower": 102,
          "Miles_per_Gallon": 20,
          "Name": "volvo 245",
          "Origin": "Europe",
          "Weight_in_lbs": 3150,
          "Year": "1976-01-01T00:00:00"
         },
         {
          "Acceleration": 13.2,
          "Cylinders": 8,
          "Displacement": 318,
          "Horsepower": 150,
          "Miles_per_Gallon": 13,
          "Name": "plymouth volare premier v8",
          "Origin": "USA",
          "Weight_in_lbs": 3940,
          "Year": "1976-01-01T00:00:00"
         },
         {
          "Acceleration": 21.9,
          "Cylinders": 4,
          "Displacement": 120,
          "Horsepower": 88,
          "Miles_per_Gallon": 19,
          "Name": "peugeot 504",
          "Origin": "Europe",
          "Weight_in_lbs": 3270,
          "Year": "1976-01-01T00:00:00"
         },
         {
          "Acceleration": 15.5,
          "Cylinders": 6,
          "Displacement": 156,
          "Horsepower": 108,
          "Miles_per_Gallon": 19,
          "Name": "toyota mark ii",
          "Origin": "Japan",
          "Weight_in_lbs": 2930,
          "Year": "1976-01-01T00:00:00"
         },
         {
          "Acceleration": 16.7,
          "Cylinders": 6,
          "Displacement": 168,
          "Horsepower": 120,
          "Miles_per_Gallon": 16.5,
          "Name": "mercedes-benz 280s",
          "Origin": "Europe",
          "Weight_in_lbs": 3820,
          "Year": "1976-01-01T00:00:00"
         },
         {
          "Acceleration": 12.1,
          "Cylinders": 8,
          "Displacement": 350,
          "Horsepower": 180,
          "Miles_per_Gallon": 16.5,
          "Name": "cadillac seville",
          "Origin": "USA",
          "Weight_in_lbs": 4380,
          "Year": "1976-01-01T00:00:00"
         },
         {
          "Acceleration": 12,
          "Cylinders": 8,
          "Displacement": 350,
          "Horsepower": 145,
          "Miles_per_Gallon": 13,
          "Name": "chevy c10",
          "Origin": "USA",
          "Weight_in_lbs": 4055,
          "Year": "1976-01-01T00:00:00"
         },
         {
          "Acceleration": 15,
          "Cylinders": 8,
          "Displacement": 302,
          "Horsepower": 130,
          "Miles_per_Gallon": 13,
          "Name": "ford f108",
          "Origin": "USA",
          "Weight_in_lbs": 3870,
          "Year": "1976-01-01T00:00:00"
         },
         {
          "Acceleration": 14,
          "Cylinders": 8,
          "Displacement": 318,
          "Horsepower": 150,
          "Miles_per_Gallon": 13,
          "Name": "dodge d100",
          "Origin": "USA",
          "Weight_in_lbs": 3755,
          "Year": "1976-01-01T00:00:00"
         },
         {
          "Acceleration": 18.5,
          "Cylinders": 4,
          "Displacement": 98,
          "Horsepower": 68,
          "Miles_per_Gallon": 31.5,
          "Name": "honda Accelerationord cvcc",
          "Origin": "Japan",
          "Weight_in_lbs": 2045,
          "Year": "1977-01-01T00:00:00"
         },
         {
          "Acceleration": 14.8,
          "Cylinders": 4,
          "Displacement": 111,
          "Horsepower": 80,
          "Miles_per_Gallon": 30,
          "Name": "buick opel isuzu deluxe",
          "Origin": "USA",
          "Weight_in_lbs": 2155,
          "Year": "1977-01-01T00:00:00"
         },
         {
          "Acceleration": 18.6,
          "Cylinders": 4,
          "Displacement": 79,
          "Horsepower": 58,
          "Miles_per_Gallon": 36,
          "Name": "renault 5 gtl",
          "Origin": "Europe",
          "Weight_in_lbs": 1825,
          "Year": "1977-01-01T00:00:00"
         },
         {
          "Acceleration": 15.5,
          "Cylinders": 4,
          "Displacement": 122,
          "Horsepower": 96,
          "Miles_per_Gallon": 25.5,
          "Name": "plymouth arrow gs",
          "Origin": "USA",
          "Weight_in_lbs": 2300,
          "Year": "1977-01-01T00:00:00"
         },
         {
          "Acceleration": 16.8,
          "Cylinders": 4,
          "Displacement": 85,
          "Horsepower": 70,
          "Miles_per_Gallon": 33.5,
          "Name": "datsun f-10 hatchback",
          "Origin": "Japan",
          "Weight_in_lbs": 1945,
          "Year": "1977-01-01T00:00:00"
         },
         {
          "Acceleration": 12.5,
          "Cylinders": 8,
          "Displacement": 305,
          "Horsepower": 145,
          "Miles_per_Gallon": 17.5,
          "Name": "chevrolet caprice classic",
          "Origin": "USA",
          "Weight_in_lbs": 3880,
          "Year": "1977-01-01T00:00:00"
         },
         {
          "Acceleration": 19,
          "Cylinders": 8,
          "Displacement": 260,
          "Horsepower": 110,
          "Miles_per_Gallon": 17,
          "Name": "oldsmobile cutlass supreme",
          "Origin": "USA",
          "Weight_in_lbs": 4060,
          "Year": "1977-01-01T00:00:00"
         },
         {
          "Acceleration": 13.7,
          "Cylinders": 8,
          "Displacement": 318,
          "Horsepower": 145,
          "Miles_per_Gallon": 15.5,
          "Name": "dodge monaco brougham",
          "Origin": "USA",
          "Weight_in_lbs": 4140,
          "Year": "1977-01-01T00:00:00"
         },
         {
          "Acceleration": 14.9,
          "Cylinders": 8,
          "Displacement": 302,
          "Horsepower": 130,
          "Miles_per_Gallon": 15,
          "Name": "mercury cougar brougham",
          "Origin": "USA",
          "Weight_in_lbs": 4295,
          "Year": "1977-01-01T00:00:00"
         },
         {
          "Acceleration": 16.4,
          "Cylinders": 6,
          "Displacement": 250,
          "Horsepower": 110,
          "Miles_per_Gallon": 17.5,
          "Name": "chevrolet concours",
          "Origin": "USA",
          "Weight_in_lbs": 3520,
          "Year": "1977-01-01T00:00:00"
         },
         {
          "Acceleration": 16.9,
          "Cylinders": 6,
          "Displacement": 231,
          "Horsepower": 105,
          "Miles_per_Gallon": 20.5,
          "Name": "buick skylark",
          "Origin": "USA",
          "Weight_in_lbs": 3425,
          "Year": "1977-01-01T00:00:00"
         },
         {
          "Acceleration": 17.7,
          "Cylinders": 6,
          "Displacement": 225,
          "Horsepower": 100,
          "Miles_per_Gallon": 19,
          "Name": "plymouth volare custom",
          "Origin": "USA",
          "Weight_in_lbs": 3630,
          "Year": "1977-01-01T00:00:00"
         },
         {
          "Acceleration": 19,
          "Cylinders": 6,
          "Displacement": 250,
          "Horsepower": 98,
          "Miles_per_Gallon": 18.5,
          "Name": "ford granada",
          "Origin": "USA",
          "Weight_in_lbs": 3525,
          "Year": "1977-01-01T00:00:00"
         },
         {
          "Acceleration": 11.1,
          "Cylinders": 8,
          "Displacement": 400,
          "Horsepower": 180,
          "Miles_per_Gallon": 16,
          "Name": "pontiac grand prix lj",
          "Origin": "USA",
          "Weight_in_lbs": 4220,
          "Year": "1977-01-01T00:00:00"
         },
         {
          "Acceleration": 11.4,
          "Cylinders": 8,
          "Displacement": 350,
          "Horsepower": 170,
          "Miles_per_Gallon": 15.5,
          "Name": "chevrolet monte carlo landau",
          "Origin": "USA",
          "Weight_in_lbs": 4165,
          "Year": "1977-01-01T00:00:00"
         },
         {
          "Acceleration": 12.2,
          "Cylinders": 8,
          "Displacement": 400,
          "Horsepower": 190,
          "Miles_per_Gallon": 15.5,
          "Name": "chrysler cordoba",
          "Origin": "USA",
          "Weight_in_lbs": 4325,
          "Year": "1977-01-01T00:00:00"
         },
         {
          "Acceleration": 14.5,
          "Cylinders": 8,
          "Displacement": 351,
          "Horsepower": 149,
          "Miles_per_Gallon": 16,
          "Name": "ford thunderbird",
          "Origin": "USA",
          "Weight_in_lbs": 4335,
          "Year": "1977-01-01T00:00:00"
         },
         {
          "Acceleration": 14.5,
          "Cylinders": 4,
          "Displacement": 97,
          "Horsepower": 78,
          "Miles_per_Gallon": 29,
          "Name": "volkswagen rabbit custom",
          "Origin": "Europe",
          "Weight_in_lbs": 1940,
          "Year": "1977-01-01T00:00:00"
         },
         {
          "Acceleration": 16,
          "Cylinders": 4,
          "Displacement": 151,
          "Horsepower": 88,
          "Miles_per_Gallon": 24.5,
          "Name": "pontiac sunbird coupe",
          "Origin": "USA",
          "Weight_in_lbs": 2740,
          "Year": "1977-01-01T00:00:00"
         },
         {
          "Acceleration": 18.2,
          "Cylinders": 4,
          "Displacement": 97,
          "Horsepower": 75,
          "Miles_per_Gallon": 26,
          "Name": "toyota corolla liftback",
          "Origin": "Japan",
          "Weight_in_lbs": 2265,
          "Year": "1977-01-01T00:00:00"
         },
         {
          "Acceleration": 15.8,
          "Cylinders": 4,
          "Displacement": 140,
          "Horsepower": 89,
          "Miles_per_Gallon": 25.5,
          "Name": "ford mustang ii 2+2",
          "Origin": "USA",
          "Weight_in_lbs": 2755,
          "Year": "1977-01-01T00:00:00"
         },
         {
          "Acceleration": 17,
          "Cylinders": 4,
          "Displacement": 98,
          "Horsepower": 63,
          "Miles_per_Gallon": 30.5,
          "Name": "chevrolet chevette",
          "Origin": "USA",
          "Weight_in_lbs": 2051,
          "Year": "1977-01-01T00:00:00"
         },
         {
          "Acceleration": 15.9,
          "Cylinders": 4,
          "Displacement": 98,
          "Horsepower": 83,
          "Miles_per_Gallon": 33.5,
          "Name": "dodge colt m/m",
          "Origin": "USA",
          "Weight_in_lbs": 2075,
          "Year": "1977-01-01T00:00:00"
         },
         {
          "Acceleration": 16.4,
          "Cylinders": 4,
          "Displacement": 97,
          "Horsepower": 67,
          "Miles_per_Gallon": 30,
          "Name": "subaru dl",
          "Origin": "Japan",
          "Weight_in_lbs": 1985,
          "Year": "1977-01-01T00:00:00"
         },
         {
          "Acceleration": 14.1,
          "Cylinders": 4,
          "Displacement": 97,
          "Horsepower": 78,
          "Miles_per_Gallon": 30.5,
          "Name": "volkswagen dasher",
          "Origin": "Europe",
          "Weight_in_lbs": 2190,
          "Year": "1977-01-01T00:00:00"
         },
         {
          "Acceleration": 14.5,
          "Cylinders": 6,
          "Displacement": 146,
          "Horsepower": 97,
          "Miles_per_Gallon": 22,
          "Name": "datsun 810",
          "Origin": "Japan",
          "Weight_in_lbs": 2815,
          "Year": "1977-01-01T00:00:00"
         },
         {
          "Acceleration": 12.8,
          "Cylinders": 4,
          "Displacement": 121,
          "Horsepower": 110,
          "Miles_per_Gallon": 21.5,
          "Name": "bmw 320i",
          "Origin": "Europe",
          "Weight_in_lbs": 2600,
          "Year": "1977-01-01T00:00:00"
         },
         {
          "Acceleration": 13.5,
          "Cylinders": 3,
          "Displacement": 80,
          "Horsepower": 110,
          "Miles_per_Gallon": 21.5,
          "Name": "mazda rx-4",
          "Origin": "Japan",
          "Weight_in_lbs": 2720,
          "Year": "1977-01-01T00:00:00"
         },
         {
          "Acceleration": 21.5,
          "Cylinders": 4,
          "Displacement": 90,
          "Horsepower": 48,
          "Miles_per_Gallon": 43.1,
          "Name": "volkswagen rabbit custom diesel",
          "Origin": "Europe",
          "Weight_in_lbs": 1985,
          "Year": "1978-01-01T00:00:00"
         },
         {
          "Acceleration": 14.4,
          "Cylinders": 4,
          "Displacement": 98,
          "Horsepower": 66,
          "Miles_per_Gallon": 36.1,
          "Name": "ford fiesta",
          "Origin": "USA",
          "Weight_in_lbs": 1800,
          "Year": "1978-01-01T00:00:00"
         },
         {
          "Acceleration": 19.4,
          "Cylinders": 4,
          "Displacement": 78,
          "Horsepower": 52,
          "Miles_per_Gallon": 32.8,
          "Name": "mazda glc deluxe",
          "Origin": "Japan",
          "Weight_in_lbs": 1985,
          "Year": "1978-01-01T00:00:00"
         },
         {
          "Acceleration": 18.6,
          "Cylinders": 4,
          "Displacement": 85,
          "Horsepower": 70,
          "Miles_per_Gallon": 39.4,
          "Name": "datsun b210 gx",
          "Origin": "Japan",
          "Weight_in_lbs": 2070,
          "Year": "1978-01-01T00:00:00"
         },
         {
          "Acceleration": 16.4,
          "Cylinders": 4,
          "Displacement": 91,
          "Horsepower": 60,
          "Miles_per_Gallon": 36.1,
          "Name": "honda civic cvcc",
          "Origin": "Japan",
          "Weight_in_lbs": 1800,
          "Year": "1978-01-01T00:00:00"
         },
         {
          "Acceleration": 15.5,
          "Cylinders": 8,
          "Displacement": 260,
          "Horsepower": 110,
          "Miles_per_Gallon": 19.9,
          "Name": "oldsmobile cutlass salon brougham",
          "Origin": "USA",
          "Weight_in_lbs": 3365,
          "Year": "1978-01-01T00:00:00"
         },
         {
          "Acceleration": 13.2,
          "Cylinders": 8,
          "Displacement": 318,
          "Horsepower": 140,
          "Miles_per_Gallon": 19.4,
          "Name": "dodge diplomat",
          "Origin": "USA",
          "Weight_in_lbs": 3735,
          "Year": "1978-01-01T00:00:00"
         },
         {
          "Acceleration": 12.8,
          "Cylinders": 8,
          "Displacement": 302,
          "Horsepower": 139,
          "Miles_per_Gallon": 20.2,
          "Name": "mercury monarch ghia",
          "Origin": "USA",
          "Weight_in_lbs": 3570,
          "Year": "1978-01-01T00:00:00"
         },
         {
          "Acceleration": 19.2,
          "Cylinders": 6,
          "Displacement": 231,
          "Horsepower": 105,
          "Miles_per_Gallon": 19.2,
          "Name": "pontiac phoenix lj",
          "Origin": "USA",
          "Weight_in_lbs": 3535,
          "Year": "1978-01-01T00:00:00"
         },
         {
          "Acceleration": 18.2,
          "Cylinders": 6,
          "Displacement": 200,
          "Horsepower": 95,
          "Miles_per_Gallon": 20.5,
          "Name": "chevrolet malibu",
          "Origin": "USA",
          "Weight_in_lbs": 3155,
          "Year": "1978-01-01T00:00:00"
         },
         {
          "Acceleration": 15.8,
          "Cylinders": 6,
          "Displacement": 200,
          "Horsepower": 85,
          "Miles_per_Gallon": 20.2,
          "Name": "ford fairmont (auto)",
          "Origin": "USA",
          "Weight_in_lbs": 2965,
          "Year": "1978-01-01T00:00:00"
         },
         {
          "Acceleration": 15.4,
          "Cylinders": 4,
          "Displacement": 140,
          "Horsepower": 88,
          "Miles_per_Gallon": 25.1,
          "Name": "ford fairmont (man)",
          "Origin": "USA",
          "Weight_in_lbs": 2720,
          "Year": "1978-01-01T00:00:00"
         },
         {
          "Acceleration": 17.2,
          "Cylinders": 6,
          "Displacement": 225,
          "Horsepower": 100,
          "Miles_per_Gallon": 20.5,
          "Name": "plymouth volare",
          "Origin": "USA",
          "Weight_in_lbs": 3430,
          "Year": "1978-01-01T00:00:00"
         },
         {
          "Acceleration": 17.2,
          "Cylinders": 6,
          "Displacement": 232,
          "Horsepower": 90,
          "Miles_per_Gallon": 19.4,
          "Name": "amc concord",
          "Origin": "USA",
          "Weight_in_lbs": 3210,
          "Year": "1978-01-01T00:00:00"
         },
         {
          "Acceleration": 15.8,
          "Cylinders": 6,
          "Displacement": 231,
          "Horsepower": 105,
          "Miles_per_Gallon": 20.6,
          "Name": "buick century special",
          "Origin": "USA",
          "Weight_in_lbs": 3380,
          "Year": "1978-01-01T00:00:00"
         },
         {
          "Acceleration": 16.7,
          "Cylinders": 6,
          "Displacement": 200,
          "Horsepower": 85,
          "Miles_per_Gallon": 20.8,
          "Name": "mercury zephyr",
          "Origin": "USA",
          "Weight_in_lbs": 3070,
          "Year": "1978-01-01T00:00:00"
         },
         {
          "Acceleration": 18.7,
          "Cylinders": 6,
          "Displacement": 225,
          "Horsepower": 110,
          "Miles_per_Gallon": 18.6,
          "Name": "dodge aspen",
          "Origin": "USA",
          "Weight_in_lbs": 3620,
          "Year": "1978-01-01T00:00:00"
         },
         {
          "Acceleration": 15.1,
          "Cylinders": 6,
          "Displacement": 258,
          "Horsepower": 120,
          "Miles_per_Gallon": 18.1,
          "Name": "amc concord d/l",
          "Origin": "USA",
          "Weight_in_lbs": 3410,
          "Year": "1978-01-01T00:00:00"
         },
         {
          "Acceleration": 13.2,
          "Cylinders": 8,
          "Displacement": 305,
          "Horsepower": 145,
          "Miles_per_Gallon": 19.2,
          "Name": "chevrolet monte carlo landau",
          "Origin": "USA",
          "Weight_in_lbs": 3425,
          "Year": "1978-01-01T00:00:00"
         },
         {
          "Acceleration": 13.4,
          "Cylinders": 6,
          "Displacement": 231,
          "Horsepower": 165,
          "Miles_per_Gallon": 17.7,
          "Name": "buick regal sport coupe (turbo)",
          "Origin": "USA",
          "Weight_in_lbs": 3445,
          "Year": "1978-01-01T00:00:00"
         },
         {
          "Acceleration": 11.2,
          "Cylinders": 8,
          "Displacement": 302,
          "Horsepower": 139,
          "Miles_per_Gallon": 18.1,
          "Name": "ford futura",
          "Origin": "USA",
          "Weight_in_lbs": 3205,
          "Year": "1978-01-01T00:00:00"
         },
         {
          "Acceleration": 13.7,
          "Cylinders": 8,
          "Displacement": 318,
          "Horsepower": 140,
          "Miles_per_Gallon": 17.5,
          "Name": "dodge magnum xe",
          "Origin": "USA",
          "Weight_in_lbs": 4080,
          "Year": "1978-01-01T00:00:00"
         },
         {
          "Acceleration": 16.5,
          "Cylinders": 4,
          "Displacement": 98,
          "Horsepower": 68,
          "Miles_per_Gallon": 30,
          "Name": "chevrolet chevette",
          "Origin": "USA",
          "Weight_in_lbs": 2155,
          "Year": "1978-01-01T00:00:00"
         },
         {
          "Acceleration": 14.2,
          "Cylinders": 4,
          "Displacement": 134,
          "Horsepower": 95,
          "Miles_per_Gallon": 27.5,
          "Name": "toyota corona",
          "Origin": "Japan",
          "Weight_in_lbs": 2560,
          "Year": "1978-01-01T00:00:00"
         },
         {
          "Acceleration": 14.7,
          "Cylinders": 4,
          "Displacement": 119,
          "Horsepower": 97,
          "Miles_per_Gallon": 27.2,
          "Name": "datsun 510",
          "Origin": "Japan",
          "Weight_in_lbs": 2300,
          "Year": "1978-01-01T00:00:00"
         },
         {
          "Acceleration": 14.5,
          "Cylinders": 4,
          "Displacement": 105,
          "Horsepower": 75,
          "Miles_per_Gallon": 30.9,
          "Name": "dodge omni",
          "Origin": "USA",
          "Weight_in_lbs": 2230,
          "Year": "1978-01-01T00:00:00"
         },
         {
          "Acceleration": 14.8,
          "Cylinders": 4,
          "Displacement": 134,
          "Horsepower": 95,
          "Miles_per_Gallon": 21.1,
          "Name": "toyota celica gt liftback",
          "Origin": "Japan",
          "Weight_in_lbs": 2515,
          "Year": "1978-01-01T00:00:00"
         },
         {
          "Acceleration": 16.7,
          "Cylinders": 4,
          "Displacement": 156,
          "Horsepower": 105,
          "Miles_per_Gallon": 23.2,
          "Name": "plymouth sapporo",
          "Origin": "USA",
          "Weight_in_lbs": 2745,
          "Year": "1978-01-01T00:00:00"
         },
         {
          "Acceleration": 17.6,
          "Cylinders": 4,
          "Displacement": 151,
          "Horsepower": 85,
          "Miles_per_Gallon": 23.8,
          "Name": "oldsmobile starfire sx",
          "Origin": "USA",
          "Weight_in_lbs": 2855,
          "Year": "1978-01-01T00:00:00"
         },
         {
          "Acceleration": 14.9,
          "Cylinders": 4,
          "Displacement": 119,
          "Horsepower": 97,
          "Miles_per_Gallon": 23.9,
          "Name": "datsun 200-sx",
          "Origin": "Japan",
          "Weight_in_lbs": 2405,
          "Year": "1978-01-01T00:00:00"
         },
         {
          "Acceleration": 15.9,
          "Cylinders": 5,
          "Displacement": 131,
          "Horsepower": 103,
          "Miles_per_Gallon": 20.3,
          "Name": "audi 5000",
          "Origin": "Europe",
          "Weight_in_lbs": 2830,
          "Year": "1978-01-01T00:00:00"
         },
         {
          "Acceleration": 13.6,
          "Cylinders": 6,
          "Displacement": 163,
          "Horsepower": 125,
          "Miles_per_Gallon": 17,
          "Name": "volvo 264gl",
          "Origin": "Europe",
          "Weight_in_lbs": 3140,
          "Year": "1978-01-01T00:00:00"
         },
         {
          "Acceleration": 15.7,
          "Cylinders": 4,
          "Displacement": 121,
          "Horsepower": 115,
          "Miles_per_Gallon": 21.6,
          "Name": "saab 99gle",
          "Origin": "Europe",
          "Weight_in_lbs": 2795,
          "Year": "1978-01-01T00:00:00"
         },
         {
          "Acceleration": 15.8,
          "Cylinders": 6,
          "Displacement": 163,
          "Horsepower": 133,
          "Miles_per_Gallon": 16.2,
          "Name": "peugeot 604sl",
          "Origin": "Europe",
          "Weight_in_lbs": 3410,
          "Year": "1978-01-01T00:00:00"
         },
         {
          "Acceleration": 14.9,
          "Cylinders": 4,
          "Displacement": 89,
          "Horsepower": 71,
          "Miles_per_Gallon": 31.5,
          "Name": "volkswagen scirocco",
          "Origin": "Europe",
          "Weight_in_lbs": 1990,
          "Year": "1978-01-01T00:00:00"
         },
         {
          "Acceleration": 16.6,
          "Cylinders": 4,
          "Displacement": 98,
          "Horsepower": 68,
          "Miles_per_Gallon": 29.5,
          "Name": "honda Accelerationord lx",
          "Origin": "Japan",
          "Weight_in_lbs": 2135,
          "Year": "1978-01-01T00:00:00"
         },
         {
          "Acceleration": 15.4,
          "Cylinders": 6,
          "Displacement": 231,
          "Horsepower": 115,
          "Miles_per_Gallon": 21.5,
          "Name": "pontiac lemans v6",
          "Origin": "USA",
          "Weight_in_lbs": 3245,
          "Year": "1979-01-01T00:00:00"
         },
         {
          "Acceleration": 18.2,
          "Cylinders": 6,
          "Displacement": 200,
          "Horsepower": 85,
          "Miles_per_Gallon": 19.8,
          "Name": "mercury zephyr 6",
          "Origin": "USA",
          "Weight_in_lbs": 2990,
          "Year": "1979-01-01T00:00:00"
         },
         {
          "Acceleration": 17.3,
          "Cylinders": 4,
          "Displacement": 140,
          "Horsepower": 88,
          "Miles_per_Gallon": 22.3,
          "Name": "ford fairmont 4",
          "Origin": "USA",
          "Weight_in_lbs": 2890,
          "Year": "1979-01-01T00:00:00"
         },
         {
          "Acceleration": 18.2,
          "Cylinders": 6,
          "Displacement": 232,
          "Horsepower": 90,
          "Miles_per_Gallon": 20.2,
          "Name": "amc concord dl 6",
          "Origin": "USA",
          "Weight_in_lbs": 3265,
          "Year": "1979-01-01T00:00:00"
         },
         {
          "Acceleration": 16.6,
          "Cylinders": 6,
          "Displacement": 225,
          "Horsepower": 110,
          "Miles_per_Gallon": 20.6,
          "Name": "dodge aspen 6",
          "Origin": "USA",
          "Weight_in_lbs": 3360,
          "Year": "1979-01-01T00:00:00"
         },
         {
          "Acceleration": 15.4,
          "Cylinders": 8,
          "Displacement": 305,
          "Horsepower": 130,
          "Miles_per_Gallon": 17,
          "Name": "chevrolet caprice classic",
          "Origin": "USA",
          "Weight_in_lbs": 3840,
          "Year": "1979-01-01T00:00:00"
         },
         {
          "Acceleration": 13.4,
          "Cylinders": 8,
          "Displacement": 302,
          "Horsepower": 129,
          "Miles_per_Gallon": 17.6,
          "Name": "ford ltd landau",
          "Origin": "USA",
          "Weight_in_lbs": 3725,
          "Year": "1979-01-01T00:00:00"
         },
         {
          "Acceleration": 13.2,
          "Cylinders": 8,
          "Displacement": 351,
          "Horsepower": 138,
          "Miles_per_Gallon": 16.5,
          "Name": "mercury grand marquis",
          "Origin": "USA",
          "Weight_in_lbs": 3955,
          "Year": "1979-01-01T00:00:00"
         },
         {
          "Acceleration": 15.2,
          "Cylinders": 8,
          "Displacement": 318,
          "Horsepower": 135,
          "Miles_per_Gallon": 18.2,
          "Name": "dodge st. regis",
          "Origin": "USA",
          "Weight_in_lbs": 3830,
          "Year": "1979-01-01T00:00:00"
         },
         {
          "Acceleration": 14.9,
          "Cylinders": 8,
          "Displacement": 350,
          "Horsepower": 155,
          "Miles_per_Gallon": 16.9,
          "Name": "buick estate wagon (sw)",
          "Origin": "USA",
          "Weight_in_lbs": 4360,
          "Year": "1979-01-01T00:00:00"
         },
         {
          "Acceleration": 14.3,
          "Cylinders": 8,
          "Displacement": 351,
          "Horsepower": 142,
          "Miles_per_Gallon": 15.5,
          "Name": "ford country squire (sw)",
          "Origin": "USA",
          "Weight_in_lbs": 4054,
          "Year": "1979-01-01T00:00:00"
         },
         {
          "Acceleration": 15,
          "Cylinders": 8,
          "Displacement": 267,
          "Horsepower": 125,
          "Miles_per_Gallon": 19.2,
          "Name": "chevrolet malibu classic (sw)",
          "Origin": "USA",
          "Weight_in_lbs": 3605,
          "Year": "1979-01-01T00:00:00"
         },
         {
          "Acceleration": 13,
          "Cylinders": 8,
          "Displacement": 360,
          "Horsepower": 150,
          "Miles_per_Gallon": 18.5,
          "Name": "chrysler lebaron town @ country (sw)",
          "Origin": "USA",
          "Weight_in_lbs": 3940,
          "Year": "1979-01-01T00:00:00"
         },
         {
          "Acceleration": 14,
          "Cylinders": 4,
          "Displacement": 89,
          "Horsepower": 71,
          "Miles_per_Gallon": 31.9,
          "Name": "vw rabbit custom",
          "Origin": "Europe",
          "Weight_in_lbs": 1925,
          "Year": "1979-01-01T00:00:00"
         },
         {
          "Acceleration": 15.2,
          "Cylinders": 4,
          "Displacement": 86,
          "Horsepower": 65,
          "Miles_per_Gallon": 34.1,
          "Name": "maxda glc deluxe",
          "Origin": "Japan",
          "Weight_in_lbs": 1975,
          "Year": "1979-01-01T00:00:00"
         },
         {
          "Acceleration": 14.4,
          "Cylinders": 4,
          "Displacement": 98,
          "Horsepower": 80,
          "Miles_per_Gallon": 35.7,
          "Name": "dodge colt hatchback custom",
          "Origin": "USA",
          "Weight_in_lbs": 1915,
          "Year": "1979-01-01T00:00:00"
         },
         {
          "Acceleration": 15,
          "Cylinders": 4,
          "Displacement": 121,
          "Horsepower": 80,
          "Miles_per_Gallon": 27.4,
          "Name": "amc spirit dl",
          "Origin": "USA",
          "Weight_in_lbs": 2670,
          "Year": "1979-01-01T00:00:00"
         },
         {
          "Acceleration": 20.1,
          "Cylinders": 5,
          "Displacement": 183,
          "Horsepower": 77,
          "Miles_per_Gallon": 25.4,
          "Name": "mercedes benz 300d",
          "Origin": "Europe",
          "Weight_in_lbs": 3530,
          "Year": "1979-01-01T00:00:00"
         },
         {
          "Acceleration": 17.4,
          "Cylinders": 8,
          "Displacement": 350,
          "Horsepower": 125,
          "Miles_per_Gallon": 23,
          "Name": "cadillac eldorado",
          "Origin": "USA",
          "Weight_in_lbs": 3900,
          "Year": "1979-01-01T00:00:00"
         },
         {
          "Acceleration": 24.8,
          "Cylinders": 4,
          "Displacement": 141,
          "Horsepower": 71,
          "Miles_per_Gallon": 27.2,
          "Name": "peugeot 504",
          "Origin": "Europe",
          "Weight_in_lbs": 3190,
          "Year": "1979-01-01T00:00:00"
         },
         {
          "Acceleration": 22.2,
          "Cylinders": 8,
          "Displacement": 260,
          "Horsepower": 90,
          "Miles_per_Gallon": 23.9,
          "Name": "oldsmobile cutlass salon brougham",
          "Origin": "USA",
          "Weight_in_lbs": 3420,
          "Year": "1979-01-01T00:00:00"
         },
         {
          "Acceleration": 13.2,
          "Cylinders": 4,
          "Displacement": 105,
          "Horsepower": 70,
          "Miles_per_Gallon": 34.2,
          "Name": "plymouth horizon",
          "Origin": "USA",
          "Weight_in_lbs": 2200,
          "Year": "1979-01-01T00:00:00"
         },
         {
          "Acceleration": 14.9,
          "Cylinders": 4,
          "Displacement": 105,
          "Horsepower": 70,
          "Miles_per_Gallon": 34.5,
          "Name": "plymouth horizon tc3",
          "Origin": "USA",
          "Weight_in_lbs": 2150,
          "Year": "1979-01-01T00:00:00"
         },
         {
          "Acceleration": 19.2,
          "Cylinders": 4,
          "Displacement": 85,
          "Horsepower": 65,
          "Miles_per_Gallon": 31.8,
          "Name": "datsun 210",
          "Origin": "Japan",
          "Weight_in_lbs": 2020,
          "Year": "1979-01-01T00:00:00"
         },
         {
          "Acceleration": 14.7,
          "Cylinders": 4,
          "Displacement": 91,
          "Horsepower": 69,
          "Miles_per_Gallon": 37.3,
          "Name": "fiat strada custom",
          "Origin": "Europe",
          "Weight_in_lbs": 2130,
          "Year": "1979-01-01T00:00:00"
         },
         {
          "Acceleration": 16,
          "Cylinders": 4,
          "Displacement": 151,
          "Horsepower": 90,
          "Miles_per_Gallon": 28.4,
          "Name": "buick skylark limited",
          "Origin": "USA",
          "Weight_in_lbs": 2670,
          "Year": "1979-01-01T00:00:00"
         },
         {
          "Acceleration": 11.3,
          "Cylinders": 6,
          "Displacement": 173,
          "Horsepower": 115,
          "Miles_per_Gallon": 28.8,
          "Name": "chevrolet citation",
          "Origin": "USA",
          "Weight_in_lbs": 2595,
          "Year": "1979-01-01T00:00:00"
         },
         {
          "Acceleration": 12.9,
          "Cylinders": 6,
          "Displacement": 173,
          "Horsepower": 115,
          "Miles_per_Gallon": 26.8,
          "Name": "oldsmobile omega brougham",
          "Origin": "USA",
          "Weight_in_lbs": 2700,
          "Year": "1979-01-01T00:00:00"
         },
         {
          "Acceleration": 13.2,
          "Cylinders": 4,
          "Displacement": 151,
          "Horsepower": 90,
          "Miles_per_Gallon": 33.5,
          "Name": "pontiac phoenix",
          "Origin": "USA",
          "Weight_in_lbs": 2556,
          "Year": "1979-01-01T00:00:00"
         },
         {
          "Acceleration": 14.7,
          "Cylinders": 4,
          "Displacement": 98,
          "Horsepower": 76,
          "Miles_per_Gallon": 41.5,
          "Name": "vw rabbit",
          "Origin": "Europe",
          "Weight_in_lbs": 2144,
          "Year": "1980-01-01T00:00:00"
         },
         {
          "Acceleration": 18.8,
          "Cylinders": 4,
          "Displacement": 89,
          "Horsepower": 60,
          "Miles_per_Gallon": 38.1,
          "Name": "toyota corolla tercel",
          "Origin": "Japan",
          "Weight_in_lbs": 1968,
          "Year": "1980-01-01T00:00:00"
         },
         {
          "Acceleration": 15.5,
          "Cylinders": 4,
          "Displacement": 98,
          "Horsepower": 70,
          "Miles_per_Gallon": 32.1,
          "Name": "chevrolet chevette",
          "Origin": "USA",
          "Weight_in_lbs": 2120,
          "Year": "1980-01-01T00:00:00"
         },
         {
          "Acceleration": 16.4,
          "Cylinders": 4,
          "Displacement": 86,
          "Horsepower": 65,
          "Miles_per_Gallon": 37.2,
          "Name": "datsun 310",
          "Origin": "Japan",
          "Weight_in_lbs": 2019,
          "Year": "1980-01-01T00:00:00"
         },
         {
          "Acceleration": 16.5,
          "Cylinders": 4,
          "Displacement": 151,
          "Horsepower": 90,
          "Miles_per_Gallon": 28,
          "Name": "chevrolet citation",
          "Origin": "USA",
          "Weight_in_lbs": 2678,
          "Year": "1980-01-01T00:00:00"
         },
         {
          "Acceleration": 18.1,
          "Cylinders": 4,
          "Displacement": 140,
          "Horsepower": 88,
          "Miles_per_Gallon": 26.4,
          "Name": "ford fairmont",
          "Origin": "USA",
          "Weight_in_lbs": 2870,
          "Year": "1980-01-01T00:00:00"
         },
         {
          "Acceleration": 20.1,
          "Cylinders": 4,
          "Displacement": 151,
          "Horsepower": 90,
          "Miles_per_Gallon": 24.3,
          "Name": "amc concord",
          "Origin": "USA",
          "Weight_in_lbs": 3003,
          "Year": "1980-01-01T00:00:00"
         },
         {
          "Acceleration": 18.7,
          "Cylinders": 6,
          "Displacement": 225,
          "Horsepower": 90,
          "Miles_per_Gallon": 19.1,
          "Name": "dodge aspen",
          "Origin": "USA",
          "Weight_in_lbs": 3381,
          "Year": "1980-01-01T00:00:00"
         },
         {
          "Acceleration": 15.8,
          "Cylinders": 4,
          "Displacement": 97,
          "Horsepower": 78,
          "Miles_per_Gallon": 34.3,
          "Name": "audi 4000",
          "Origin": "Europe",
          "Weight_in_lbs": 2188,
          "Year": "1980-01-01T00:00:00"
         },
         {
          "Acceleration": 15.5,
          "Cylinders": 4,
          "Displacement": 134,
          "Horsepower": 90,
          "Miles_per_Gallon": 29.8,
          "Name": "toyota corona liftback",
          "Origin": "Japan",
          "Weight_in_lbs": 2711,
          "Year": "1980-01-01T00:00:00"
         },
         {
          "Acceleration": 17.5,
          "Cylinders": 4,
          "Displacement": 120,
          "Horsepower": 75,
          "Miles_per_Gallon": 31.3,
          "Name": "mazda 626",
          "Origin": "Japan",
          "Weight_in_lbs": 2542,
          "Year": "1980-01-01T00:00:00"
         },
         {
          "Acceleration": 15,
          "Cylinders": 4,
          "Displacement": 119,
          "Horsepower": 92,
          "Miles_per_Gallon": 37,
          "Name": "datsun 510 hatchback",
          "Origin": "Japan",
          "Weight_in_lbs": 2434,
          "Year": "1980-01-01T00:00:00"
         },
         {
          "Acceleration": 15.2,
          "Cylinders": 4,
          "Displacement": 108,
          "Horsepower": 75,
          "Miles_per_Gallon": 32.2,
          "Name": "toyota corolla",
          "Origin": "Japan",
          "Weight_in_lbs": 2265,
          "Year": "1980-01-01T00:00:00"
         },
         {
          "Acceleration": 17.9,
          "Cylinders": 4,
          "Displacement": 86,
          "Horsepower": 65,
          "Miles_per_Gallon": 46.6,
          "Name": "mazda glc",
          "Origin": "Japan",
          "Weight_in_lbs": 2110,
          "Year": "1980-01-01T00:00:00"
         },
         {
          "Acceleration": 14.4,
          "Cylinders": 4,
          "Displacement": 156,
          "Horsepower": 105,
          "Miles_per_Gallon": 27.9,
          "Name": "dodge colt",
          "Origin": "USA",
          "Weight_in_lbs": 2800,
          "Year": "1980-01-01T00:00:00"
         },
         {
          "Acceleration": 19.2,
          "Cylinders": 4,
          "Displacement": 85,
          "Horsepower": 65,
          "Miles_per_Gallon": 40.8,
          "Name": "datsun 210",
          "Origin": "Japan",
          "Weight_in_lbs": 2110,
          "Year": "1980-01-01T00:00:00"
         },
         {
          "Acceleration": 21.7,
          "Cylinders": 4,
          "Displacement": 90,
          "Horsepower": 48,
          "Miles_per_Gallon": 44.3,
          "Name": "vw rabbit c (diesel)",
          "Origin": "Europe",
          "Weight_in_lbs": 2085,
          "Year": "1980-01-01T00:00:00"
         },
         {
          "Acceleration": 23.7,
          "Cylinders": 4,
          "Displacement": 90,
          "Horsepower": 48,
          "Miles_per_Gallon": 43.4,
          "Name": "vw dasher (diesel)",
          "Origin": "Europe",
          "Weight_in_lbs": 2335,
          "Year": "1980-01-01T00:00:00"
         },
         {
          "Acceleration": 19.9,
          "Cylinders": 5,
          "Displacement": 121,
          "Horsepower": 67,
          "Miles_per_Gallon": 36.4,
          "Name": "audi 5000s (diesel)",
          "Origin": "Europe",
          "Weight_in_lbs": 2950,
          "Year": "1980-01-01T00:00:00"
         },
         {
          "Acceleration": 21.8,
          "Cylinders": 4,
          "Displacement": 146,
          "Horsepower": 67,
          "Miles_per_Gallon": 30,
          "Name": "mercedes-benz 240d",
          "Origin": "Europe",
          "Weight_in_lbs": 3250,
          "Year": "1980-01-01T00:00:00"
         },
         {
          "Acceleration": 13.8,
          "Cylinders": 4,
          "Displacement": 91,
          "Horsepower": 67,
          "Miles_per_Gallon": 44.6,
          "Name": "honda civic 1500 gl",
          "Origin": "Japan",
          "Weight_in_lbs": 1850,
          "Year": "1980-01-01T00:00:00"
         },
         {
          "Acceleration": 17.3,
          "Cylinders": 4,
          "Displacement": 85,
          "Horsepower": null,
          "Miles_per_Gallon": 40.9,
          "Name": "renault lecar deluxe",
          "Origin": "Europe",
          "Weight_in_lbs": 1835,
          "Year": "1980-01-01T00:00:00"
         },
         {
          "Acceleration": 18,
          "Cylinders": 4,
          "Displacement": 97,
          "Horsepower": 67,
          "Miles_per_Gallon": 33.8,
          "Name": "subaru dl",
          "Origin": "Japan",
          "Weight_in_lbs": 2145,
          "Year": "1980-01-01T00:00:00"
         },
         {
          "Acceleration": 15.3,
          "Cylinders": 4,
          "Displacement": 89,
          "Horsepower": 62,
          "Miles_per_Gallon": 29.8,
          "Name": "vokswagen rabbit",
          "Origin": "Europe",
          "Weight_in_lbs": 1845,
          "Year": "1980-01-01T00:00:00"
         },
         {
          "Acceleration": 11.4,
          "Cylinders": 6,
          "Displacement": 168,
          "Horsepower": 132,
          "Miles_per_Gallon": 32.7,
          "Name": "datsun 280-zx",
          "Origin": "Japan",
          "Weight_in_lbs": 2910,
          "Year": "1980-01-01T00:00:00"
         },
         {
          "Acceleration": 12.5,
          "Cylinders": 3,
          "Displacement": 70,
          "Horsepower": 100,
          "Miles_per_Gallon": 23.7,
          "Name": "mazda rx-7 gs",
          "Origin": "Japan",
          "Weight_in_lbs": 2420,
          "Year": "1980-01-01T00:00:00"
         },
         {
          "Acceleration": 15.1,
          "Cylinders": 4,
          "Displacement": 122,
          "Horsepower": 88,
          "Miles_per_Gallon": 35,
          "Name": "triumph tr7 coupe",
          "Origin": "Europe",
          "Weight_in_lbs": 2500,
          "Year": "1980-01-01T00:00:00"
         },
         {
          "Acceleration": 14.3,
          "Cylinders": 4,
          "Displacement": 140,
          "Horsepower": null,
          "Miles_per_Gallon": 23.6,
          "Name": "ford mustang cobra",
          "Origin": "USA",
          "Weight_in_lbs": 2905,
          "Year": "1980-01-01T00:00:00"
         },
         {
          "Acceleration": 17,
          "Cylinders": 4,
          "Displacement": 107,
          "Horsepower": 72,
          "Miles_per_Gallon": 32.4,
          "Name": "honda Accelerationord",
          "Origin": "Japan",
          "Weight_in_lbs": 2290,
          "Year": "1980-01-01T00:00:00"
         },
         {
          "Acceleration": 15.7,
          "Cylinders": 4,
          "Displacement": 135,
          "Horsepower": 84,
          "Miles_per_Gallon": 27.2,
          "Name": "plymouth reliant",
          "Origin": "USA",
          "Weight_in_lbs": 2490,
          "Year": "1982-01-01T00:00:00"
         },
         {
          "Acceleration": 16.4,
          "Cylinders": 4,
          "Displacement": 151,
          "Horsepower": 84,
          "Miles_per_Gallon": 26.6,
          "Name": "buick skylark",
          "Origin": "USA",
          "Weight_in_lbs": 2635,
          "Year": "1982-01-01T00:00:00"
         },
         {
          "Acceleration": 14.4,
          "Cylinders": 4,
          "Displacement": 156,
          "Horsepower": 92,
          "Miles_per_Gallon": 25.8,
          "Name": "dodge aries wagon (sw)",
          "Origin": "USA",
          "Weight_in_lbs": 2620,
          "Year": "1982-01-01T00:00:00"
         },
         {
          "Acceleration": 12.6,
          "Cylinders": 6,
          "Displacement": 173,
          "Horsepower": 110,
          "Miles_per_Gallon": 23.5,
          "Name": "chevrolet citation",
          "Origin": "USA",
          "Weight_in_lbs": 2725,
          "Year": "1982-01-01T00:00:00"
         },
         {
          "Acceleration": 12.9,
          "Cylinders": 4,
          "Displacement": 135,
          "Horsepower": 84,
          "Miles_per_Gallon": 30,
          "Name": "plymouth reliant",
          "Origin": "USA",
          "Weight_in_lbs": 2385,
          "Year": "1982-01-01T00:00:00"
         },
         {
          "Acceleration": 16.9,
          "Cylinders": 4,
          "Displacement": 79,
          "Horsepower": 58,
          "Miles_per_Gallon": 39.1,
          "Name": "toyota starlet",
          "Origin": "Japan",
          "Weight_in_lbs": 1755,
          "Year": "1982-01-01T00:00:00"
         },
         {
          "Acceleration": 16.4,
          "Cylinders": 4,
          "Displacement": 86,
          "Horsepower": 64,
          "Miles_per_Gallon": 39,
          "Name": "plymouth champ",
          "Origin": "USA",
          "Weight_in_lbs": 1875,
          "Year": "1982-01-01T00:00:00"
         },
         {
          "Acceleration": 16.1,
          "Cylinders": 4,
          "Displacement": 81,
          "Horsepower": 60,
          "Miles_per_Gallon": 35.1,
          "Name": "honda civic 1300",
          "Origin": "Japan",
          "Weight_in_lbs": 1760,
          "Year": "1982-01-01T00:00:00"
         },
         {
          "Acceleration": 17.8,
          "Cylinders": 4,
          "Displacement": 97,
          "Horsepower": 67,
          "Miles_per_Gallon": 32.3,
          "Name": "subaru",
          "Origin": "Japan",
          "Weight_in_lbs": 2065,
          "Year": "1982-01-01T00:00:00"
         },
         {
          "Acceleration": 19.4,
          "Cylinders": 4,
          "Displacement": 85,
          "Horsepower": 65,
          "Miles_per_Gallon": 37,
          "Name": "datsun 210",
          "Origin": "Japan",
          "Weight_in_lbs": 1975,
          "Year": "1982-01-01T00:00:00"
         },
         {
          "Acceleration": 17.3,
          "Cylinders": 4,
          "Displacement": 89,
          "Horsepower": 62,
          "Miles_per_Gallon": 37.7,
          "Name": "toyota tercel",
          "Origin": "Japan",
          "Weight_in_lbs": 2050,
          "Year": "1982-01-01T00:00:00"
         },
         {
          "Acceleration": 16,
          "Cylinders": 4,
          "Displacement": 91,
          "Horsepower": 68,
          "Miles_per_Gallon": 34.1,
          "Name": "mazda glc 4",
          "Origin": "Japan",
          "Weight_in_lbs": 1985,
          "Year": "1982-01-01T00:00:00"
         },
         {
          "Acceleration": 14.9,
          "Cylinders": 4,
          "Displacement": 105,
          "Horsepower": 63,
          "Miles_per_Gallon": 34.7,
          "Name": "plymouth horizon 4",
          "Origin": "USA",
          "Weight_in_lbs": 2215,
          "Year": "1982-01-01T00:00:00"
         },
         {
          "Acceleration": 16.2,
          "Cylinders": 4,
          "Displacement": 98,
          "Horsepower": 65,
          "Miles_per_Gallon": 34.4,
          "Name": "ford escort 4w",
          "Origin": "USA",
          "Weight_in_lbs": 2045,
          "Year": "1982-01-01T00:00:00"
         },
         {
          "Acceleration": 20.7,
          "Cylinders": 4,
          "Displacement": 98,
          "Horsepower": 65,
          "Miles_per_Gallon": 29.9,
          "Name": "ford escort 2h",
          "Origin": "USA",
          "Weight_in_lbs": 2380,
          "Year": "1982-01-01T00:00:00"
         },
         {
          "Acceleration": 14.2,
          "Cylinders": 4,
          "Displacement": 105,
          "Horsepower": 74,
          "Miles_per_Gallon": 33,
          "Name": "volkswagen jetta",
          "Origin": "Europe",
          "Weight_in_lbs": 2190,
          "Year": "1982-01-01T00:00:00"
         },
         {
          "Acceleration": 15.8,
          "Cylinders": 4,
          "Displacement": 100,
          "Horsepower": null,
          "Miles_per_Gallon": 34.5,
          "Name": "renault 18i",
          "Origin": "Europe",
          "Weight_in_lbs": 2320,
          "Year": "1982-01-01T00:00:00"
         },
         {
          "Acceleration": 14.4,
          "Cylinders": 4,
          "Displacement": 107,
          "Horsepower": 75,
          "Miles_per_Gallon": 33.7,
          "Name": "honda prelude",
          "Origin": "Japan",
          "Weight_in_lbs": 2210,
          "Year": "1982-01-01T00:00:00"
         },
         {
          "Acceleration": 16.8,
          "Cylinders": 4,
          "Displacement": 108,
          "Horsepower": 75,
          "Miles_per_Gallon": 32.4,
          "Name": "toyota corolla",
          "Origin": "Japan",
          "Weight_in_lbs": 2350,
          "Year": "1982-01-01T00:00:00"
         },
         {
          "Acceleration": 14.8,
          "Cylinders": 4,
          "Displacement": 119,
          "Horsepower": 100,
          "Miles_per_Gallon": 32.9,
          "Name": "datsun 200sx",
          "Origin": "Japan",
          "Weight_in_lbs": 2615,
          "Year": "1982-01-01T00:00:00"
         },
         {
          "Acceleration": 18.3,
          "Cylinders": 4,
          "Displacement": 120,
          "Horsepower": 74,
          "Miles_per_Gallon": 31.6,
          "Name": "mazda 626",
          "Origin": "Japan",
          "Weight_in_lbs": 2635,
          "Year": "1982-01-01T00:00:00"
         },
         {
          "Acceleration": 20.4,
          "Cylinders": 4,
          "Displacement": 141,
          "Horsepower": 80,
          "Miles_per_Gallon": 28.1,
          "Name": "peugeot 505s turbo diesel",
          "Origin": "Europe",
          "Weight_in_lbs": 3230,
          "Year": "1982-01-01T00:00:00"
         },
         {
          "Acceleration": 15.4,
          "Cylinders": 4,
          "Displacement": 121,
          "Horsepower": 110,
          "Miles_per_Gallon": null,
          "Name": "saab 900s",
          "Origin": "Europe",
          "Weight_in_lbs": 2800,
          "Year": "1982-01-01T00:00:00"
         },
         {
          "Acceleration": 19.6,
          "Cylinders": 6,
          "Displacement": 145,
          "Horsepower": 76,
          "Miles_per_Gallon": 30.7,
          "Name": "volvo diesel",
          "Origin": "Europe",
          "Weight_in_lbs": 3160,
          "Year": "1982-01-01T00:00:00"
         },
         {
          "Acceleration": 12.6,
          "Cylinders": 6,
          "Displacement": 168,
          "Horsepower": 116,
          "Miles_per_Gallon": 25.4,
          "Name": "toyota cressida",
          "Origin": "Japan",
          "Weight_in_lbs": 2900,
          "Year": "1982-01-01T00:00:00"
         },
         {
          "Acceleration": 13.8,
          "Cylinders": 6,
          "Displacement": 146,
          "Horsepower": 120,
          "Miles_per_Gallon": 24.2,
          "Name": "datsun 810 maxima",
          "Origin": "Japan",
          "Weight_in_lbs": 2930,
          "Year": "1982-01-01T00:00:00"
         },
         {
          "Acceleration": 15.8,
          "Cylinders": 6,
          "Displacement": 231,
          "Horsepower": 110,
          "Miles_per_Gallon": 22.4,
          "Name": "buick century",
          "Origin": "USA",
          "Weight_in_lbs": 3415,
          "Year": "1982-01-01T00:00:00"
         },
         {
          "Acceleration": 19,
          "Cylinders": 8,
          "Displacement": 350,
          "Horsepower": 105,
          "Miles_per_Gallon": 26.6,
          "Name": "oldsmobile cutlass ls",
          "Origin": "USA",
          "Weight_in_lbs": 3725,
          "Year": "1982-01-01T00:00:00"
         },
         {
          "Acceleration": 17.1,
          "Cylinders": 6,
          "Displacement": 200,
          "Horsepower": 88,
          "Miles_per_Gallon": 20.2,
          "Name": "ford granada gl",
          "Origin": "USA",
          "Weight_in_lbs": 3060,
          "Year": "1982-01-01T00:00:00"
         },
         {
          "Acceleration": 16.6,
          "Cylinders": 6,
          "Displacement": 225,
          "Horsepower": 85,
          "Miles_per_Gallon": 17.6,
          "Name": "chrysler lebaron salon",
          "Origin": "USA",
          "Weight_in_lbs": 3465,
          "Year": "1982-01-01T00:00:00"
         },
         {
          "Acceleration": 19.6,
          "Cylinders": 4,
          "Displacement": 112,
          "Horsepower": 88,
          "Miles_per_Gallon": 28,
          "Name": "chevrolet cavalier",
          "Origin": "USA",
          "Weight_in_lbs": 2605,
          "Year": "1982-01-01T00:00:00"
         },
         {
          "Acceleration": 18.6,
          "Cylinders": 4,
          "Displacement": 112,
          "Horsepower": 88,
          "Miles_per_Gallon": 27,
          "Name": "chevrolet cavalier wagon",
          "Origin": "USA",
          "Weight_in_lbs": 2640,
          "Year": "1982-01-01T00:00:00"
         },
         {
          "Acceleration": 18,
          "Cylinders": 4,
          "Displacement": 112,
          "Horsepower": 88,
          "Miles_per_Gallon": 34,
          "Name": "chevrolet cavalier 2-door",
          "Origin": "USA",
          "Weight_in_lbs": 2395,
          "Year": "1982-01-01T00:00:00"
         },
         {
          "Acceleration": 16.2,
          "Cylinders": 4,
          "Displacement": 112,
          "Horsepower": 85,
          "Miles_per_Gallon": 31,
          "Name": "pontiac j2000 se hatchback",
          "Origin": "USA",
          "Weight_in_lbs": 2575,
          "Year": "1982-01-01T00:00:00"
         },
         {
          "Acceleration": 16,
          "Cylinders": 4,
          "Displacement": 135,
          "Horsepower": 84,
          "Miles_per_Gallon": 29,
          "Name": "dodge aries se",
          "Origin": "USA",
          "Weight_in_lbs": 2525,
          "Year": "1982-01-01T00:00:00"
         },
         {
          "Acceleration": 18,
          "Cylinders": 4,
          "Displacement": 151,
          "Horsepower": 90,
          "Miles_per_Gallon": 27,
          "Name": "pontiac phoenix",
          "Origin": "USA",
          "Weight_in_lbs": 2735,
          "Year": "1982-01-01T00:00:00"
         },
         {
          "Acceleration": 16.4,
          "Cylinders": 4,
          "Displacement": 140,
          "Horsepower": 92,
          "Miles_per_Gallon": 24,
          "Name": "ford fairmont futura",
          "Origin": "USA",
          "Weight_in_lbs": 2865,
          "Year": "1982-01-01T00:00:00"
         },
         {
          "Acceleration": 20.5,
          "Cylinders": 4,
          "Displacement": 151,
          "Horsepower": null,
          "Miles_per_Gallon": 23,
          "Name": "amc concord dl",
          "Origin": "USA",
          "Weight_in_lbs": 3035,
          "Year": "1982-01-01T00:00:00"
         },
         {
          "Acceleration": 15.3,
          "Cylinders": 4,
          "Displacement": 105,
          "Horsepower": 74,
          "Miles_per_Gallon": 36,
          "Name": "volkswagen rabbit l",
          "Origin": "Europe",
          "Weight_in_lbs": 1980,
          "Year": "1982-01-01T00:00:00"
         },
         {
          "Acceleration": 18.2,
          "Cylinders": 4,
          "Displacement": 91,
          "Horsepower": 68,
          "Miles_per_Gallon": 37,
          "Name": "mazda glc custom l",
          "Origin": "Japan",
          "Weight_in_lbs": 2025,
          "Year": "1982-01-01T00:00:00"
         },
         {
          "Acceleration": 17.6,
          "Cylinders": 4,
          "Displacement": 91,
          "Horsepower": 68,
          "Miles_per_Gallon": 31,
          "Name": "mazda glc custom",
          "Origin": "Japan",
          "Weight_in_lbs": 1970,
          "Year": "1982-01-01T00:00:00"
         },
         {
          "Acceleration": 14.7,
          "Cylinders": 4,
          "Displacement": 105,
          "Horsepower": 63,
          "Miles_per_Gallon": 38,
          "Name": "plymouth horizon miser",
          "Origin": "USA",
          "Weight_in_lbs": 2125,
          "Year": "1982-01-01T00:00:00"
         },
         {
          "Acceleration": 17.3,
          "Cylinders": 4,
          "Displacement": 98,
          "Horsepower": 70,
          "Miles_per_Gallon": 36,
          "Name": "mercury lynx l",
          "Origin": "USA",
          "Weight_in_lbs": 2125,
          "Year": "1982-01-01T00:00:00"
         },
         {
          "Acceleration": 14.5,
          "Cylinders": 4,
          "Displacement": 120,
          "Horsepower": 88,
          "Miles_per_Gallon": 36,
          "Name": "nissan stanza xe",
          "Origin": "Japan",
          "Weight_in_lbs": 2160,
          "Year": "1982-01-01T00:00:00"
         },
         {
          "Acceleration": 14.5,
          "Cylinders": 4,
          "Displacement": 107,
          "Horsepower": 75,
          "Miles_per_Gallon": 36,
          "Name": "honda Accelerationord",
          "Origin": "Japan",
          "Weight_in_lbs": 2205,
          "Year": "1982-01-01T00:00:00"
         },
         {
          "Acceleration": 16.9,
          "Cylinders": 4,
          "Displacement": 108,
          "Horsepower": 70,
          "Miles_per_Gallon": 34,
          "Name": "toyota corolla",
          "Origin": "Japan",
          "Weight_in_lbs": 2245,
          "Year": "1982-01-01T00:00:00"
         },
         {
          "Acceleration": 15,
          "Cylinders": 4,
          "Displacement": 91,
          "Horsepower": 67,
          "Miles_per_Gallon": 38,
          "Name": "honda civic",
          "Origin": "Japan",
          "Weight_in_lbs": 1965,
          "Year": "1982-01-01T00:00:00"
         },
         {
          "Acceleration": 15.7,
          "Cylinders": 4,
          "Displacement": 91,
          "Horsepower": 67,
          "Miles_per_Gallon": 32,
          "Name": "honda civic (auto)",
          "Origin": "Japan",
          "Weight_in_lbs": 1965,
          "Year": "1982-01-01T00:00:00"
         },
         {
          "Acceleration": 16.2,
          "Cylinders": 4,
          "Displacement": 91,
          "Horsepower": 67,
          "Miles_per_Gallon": 38,
          "Name": "datsun 310 gx",
          "Origin": "Japan",
          "Weight_in_lbs": 1995,
          "Year": "1982-01-01T00:00:00"
         },
         {
          "Acceleration": 16.4,
          "Cylinders": 6,
          "Displacement": 181,
          "Horsepower": 110,
          "Miles_per_Gallon": 25,
          "Name": "buick century limited",
          "Origin": "USA",
          "Weight_in_lbs": 2945,
          "Year": "1982-01-01T00:00:00"
         },
         {
          "Acceleration": 17,
          "Cylinders": 6,
          "Displacement": 262,
          "Horsepower": 85,
          "Miles_per_Gallon": 38,
          "Name": "oldsmobile cutlass ciera (diesel)",
          "Origin": "USA",
          "Weight_in_lbs": 3015,
          "Year": "1982-01-01T00:00:00"
         },
         {
          "Acceleration": 14.5,
          "Cylinders": 4,
          "Displacement": 156,
          "Horsepower": 92,
          "Miles_per_Gallon": 26,
          "Name": "chrysler lebaron medallion",
          "Origin": "USA",
          "Weight_in_lbs": 2585,
          "Year": "1982-01-01T00:00:00"
         },
         {
          "Acceleration": 14.7,
          "Cylinders": 6,
          "Displacement": 232,
          "Horsepower": 112,
          "Miles_per_Gallon": 22,
          "Name": "ford granada l",
          "Origin": "USA",
          "Weight_in_lbs": 2835,
          "Year": "1982-01-01T00:00:00"
         },
         {
          "Acceleration": 13.9,
          "Cylinders": 4,
          "Displacement": 144,
          "Horsepower": 96,
          "Miles_per_Gallon": 32,
          "Name": "toyota celica gt",
          "Origin": "Japan",
          "Weight_in_lbs": 2665,
          "Year": "1982-01-01T00:00:00"
         },
         {
          "Acceleration": 13,
          "Cylinders": 4,
          "Displacement": 135,
          "Horsepower": 84,
          "Miles_per_Gallon": 36,
          "Name": "dodge charger 2.2",
          "Origin": "USA",
          "Weight_in_lbs": 2370,
          "Year": "1982-01-01T00:00:00"
         },
         {
          "Acceleration": 17.3,
          "Cylinders": 4,
          "Displacement": 151,
          "Horsepower": 90,
          "Miles_per_Gallon": 27,
          "Name": "chevrolet camaro",
          "Origin": "USA",
          "Weight_in_lbs": 2950,
          "Year": "1982-01-01T00:00:00"
         },
         {
          "Acceleration": 15.6,
          "Cylinders": 4,
          "Displacement": 140,
          "Horsepower": 86,
          "Miles_per_Gallon": 27,
          "Name": "ford mustang gl",
          "Origin": "USA",
          "Weight_in_lbs": 2790,
          "Year": "1982-01-01T00:00:00"
         },
         {
          "Acceleration": 24.6,
          "Cylinders": 4,
          "Displacement": 97,
          "Horsepower": 52,
          "Miles_per_Gallon": 44,
          "Name": "vw pickup",
          "Origin": "Europe",
          "Weight_in_lbs": 2130,
          "Year": "1982-01-01T00:00:00"
         },
         {
          "Acceleration": 11.6,
          "Cylinders": 4,
          "Displacement": 135,
          "Horsepower": 84,
          "Miles_per_Gallon": 32,
          "Name": "dodge rampage",
          "Origin": "USA",
          "Weight_in_lbs": 2295,
          "Year": "1982-01-01T00:00:00"
         },
         {
          "Acceleration": 18.6,
          "Cylinders": 4,
          "Displacement": 120,
          "Horsepower": 79,
          "Miles_per_Gallon": 28,
          "Name": "ford ranger",
          "Origin": "USA",
          "Weight_in_lbs": 2625,
          "Year": "1982-01-01T00:00:00"
         },
         {
          "Acceleration": 19.4,
          "Cylinders": 4,
          "Displacement": 119,
          "Horsepower": 82,
          "Miles_per_Gallon": 31,
          "Name": "chevy s-10",
          "Origin": "USA",
          "Weight_in_lbs": 2720,
          "Year": "1982-01-01T00:00:00"
         }
        ]
       },
       "encoding": {
        "color": {
         "condition": {
          "field": "Cylinders",
          "param": "brush",
          "type": "ordinal"
         },
         "value": "grey"
        },
        "x": {
         "field": "Horsepower",
         "type": "quantitative"
        },
        "y": {
         "field": "Miles_per_Gallon",
         "type": "quantitative"
        }
       },
       "mark": {
        "type": "point"
       },
       "params": [
        {
         "name": "brush",
         "select": {
          "type": "interval"
         }
        }
       ]
      }
     }
    },
    "9b86bc2e69e940199eeb7c86bbc4634e": {
     "model_module": "@jupyter-widgets/controls",
     "model_module_version": "1.5.0",
     "model_name": "DescriptionStyleModel",
     "state": {
      "_model_module": "@jupyter-widgets/controls",
      "_model_module_version": "1.5.0",
      "_model_name": "DescriptionStyleModel",
      "_view_count": null,
      "_view_module": "@jupyter-widgets/base",
      "_view_module_version": "1.2.0",
      "_view_name": "StyleView",
      "description_width": ""
     }
    },
    "c5ecebdeec6845febe35aea9c3d61755": {
     "model_module": "@jupyter-widgets/base",
     "model_module_version": "1.2.0",
     "model_name": "LayoutModel",
     "state": {
      "_model_module": "@jupyter-widgets/base",
      "_model_module_version": "1.2.0",
      "_model_name": "LayoutModel",
      "_view_count": null,
      "_view_module": "@jupyter-widgets/base",
      "_view_module_version": "1.2.0",
      "_view_name": "LayoutView",
      "align_content": null,
      "align_items": null,
      "align_self": null,
      "border": null,
      "bottom": null,
      "display": null,
      "flex": null,
      "flex_flow": null,
      "grid_area": null,
      "grid_auto_columns": null,
      "grid_auto_flow": null,
      "grid_auto_rows": null,
      "grid_column": null,
      "grid_gap": null,
      "grid_row": null,
      "grid_template_areas": null,
      "grid_template_columns": null,
      "grid_template_rows": null,
      "height": null,
      "justify_content": null,
      "justify_items": null,
      "left": null,
      "margin": null,
      "max_height": null,
      "max_width": null,
      "min_height": null,
      "min_width": null,
      "object_fit": null,
      "object_position": null,
      "order": null,
      "overflow": null,
      "overflow_x": null,
      "overflow_y": null,
      "padding": null,
      "right": null,
      "top": null,
      "visibility": null,
      "width": null
     }
    },
    "e0db6d9b928b4accb840bec4c7239bcf": {
     "model_module": "@jupyter-widgets/controls",
     "model_module_version": "1.5.0",
     "model_name": "HTMLModel",
     "state": {
      "_dom_classes": [],
      "_model_module": "@jupyter-widgets/controls",
      "_model_module_version": "1.5.0",
      "_model_name": "HTMLModel",
      "_view_count": null,
      "_view_module": "@jupyter-widgets/controls",
      "_view_module_version": "1.5.0",
      "_view_name": "HTMLView",
      "description": "",
      "description_tooltip": null,
      "layout": "IPY_MODEL_2980cff7fe544704bb621365c1d0d277",
      "placeholder": "​",
      "style": "IPY_MODEL_9b86bc2e69e940199eeb7c86bbc4634e",
      "value": "<table border=\"1\" class=\"dataframe\">\n  <thead>\n    <tr style=\"text-align: right;\">\n      <th></th>\n      <th>Name</th>\n      <th>Miles_per_Gallon</th>\n      <th>Cylinders</th>\n      <th>Displacement</th>\n      <th>Horsepower</th>\n      <th>Weight_in_lbs</th>\n      <th>Acceleration</th>\n      <th>Year</th>\n      <th>Origin</th>\n    </tr>\n  </thead>\n  <tbody>\n    <tr>\n      <th>6</th>\n      <td>chevrolet impala</td>\n      <td>14.0</td>\n      <td>8</td>\n      <td>454.0</td>\n      <td>220.0</td>\n      <td>4354</td>\n      <td>9.0</td>\n      <td>1970-01-01</td>\n      <td>USA</td>\n    </tr>\n    <tr>\n      <th>7</th>\n      <td>plymouth fury iii</td>\n      <td>14.0</td>\n      <td>8</td>\n      <td>440.0</td>\n      <td>215.0</td>\n      <td>4312</td>\n      <td>8.5</td>\n      <td>1970-01-01</td>\n      <td>USA</td>\n    </tr>\n    <tr>\n      <th>8</th>\n      <td>pontiac catalina</td>\n      <td>14.0</td>\n      <td>8</td>\n      <td>455.0</td>\n      <td>225.0</td>\n      <td>4425</td>\n      <td>10.0</td>\n      <td>1970-01-01</td>\n      <td>USA</td>\n    </tr>\n    <tr>\n      <th>19</th>\n      <td>buick estate wagon (sw)</td>\n      <td>14.0</td>\n      <td>8</td>\n      <td>455.0</td>\n      <td>225.0</td>\n      <td>3086</td>\n      <td>10.0</td>\n      <td>1970-01-01</td>\n      <td>USA</td>\n    </tr>\n    <tr>\n      <th>123</th>\n      <td>pontiac grand prix</td>\n      <td>16.0</td>\n      <td>8</td>\n      <td>400.0</td>\n      <td>230.0</td>\n      <td>4278</td>\n      <td>9.5</td>\n      <td>1973-01-01</td>\n      <td>USA</td>\n    </tr>\n  </tbody>\n</table>"
     }
    },
    "e2855085fcc947c682b07fe73ad64d7d": {
     "model_module": "@jupyter-widgets/base",
     "model_module_version": "1.2.0",
     "model_name": "LayoutModel",
     "state": {
      "_model_module": "@jupyter-widgets/base",
      "_model_module_version": "1.2.0",
      "_model_name": "LayoutModel",
      "_view_count": null,
      "_view_module": "@jupyter-widgets/base",
      "_view_module_version": "1.2.0",
      "_view_name": "LayoutView",
      "align_content": null,
      "align_items": null,
      "align_self": null,
      "border": null,
      "bottom": null,
      "display": null,
      "flex": null,
      "flex_flow": null,
      "grid_area": null,
      "grid_auto_columns": null,
      "grid_auto_flow": null,
      "grid_auto_rows": null,
      "grid_column": null,
      "grid_gap": null,
      "grid_row": null,
      "grid_template_areas": null,
      "grid_template_columns": null,
      "grid_template_rows": null,
      "height": null,
      "justify_content": null,
      "justify_items": null,
      "left": null,
      "margin": null,
      "max_height": null,
      "max_width": null,
      "min_height": null,
      "min_width": null,
      "object_fit": null,
      "object_position": null,
      "order": null,
      "overflow": null,
      "overflow_x": null,
      "overflow_y": null,
      "padding": null,
      "right": null,
      "top": null,
      "visibility": null,
      "width": null
     }
    }
   }
  }
 },
 "nbformat": 4,
 "nbformat_minor": 4
}
