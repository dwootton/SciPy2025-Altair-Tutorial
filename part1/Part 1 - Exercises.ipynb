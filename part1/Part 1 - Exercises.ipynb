{
 "cells": [
  {
   "cell_type": "markdown",
   "metadata": {
    "id": "8wohcCAGFSUH"
   },
   "source": [
    "# Part 1 - Exercises - Data Types, Graphical Marks, and Visual Encoding Channels\n",
    "\n",
    "The goal of these exercises is to gain experience with the concepts from Part 1."
   ]
  },
  {
   "cell_type": "code",
   "execution_count": null,
   "metadata": {
    "colab": {
     "base_uri": "https://localhost:8080/"
    },
    "executionInfo": {
     "elapsed": 27452,
     "status": "ok",
     "timestamp": 1716643039135,
     "user": {
      "displayName": "Christopher Davis",
      "userId": "04915168234482370708"
     },
     "user_tz": 420
    },
    "id": "F1QcNjRcxgUj",
    "outputId": "c5a2bb5c-8f20-4e70-8b2b-0e360f2cca15"
   },
   "outputs": [],
   "source": [
    "import altair as alt\n",
    "import pandas as pd\n",
    "from vega_datasets import data\n",
    "print(\"The installed Vega-Altair version is \" + alt.__version__)"
   ]
  },
  {
   "cell_type": "markdown",
   "metadata": {
    "id": "ureI59UJAK2i"
   },
   "source": [
    "## Spotify exercise\n",
    "\n",
    "The goal of this first exercise is to familiarize ourselves with the Altair syntax.  Load the following csv file as pandas DataFrame: [Spotify dataset](../resources/datasets/spotify.csv).  This dataset is a very slightly cleaned version of a dataset found on [Kaggle](https://www.kaggle.com/datasets/arnavvvvv/spotify-music).  This dataset will be used again in the Part 2 Exercises.\n",
    "\n"
   ]
  },
  {
   "cell_type": "code",
   "execution_count": null,
   "metadata": {
    "id": "NvJghWpxB4KU"
   },
   "outputs": [],
   "source": [
    "df = pd.read_csv(\"../resources/datasets/spotify.csv\")"
   ]
  },
  {
   "cell_type": "markdown",
   "metadata": {
    "id": "1eUI9ZRwKZnc"
   },
   "source": [
    "### Part a\n",
    "\n",
    "* Create a scatter plot from this data using the encodings `alt.X`, `alt.Y`, and `alt.Color`.\n",
    "* Include a tooltip that indicates the artist and song name.  \n",
    "* Choose a visually appealing [color scheme](https://vega.github.io/vega/docs/schemes/) and specify this color scheme using the method syntax.\n",
    "* Include a title for your chart by using the `properties` method of the Altair Chart object.\n",
    "\n",
    "![](../resources/images/part1/spotify1.png)\n",
    "\n",
    "<details>\n",
    "  <summary>(Show Answer)</summary>\n",
    "\n",
    "  ```python\n",
    "alt.Chart(df).mark_circle().encode(\n",
    "    alt.X(\"Energy\"),\n",
    "    alt.Y(\"Acousticness\"),\n",
    "    alt.Color(\"Valence\").scale(scheme=\"viridis\"),\n",
    "    alt.Tooltip([\"Artist\", \"Song Name\"])\n",
    ").properties(\n",
    "    title=\"Spotify songs\"\n",
    ")\n",
    "  ```\n",
    "</details>"
   ]
  },
  {
   "cell_type": "markdown",
   "metadata": {
    "id": "hf2q1VcCI6g7"
   },
   "source": [
    "### Part b\n",
    "\n",
    "Which song in the dataset released between 1970 and 1980 had the lowest \"Valence\" level?  The highest?  Use the \"Release Date\" field to help answer this question.  Specify that Altair should interpret these Release Date values as dates, not strings, by using the `\":T\"` encoding type abbreviation.\n",
    "\n",
    "![](../resources/images/part1/spotify2.png)\n",
    "\n",
    "<details>\n",
    "  <summary>(Show Answer)</summary>\n",
    "\n",
    "  ```python\n",
    "alt.Chart(df).mark_circle().encode(\n",
    "    alt.X(\"Release Date:T\"),\n",
    "    alt.Y(\"Valence\"),\n",
    "    alt.Tooltip([\"Artist\", \"Song Name\"])\n",
    ")\n",
    "  ```\n",
    "</details>"
   ]
  },
  {
   "cell_type": "markdown",
   "metadata": {
    "id": "QYD_v-jwAMsS"
   },
   "source": [
    "## Gapminder exercise"
   ]
  },
  {
   "cell_type": "markdown",
   "metadata": {
    "id": "JXdkN2V8R1lZ"
   },
   "source": [
    "The following is based on [this chart](https://altair-viz.github.io/gallery/gapminder_bubble_plot.html) from the Altair example gallery, which in turn is based on the following [Lisa Charlotte Muth blogpost](https://lisacharlottemuth.com/2016/05/17/one-chart-code/).\n",
    "\n",
    "* Load the `gapminder_health_income` dataset from vega_datasets.  (Notice that this is not the same as the `gapminder` dataset.)\n",
    "* Make a scatter plot from this data.\n",
    "* Use \"income\" for the x-axis encoding.\n",
    "* Use \"health\" for the y-axis encoding."
   ]
  },
  {
   "cell_type": "code",
   "execution_count": null,
   "metadata": {},
   "outputs": [],
   "source": [
    "source = data.gapminder_health_income()"
   ]
  },
  {
   "cell_type": "markdown",
   "metadata": {
    "id": "aJW9mhUx4mQo"
   },
   "source": [
    "![](../resources/images/part1/gapminder1.png)\n",
    "\n",
    "<details>\n",
    "  <summary>(Show Answer)</summary>\n",
    "\n",
    "  ```python\n",
    "alt.Chart(source).mark_circle().encode(\n",
    "    alt.X('income'),\n",
    "    alt.Y('health'),\n",
    ")\n",
    "  ```\n",
    "</details>"
   ]
  },
  {
   "cell_type": "markdown",
   "metadata": {
    "id": "gel4QV4SKOyM"
   },
   "source": [
    " - By default, Vega-Altair includes zero when defining quantitative scales.  For the y-axis encoding only, change this `zero` argument to `False` within the `scale` method.\n",
    "\n",
    "![](../resources/images/part1/gapminder2.png)\n",
    "\n",
    "<details>\n",
    "  <summary>(Show Answer)</summary>\n",
    "\n",
    "  ```python\n",
    "alt.Chart(source).mark_circle().encode(\n",
    "    alt.X('income'),\n",
    "    alt.Y('health').scale(zero=False),\n",
    ")\n",
    "  ```\n",
    "</details>"
   ]
  },
  {
   "cell_type": "markdown",
   "metadata": {
    "id": "sFv0LUVQLBfM"
   },
   "source": [
    "* Add size and color encodings, both using the \"population\" field.\n",
    "* Specify a color scheme of your choice.  If desired, you can use the `reverse` keyword argument to reverse the ordering of the colors.\n",
    "\n",
    "![](../resources/images/part1/gapminder3.png)\n",
    "\n",
    "<details>\n",
    "  <summary>(Show Answer)</summary>\n",
    "\n",
    "  ```python\n",
    "alt.Chart(source).mark_circle().encode(\n",
    "    alt.X('income'),\n",
    "    alt.Y('health').scale(zero=False),\n",
    "    alt.Size('population'),\n",
    "    alt.Color('population').scale(scheme=\"spectral\", reverse=True)\n",
    ")\n",
    "  ```\n",
    "</details>\n"
   ]
  },
  {
   "cell_type": "markdown",
   "metadata": {
    "id": "in5Mjqi5Lk-S"
   },
   "source": [
    "* Recall that scales in Altair convert data values to visual values.  Specify that for the x-axis encoding, a log scale should be used to make this conversion.\n",
    "\n",
    "![](../resources/images/part1/gapminder4.png)\n",
    "\n",
    "<details>\n",
    "  <summary>(Show Answer)</summary>\n",
    "\n",
    "  ```python\n",
    "alt.Chart(source).mark_circle().encode(\n",
    "    alt.X('income').scale(type=\"log\"),\n",
    "    alt.Y('health').scale(zero=False),\n",
    "    alt.Size('population'),\n",
    "    alt.Color('population').scale(scheme=\"spectral\", reverse=True)\n",
    ")\n",
    "  ```\n",
    "</details>\n"
   ]
  },
  {
   "cell_type": "markdown",
   "metadata": {
    "id": "0d05wYemrfQY"
   },
   "source": [
    "## Driving exercise\n",
    "\n",
    "This exercise is based on the following two examples from the Altair example gallery:  [Link 1](https://altair-viz.github.io/gallery/line_custom_order.html) and [Link 2](https://altair-viz.github.io/gallery/falkensee.html). (But don't click the links unless you want a hint!)"
   ]
  },
  {
   "cell_type": "markdown",
   "metadata": {
    "id": "cxMbKBQYPZP_"
   },
   "source": [
    "* Load the *driving* dataset from vega_datasets."
   ]
  },
  {
   "cell_type": "code",
   "execution_count": null,
   "metadata": {},
   "outputs": [],
   "source": [
    "df = data.driving()"
   ]
  },
  {
   "cell_type": "markdown",
   "metadata": {},
   "source": [
    "\n",
    "* Make a line chart using \"miles\" for the x-encoding and \"gas\" for the y-encoding.\n",
    "* Use `point=True` as a keyword argument to `mark_line` to also have the corresponding points plotted.  (Secretly, this is layering a scatter plot on top of our line chart.)\n",
    "* Specify `zero=False` for the y-axis encoding scale.  (Side question from Chris: I'm not sure why this seems to happen automatically for the x-axis scale.  It seems to have to do with being a line chart.)\n",
    "\n",
    "\n",
    "![](../resources/images/part1/driving1.png)\n",
    "\n",
    "<details>\n",
    "  <summary>(Show Answer)</summary>\n",
    "\n",
    "  ```python\n",
    "alt.Chart(df).mark_line(point=True).encode(\n",
    "    alt.X(\"miles\"),\n",
    "    alt.Y(\"gas\").scale(zero=False),\n",
    ")\n",
    "  ```\n",
    "</details>\n"
   ]
  },
  {
   "cell_type": "markdown",
   "metadata": {
    "id": "oTQ_7zE3RQwk"
   },
   "source": [
    "* Notice that the x-axis corresponds to miles driven, and points are connected accordingly.  Use the *order* encoding channel to specify that instead, points should be connected according to \"year\".\n",
    "\n",
    "\n",
    "![](../resources/images/part1/driving2.png)\n",
    "\n",
    "<details>\n",
    "  <summary>(Show Answer)</summary>\n",
    "\n",
    "  ```python\n",
    "alt.Chart(df).mark_line(point=True).encode(\n",
    "    alt.X(\"miles\"),\n",
    "    alt.Y(\"gas\").scale(zero=False),\n",
    "    alt.Order(\"year\")\n",
    ")\n",
    "  ```\n",
    "</details>\n"
   ]
  },
  {
   "cell_type": "markdown",
   "metadata": {
    "id": "rurKCuiwRyAJ"
   },
   "source": [
    "We would also like to highlight a certain interesting region of the chart.  We will use a separate rectangle chart to make this highlight.  Rather than being data-based, we will mostly specify the properties of this rectangle chart directly.\n",
    "\n",
    "Recall that scales describe how to convert data values to visual values.  Sometimes we would like to explicitly specify data values, and sometimes we would like to explicitly specify visual values.  For data values, we use `alt.datum`, and for visual values, we use `alt.value`.\n",
    "\n",
    "* Make a rectangle chart (`mark_rect`, [reference](https://altair-viz.github.io/user_guide/marks/rect.html)) with the x-axis spanning from `6500` to `7000`, viewed as data values.  No dataset is needed here."
   ]
  },
  {
   "cell_type": "code",
   "execution_count": null,
   "metadata": {
    "colab": {
     "base_uri": "https://localhost:8080/",
     "height": 68
    },
    "executionInfo": {
     "elapsed": 178,
     "status": "ok",
     "timestamp": 1716649645116,
     "user": {
      "displayName": "Christopher Davis",
      "userId": "04915168234482370708"
     },
     "user_tz": 420
    },
    "id": "w2clpwEDRxlI",
    "outputId": "8e1a1874-5539-4a9c-dc69-1ec77c881919"
   },
   "outputs": [],
   "source": [
    "alt.Chart().mark_rect().encode(\n",
    "    x=alt.datum(6500),\n",
    "    x2=alt.datum(7000)\n",
    ")"
   ]
  },
  {
   "cell_type": "markdown",
   "metadata": {
    "id": "PBfVGoR9TUQI"
   },
   "source": [
    "* Specify the color as `\"orange\"` and the opacity as `0.2`.  It's probably most natural to specify these using keyword arguments to `mark_rect`, but for practice with `alt.datum` vs `alt.value`, instead specify these visual values within the `encode` method."
   ]
  },
  {
   "cell_type": "code",
   "execution_count": null,
   "metadata": {
    "colab": {
     "base_uri": "https://localhost:8080/",
     "height": 68
    },
    "executionInfo": {
     "elapsed": 175,
     "status": "ok",
     "timestamp": 1716650148452,
     "user": {
      "displayName": "Christopher Davis",
      "userId": "04915168234482370708"
     },
     "user_tz": 420
    },
    "id": "48dOdKh_TPVw",
    "outputId": "3a1a2689-dd71-440b-b1ed-e360d3ff9880"
   },
   "outputs": [],
   "source": [
    "alt.Chart().mark_rect().encode(\n",
    "    x=alt.datum(6500),\n",
    "    x2=alt.datum(7000),\n",
    "    color=alt.value(\"orange\"),\n",
    "    opacity=alt.value(0.2)\n",
    ")"
   ]
  },
  {
   "cell_type": "markdown",
   "metadata": {
    "id": "tpARw9K0Ty5A"
   },
   "source": [
    "* Assign the above two finished charts (the line chart with the custom order and our explicitly described rectangle chart) two Python variables.\n",
    "* Layer these charts, one on top of the other, using either the abbreviation `+`, or as specifying the two charts as arguments to `alt.layer`."
   ]
  },
  {
   "cell_type": "code",
   "execution_count": null,
   "metadata": {
    "id": "MWWIXMjSUCC0"
   },
   "outputs": [],
   "source": [
    "c1 = alt.Chart(df).mark_line(point=True).encode(\n",
    "    alt.X(\"miles\"),\n",
    "    alt.Y(\"gas\").scale(zero=False),\n",
    "    alt.Order(\"year\")\n",
    ")\n",
    "\n",
    "c2 = alt.Chart().mark_rect().encode(\n",
    "    x=alt.datum(6500),\n",
    "    x2=alt.datum(7000),\n",
    "    color=alt.value(\"orange\"),\n",
    "    opacity=alt.value(0.2)\n",
    ")"
   ]
  },
  {
   "cell_type": "code",
   "execution_count": null,
   "metadata": {
    "colab": {
     "base_uri": "https://localhost:8080/",
     "height": 368
    },
    "executionInfo": {
     "elapsed": 174,
     "status": "ok",
     "timestamp": 1716650346834,
     "user": {
      "displayName": "Christopher Davis",
      "userId": "04915168234482370708"
     },
     "user_tz": 420
    },
    "id": "tdA9-uhYsK-t",
    "outputId": "7f585013-7e8a-41f7-ae39-7b84ce659cdb"
   },
   "outputs": [],
   "source": [
    "alt.layer(c1, c2)"
   ]
  },
  {
   "cell_type": "markdown",
   "metadata": {
    "id": "8v6nw8fOvo7f"
   },
   "source": [
    "## Barley exercise\n",
    "\n",
    "The *barley* dataset, part of vega_datasets, contains an error.  One of the six sites represented in the data, has had its values for the years `1931` and `1932` swapped.\n",
    " Try to identify which site contains the swapped data by producing an Altair chart similar to the following.\n",
    "\n",
    " Aspects to consider:\n",
    " * In our sample image below, there are two charts displayed.  (This sample image is only a portion of the final image.  There will eventually be more charts.)  Do these charts correspond to concatenation or to faceting?\n",
    " * We have removed the `title` from many of the axes in this picture to make the exercise more difficult, but that is not an essential aspect of the final image you should produce.\n",
    " * The quantitative aspect of the year values is not emphasized here (we are interested in `1931` vs `1932` as a binary choice). Specify an appropriate data type when using the \"year\" field.\n",
    " * With an appropriate data type and the color encoding channel, the year values should be colored as in our sample image (no need to specify them manually).\n",
    " * Use the shape encoding channel to emphasize the difference between the years.  This will only work if you use one of the categorical data types.\n",
    " * We have explicitly specified the shapes to use as \"square\" and \"triangle-up\" (see [here](https://vega.github.io/vega-lite/docs/point.html#properties) for more shape options).  Should we specify these in the `axis` method or the `scale` method?  Should we specify these using `domain` or using `range`?\n",
    " * Try to include/exclude gridlines as in our sample image, by specifying the `grid` value (`True` or `False`) to an appropriate method.  Should we use `axis` or `scale` here?\n",
    " * Once your image is produced, answer the question: Which site mistakenly had its year values swapped in the dataset?\n",
    " * [Answer/reference](https://altair-viz.github.io/gallery/beckers_barley_facet.html)"
   ]
  },
  {
   "cell_type": "markdown",
   "metadata": {
    "id": "TSMq9zP_-0f5"
   },
   "source": [
    "![Barley sample](../resources/images/part1/barley1.png)\n",
    "\n",
    "<details>\n",
    "  <summary>(Show Answer)</summary>\n",
    "\n",
    "  ```python\n",
    "df = data.barley()\n",
    "alt.Chart(df).mark_point().encode(\n",
    "    alt.X('yield:Q').axis(grid=False),\n",
    "    alt.Y('variety:N').axis(grid=True).title(None),\n",
    "    alt.Color('year:N').title(None),\n",
    "    alt.Shape('year:N').scale(range=[\"square\", \"triangle-up\"]),\n",
    "    alt.Row('site:N')\n",
    ")\n",
    "  ```\n",
    "</details>"
   ]
  }
 ],
 "metadata": {
  "colab": {
   "provenance": []
  },
  "kernelspec": {
   "display_name": "Python 3 (ipykernel)",
   "language": "python",
   "name": "python3"
  },
  "language_info": {
   "codemirror_mode": {
    "name": "ipython",
    "version": 3
   },
   "file_extension": ".py",
   "mimetype": "text/x-python",
   "name": "python",
   "nbconvert_exporter": "python",
   "pygments_lexer": "ipython3",
   "version": "3.12.1"
  }
 },
 "nbformat": 4,
 "nbformat_minor": 4
}
