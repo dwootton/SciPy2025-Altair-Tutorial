{
 "cells": [
  {
   "cell_type": "markdown",
   "metadata": {
    "id": "WI7OnsBrdel5"
   },
   "source": [
    "# Part 4 - Exercises - Sharing and publishing visualizations\n",
    "\n",
    "This final exercise is free-form.\n",
    "\n",
    "* Apply what you have learned in this tutorial on a dataset of your choice.  If you're unsure what to choose, one relevant option is the `seattle_weather` dataset from `vega_datasets`.\n",
    "* Choose one of the methods discussed in Part 4 to share your resulting visualization with someone sitting near you, or (optionally) with the group.\n",
    "\n",
    "Instructors will be available for questions about anything we've covered today."
   ]
  },
  {
   "cell_type": "markdown",
   "metadata": {
    "id": "HKJW-eyqIPP4"
   },
   "source": [
    "## Imports"
   ]
  },
  {
   "cell_type": "code",
   "execution_count": null,
   "metadata": {
    "colab": {
     "base_uri": "https://localhost:8080/"
    },
    "executionInfo": {
     "elapsed": 7824,
     "status": "ok",
     "timestamp": 1717805421456,
     "user": {
      "displayName": "Christopher Davis",
      "userId": "04915168234482370708"
     },
     "user_tz": 420
    },
    "id": "B-W69LknyEQ0",
    "outputId": "0afcc35e-b839-4bd9-9833-09bba2d6a29e"
   },
   "outputs": [],
   "source": [
    "import altair as alt\n",
    "from vega_datasets import data\n",
    "print(\"The installed Vega-Altair version is \" + alt.__version__)"
   ]
  },
  {
   "cell_type": "markdown",
   "metadata": {
    "id": "dOCVkb4NhHJ1"
   },
   "source": [
    "## Data\n",
    "Suggested dataset"
   ]
  },
  {
   "cell_type": "code",
   "execution_count": null,
   "metadata": {
    "executionInfo": {
     "elapsed": 155,
     "status": "ok",
     "timestamp": 1717805449358,
     "user": {
      "displayName": "Christopher Davis",
      "userId": "04915168234482370708"
     },
     "user_tz": 420
    },
    "id": "LuCGdqKOLj-s"
   },
   "outputs": [],
   "source": [
    "df = data.seattle_weather()"
   ]
  },
  {
   "cell_type": "code",
   "execution_count": null,
   "metadata": {
    "colab": {
     "base_uri": "https://localhost:8080/"
    },
    "executionInfo": {
     "elapsed": 183,
     "status": "ok",
     "timestamp": 1717805458300,
     "user": {
      "displayName": "Christopher Davis",
      "userId": "04915168234482370708"
     },
     "user_tz": 420
    },
    "id": "q_alzFWDLv4s",
    "outputId": "f1159975-0301-46f0-c8dd-adb322be9575"
   },
   "outputs": [],
   "source": [
    "df.info()"
   ]
  }
 ],
 "metadata": {
  "colab": {
   "provenance": []
  },
  "kernelspec": {
   "display_name": "Python 3 (ipykernel)",
   "language": "python",
   "name": "python3"
  },
  "language_info": {
   "codemirror_mode": {
    "name": "ipython",
    "version": 3
   },
   "file_extension": ".py",
   "mimetype": "text/x-python",
   "name": "python",
   "nbconvert_exporter": "python",
   "pygments_lexer": "ipython3",
   "version": "3.9.19"
  }
 },
 "nbformat": 4,
 "nbformat_minor": 4
}
