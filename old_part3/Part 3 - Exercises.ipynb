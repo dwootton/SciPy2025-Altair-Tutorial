{
 "cells": [
  {
   "cell_type": "markdown",
   "metadata": {
    "id": "mfpgEhvygGPd"
   },
   "source": [
    "# Part 3 - Exercises - Interactivity in Vega-Altair\n",
    "In this section, you will get hands-on experience adding interactivity to static Vega-Altair charts.  You will practice adding selections to charts, styling marks with conditional encodings, and using the `transform_filter` method with selections."
   ]
  },
  {
   "cell_type": "markdown",
   "metadata": {
    "id": "cS6ADQunL1Pr"
   },
   "source": [
    "\n",
    "## Imports"
   ]
  },
  {
   "cell_type": "code",
   "execution_count": null,
   "metadata": {
    "colab": {
     "base_uri": "https://localhost:8080/"
    },
    "executionInfo": {
     "elapsed": 17759,
     "status": "ok",
     "timestamp": 1717886658613,
     "user": {
      "displayName": "Christopher Davis",
      "userId": "04915168234482370708"
     },
     "user_tz": 420
    },
    "id": "S4YjEUbex8Bf",
    "outputId": "52fc02c6-d329-46b5-92f1-e2e40e3e7941"
   },
   "outputs": [],
   "source": [
    "import altair as alt\n",
    "import pandas as pd\n",
    "from vega_datasets import data\n",
    "print(\"The installed Vega-Altair version is \" + alt.__version__)"
   ]
  },
  {
   "cell_type": "markdown",
   "metadata": {},
   "source": [
    "## Cars exercise\n",
    "\n",
    "Let's look again at the final example from the multi-view selection section of Part 3. That example creates a scatter plot of horsepower and miles per gallon along with an interval selection, where points can be selected by dragging a rectangle. The selection is used to filter that dataset in the bar chart below.\n",
    "\n",
    "Remove the interval selection and try to reverse the interaction pattern so that clicking on a bar of the bar chart highlights the bar and the corresponding points in the scatter plot.\n",
    "\n",
    "Here is a static snapshot of the desired chart after clicking on the \"Japan\" bar in the bar chart.\n",
    "\n",
    "![](../resources/images/part3/cars1.png)\n",
    "<details>\n",
    "  <summary>(Show Answer)</summary>\n",
    "\n",
    "  ```python\n",
    "cars = data.cars()\n",
    "\n",
    "selection = alt.selection_point(fields=[\"Origin\"])\n",
    "\n",
    "scatter = alt.Chart(cars).mark_circle(size=100).encode(\n",
    "    alt.X('Horsepower'),\n",
    "    alt.Y('Miles_per_Gallon'),\n",
    "    color=alt.condition(selection, 'Origin', alt.value('lightgray'))\n",
    ")\n",
    "\n",
    "bars = alt.Chart(cars).mark_bar().encode(\n",
    "    alt.X('count(Origin)').scale(domain=[0,260]),\n",
    "    alt.Y('Origin').scale(domain=[\"Europe\", \"Japan\", \"USA\"]),\n",
    "    alt.Color('Origin'),\n",
    ").add_params(\n",
    "    selection\n",
    ")\n",
    "\n",
    "scatter & bars\n",
    "  ```\n",
    "</details>"
   ]
  },
  {
   "cell_type": "markdown",
   "metadata": {},
   "source": [
    "---\n",
    "Now, switch to filtering the points in the scatter plot rather than highlighting them.\n",
    "\n",
    "\n",
    "Here is a static snapshot of the desired chart after clicking on the \"USA\" bar in the bar chart.\n",
    "\n",
    "\n",
    "![](../resources/images/part3/cars2.png)\n",
    "<details>\n",
    "  <summary>(Show Answer)</summary>\n",
    "\n",
    "  ```python\n",
    "cars = data.cars()\n",
    "\n",
    "selection = alt.selection_point(fields=[\"Origin\"])\n",
    "\n",
    "scatter = alt.Chart(cars).mark_circle(size=100).encode(\n",
    "    alt.X('Horsepower'),\n",
    "    alt.Y('Miles_per_Gallon'),\n",
    "    alt.Color('Origin')\n",
    ").transform_filter(\n",
    "    selection\n",
    ")\n",
    "\n",
    "bars = alt.Chart(cars).mark_bar().encode(\n",
    "    alt.X('count(Origin)').scale(domain=[0,260]),\n",
    "    alt.Y('Origin').scale(domain=[\"Europe\", \"Japan\", \"USA\"]),\n",
    "    color=alt.condition(selection, 'Origin', alt.value('lightgray'))\n",
    ").add_params(\n",
    "    selection\n",
    ")\n",
    "\n",
    "scatter & bars\n",
    "  ```\n",
    "</details>"
   ]
  },
  {
   "cell_type": "markdown",
   "metadata": {
    "editable": true,
    "id": "Po-cSrvQHI8_",
    "slideshow": {
     "slide_type": ""
    },
    "tags": []
   },
   "source": [
    "## Airports exercise\n",
    "Next, we'll look at an example that is loosely based on a more involved [Airports example](https://altair-viz.github.io/gallery/airport_connections.html) from the gallery.  \n",
    "\n",
    "This dataset will use the `airports` dataset from `vega_datasets`, which includes the location of airports in the United States.\n",
    "\n",
    "We begin with the following static chart of the positions of airports"
   ]
  },
  {
   "cell_type": "code",
   "execution_count": null,
   "metadata": {},
   "outputs": [],
   "source": [
    "airports = data.airports()\n",
    "airports.head()"
   ]
  },
  {
   "cell_type": "code",
   "execution_count": null,
   "metadata": {
    "colab": {
     "base_uri": "https://localhost:8080/",
     "height": 534
    },
    "executionInfo": {
     "elapsed": 742,
     "status": "ok",
     "timestamp": 1717889319325,
     "user": {
      "displayName": "Christopher Davis",
      "userId": "04915168234482370708"
     },
     "user_tz": 420
    },
    "id": "ZGaJXHTsIOf7",
    "outputId": "5b272da3-c9b9-4598-cb30-47e7a1a25a70"
   },
   "outputs": [],
   "source": [
    "states = alt.topo_feature(data.us_10m.url, feature=\"states\")\n",
    "\n",
    "background = alt.Chart(states).mark_geoshape(\n",
    "    fill=\"lightgray\",\n",
    "    stroke=\"white\"\n",
    ").properties(\n",
    "    width=750,\n",
    "    height=500\n",
    ").project(\"albersUsa\")\n",
    "\n",
    "points = alt.Chart(airports).mark_circle().encode(\n",
    "    alt.Latitude(\"latitude:Q\"),\n",
    "    alt.Longitude(\"longitude:Q\"),\n",
    ")\n",
    "\n",
    "background+points"
   ]
  },
  {
   "cell_type": "markdown",
   "metadata": {
    "id": "LQ4S_TQDLBon"
   },
   "source": [
    "Add an interactive component to the chart as follows:\n",
    "\n",
    "* Based on the user's mouse, select the nearest airport as well as all other airports within the same state.  Display those selected airports with an opacity value of `1`, and all non-selected airports with an opacity value of `0`.\n",
    "\n",
    "<details>\n",
    "  <summary>(Show Image)</summary>\n",
    "  Here is a static snapshot of the desired chart when the mouse cursor hovers over Kansas:  \n",
    "  <img src=\"../resources/images/part3/airports_state.png\">\n",
    "</details>\n",
    "\n",
    "<details>\n",
    "  <summary>(Show Answer)</summary>\n",
    "\n",
    "  ```python\n",
    "airports = data.airports()\n",
    "states = alt.topo_feature(data.us_10m.url, feature=\"states\")\n",
    "\n",
    "highlight = alt.selection_point(on=\"pointerover\", nearest=True, fields=[\"state\"])\n",
    "\n",
    "background = alt.Chart(states).mark_geoshape(\n",
    "    fill=\"lightgray\",\n",
    "    stroke=\"white\"\n",
    ").properties(\n",
    "    width=750,\n",
    "    height=500\n",
    ").project(\"albersUsa\")\n",
    "\n",
    "points = alt.Chart(airports).mark_circle().encode(\n",
    "    alt.Latitude(\"latitude:Q\"),\n",
    "    alt.Longitude(\"longitude:Q\"),\n",
    "    opacity=alt.condition(highlight, alt.value(1), alt.value(0))\n",
    ").add_params(\n",
    "    highlight\n",
    ")\n",
    "\n",
    "background+points\n",
    "  ```\n",
    "</details>\n"
   ]
  },
  {
   "cell_type": "markdown",
   "metadata": {
    "id": "juwdQVNTQv04"
   },
   "source": [
    "### Challenge exercise:\n",
    "* Instead of selecting by state, select by the nearest 5 degrees of latitude.  (Use a `transform_calculate` to create a new column that is rounded to the nearest 5 degrees.)\n",
    "* Also include a nominal color encoding based on these degrees of latitude.\n",
    "* What is the eastern-most US airport in the same latitude band as northern Washington state?  (Use a tooltip.)\n",
    "\n",
    "<details>\n",
    "  <summary>(Show Image)</summary>\n",
    "  Here is a static snapshot of the described chart. \n",
    "  <img src=\"../resources/images/part3/airports_lat.png\">\n",
    "</details>\n",
    "\n",
    "<details>\n",
    "  <summary>(Show Answer)</summary>\n",
    "\n",
    "  ```python\n",
    "airports = data.airports()\n",
    "states = alt.topo_feature(data.us_10m.url, feature=\"states\")\n",
    "\n",
    "highlight = alt.selection_point(on=\"pointerover\", nearest=True, fields=[\"lat5\"])\n",
    "\n",
    "background = alt.Chart(states).mark_geoshape(\n",
    "    fill=\"lightgray\",\n",
    "    stroke=\"white\"\n",
    ").properties(\n",
    "    width=750,\n",
    "    height=500\n",
    ").project(\"albersUsa\")\n",
    "\n",
    "points = alt.Chart(airports).transform_calculate(\n",
    "    lat5 = \"round(datum.latitude/5)*5\"\n",
    ").mark_circle().encode(\n",
    "    alt.Latitude(\"latitude:Q\"),\n",
    "    alt.Longitude(\"longitude:Q\"),\n",
    "    alt.Color(\"lat5:N\"),\n",
    "    opacity=alt.condition(highlight, alt.value(1), alt.value(0)),\n",
    "    tooltip=[\"iata\", \"name\"]\n",
    ").add_params(\n",
    "    highlight\n",
    ")\n",
    "\n",
    "background+points\n",
    "  ```\n",
    "</details>\n"
   ]
  },
  {
   "cell_type": "markdown",
   "metadata": {
    "id": "er-_6AHWShnp"
   },
   "source": [
    "If you finish early, check out the more complicated [Airport Connections](https://altair-viz.github.io/gallery/airport_connections.html) example from the gallery and see how much of it you can recognize and what parts are unfamiliar."
   ]
  },
  {
   "cell_type": "markdown",
   "metadata": {
    "id": "R-w3u72fq5AX"
   },
   "source": [
    "## Stocks exercise\n",
    "\n",
    "Our goal in this exercise is to plot stock prices for various companies using a line chart.  The *interactive* component of this chart will provide the ability to emphasize individual companies within the chart.  In building up to the working example, we will cover several *gotchas* along the way.  \n",
    "\n",
    "**Warning: Contains spoilers**.  This exercise is based on the [Multi-Line Highlight](https://altair-viz.github.io/gallery/multiline_highlight.html) example from the gallery, but do not click the link unless you want a spoiler!"
   ]
  },
  {
   "cell_type": "markdown",
   "metadata": {
    "id": "JDOhtrIDsRzZ"
   },
   "source": [
    "* Load the `stocks` dataset from vega_datasets."
   ]
  },
  {
   "cell_type": "code",
   "execution_count": null,
   "metadata": {},
   "outputs": [],
   "source": [
    "source = data.stocks()\n",
    "source"
   ]
  },
  {
   "cell_type": "markdown",
   "metadata": {},
   "source": [
    "\n",
    "* Make a line chart using the \"date\" field for the x-axis encoding and using the \"price\" field for the y-axis encoding.\n",
    "* What is strange about the appearance of this chart?\n",
    "* Can you recognize why the chart looks the way it does, and what could be done to make it look more natural?  (It will probably be necessary to take a look at the stocks data to answer this question.)\n",
    "\n",
    "<details>\n",
    "  <summary>(Show Image)</summary>\n",
    "  <img src=\"../resources/images/part3/stocks1.png\">\n",
    "</details>\n",
    "\n",
    "<details>\n",
    "  <summary>(Show Answer)</summary>\n",
    "\n",
    "  ```python\n",
    "alt.Chart(source).mark_line().encode(\n",
    "    alt.X(\"date\"),\n",
    "    alt.Y(\"price\"),\n",
    ")\n",
    "  ```\n",
    "</details>"
   ]
  },
  {
   "cell_type": "markdown",
   "metadata": {
    "id": "cdgg4JDLs03Z"
   },
   "source": [
    "* Add a color encoding corresponding to the stock symbol.  Do you see why this completely changes the shapes of the plotted lines?\n",
    "\n",
    "<details>\n",
    "  <summary>(Show Image)</summary>\n",
    "  <img src=\"../resources/images/part3/stocks2.png\">\n",
    "</details>\n",
    "\n",
    "<details>\n",
    "  <summary>(Show Answer)</summary>\n",
    "\n",
    "  ```python\n",
    "alt.Chart(source).mark_line().encode(\n",
    "    alt.X(\"date\"),\n",
    "    alt.Y(\"price\"),\n",
    "    alt.Color(\"symbol\")\n",
    ")\n",
    "  ```\n",
    "</details>"
   ]
  },
  {
   "cell_type": "markdown",
   "metadata": {
    "id": "P-uUbyKruBAy"
   },
   "source": [
    "* Create a point selection parameter `highlight`, add the parameter to this chart, and use the parameter to filter the data, using `transform_filter`.\n",
    "* The variable name `highlight` will need to appear three total times (including the definition), what are those three?\n",
    "* Try clicking a point on the chart.\n",
    "* Comment 1:  You need to click on a point corresponding to a data point (as opposed to a line connecting two data points).\n",
    "* Comment 2:  You can get back to the original view by clicking on an empty portion of the chart.\n",
    "* If things are set up \"correctly\", all the lines should disappear, and we should get a zoomed in view on what looks like an empty region.\n",
    "* Rhetorical question: What should a line chart display when there is only one point?\n",
    "\n",
    "<details>\n",
    "  <summary>(Show Image)</summary>\n",
    "  <img src=\"../resources/images/part3/stocks3.png\">\n",
    "</details>\n",
    "\n",
    "<details>\n",
    "  <summary>(Show Answer)</summary>\n",
    "\n",
    "  ```python\n",
    "highlight = alt.selection_point()\n",
    "\n",
    "alt.Chart(source).transform_filter(\n",
    "    highlight\n",
    ").mark_line().encode(\n",
    "    alt.X(\"date\"),\n",
    "    alt.Y(\"price\"),\n",
    "    alt.Color(\"symbol\")\n",
    ").add_params(\n",
    "    highlight\n",
    ")\n",
    "  ```\n",
    "</details>"
   ]
  },
  {
   "cell_type": "markdown",
   "metadata": {
    "id": "N4tiIi0Fv6QG"
   },
   "source": [
    "* Use the `fields` or the `encodings` keyword argument (both will work, but the usage is different) so that your selection predicate will select all rows corresponding to the same company as the chosen point.\n",
    "* Now if you click a point, we should get a zoomed in view of the entire line corresponding to that company.\n",
    "* Adjust the color encoding so that, even after filtering away other companies, the colors stay the same.  Do this by specifying an explicit `domain`.\n",
    "\n",
    "\n",
    "Here is a static snapshot of the specified chart after clicking on a point belonging to AMZN.\n",
    "\n",
    "![](../resources/images/part3/stocks4.png)\n",
    "\n",
    "<details>\n",
    "  <summary>(Show Answer)</summary>\n",
    "\n",
    "  ```python\n",
    "highlight = alt.selection_point(fields=[\"symbol\"])\n",
    "\n",
    "alt.Chart(source).transform_filter(\n",
    "    highlight\n",
    ").mark_line().encode(\n",
    "    alt.X(\"date\"),\n",
    "    alt.Y(\"price\"),\n",
    "    alt.Color(\"symbol\").scale(domain=sorted(source[\"symbol\"].unique()))\n",
    ").add_params(\n",
    "    highlight\n",
    ")\n",
    "  ```\n",
    "</details>\n",
    "\n",
    "\n",
    "The effect upon clicking is still a little jarring.  **Important takeaway**: Do not filter and select simultaneously, instead use one portion for the filtering and one portion for the selcting.\n",
    "\n"
   ]
  },
  {
   "cell_type": "markdown",
   "metadata": {
    "id": "_0egamNCy-CM"
   },
   "source": [
    "* Previously, we were filtering the data.  Remove the `transform_filter` portion and instead, use `alt.condition` together with our selection parameter to display the selected points in a larger `size`.  (Use the `size` encoding.)\n",
    "* Use the `empty` keyword argument so that by default, all lines are displayed using the smaller size.\n",
    "* **Warning**.  As mentioned above, you need to click precisely on a data point to have the change take effect, not on a line segment connecting two data points.  We will simplify this aspect below.\n",
    "\n",
    "\n",
    "Here is a static snapshot of the specified chart after clicking on a point belonging to AAPL.\n",
    "\n",
    "![](../resources/images/part3/stocks5.png)\n",
    "\n",
    "<details>\n",
    "  <summary>(Show Answer)</summary>\n",
    "\n",
    "  ```python\n",
    "highlight = alt.selection_point(fields=[\"symbol\"], empty=False)\n",
    "\n",
    "alt.Chart(source).mark_line().encode(\n",
    "    alt.X(\"date\"),\n",
    "    alt.Y(\"price\"),\n",
    "    alt.Color(\"symbol\"),\n",
    "    size=alt.condition(\n",
    "        highlight,\n",
    "        alt.value(3),\n",
    "        alt.value(1)\n",
    "    )\n",
    ").add_params(\n",
    "    highlight\n",
    ")\n",
    "  ```\n",
    "</details>\n"
   ]
  },
  {
   "cell_type": "markdown",
   "metadata": {
    "id": "SJowyCx7z3D3"
   },
   "source": [
    "* Set the keyword argument `on=\"pointerover\"` when defining our selection parameter.  Clicking is now no longer necessary (but you still need to be precisely over a data point).\n",
    "\n",
    "<details>\n",
    "  <summary>(Show Answer)</summary>\n",
    "\n",
    "  ```python\n",
    "highlight = alt.selection_point(\n",
    "    fields=[\"symbol\"],\n",
    "    empty=False,\n",
    "    on=\"pointerover\"\n",
    ")\n",
    "\n",
    "alt.Chart(source).mark_line().encode(\n",
    "    alt.X(\"date\"),\n",
    "    alt.Y(\"price\"),\n",
    "    alt.Color(\"symbol\"),\n",
    "    size=alt.condition(\n",
    "        highlight,\n",
    "        alt.value(3),\n",
    "        alt.value(1)\n",
    "    )\n",
    ").add_params(\n",
    "    highlight\n",
    ")\n",
    "  ```\n",
    "</details>\n"
   ]
  },
  {
   "cell_type": "markdown",
   "metadata": {
    "id": "bZ_cF3VAzduB"
   },
   "source": [
    "* Things are still not very smooth because you need to be precisely over a data point for the change to take effect.  A nice effect can (eventually) be achieved by adding the keyword argument `nearest=True` to our selection parameter definition.  Try this.\n",
    "* **Warning**.  This will break our existing functionality.\n",
    "\n",
    "<details>\n",
    "  <summary>(Show Answer)</summary>\n",
    "\n",
    "  ```python\n",
    "highlight = alt.selection_point(\n",
    "    fields=[\"symbol\"],\n",
    "    empty=False,\n",
    "    on=\"pointerover\",\n",
    "    nearest=True\n",
    ")\n",
    "\n",
    "alt.Chart(source).mark_line().encode(\n",
    "    alt.X(\"date\"),\n",
    "    alt.Y(\"price\"),\n",
    "    alt.Color(\"symbol\"),\n",
    "    size=alt.condition(\n",
    "        highlight,\n",
    "        alt.value(3),\n",
    "        alt.value(1)\n",
    "    )\n",
    ").add_params(\n",
    "    highlight\n",
    ")\n",
    "  ```\n",
    "</details>\n"
   ]
  },
  {
   "cell_type": "markdown",
   "metadata": {
    "id": "mvfhMlWX99sI"
   },
   "source": [
    "* Try the same code as above, but now with a scatter plot instead of a line plot.  The functionality should be restored.\n",
    "\n",
    "![](../resources/images/part3/stocks6.png)\n",
    "\n",
    "<details>\n",
    "  <summary>(Show Answer)</summary>\n",
    "\n",
    "  ```python\n",
    "highlight = alt.selection_point(\n",
    "    fields=[\"symbol\"],\n",
    "    empty=False,\n",
    "    on=\"pointerover\",\n",
    "    nearest=True\n",
    ")\n",
    "\n",
    "alt.Chart(source).mark_point().encode(\n",
    "    alt.X(\"date\"),\n",
    "    alt.Y(\"price\"),\n",
    "    alt.Color(\"symbol\"),\n",
    "    size=alt.condition(\n",
    "        highlight,\n",
    "        alt.value(3),\n",
    "        alt.value(1)\n",
    "    )\n",
    ").add_params(\n",
    "    highlight\n",
    ")\n",
    "  ```\n",
    "</details>\n"
   ]
  },
  {
   "cell_type": "markdown",
   "metadata": {
    "id": "ce0-Rizh-QfP"
   },
   "source": [
    "\n",
    "Our goal is now to achieve this scatter plot functionality with a line chart. The trick is that we will use an invisible scatter plot to make the selection, and then we will apply the condition to our line chart.\n",
    "\n",
    "Adapt the above code in the following ways.\n",
    "* Define two charts, one scatter plot and one line chart.  Name these charts `points` and `lines`, respectively.  Use a `base` definition so that you repeat as little code as possible.\n",
    "* Make the scatter plot invisible by specifying an appropriate opacity value.\n",
    "* Add our selection parameter to only one of the charts.  Which one?  (For which of the two charts does the `nearest=True` selection functionality work as expected?)\n",
    "* Even though we added the selection parameter to only one of the two charts, we can still use it within a condition of the other chart (as long as the two charts are displayed together in some way, in our case, they will be layered on top of each other).\n",
    "* Layer the scatter plot and the line chart on top of each other.\n",
    "\n",
    "\n",
    "Here is a static snapshot of the desired chart after hovering on a point belonging to AAPL.\n",
    "\n",
    "![](../resources/images/part3/stocks7.png)\n",
    "\n",
    "<details>\n",
    "  <summary>(Show Answer)</summary>\n",
    "\n",
    "  ```python\n",
    "highlight = alt.selection_point(\n",
    "    fields=[\"symbol\"],\n",
    "    empty=False,\n",
    "    on=\"pointerover\",\n",
    "    nearest=True\n",
    ")\n",
    "\n",
    "base = alt.Chart(source).encode(\n",
    "    alt.X(\"date\"),\n",
    "    alt.Y(\"price\"),\n",
    "    alt.Color(\"symbol\")\n",
    ")\n",
    "\n",
    "points = base.mark_point(opacity=0).add_params(\n",
    "    highlight\n",
    ")\n",
    "\n",
    "lines = base.mark_line().encode(\n",
    "    size=alt.condition(\n",
    "        highlight,\n",
    "        alt.value(3),\n",
    "        alt.value(1)\n",
    "    )\n",
    ")\n",
    "\n",
    "points+lines\n",
    "  ```\n",
    "</details>\n"
   ]
  },
  {
   "cell_type": "markdown",
   "metadata": {},
   "source": []
  }
 ],
 "metadata": {
  "colab": {
   "provenance": []
  },
  "kernelspec": {
   "display_name": "Python 3 (ipykernel)",
   "language": "python",
   "name": "python3"
  },
  "language_info": {
   "codemirror_mode": {
    "name": "ipython",
    "version": 3
   },
   "file_extension": ".py",
   "mimetype": "text/x-python",
   "name": "python",
   "nbconvert_exporter": "python",
   "pygments_lexer": "ipython3",
   "version": "3.9.19"
  },
  "widgets": {
   "application/vnd.jupyter.widget-state+json": {
    "state": {},
    "version_major": 2,
    "version_minor": 0
   }
  }
 },
 "nbformat": 4,
 "nbformat_minor": 4
}
