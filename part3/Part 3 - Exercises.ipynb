{
 "cells": [
  {
   "cell_type": "markdown",
   "metadata": {
    "id": "2CtO7uNHe4ZE"
   },
   "source": [
    "# Part 3 - Exercises - Data Transformation and Interaction"
   ]
  },
  {
   "cell_type": "code",
   "execution_count": null,
   "metadata": {
    "colab": {
     "base_uri": "https://localhost:8080/"
    },
    "editable": true,
    "executionInfo": {
     "elapsed": 8834,
     "status": "ok",
     "timestamp": 1717156830871,
     "user": {
      "displayName": "Jon Mease",
      "userId": "02098018605502091895"
     },
     "user_tz": 240
    },
    "id": "F1QcNjRcxgUj",
    "outputId": "49d9ddef-2dfa-425c-8882-f439ca03e464",
    "slideshow": {
     "slide_type": ""
    },
    "tags": []
   },
   "outputs": [],
   "source": [
    "import altair as alt\n",
    "import pandas as pd\n",
    "from vega_datasets import data\n",
    "print(\"The installed Vega-Altair version is \" + alt.__version__)"
   ]
  },
  {
   "cell_type": "markdown",
   "metadata": {
    "id": "lfVp1EevXyZ4"
   },
   "source": [
    "## Diamonds Exercise\n",
    "Let's explore the diamonds dataset from the Seaborn sample datasets."
   ]
  },
  {
   "cell_type": "code",
   "execution_count": null,
   "metadata": {
    "colab": {
     "base_uri": "https://localhost:8080/",
     "height": 424
    },
    "executionInfo": {
     "elapsed": 576,
     "status": "ok",
     "timestamp": 1717156832691,
     "user": {
      "displayName": "Jon Mease",
      "userId": "02098018605502091895"
     },
     "user_tz": 240
    },
    "id": "kJLby6lEYFVW",
    "outputId": "50d48bd1-fd3a-413f-8b04-4a8fb62d2506"
   },
   "outputs": [],
   "source": [
    "diamonds_url = \"../resources/datasets/diamonds.csv\"\n",
    "diamonds = pd.read_csv(diamonds_url)\n",
    "diamonds"
   ]
  },
  {
   "cell_type": "markdown",
   "metadata": {
    "id": "brgLlJ9HYI7E"
   },
   "source": [
    "Here are descriptions of the dataset columns:\n",
    "\n",
    "|Variable|Description|Values|\n",
    "|--- |--- |--- |\n",
    "|carat|weight of the diamond|0.2-5.01|\n",
    "|cut|quality of the cut|Fair, Good, Very Good, Premium, Ideal|\n",
    "|color|diamond color|J (worst) to D (best)|\n",
    "|clarity|measurement of how clear the diamond is|I1 (worst), SI2, SI1, VS2, VS1, VVS2, VVS1, IF (best)|\n",
    "|depth|total depth percentage|43-79|\n",
    "|table|width of top of diamond relative to widest point|43-95|\n",
    "|price|price in US dollars|\\$326-\\$18,823|\n",
    "|x|length in mm|0-10.74|\n",
    "|y|width in mm|0-58.9|\n",
    "|z|depth in mm|0-31.8|"
   ]
  },
  {
   "cell_type": "markdown",
   "metadata": {
    "id": "yEyNNZiWYYZ9"
   },
   "source": [
    "### Simple scatter\n",
    "\n",
    "Create a simple scatterplot with `price` on the y-axis and `carat` on the x-axis. Use a [circle mark](https://altair-viz.github.io/user_guide/marks/circle.html) and lower the `size` and `opacity` properties to reduce overplotting.\n"
   ]
  },
  {
   "cell_type": "markdown",
   "metadata": {
    "id": "qJRDcwkQew0g"
   },
   "source": [
    "> **Note:** Because this dataset has more than 5,000 rows, you will get a `MaxRowsError` by default. Follow the instructions in the error message to enable the \"vegafusion\" data transformer to address this error, which will optimize the generated Vega specification by removing unused columns and evaluating data transformations in the Python kernel. This raises the row limit to 100k, and the limit is enforced after any data aggregations have been applied.\n",
    "\n",
    "<details>\n",
    "  <summary>(Show Image)</summary>\n",
    "  <img src=\"../resources/images/part2/diamonds1.png\">\n",
    "</details>\n",
    "\n",
    "<details>\n",
    "  <summary>(Show Answer)</summary>\n",
    "\n",
    "  ```python\n",
    "alt.data_transformers.enable(\"vegafusion\")\n",
    "alt.Chart(diamonds).mark_circle(opacity=0.2, size=10).encode(\n",
    "    alt.X(\"carat\"),\n",
    "    alt.Y(\"price\"),\n",
    ")\n",
    "  ```\n",
    "</details>"
   ]
  },
  {
   "cell_type": "markdown",
   "metadata": {
    "id": "Z0azmrs6hzcf"
   },
   "source": [
    "### Simple histogram\n",
    "Create a histogram of the `carat` column. This will require enabling binning on the `x` encoding, and using `count()` as the y encoding.\n",
    "\n",
    "Click \"Open in Vega Editor\" from the chart's dropdown menu and notice how the dataset included in the spec is already binned and aggregated (by VegaFusion).\n",
    "\n",
    "Use `chart.transformed_data()` to extract the binned and aggregated data as a pandas DataFrame.\n",
    "\n",
    "<details>\n",
    "  <summary>(Show Image)</summary>\n",
    "  <img src=\"../resources/images/part2/diamonds2.png\">\n",
    "</details>\n",
    "\n",
    "<details>\n",
    "  <summary>(Show Answer)</summary>\n",
    "\n",
    "  ```python\n",
    "alt.data_transformers.enable(\"vegafusion\")\n",
    "chart = alt.Chart(diamonds).mark_bar().encode(\n",
    "    alt.X(\"carat\").bin(),\n",
    "    alt.Y(\"count()\"),\n",
    ")\n",
    "chart.show()\n",
    "chart.transformed_data()\n",
    "  ```\n",
    "</details>\n"
   ]
  },
  {
   "cell_type": "markdown",
   "metadata": {
    "id": "ahWMG8jrixKM"
   },
   "source": [
    "What happens if you only use `count()` as the `y` encoding without binning `x`?\n",
    "\n",
    "<details>\n",
    "  <summary>(Show Answer)</summary>\n",
    "  The bars are centered on each unique value of `carat`. The bars have a fixed width, so they may overlap each other. When binning is enabled, Vega-Altair automatically sets the bar width to match the bin intervals.\n",
    "</details>"
   ]
  },
  {
   "cell_type": "markdown",
   "metadata": {
    "id": "GbBs5rG-s2P_"
   },
   "source": [
    "### Heatmap\n",
    "\n",
    "Create a heatmap with `cut` as the x encoding, `color` and the y-encoding, and `average(price)` as the heatmap color.\n",
    "\n",
    "Then configure the scales so that the best cut and quality is in the lower right corner, and the worst cut and quality is in the upper left corner.\n",
    "\n",
    "<details>\n",
    "  <summary>(Show Image)</summary>\n",
    "  <img src=\"../resources/images/part2/diamonds4.png\">\n",
    "</details>\n",
    "\n",
    "<details>\n",
    "  <summary>(Show Answer)</summary>\n",
    "\n",
    "  ```python\n",
    "alt.Chart(diamonds).mark_rect().encode(\n",
    "    alt.X('cut').scale(domain=[\"Fair\", \"Good\", \"Very Good\", \"Premium\", \"Ideal\"]),\n",
    "    alt.Y('color').sort(\"descending\"),\n",
    "    alt.Color('average(price)')\n",
    ")\n",
    "  ```\n",
    "</details>"
   ]
  },
  {
   "cell_type": "markdown",
   "metadata": {},
   "source": [
    "## Filtered Heatmap\n",
    "Repeat the Heatmap from the previous example, but this time use a filter transform to filter to diamonds larger than 1.5 carats. What do you notice about the price distribution of these diamonds?\n",
    "\n",
    "For more information on the filter transform, see the [Vega-Altair documentation](https://altair-viz.github.io/user_guide/transform/filter.html).\n",
    "\n",
    "<details>\n",
    "  <summary>(Show Image)</summary>\n",
    "  <img src=\"../resources/images/part2/diamonds5.png\">\n",
    "</details>\n",
    "\n",
    "<details>\n",
    "  <summary>(Show Answer)</summary>\n",
    "\n",
    "  ```python\n",
    "alt.Chart(diamonds).mark_rect().transform_filter(\"datum.carat > 1.5\").encode(\n",
    "    alt.X('cut').scale(domain=[\"Fair\", \"Good\", \"Very Good\", \"Premium\", \"Ideal\"]),\n",
    "    alt.Y('color').sort(\"descending\"),\n",
    "    alt.Color('average(price)')\n",
    ")\n",
    "  ```\n",
    "</details>"
   ]
  },
  {
   "cell_type": "markdown",
   "metadata": {
    "vscode": {
     "languageId": "raw"
    }
   },
   "source": [
    "## Cars Exercise - Scatterplot + Bar Chart Interaction\n",
    "\n",
    "Let's create an interactive visualization that combines a scatterplot and bar chart. We'll reverse the typical interaction pattern so that clicking on a bar highlights corresponding points.\n",
    "\n",
    "**Goal**: Create a scatter plot of horsepower vs miles per gallon, and a bar chart of car origins. Clicking on a bar should highlight the corresponding points in the scatter plot.\n",
    "\n",
    "Here is a static snapshot of the desired chart after clicking on the \"Japan\" bar:\n",
    "\n",
    "![](../resources/images/part3/cars1.png)\n"
   ]
  },
  {
   "cell_type": "code",
   "execution_count": null,
   "metadata": {},
   "outputs": [],
   "source": [
    "# Load the cars dataset\n",
    "cars = data.cars()\n",
    "cars.head()\n"
   ]
  },
  {
   "cell_type": "markdown",
   "metadata": {},
   "source": [
    "### Step 1: Highlighting Points\n",
    "Create a point selection that will select all cars from the same origin when you click on a bar. Use conditional encoding to highlight the selected points in the scatter plot, while non-selected points appear in light gray.\n",
    "\n",
    "<details>\n",
    "  <summary>(Show Answer)</summary>\n",
    "\n",
    "  ```python\n",
    "# Create selection parameter\n",
    "selection = alt.selection_point(fields=[\"Origin\"])\n",
    "\n",
    "# Scatter plot with conditional coloring\n",
    "scatter = alt.Chart(cars).mark_circle(size=100).encode(\n",
    "    alt.X('Horsepower'),\n",
    "    alt.Y('Miles_per_Gallon'),\n",
    "    color=alt.condition(selection, 'Origin', alt.value('lightgray'))\n",
    ")\n",
    "\n",
    "# Bar chart with selection parameter\n",
    "bars = alt.Chart(cars).mark_bar().encode(\n",
    "    alt.X('count(Origin)').scale(domain=[0,260]),\n",
    "    alt.Y('Origin').scale(domain=[\"Europe\", \"Japan\", \"USA\"]),\n",
    "    alt.Color('Origin'),\n",
    ").add_params(\n",
    "    selection\n",
    ")\n",
    "\n",
    "# Combine charts\n",
    "scatter & bars\n",
    "  ```\n",
    "</details>\n"
   ]
  },
  {
   "cell_type": "markdown",
   "metadata": {
    "vscode": {
     "languageId": "raw"
    }
   },
   "source": [
    "### Step 2: Filtering Points\n",
    "Now modify your solution to filter the points in the scatter plot rather than just highlighting them. This means only the selected points should be visible.\n",
    "\n",
    "Here is a static snapshot after clicking on the \"USA\" bar:\n",
    "\n",
    "![](../resources/images/part3/cars2.png)\n",
    "\n",
    "<details>\n",
    "  <summary>(Show Answer)</summary>\n",
    "\n",
    "  ```python\n",
    "# Create selection parameter\n",
    "selection = alt.selection_point(fields=[\"Origin\"])\n",
    "\n",
    "# Scatter plot with filtering\n",
    "scatter = alt.Chart(cars).mark_circle(size=100).encode(\n",
    "    alt.X('Horsepower'),\n",
    "    alt.Y('Miles_per_Gallon'),\n",
    "    alt.Color('Origin')\n",
    ").transform_filter(\n",
    "    selection\n",
    ")\n",
    "\n",
    "# Bar chart with conditional coloring\n",
    "bars = alt.Chart(cars).mark_bar().encode(\n",
    "    alt.X('count(Origin)').scale(domain=[0,260]),\n",
    "    alt.Y('Origin').scale(domain=[\"Europe\", \"Japan\", \"USA\"]),\n",
    "    color=alt.condition(selection, 'Origin', alt.value('lightgray'))\n",
    ").add_params(\n",
    "    selection\n",
    ")\n",
    "\n",
    "# Combine charts\n",
    "scatter & bars\n",
    "  ```\n",
    "</details>\n"
   ]
  },
  {
   "cell_type": "code",
   "execution_count": null,
   "metadata": {},
   "outputs": [],
   "source": [
    "# Create selection parameter\n",
    "selection = alt.selection_point(fields=[\"Origin\"])\n",
    "\n",
    "# Scatter plot with conditional coloring\n",
    "scatter = alt.Chart(cars).mark_circle(size=100).encode(\n",
    "    alt.X('Horsepower'),\n",
    "    alt.Y('Miles_per_Gallon'),\n",
    "    color=alt.condition(selection, 'Origin', alt.value('lightgray'))\n",
    ")\n",
    "\n",
    "# Bar chart with selection parameter\n",
    "bars = alt.Chart(cars).mark_bar().encode(\n",
    "    alt.X('count(Origin)').scale(domain=[0,260]),\n",
    "    alt.Y('Origin').scale(domain=[\"Europe\", \"Japan\", \"USA\"]),\n",
    "    alt.Color('Origin'),\n",
    ").add_params(\n",
    "    selection\n",
    ")\n",
    "\n",
    "# Combine charts\n",
    "scatter & bars\n"
   ]
  },
  {
   "cell_type": "markdown",
   "metadata": {},
   "source": [
    "### Keep exploring!\n",
    "Check out all of the transformation types that Vega-Altair supports in [the documentation](https://altair-viz.github.io/user_guide/transform/index.html).  Pick one we haven't discussed yet and apply it to the spotify dataset. For example, use the density transform on song tempo.\n"
   ]
  }
 ],
 "metadata": {
  "colab": {
   "provenance": []
  },
  "kernelspec": {
   "display_name": "Python 3",
   "language": "python",
   "name": "python3"
  },
  "language_info": {
   "codemirror_mode": {
    "name": "ipython",
    "version": 3
   },
   "file_extension": ".py",
   "mimetype": "text/x-python",
   "name": "python",
   "nbconvert_exporter": "python",
   "pygments_lexer": "ipython3",
   "version": "3.11.13"
  }
 },
 "nbformat": 4,
 "nbformat_minor": 4
}
