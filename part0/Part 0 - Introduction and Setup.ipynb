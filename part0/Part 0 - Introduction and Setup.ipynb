{
 "cells": [
  {
   "cell_type": "markdown",
   "id": "f25af41b-293a-4986-b98e-0fbc0c52f8f5",
   "metadata": {
    "editable": true,
    "slideshow": {
     "slide_type": ""
    },
    "tags": []
   },
   "source": [
    "# Part 0 - Introduction and Setup"
   ]
  },
  {
   "cell_type": "markdown",
   "id": "390d76b8-394b-40a5-9740-a93f5a337220",
   "metadata": {},
   "source": [
    "## Getting started with Nebari\n",
    "\n",
    "For SciPy 2025 participants, the easiest way to follow along with this tutorial is to register with Nebari, which provides a pre-configured `scipy/vega-altair` conda environment with the required dependencies pre-installed.\n",
    "\n",
    "Instructions: [Nebari for SciPy 2025 tutorials — Guide for Participants and Presenters 🪴](https://docs.google.com/document/d/19LmkiwoRu_JOHxHPbf1wMXGIU9pspQbqUqj-icny3JE/)"
   ]
  },
  {
   "cell_type": "markdown",
   "id": "e269f95d-2f0c-424d-8384-0c8fe5764c47",
   "metadata": {},
   "source": [
    "### Alternative setup instructions\n",
    "\n",
    "If you're not using Nebari, you can install the required dependencies manually into a local virtual or conda environment. The only Python dependency of this tutorial is the `altair` package with the `all` extras enabled.\n",
    "\n",
    "To install with pip from PyPI:\n",
    "```\n",
    "pip install altair[all]\n",
    "```\n",
    "\n",
    "Or, to install from conda-forge:\n",
    "```\n",
    "conda install -c conda-forge altair-all vega_datasets anywidget\n",
    "```"
   ]
  },
  {
   "cell_type": "markdown",
   "id": "ec121a9c-91ed-44f1-ac7b-77f646f8d949",
   "metadata": {},
   "source": [
    "## Who are we?\n",
    "\n",
    "- Jon Mease\n",
    "- Dylan Wootton\n",
    "\n",
    "Thanks to Chris Davis for contributing to an earlier version of this tutorial"
   ]
  },
  {
   "cell_type": "markdown",
   "id": "c3e97f3b-916f-4cbe-a192-3f1efb52ace3",
   "metadata": {},
   "source": [
    "## Outline\n",
    "This tutorial is divided into four parts, each focusing on different aspects of data visualization using Vega-Altair. Below is an outline of the tutorial along with links to each notebook.\n",
    "\n",
    "### Part 1: Effective Visual Data Communication\n",
    "- **Objective**: Understand the principles of designing effective and perceptually efficient visualizations, including chart anatomy, the grammar of graphics, and how design choices impact viewer comprehension.\n",
    "- **Key Topics**:\n",
    "  - Grammar of Graphics: marks and encoding channels\n",
    "  - Human perception and graphical effectiveness\n",
    "  - Visual affordances and Gestalt principles\n",
    "  - Using color, annotations, and layout to guide attention\n",
    "  - Common visualization pitfalls and how to avoid them\n",
    "\n",
    "### Part 2: Data Types, Graphical Marks, and Visual Encoding Channels\n",
    "- **Objective**: Learn the basic syntax of Altair, understand how to encode data into visual properties, and customize chart appearances.\n",
    "- **Key Topics**:\n",
    "  - Basic Altair syntax\n",
    "  - Encoding data dimensions\n",
    "  - Customizing chart appearance\n",
    "- **Notebook**: [Part 2 - Data Types, Graphical Marks, and Visual Encoding Channels](../part2/Part%202%20-%20Data%20Types%2C%20Graphical%20Marks%2C%20and%20Visual%20Encoding%20Channels.ipynb)\n",
    "- **Exercises**: [Part 2 - Exercises](../part2/Part%202%20-%20Exercises.ipynb)\n",
    "\n",
    "### Part 3: Data Transformation and Interactivity\n",
    "- **Objective**: Learn about integrating data transformations and interactivity into a charts.\n",
    "- **Key Topics**:\n",
    "  - Binning and aggregation\n",
    "  - Basic interactive features (tooltips and pan/zoom)\n",
    "  - Selection parameters\n",
    "  - Conditional encodings and filtering\n",
    "- **Notebook**: [Part 3 - Data Transformation](../part3/Part%203%20-%20Data%20Transformation%20and%20Interaction.ipynb)\n",
    "- **Exercises**: [Part 3 - Exercises](../part3/Part%203%20-%20Exercises.ipynb)\n",
    "\n",
    "### Part 4: Workflows with Altair\n",
    "- **Objective**: Learn how to export and share Altair visualizations in various formats, integrate with dashboarding systems, and create custom theming for consistent visual design across projects.\n",
    "- **Key Topics**:\n",
    "  - Exporting visualizations (HTML, PNG, SVG, PDF)\n",
    "  - Creating self-contained shareable URLs\n",
    "  - Integration with dashboarding systems (PowerBI, Panel, Streamlit)\n",
    "  - Building custom charting libraries with Altair\n",
    "  - Applying themes and consistent styling across charts\n",
    "- **Notebook**: [Part 4 - Workflows with Altair](../part4/Part%204%20-%20Workflows%20with%20Altair.ipynb)\n",
    "- **Exercises**: [Part 4 - Exercises](../part4/Part%204%20-%20Exercises.ipynb)\n"
   ]
  }
 ],
 "metadata": {
  "kernelspec": {
   "display_name": "Python 3 (ipykernel)",
   "language": "python",
   "name": "python3"
  },
  "language_info": {
   "codemirror_mode": {
    "name": "ipython",
    "version": 3
   },
   "file_extension": ".py",
   "mimetype": "text/x-python",
   "name": "python",
   "nbconvert_exporter": "python",
   "pygments_lexer": "ipython3",
   "version": "3.10.18"
  },
  "widgets": {
   "application/vnd.jupyter.widget-state+json": {
    "state": {},
    "version_major": 2,
    "version_minor": 0
   }
  }
 },
 "nbformat": 4,
 "nbformat_minor": 5
}
