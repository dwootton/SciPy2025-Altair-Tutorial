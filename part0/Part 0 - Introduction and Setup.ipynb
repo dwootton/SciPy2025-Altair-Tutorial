{
 "cells": [
  {
   "cell_type": "markdown",
   "id": "f25af41b-293a-4986-b98e-0fbc0c52f8f5",
   "metadata": {
    "editable": true,
    "slideshow": {
     "slide_type": ""
    },
    "tags": []
   },
   "source": [
    "# Part 0 - Introduction and Setup"
   ]
  },
  {
   "cell_type": "markdown",
   "id": "390d76b8-394b-40a5-9740-a93f5a337220",
   "metadata": {},
   "source": [
    "## Getting started with Nebari\n",
    "\n",
    "For SciPy 2024 participants, the easiest way to follow along with this tutorial is to register with Nebari, which provides a pre-configured `vega-altair-tutorial` conda environment with the required dependencies pre-installed.\n",
    "\n",
    "Instructions: [Nebari - Participants and Presenters Guide](https://docs.google.com/document/d/11YWMZKW6Y4tXnMs3Jekc1S7BQWTR6THZazDaq3WoNxw/edit?usp=sharing)"
   ]
  },
  {
   "cell_type": "markdown",
   "id": "e269f95d-2f0c-424d-8384-0c8fe5764c47",
   "metadata": {},
   "source": [
    "### Alternative setup instructions\n",
    "\n",
    "If you're not using Nebari, you can install the required dependencies manually into a local virtual or conda environment. The only Python dependency of this tutorial is the `altair` package with the `all` extras enabled.\n",
    "\n",
    "To install with pip from PyPI:\n",
    "```\n",
    "pip install altair[all]\n",
    "```\n",
    "\n",
    "Or, to install from conda-forge:\n",
    "```\n",
    "conda install -c conda-forge altair-all vega_datasets anywidget\n",
    "```"
   ]
  },
  {
   "cell_type": "markdown",
   "id": "ec121a9c-91ed-44f1-ac7b-77f646f8d949",
   "metadata": {},
   "source": [
    "## Who are we?\n",
    "\n",
    "- Jon Mease\n",
    "- Chris Davis"
   ]
  },
  {
   "cell_type": "markdown",
   "id": "c3e97f3b-916f-4cbe-a192-3f1efb52ace3",
   "metadata": {},
   "source": [
    "## Introduction\n",
    "\n",
    "This tutorial is divided into four parts, each focusing on different aspects of data visualization using Vega-Altair. Below is an outline of the tutorial along with links to each notebook.\n",
    "\n",
    "### Part 1: Data Types, Graphical Marks, and Visual Encoding Channels\n",
    "- **Objective**: Learn the basic syntax of Vega-Altair, understand how to encode data into visual properties, and customize chart appearances.\n",
    "- **Key Topics**:\n",
    "  - Basic Altair syntax\n",
    "  - Encoding data dimensions\n",
    "  - Customizing chart appearance\n",
    "- **Notebook**: [Part 1 - Data Types, Graphical Marks, and Visual Encoding Channels](../part1/Part%201%20-%20Data%20Types%2C%20Graphical%20Marks%2C%20and%20Visual%20Encoding%20Channels.ipynb)\n",
    "  - With all inline code: [Completed - Part 1 - Data Types, Graphical Marks, and Visual Encoding Channels](../part1/completed/Completed%20-%20Part%201%20-%20Data%20Types%2C%20Graphical%20Marks%2C%20and%20Visual%20Encoding%20Channels.ipynb)\n",
    "- **Exercises**: [Part 1 - Exercises](../part1/Part%201%20-%20Exercises.ipynb)\n",
    "\n",
    "\n",
    "### Part 2: Data Transformation\n",
    "- **Objective**: Learn about integrating data transformations into a chart definition.\n",
    "- **Key Topics**:\n",
    "  - Binning and aggregation\n",
    "  - Advanced data transformations\n",
    "- **Notebook**: [Part 2 - Data Transformation](../part2/Part%202%20-%20Data%20Transformation.ipynb)\n",
    "- **Exercises**: [Part 2 - Exercises](../part2/Part%202%20-%20Exercises.ipynb)\n",
    "\n",
    "### Part 3: Interactivity\n",
    "- **Objective**: Learn how to add interactivity to charts.\n",
    "- **Key Topics**:\n",
    "  - Basic Interactive features (tooltips and pan/zoom)\n",
    "  - Selections parameters\n",
    "  - Conditional encodings and filtering\n",
    "- **Notebook**: [Part 3 - Interactivity](../part3/Part%203%20-%20Interactivity.ipynb)\n",
    "- **Exercises**: [Part 3 - Exercises](../part3/Part%203%20-%20Exercises.ipynb)\n",
    "\n",
    "\n",
    "### Part 4: Sharing and Publishing Visualizations\n",
    "- **Objective**: Learn how to share and publish your Vega-Altair visualizations.\n",
    "- **Key Topics**:\n",
    "  - Exporting charts as HTML\n",
    "  - Saving charts as static images (PNG, SVG, PDF)\n",
    "  - References for embedding charts in static documents (Quarto, Jupyter Book, LaTeX)\n",
    "  - References for creating dashboards\n",
    "- **Notebook**: [Part 4 - Sharing and Publishing Visualizations](../part4/Part%204%20-%20Sharing%20and%20publishing%20visualizations.ipynb)\n",
    "- **Exercises**: [Part 4 - Exercises](../part4/Part%204%20-%20Exercises.ipynb)"
   ]
  }
 ],
 "metadata": {
  "kernelspec": {
   "display_name": "Python 3 (ipykernel)",
   "language": "python",
   "name": "python3"
  },
  "language_info": {
   "codemirror_mode": {
    "name": "ipython",
    "version": 3
   },
   "file_extension": ".py",
   "mimetype": "text/x-python",
   "name": "python",
   "nbconvert_exporter": "python",
   "pygments_lexer": "ipython3",
   "version": "3.12.1"
  }
 },
 "nbformat": 4,
 "nbformat_minor": 5
}
